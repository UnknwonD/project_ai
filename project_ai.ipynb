{
  "cells": [
    {
      "cell_type": "markdown",
      "metadata": {
        "id": "view-in-github",
        "colab_type": "text"
      },
      "source": [
        "<a href=\"https://colab.research.google.com/github/UnknwonD/project_ai/blob/modeling/project_ai.ipynb\" target=\"_parent\"><img src=\"https://colab.research.google.com/assets/colab-badge.svg\" alt=\"Open In Colab\"/></a>"
      ]
    },
    {
      "cell_type": "markdown",
      "metadata": {
        "id": "JM1mPZuO764e"
      },
      "source": [
        "# Data 압축 풀기"
      ]
    },
    {
      "cell_type": "code",
      "execution_count": null,
      "metadata": {
        "colab": {
          "base_uri": "https://localhost:8080/"
        },
        "id": "J0_IjEk479qi",
        "outputId": "ac08e5c2-f133-40cf-c396-067b7a4162e4"
      },
      "outputs": [
        {
          "name": "stdout",
          "output_type": "stream",
          "text": [
            "Drive already mounted at /content/drive; to attempt to forcibly remount, call drive.mount(\"/content/drive\", force_remount=True).\n"
          ]
        }
      ],
      "source": [
        "# 드라이브 마운트\n",
        "from google.colab import drive\n",
        "drive.mount('/content/drive')"
      ]
    },
    {
      "cell_type": "code",
      "execution_count": null,
      "metadata": {
        "id": "KTGPOURC-fJa"
      },
      "outputs": [],
      "source": [
        "from glob import glob"
      ]
    },
    {
      "cell_type": "code",
      "execution_count": null,
      "metadata": {
        "colab": {
          "base_uri": "https://localhost:8080/"
        },
        "id": "lWWi0SQ7HemE",
        "outputId": "7a1b3696-60b5-42d5-bc41-ddd6595245cd"
      },
      "outputs": [
        {
          "name": "stdout",
          "output_type": "stream",
          "text": [
            "/content/drive/MyDrive/project_ai\n"
          ]
        }
      ],
      "source": [
        "# %cd /content/drive/MyDrive/project_ai\n",
        "\n",
        "# !unzip -qq \"/content/drive/MyDrive/project_ai/VL_damage_part.zip\""
      ]
    },
    {
      "cell_type": "code",
      "execution_count": null,
      "metadata": {
        "colab": {
          "base_uri": "https://localhost:8080/"
        },
        "id": "JgIadXNwHkCj",
        "outputId": "4b0cec0a-ebc7-46a1-b1be-b24887398663"
      },
      "outputs": [
        {
          "name": "stdout",
          "output_type": "stream",
          "text": [
            "/content/drive/MyDrive/project_ai\n",
            "replace damage_part_jpg/0000016_as-0031772.jpg? [y]es, [n]o, [A]ll, [N]one, [r]ename: "
          ]
        }
      ],
      "source": [
        "# %cd /content/drive/MyDrive/project_ai\n",
        "\n",
        "# !unzip -qq \"/content/drive/MyDrive/project_ai/VS_damage_part_jpg.zip\""
      ]
    },
    {
      "cell_type": "code",
      "execution_count": null,
      "metadata": {
        "colab": {
          "base_uri": "https://localhost:8080/"
        },
        "id": "fzW-hL8m8xEr",
        "outputId": "eb51eeb8-eb38-456a-e8c8-3ffeff6fa545"
      },
      "outputs": [
        {
          "name": "stdout",
          "output_type": "stream",
          "text": [
            "json 파일 갯수 : 17248\n"
          ]
        }
      ],
      "source": [
        "filepaths1 = list(glob('/content/drive/MyDrive/project_ai/damage_part_json/*.json'))\n",
        "print(\"json 파일 갯수 : {}\".format(len(filepaths1)))"
      ]
    },
    {
      "cell_type": "code",
      "execution_count": null,
      "metadata": {
        "colab": {
          "base_uri": "https://localhost:8080/"
        },
        "id": "F2kFqlfj9WC7",
        "outputId": "fc3e3ef4-b9b1-42e9-e3bb-d82ffda135a9"
      },
      "outputs": [
        {
          "name": "stdout",
          "output_type": "stream",
          "text": [
            "jpg 파일 갯수 : 17248\n"
          ]
        }
      ],
      "source": [
        "filepaths2 = list(glob('/content/drive/MyDrive/project_ai/damage_part_jpg/*.jpg'))\n",
        "print(\"jpg 파일 갯수 : {}\".format(len(filepaths2)))"
      ]
    },
    {
      "cell_type": "code",
      "execution_count": null,
      "metadata": {
        "colab": {
          "base_uri": "https://localhost:8080/"
        },
        "id": "5qYao2oUxFf_",
        "outputId": "ced4488b-82d2-48ca-d359-d10e2ecca432"
      },
      "outputs": [
        {
          "name": "stdout",
          "output_type": "stream",
          "text": [
            "mask 파일 갯수 : 17248\n"
          ]
        }
      ],
      "source": [
        "filepaths3 = list(glob('/content/drive/MyDrive/project_ai/masked/*.jpg'))\n",
        "print(\"mask 파일 갯수 : {}\".format(len(filepaths3)))"
      ]
    },
    {
      "cell_type": "markdown",
      "metadata": {
        "id": "M9utK6RCDt1s"
      },
      "source": [
        "# 마스크 이미지 만들기"
      ]
    },
    {
      "cell_type": "code",
      "execution_count": 1,
      "metadata": {
        "colab": {
          "base_uri": "https://localhost:8080/"
        },
        "id": "hYb3fcymCokt",
        "outputId": "18bf5bfe-cc8e-4a00-a4aa-2df0dee3b6cc"
      },
      "outputs": [
        {
          "output_type": "stream",
          "name": "stdout",
          "text": [
            "Mounted at /content/drive\n"
          ]
        }
      ],
      "source": [
        "from google.colab import drive\n",
        "drive.mount('/content/drive')"
      ]
    },
    {
      "cell_type": "code",
      "execution_count": 3,
      "metadata": {
        "id": "lBZjfqQXDtGr"
      },
      "outputs": [],
      "source": [
        "import cv2\n",
        "import numpy as np\n",
        "from google.colab.patches import cv2_imshow\n",
        "import os\n",
        "import json\n",
        "from PIL import Image\n",
        "from tqdm import notebook, tqdm"
      ]
    },
    {
      "cell_type": "code",
      "execution_count": 4,
      "metadata": {
        "id": "id_-Qs13SwRQ"
      },
      "outputs": [],
      "source": [
        "# 이미지 파일 리사이즈 하는 함수 (원본이미지파일 경로, mask이미지인가[폴더구분위함], 가로세로 크기)\n",
        "def resize_jpg(url, mask=False, w=512):\n",
        "  save_path = '/content/drive/MyDrive/project_ai/dataset/'  # 저장할 이미지 경로\n",
        "\n",
        "  # 저장할 경로 없으면 생성\n",
        "  if not os.path.exists(save_path):\n",
        "      os.mkdir(save_path)\n",
        "      \n",
        "  # 원본 이미지 경로의 모든 이미지 list 지정\n",
        "  if not mask:\n",
        "    data_list = os.listdir(url + \"damage_part_jpg/\")\n",
        "  else:\n",
        "    data_list = os.listdir(url + \"masked/\")\n",
        "  \n",
        "  print(len(data_list))\n",
        "  \n",
        "  if not os.path.exists(save_path + \"x/\"):\n",
        "      os.mkdir(save_path + \"x/\")\n",
        "  if not os.path.exists(save_path + \"y/\"):\n",
        "      os.mkdir(save_path + \"y/\")\n",
        "\n",
        "  # 모든 이미지 resize 후 저장하기\n",
        "  for token in tqdm(data_list):\n",
        "      # 이미지 열기\n",
        "      if not mask:\n",
        "        im = Image.open(url + \"damage_part_jpg/\" + token).convert('L').resize((w, w))\n",
        "        im.save(save_path + \"x/\"+ token)\n",
        "      else:\n",
        "        im = Image.open(url + \"masked/\" + token).convert('L').resize((w, w))\n",
        "        im.save(save_path + \"y/\"+ token)\n",
        "\n",
        "\n",
        "# 파일 이름 리스트로 저장하는 함수\n",
        "def extract_file_name(url):\n",
        "  file_list = os.listdir(url)\n",
        "  file_name = []\n",
        "  for file in file_list:\n",
        "    file_name.append(file.split('.')[0])\n",
        "  return file_name"
      ]
    },
    {
      "cell_type": "code",
      "execution_count": null,
      "metadata": {
        "id": "bvaxc8auHgZF"
      },
      "outputs": [],
      "source": [
        "# # 아예 세그멘테이션이 없는지 확인해볼게\n",
        "# files = tqdm(extract_file_name(\"/content/drive/MyDrive/project_ai/damage_part_jpg/\"))\n",
        "\n",
        "# for file in files:\n",
        "#   with open('/content/drive/MyDrive/project_ai/damage_part_json/{}.json'.format(file), 'r') as f:\n",
        "#     json_data = json.load(f)\n",
        "#     mask_num = 0\n",
        "#     for j in range(len(json_data[\"annotations\"])):\n",
        "#       if json_data[\"annotations\"][j][\"damage\"] == None:\n",
        "#         mask_num += 1\n",
        "    \n",
        "#     if len(json_data[\"annotations\"]) == mask_num:\n",
        "#       print(\"아무것도 없음\")"
      ]
    },
    {
      "cell_type": "code",
      "execution_count": null,
      "metadata": {
        "colab": {
          "base_uri": "https://localhost:8080/"
        },
        "id": "V_Gsybe18nwO",
        "outputId": "13be68f6-7237-4a65-9d9e-7e3119db02e3"
      },
      "outputs": [
        {
          "name": "stderr",
          "output_type": "stream",
          "text": [
            "Processing 0008088_as-0010329: 100%|██████████| 17248/17248 [25:35<00:00, 11.23it/s]\n"
          ]
        }
      ],
      "source": [
        "files = tqdm(extract_file_name(\"/content/drive/MyDrive/project_ai/damage_part_jpg\"))\n",
        "\n",
        "# 마스크 이미지를 저장할 경로 생성\n",
        "save_path = '/content/drive/MyDrive/project_ai/masked/'\n",
        "# save_path 경로가 없으면 폴더를 만듦\n",
        "if not os.path.exists(save_path):\n",
        "  os.mkdir(save_path)\n",
        "\n",
        "for file in files:\n",
        "  files.set_description(f\"Processing {file}\")\n",
        "  imgfile = \"/content/drive/MyDrive/project_ai/damage_part_jpg/{}.jpg\".format(file)\n",
        "  img = cv2.imread(imgfile)\n",
        "  with open('/content/drive/MyDrive/project_ai/damage_part_json/{}.json'.format(file), 'r') as f:\n",
        "    json_data = json.load(f)\n",
        "  \n",
        "  \n",
        "  # 데미지 파트가 없다면 mask_num += 1\n",
        "  mask_num = 0\n",
        "  for j in range(len(json_data[\"annotations\"])):\n",
        "    if json_data[\"annotations\"][j][\"damage\"] == None:\n",
        "      mask_num += 1\n",
        "\n",
        "\n",
        "  img[img!=256] = 0\n",
        "\n",
        "  ## mask_num을 뺀 segmentation 정보까지만 사용하여 마스크 이미지 만들기\n",
        "  # segmentation 없으면 바로 저장\n",
        "  if len(json_data[\"annotations\"]) == mask_num:\n",
        "    # 마스크된 이미지는 이미지파일이름+mask 파일로 save_path 경로에 저장\n",
        "    cv2.imwrite(\"/content/drive/MyDrive/project_ai/masked/{}_mask.jpg\".format(file), img)\n",
        "  \n",
        "  # 있으면 파손 부위 라벨링링\n",
        "  else:\n",
        "    for i in range(len(json_data[\"annotations\"])-mask_num):\n",
        "      area = np.array(json_data[\"annotations\"][i][\"segmentation\"][0][0])\n",
        "      filled = cv2.fillPoly(img, pts = [area], color = (255, 255, 255))\n",
        "      # 마스크된 이미지는 이미지파일이름+mask 파일로 save_path 경로에 저장\n",
        "      cv2.imwrite(\"/content/drive/MyDrive/project_ai/masked/{}_mask.jpg\".format(file), filled)"
      ]
    },
    {
      "cell_type": "markdown",
      "metadata": {
        "id": "zzyrbcOKdzmw"
      },
      "source": [
        "## 이미지 리사이즈\n"
      ]
    },
    {
      "cell_type": "code",
      "execution_count": 4,
      "metadata": {
        "colab": {
          "base_uri": "https://localhost:8080/"
        },
        "id": "kKQ-aVyUs027",
        "outputId": "67786810-1b6b-4c63-caff-360bc9bc3f0a"
      },
      "outputs": [
        {
          "output_type": "stream",
          "name": "stdout",
          "text": [
            "17248\n"
          ]
        },
        {
          "output_type": "stream",
          "name": "stderr",
          "text": [
            "100%|██████████| 17248/17248 [18:39<00:00, 15.40it/s]\n"
          ]
        }
      ],
      "source": [
        "resize_jpg(\"/content/drive/MyDrive/project_ai/\", mask=False, w=512)"
      ]
    },
    {
      "cell_type": "code",
      "execution_count": 5,
      "metadata": {
        "id": "UksJP6ThFkpu",
        "colab": {
          "base_uri": "https://localhost:8080/"
        },
        "outputId": "e2e1e0e9-f200-4dce-8002-9ddca3a75e03"
      },
      "outputs": [
        {
          "output_type": "stream",
          "name": "stdout",
          "text": [
            "17248\n"
          ]
        },
        {
          "output_type": "stream",
          "name": "stderr",
          "text": [
            "100%|██████████| 17248/17248 [17:11<00:00, 16.72it/s]\n"
          ]
        }
      ],
      "source": [
        "resize_jpg(\"/content/drive/MyDrive/project_ai/\", mask=True, w=512)"
      ]
    },
    {
      "cell_type": "code",
      "execution_count": 6,
      "metadata": {
        "colab": {
          "base_uri": "https://localhost:8080/"
        },
        "id": "DgPdXO8ohUO3",
        "outputId": "f4ac11a4-7a1a-4768-fe96-6231833febe4"
      },
      "outputs": [
        {
          "output_type": "stream",
          "name": "stdout",
          "text": [
            "dataset-x 파일 갯수 : 17248\n",
            "dataset-y 파일 갯수 : 17248\n"
          ]
        }
      ],
      "source": [
        "from glob import glob\n",
        "\n",
        "filepaths4 = list(glob('/content/drive/MyDrive/project_ai/dataset/x/*.jpg'))\n",
        "filepaths5 = list(glob('/content/drive/MyDrive/project_ai/dataset/y/*.jpg'))\n",
        "print(\"dataset-x 파일 갯수 : {}\".format(len(filepaths4)))\n",
        "print(\"dataset-y 파일 갯수 : {}\".format(len(filepaths5)))"
      ]
    },
    {
      "cell_type": "markdown",
      "metadata": {
        "id": "7aCk8NXMD5RO"
      },
      "source": [
        "# 사용할 데이터(이미지) 정리\n",
        "\n"
      ]
    },
    {
      "cell_type": "code",
      "source": [
        "from google.colab import drive\n",
        "drive.mount('/content/drive')"
      ],
      "metadata": {
        "colab": {
          "base_uri": "https://localhost:8080/"
        },
        "id": "LcIYyewA4ug_",
        "outputId": "dbbf5049-3960-4e3f-a33b-1fbf4042927e"
      },
      "execution_count": 1,
      "outputs": [
        {
          "output_type": "stream",
          "name": "stdout",
          "text": [
            "Drive already mounted at /content/drive; to attempt to forcibly remount, call drive.mount(\"/content/drive\", force_remount=True).\n"
          ]
        }
      ]
    },
    {
      "cell_type": "code",
      "execution_count": 2,
      "metadata": {
        "id": "-PUU4hc9eLNS"
      },
      "outputs": [],
      "source": [
        "## 라이브러리 불러오기\n",
        "import os\n",
        "import numpy as np\n",
        "from PIL import Image\n",
        "import matplotlib.pyplot as plt\n",
        "from tqdm import notebook, tqdm"
      ]
    },
    {
      "cell_type": "code",
      "execution_count": 3,
      "metadata": {
        "id": "Ix-QconMeN72"
      },
      "outputs": [],
      "source": [
        "## 데이터 불러오기\n",
        "dir_data = '/content/drive/MyDrive/project_ai' \n",
        "\n",
        "# 원본 이미지 (리사이즈 된)\n",
        "path_dir_x = '/content/drive/MyDrive/project_ai/dataset/x/'\n",
        "file_list_x = os.listdir(path_dir_x)\n",
        "# 마스크 이미지 (리사이즈 된)\n",
        "path_dir_y = '/content/drive/MyDrive/project_ai/dataset/y/'\n",
        "file_list_y = os.listdir(path_dir_y)"
      ]
    },
    {
      "cell_type": "code",
      "execution_count": 4,
      "metadata": {
        "id": "zqblR-sieQvZ"
      },
      "outputs": [],
      "source": [
        "# # 수정 필요함 \n",
        "# for jpg in file_list_x[0]:\n",
        "#     img_input = Image.open(path_dir_x + jpg)\n",
        "# for jpg in file_list_y[0]:\n",
        "#     img_label = Image.open(path_dir_y + jpg)\n",
        "\n",
        "img_label = Image.open(path_dir_y + file_list_y[0])"
      ]
    },
    {
      "cell_type": "code",
      "execution_count": 5,
      "metadata": {
        "id": "EFCzcl3LeTml"
      },
      "outputs": [],
      "source": [
        "# 이미지 사이즈 \n",
        "ny, nx = img_label.size\n",
        "# 이미지 갯수\n",
        "nframe = len(file_list_y)"
      ]
    },
    {
      "cell_type": "code",
      "execution_count": 6,
      "metadata": {
        "id": "6jUSWzCVCpYg"
      },
      "outputs": [],
      "source": [
        "## train/test/val 폴더 생성 (8/1/1 비율로 생성 ㅋㅋ)\n",
        "nframe_train = 13800\n",
        "nframe_val = 1724\n",
        "nframe_test = 1724\n",
        "\n",
        "## train/test/val 폴더 경로 지정해주기\n",
        "dir_save_train = os.path.join(dir_data, 'train')\n",
        "dir_save_val = os.path.join(dir_data, 'val')\n",
        "dir_save_test = os.path.join(dir_data, 'test')\n",
        "\n",
        "## 만약 폴더가 없으면 생성하기\n",
        "# if not os.path.exists(dir_save_train):\n",
        "#     os.makedirs(dir_save_train)\n",
        "\n",
        "# if not os.path.exists(dir_save_val):\n",
        "#     os.makedirs(dir_save_val)\n",
        "\n",
        "# if not os.path.exists(dir_save_test):\n",
        "#     os.makedirs(dir_save_test)\n",
        "\n",
        "## 전체 이미지를 랜덤으로 섞어줌\n",
        "id_frame = np.arange(nframe)\n",
        "np.random.shuffle(id_frame)"
      ]
    },
    {
      "cell_type": "code",
      "execution_count": 7,
      "metadata": {
        "colab": {
          "base_uri": "https://localhost:8080/",
          "height": 390
        },
        "id": "RhqEK9R7CrmO",
        "outputId": "1cbb3fed-0c1e-458a-8511-b183d9105307"
      },
      "outputs": [
        {
          "output_type": "stream",
          "name": "stderr",
          "text": [
            "  1%|          | 141/13800 [03:11<5:08:48,  1.36s/it]\n"
          ]
        },
        {
          "output_type": "error",
          "ename": "KeyboardInterrupt",
          "evalue": "ignored",
          "traceback": [
            "\u001b[0;31m---------------------------------------------------------------------------\u001b[0m",
            "\u001b[0;31mKeyboardInterrupt\u001b[0m                         Traceback (most recent call last)",
            "\u001b[0;32m<ipython-input-7-512eb1e6882c>\u001b[0m in \u001b[0;36m<module>\u001b[0;34m\u001b[0m\n\u001b[1;32m     10\u001b[0m \u001b[0;34m\u001b[0m\u001b[0m\n\u001b[1;32m     11\u001b[0m   \u001b[0mjpg_y\u001b[0m \u001b[0;34m=\u001b[0m \u001b[0mfile_list_y\u001b[0m\u001b[0;34m[\u001b[0m\u001b[0mid_frame\u001b[0m\u001b[0;34m[\u001b[0m\u001b[0mi\u001b[0m \u001b[0;34m+\u001b[0m \u001b[0moffset_nframe\u001b[0m\u001b[0;34m]\u001b[0m\u001b[0;34m]\u001b[0m\u001b[0;34m\u001b[0m\u001b[0;34m\u001b[0m\u001b[0m\n\u001b[0;32m---> 12\u001b[0;31m   \u001b[0mimg_label\u001b[0m \u001b[0;34m=\u001b[0m \u001b[0mImage\u001b[0m\u001b[0;34m.\u001b[0m\u001b[0mopen\u001b[0m\u001b[0;34m(\u001b[0m\u001b[0mpath_dir_y\u001b[0m \u001b[0;34m+\u001b[0m \u001b[0mjpg_y\u001b[0m\u001b[0;34m)\u001b[0m\u001b[0;34m\u001b[0m\u001b[0;34m\u001b[0m\u001b[0m\n\u001b[0m\u001b[1;32m     13\u001b[0m   \u001b[0mlabel_\u001b[0m \u001b[0;34m=\u001b[0m \u001b[0mnp\u001b[0m\u001b[0;34m.\u001b[0m\u001b[0masarray\u001b[0m\u001b[0;34m(\u001b[0m\u001b[0mimg_label\u001b[0m\u001b[0;34m)\u001b[0m\u001b[0;34m\u001b[0m\u001b[0;34m\u001b[0m\u001b[0m\n\u001b[1;32m     14\u001b[0m   \u001b[0;31m# jpg_y = jpg_y.split('.')[0]   # .jpg를 지우기 위해서\u001b[0m\u001b[0;34m\u001b[0m\u001b[0;34m\u001b[0m\u001b[0;34m\u001b[0m\u001b[0m\n",
            "\u001b[0;32m/usr/local/lib/python3.7/dist-packages/PIL/Image.py\u001b[0m in \u001b[0;36mopen\u001b[0;34m(fp, mode)\u001b[0m\n\u001b[1;32m   2850\u001b[0m         \u001b[0mexclusive_fp\u001b[0m \u001b[0;34m=\u001b[0m \u001b[0;32mTrue\u001b[0m\u001b[0;34m\u001b[0m\u001b[0;34m\u001b[0m\u001b[0m\n\u001b[1;32m   2851\u001b[0m \u001b[0;34m\u001b[0m\u001b[0m\n\u001b[0;32m-> 2852\u001b[0;31m     \u001b[0mprefix\u001b[0m \u001b[0;34m=\u001b[0m \u001b[0mfp\u001b[0m\u001b[0;34m.\u001b[0m\u001b[0mread\u001b[0m\u001b[0;34m(\u001b[0m\u001b[0;36m16\u001b[0m\u001b[0;34m)\u001b[0m\u001b[0;34m\u001b[0m\u001b[0;34m\u001b[0m\u001b[0m\n\u001b[0m\u001b[1;32m   2853\u001b[0m \u001b[0;34m\u001b[0m\u001b[0m\n\u001b[1;32m   2854\u001b[0m     \u001b[0mpreinit\u001b[0m\u001b[0;34m(\u001b[0m\u001b[0;34m)\u001b[0m\u001b[0;34m\u001b[0m\u001b[0;34m\u001b[0m\u001b[0m\n",
            "\u001b[0;31mKeyboardInterrupt\u001b[0m: "
          ]
        }
      ],
      "source": [
        "## 선택된 train 이미지를 npy 파일로 저장\n",
        "offset_nframe = 0\n",
        "\n",
        "for i in tqdm(range(nframe_train)):\n",
        "  jpg_x = file_list_x[id_frame[i + offset_nframe]]\n",
        "  img_input = Image.open(path_dir_x + jpg_x)\n",
        "  input_ = np.asarray(img_input)\n",
        "  # jpg_x = jpg_x.split('.')[0]   # .jpg를 지우기 위해서\n",
        "  # np.save(os.path.join(dir_save_train, 'input_%05d.npy' % i), input_)\n",
        "  \n",
        "  jpg_y = file_list_y[id_frame[i + offset_nframe]]\n",
        "  img_label = Image.open(path_dir_y + jpg_y)\n",
        "  label_ = np.asarray(img_label)\n",
        "  # jpg_y = jpg_y.split('.')[0]   # .jpg를 지우기 위해서\n",
        "  # np.save(os.path.join(dir_save_train, 'label_%05d.npy' % i), label_)"
      ]
    },
    {
      "cell_type": "code",
      "execution_count": 13,
      "metadata": {
        "id": "c8hl0TzwCtVr",
        "colab": {
          "base_uri": "https://localhost:8080/"
        },
        "outputId": "be065c08-23e7-416a-867a-ec409cabdfa9"
      },
      "outputs": [
        {
          "output_type": "stream",
          "name": "stderr",
          "text": [
            "100%|██████████| 1724/1724 [00:53<00:00, 32.47it/s]\n"
          ]
        }
      ],
      "source": [
        "## 선택된 val 이미지를 npy 파일로 저장\n",
        "offset_nframe = nframe_train\n",
        "\n",
        "for i in tqdm(range(nframe_val)):\n",
        "  jpg_x = file_list_x[id_frame[i + offset_nframe]]\n",
        "  img_input = Image.open(path_dir_x + jpg_x)\n",
        "  input_ = np.asarray(img_input)\n",
        "  jpg_x = jpg_x.split('.')[0]\n",
        "  np.save(os.path.join(dir_save_val, 'input_%05d.npy' % i), input_)\n",
        "  \n",
        "  jpg_y = file_list_y[id_frame[i + offset_nframe]]\n",
        "  img_label = Image.open(path_dir_y + jpg_y)\n",
        "  label_ = np.asarray(img_label)\n",
        "  jpg_y = jpg_y.split('.')[0]\n",
        "  np.save(os.path.join(dir_save_val, 'label_%05d.npy' % i), label_)"
      ]
    },
    {
      "cell_type": "code",
      "execution_count": 14,
      "metadata": {
        "id": "RcPPa-YNCuoP",
        "colab": {
          "base_uri": "https://localhost:8080/"
        },
        "outputId": "0197add3-d5ff-4745-d413-f24827c743bd"
      },
      "outputs": [
        {
          "output_type": "stream",
          "name": "stderr",
          "text": [
            "100%|██████████| 1724/1724 [00:42<00:00, 40.85it/s]\n"
          ]
        }
      ],
      "source": [
        "## 선택된 test 이미지를 npy 파일로 저장\n",
        "offset_nframe = nframe_train + nframe_val\n",
        "\n",
        "for i in tqdm(range(nframe_test)):\n",
        "  jpg_x = file_list_x[id_frame[i + offset_nframe]]\n",
        "  img_input = Image.open(path_dir_x + jpg_x)\n",
        "  input_ = np.asarray(img_input)\n",
        "  jpg_x = jpg_x.split('.')[0]\n",
        "  np.save(os.path.join(dir_save_test, 'input_%03d.npy' % i), input_)\n",
        "  \n",
        "  jpg_y = file_list_y[id_frame[i + offset_nframe]]\n",
        "  img_label = Image.open(path_dir_y + jpg_y)\n",
        "  label_ = np.asarray(img_label)\n",
        "  jpg_y = jpg_y.split('.')[0]\n",
        "  np.save(os.path.join(dir_save_test, 'label_%03d.npy' % i), label_)"
      ]
    },
    {
      "cell_type": "code",
      "source": [
        "jpg_x = file_list_x[2]\n",
        "img_input = Image.open(path_dir_x + jpg_x)\n",
        "input_ = np.asarray(img_input)\n",
        "\n",
        "jpg_y = file_list_y[2]\n",
        "img_label = Image.open(path_dir_y + jpg_y)\n",
        "label_ = np.asarray(img_label)"
      ],
      "metadata": {
        "id": "JKtJP6fIB68a"
      },
      "execution_count": 11,
      "outputs": []
    },
    {
      "cell_type": "code",
      "execution_count": 12,
      "metadata": {
        "id": "4YW6YnU7CvuB",
        "colab": {
          "base_uri": "https://localhost:8080/",
          "height": 216
        },
        "outputId": "263faca9-b74b-4482-b4bf-7d95648ea366"
      },
      "outputs": [
        {
          "output_type": "display_data",
          "data": {
            "text/plain": [
              "<Figure size 432x288 with 2 Axes>"
            ],
            "image/png": "[encoded data removed]"
          },
          "metadata": {
            "needs_background": "light"
          }
        }
      ],
      "source": [
        "## 이미지 시각화\n",
        "\n",
        "plt.subplot(122)\n",
        "plt.imshow(label_, cmap='gray')\n",
        "plt.title('label')\n",
        "\n",
        "plt.subplot(121)\n",
        "plt.imshow(input_, cmap='gray')\n",
        "plt.title('input')\n",
        "\n",
        "plt.show()"
      ]
    },
    {
      "cell_type": "code",
      "execution_count": 13,
      "metadata": {
        "colab": {
          "base_uri": "https://localhost:8080/",
          "height": 297
        },
        "id": "J7Top26MCxHk",
        "outputId": "0246880a-c1ec-43a0-ebba-dc62030a94d1"
      },
      "outputs": [
        {
          "output_type": "display_data",
          "data": {
            "text/plain": [
              "<Figure size 432x288 with 2 Axes>"
            ],
            "image/png": "[encoded data removed]"
          },
          "metadata": {
            "needs_background": "light"
          }
        }
      ],
      "source": [
        "## 한 이미지의 분포\n",
        "\n",
        "plt.subplot(122)\n",
        "plt.hist(label_.flatten(), bins=20)\n",
        "plt.title('label')\n",
        "\n",
        "plt.subplot(121)\n",
        "plt.hist(input_.flatten(), bins=20)\n",
        "plt.title('input')\n",
        "\n",
        "plt.tight_layout()\n",
        "plt.show()"
      ]
    },
    {
      "cell_type": "markdown",
      "metadata": {
        "id": "zVoMpRUkENYd"
      },
      "source": [
        "# U-Net 네트워크 구축\n"
      ]
    },
    {
      "cell_type": "code",
      "execution_count": 14,
      "metadata": {
        "id": "fo12bGtx1g0A"
      },
      "outputs": [],
      "source": [
        "## 라이브러리 불러오기\n",
        "import os\n",
        "import numpy as np\n",
        "\n",
        "import torch\n",
        "import torch.nn as nn\n",
        "from torch.utils.data import DataLoader\n",
        "from torch.utils.tensorboard import SummaryWriter\n",
        "\n",
        "import matplotlib.pyplot as plt\n",
        "\n",
        "from torchvision import transforms, datasets"
      ]
    },
    {
      "cell_type": "code",
      "execution_count": 15,
      "metadata": {
        "id": "wOlJisWvCyeo"
      },
      "outputs": [],
      "source": [
        "## 네트워크 구축하기\n",
        "class UNet(nn.Module):\n",
        "    def __init__(self):\n",
        "        super(UNet, self).__init__()\n",
        "\n",
        "        # Convolution + BatchNormalization + Relu 정의하기\n",
        "        def CBR2d(in_channels, out_channels, kernel_size=3, stride=1, padding=1, bias=True): \n",
        "            layers = []\n",
        "            layers += [nn.Conv2d(in_channels=in_channels, out_channels=out_channels,\n",
        "                                 kernel_size=kernel_size, stride=stride, padding=padding,\n",
        "                                 bias=bias)]\n",
        "            layers += [nn.BatchNorm2d(num_features=out_channels)]\n",
        "            layers += [nn.ReLU()]\n",
        "\n",
        "            cbr = nn.Sequential(*layers)\n",
        "\n",
        "            return cbr\n",
        "\n",
        "        # 수축 경로(Contracting path)\n",
        "        self.enc1_1 = CBR2d(in_channels=1, out_channels=64)\n",
        "        self.enc1_2 = CBR2d(in_channels=64, out_channels=64)\n",
        "\n",
        "        self.pool1 = nn.MaxPool2d(kernel_size=2)\n",
        "\n",
        "        self.enc2_1 = CBR2d(in_channels=64, out_channels=128)\n",
        "        self.enc2_2 = CBR2d(in_channels=128, out_channels=128)\n",
        "\n",
        "        self.pool2 = nn.MaxPool2d(kernel_size=2)\n",
        "\n",
        "        self.enc3_1 = CBR2d(in_channels=128, out_channels=256)\n",
        "        self.enc3_2 = CBR2d(in_channels=256, out_channels=256)\n",
        "\n",
        "        self.pool3 = nn.MaxPool2d(kernel_size=2)\n",
        "\n",
        "        self.enc4_1 = CBR2d(in_channels=256, out_channels=512)\n",
        "        self.enc4_2 = CBR2d(in_channels=512, out_channels=512)\n",
        "\n",
        "        self.pool4 = nn.MaxPool2d(kernel_size=2)\n",
        "\n",
        "        self.enc5_1 = CBR2d(in_channels=512, out_channels=1024)\n",
        "\n",
        "        # 확장 경로(Expansive path)\n",
        "        self.dec5_1 = CBR2d(in_channels=1024, out_channels=512)\n",
        "\n",
        "        self.unpool4 = nn.ConvTranspose2d(in_channels=512, out_channels=512,\n",
        "                                          kernel_size=2, stride=2, padding=0, bias=True)\n",
        "\n",
        "        self.dec4_2 = CBR2d(in_channels=2 * 512, out_channels=512)\n",
        "        self.dec4_1 = CBR2d(in_channels=512, out_channels=256)\n",
        "\n",
        "        self.unpool3 = nn.ConvTranspose2d(in_channels=256, out_channels=256,\n",
        "                                          kernel_size=2, stride=2, padding=0, bias=True)\n",
        "\n",
        "        self.dec3_2 = CBR2d(in_channels=2 * 256, out_channels=256)\n",
        "        self.dec3_1 = CBR2d(in_channels=256, out_channels=128)\n",
        "\n",
        "        self.unpool2 = nn.ConvTranspose2d(in_channels=128, out_channels=128,\n",
        "                                          kernel_size=2, stride=2, padding=0, bias=True)\n",
        "\n",
        "        self.dec2_2 = CBR2d(in_channels=2 * 128, out_channels=128)\n",
        "        self.dec2_1 = CBR2d(in_channels=128, out_channels=64)\n",
        "\n",
        "        self.unpool1 = nn.ConvTranspose2d(in_channels=64, out_channels=64,\n",
        "                                          kernel_size=2, stride=2, padding=0, bias=True)\n",
        "\n",
        "        self.dec1_2 = CBR2d(in_channels=2 * 64, out_channels=64)\n",
        "        self.dec1_1 = CBR2d(in_channels=64, out_channels=64)\n",
        "\n",
        "        self.fc = nn.Conv2d(in_channels=64, out_channels=1, kernel_size=1, stride=1, padding=0, bias=True)\n",
        "    \n",
        "    # forward 함수 정의하기\n",
        "    def forward(self, x):\n",
        "        enc1_1 = self.enc1_1(x)\n",
        "        enc1_2 = self.enc1_2(enc1_1)\n",
        "        pool1 = self.pool1(enc1_2)\n",
        "\n",
        "        enc2_1 = self.enc2_1(pool1)\n",
        "        enc2_2 = self.enc2_2(enc2_1)\n",
        "        pool2 = self.pool2(enc2_2)\n",
        "\n",
        "        enc3_1 = self.enc3_1(pool2)\n",
        "        enc3_2 = self.enc3_2(enc3_1)\n",
        "        pool3 = self.pool3(enc3_2)\n",
        "\n",
        "        enc4_1 = self.enc4_1(pool3)\n",
        "        enc4_2 = self.enc4_2(enc4_1)\n",
        "        pool4 = self.pool4(enc4_2)\n",
        "\n",
        "        enc5_1 = self.enc5_1(pool4)\n",
        "\n",
        "        dec5_1 = self.dec5_1(enc5_1)\n",
        "\n",
        "        unpool4 = self.unpool4(dec5_1)\n",
        "        cat4 = torch.cat((unpool4, enc4_2), dim=1)\n",
        "        dec4_2 = self.dec4_2(cat4)\n",
        "        dec4_1 = self.dec4_1(dec4_2)\n",
        "\n",
        "        unpool3 = self.unpool3(dec4_1)\n",
        "        cat3 = torch.cat((unpool3, enc3_2), dim=1)\n",
        "        dec3_2 = self.dec3_2(cat3)\n",
        "        dec3_1 = self.dec3_1(dec3_2)\n",
        "\n",
        "        unpool2 = self.unpool2(dec3_1)\n",
        "        cat2 = torch.cat((unpool2, enc2_2), dim=1)\n",
        "        dec2_2 = self.dec2_2(cat2)\n",
        "        dec2_1 = self.dec2_1(dec2_2)\n",
        "\n",
        "        unpool1 = self.unpool1(dec2_1)\n",
        "        cat1 = torch.cat((unpool1, enc1_2), dim=1)\n",
        "        dec1_2 = self.dec1_2(cat1)\n",
        "        dec1_1 = self.dec1_1(dec1_2)\n",
        "\n",
        "        x = self.fc(dec1_1)\n",
        "\n",
        "        return x"
      ]
    },
    {
      "cell_type": "markdown",
      "metadata": {
        "id": "b_X_NNorEe68"
      },
      "source": [
        "# DataLoader"
      ]
    },
    {
      "cell_type": "code",
      "execution_count": 16,
      "metadata": {
        "id": "adppUStIEisr"
      },
      "outputs": [],
      "source": [
        "# 데이터 로더를 구현하기\n",
        "class Dataset(torch.utils.data.Dataset):\n",
        "    def __init__(self, data_dir, transform=None):\n",
        "        self.data_dir = data_dir\n",
        "        self.transform = transform\n",
        "\n",
        "        lst_data = os.listdir(self.data_dir)\n",
        "\n",
        "        lst_label = [f for f in lst_data if f.startswith('label')]\n",
        "        lst_input = [f for f in lst_data if f.startswith('input')]\n",
        "\n",
        "        lst_label.sort()\n",
        "        lst_input.sort()\n",
        "\n",
        "        self.lst_label = lst_label\n",
        "        self.lst_input = lst_input\n",
        "\n",
        "    def __len__(self):\n",
        "        return len(self.lst_label)\n",
        "\n",
        "    def __getitem__(self, index):\n",
        "        label = np.load(os.path.join(self.data_dir, self.lst_label[index]))\n",
        "        input = np.load(os.path.join(self.data_dir, self.lst_input[index]))\n",
        "\n",
        "        # 정규화\n",
        "        label = label/255.0\n",
        "        input = input/255.0\n",
        "\n",
        "        # 이미지와 레이블의 차원 = 2일 경우(채널이 없을 경우, 흑백 이미지), 새로운 채널(축) 생성\n",
        "        if label.ndim == 2:\n",
        "            label = label[:, :, np.newaxis]\n",
        "            # label = np.repeat(label[:,:,np.newaxis],3,-1) # 세 번째 차원의 수가 3개 (컬러를 말함)\n",
        "        if input.ndim == 2:\n",
        "            input = input[:, :, np.newaxis]\n",
        "\n",
        "        data = {'input': input, 'label': label}\n",
        "\n",
        "        # transform이 정의되어 있다면 transform을 거친 데이터를 불러옴\n",
        "        if self.transform:\n",
        "            data = self.transform(data)\n",
        "\n",
        "        return data"
      ]
    },
    {
      "cell_type": "code",
      "execution_count": 17,
      "metadata": {
        "colab": {
          "base_uri": "https://localhost:8080/"
        },
        "id": "ScBS0OH5Emr7",
        "outputId": "e1db0973-3763-4e62-f488-808374321055"
      },
      "outputs": [
        {
          "output_type": "stream",
          "name": "stdout",
          "text": [
            "X 이미지 Shape : (512, 512)\n",
            "Y 이미지 Shape : (512, 512)\n"
          ]
        }
      ],
      "source": [
        "## 데이터 Shape 확인해보기\n",
        "\n",
        "print(\"X 이미지 Shape : {}\".format(input_.shape))\n",
        "print(\"Y 이미지 Shape : {}\".format(label_.shape))"
      ]
    },
    {
      "cell_type": "code",
      "execution_count": 18,
      "metadata": {
        "id": "kk1QXXeJC638"
      },
      "outputs": [],
      "source": [
        "## 데이터로더 잘 구현되었는지 확인\n",
        "\n",
        "dataset_train = Dataset(data_dir=dir_save_train)\n",
        "data = dataset_train.__getitem__(0) # 한 이미지 불러오기\n",
        "input = data['input']\n",
        "label = data['label']"
      ]
    },
    {
      "cell_type": "code",
      "source": [
        "## 데이터 Shape 확인해보기\n",
        "\n",
        "print(\"X 이미지 Shape : {}\".format(input.shape))\n",
        "print(\"Y 이미지 Shape : {}\".format(label.shape))"
      ],
      "metadata": {
        "colab": {
          "base_uri": "https://localhost:8080/"
        },
        "id": "CLkCkVixEEvP",
        "outputId": "951a8d1f-07ae-4979-8d7a-1da44fc4df34"
      },
      "execution_count": 23,
      "outputs": [
        {
          "output_type": "stream",
          "name": "stdout",
          "text": [
            "X 이미지 Shape : torch.Size([1, 512, 512])\n",
            "Y 이미지 Shape : torch.Size([1, 512, 512])\n"
          ]
        }
      ]
    },
    {
      "cell_type": "code",
      "execution_count": 19,
      "metadata": {
        "colab": {
          "base_uri": "https://localhost:8080/",
          "height": 216
        },
        "id": "Hfvf9ZZ-DAHx",
        "outputId": "374a53fa-6010-44bd-e0fd-f616de48053b"
      },
      "outputs": [
        {
          "output_type": "display_data",
          "data": {
            "text/plain": [
              "<Figure size 432x288 with 2 Axes>"
            ],
            "image/png": "[encoded data removed]"
          },
          "metadata": {
            "needs_background": "light"
          }
        }
      ],
      "source": [
        "# 불러온 이미지 시각화\n",
        "\n",
        "plt.subplot(122)\n",
        "plt.imshow(label.reshape(512, 512), cmap='gray')\n",
        "plt.title('label')\n",
        "\n",
        "plt.subplot(121)\n",
        "plt.imshow(input.reshape(512, 512), cmap='gray')\n",
        "plt.title('input')\n",
        "\n",
        "plt.show()"
      ]
    },
    {
      "cell_type": "markdown",
      "metadata": {
        "id": "6qM0_v5LE91Z"
      },
      "source": [
        "# Transform"
      ]
    },
    {
      "cell_type": "code",
      "execution_count": 20,
      "metadata": {
        "id": "18xWydEWE9MZ"
      },
      "outputs": [],
      "source": [
        "# 트렌스폼 구현하기\n",
        "class ToTensor(object):\n",
        "    def __call__(self, data):\n",
        "        label, input = data['label'], data['input']\n",
        "\n",
        "        # 배열 순서 바꿈 픽셀컬러 정보를 맨 앞으로\n",
        "        label = label.transpose((2, 0, 1)).astype(np.float32)\n",
        "        input = input.transpose((2, 0, 1)).astype(np.float32)\n",
        "\n",
        "        data = {'label': torch.from_numpy(label), 'input': torch.from_numpy(input)}\n",
        "\n",
        "        return data\n",
        "\n",
        "## 정규화\n",
        "class Normalization(object):\n",
        "    def __init__(self, mean=0.5, std=0.5):\n",
        "        self.mean = mean\n",
        "        self.std = std\n",
        "\n",
        "    def __call__(self, data):\n",
        "        label, input = data['label'], data['input']\n",
        "\n",
        "        input = (input - self.mean) / self.std\n",
        "\n",
        "        data = {'label': label, 'input': input}\n",
        "\n",
        "        return data\n",
        "\n",
        "class RandomFlip(object):\n",
        "    def __call__(self, data):\n",
        "        label, input = data['label'], data['input']\n",
        "\n",
        "        if np.random.rand() > 0.5:\n",
        "            label = np.fliplr(label)\n",
        "            input = np.fliplr(input)\n",
        "\n",
        "        if np.random.rand() > 0.5:\n",
        "            label = np.flipud(label)\n",
        "            input = np.flipud(input)\n",
        "\n",
        "        data = {'label': label, 'input': input}\n",
        "\n",
        "        return data"
      ]
    },
    {
      "cell_type": "code",
      "execution_count": 24,
      "metadata": {
        "id": "KW18OXByDBR4"
      },
      "outputs": [],
      "source": [
        "## 트랜스폼 잘 구현되었는지 확인\n",
        "transform = transforms.Compose([Normalization(mean=0.5, std=0.5), RandomFlip(), ToTensor()])\n",
        "dataset_train = Dataset(data_dir=dir_save_train, transform=transform)\n",
        "data = dataset_train.__getitem__(0) # 한 이미지 불러오기\n",
        "input = data['input']\n",
        "label = data['label']"
      ]
    },
    {
      "cell_type": "code",
      "source": [
        "## 데이터 Shape 확인해보기\n",
        "\n",
        "print(\"X 이미지 Shape : {}\".format(input.shape))\n",
        "print(\"Y 이미지 Shape : {}\".format(label.shape))"
      ],
      "metadata": {
        "colab": {
          "base_uri": "https://localhost:8080/"
        },
        "id": "Wx5fkoxZEQDv",
        "outputId": "e60b1e8d-65e6-4432-b811-44daab6222c0"
      },
      "execution_count": 25,
      "outputs": [
        {
          "output_type": "stream",
          "name": "stdout",
          "text": [
            "X 이미지 Shape : torch.Size([1, 512, 512])\n",
            "Y 이미지 Shape : torch.Size([1, 512, 512])\n"
          ]
        }
      ]
    },
    {
      "cell_type": "code",
      "execution_count": 26,
      "metadata": {
        "colab": {
          "base_uri": "https://localhost:8080/",
          "height": 297
        },
        "id": "TI41xsey2Nst",
        "outputId": "abb5e79b-e20a-448f-d2e9-819eee4c5200"
      },
      "outputs": [
        {
          "output_type": "display_data",
          "data": {
            "text/plain": [
              "<Figure size 432x288 with 2 Axes>"
            ],
            "image/png": "[encoded data removed]"
          },
          "metadata": {
            "needs_background": "light"
          }
        }
      ],
      "source": [
        "## 불러온 이미지 시각화\n",
        "plt.subplot(122)\n",
        "plt.hist(label.flatten(), bins=20)\n",
        "plt.title('label')\n",
        "\n",
        "plt.subplot(121)\n",
        "plt.hist(input.flatten(), bins=20)\n",
        "plt.title('input')\n",
        "\n",
        "plt.tight_layout()\n",
        "plt.show()"
      ]
    },
    {
      "cell_type": "markdown",
      "metadata": {
        "id": "02G0n8l0FH25"
      },
      "source": [
        "# Network 저장 & 호출"
      ]
    },
    {
      "cell_type": "code",
      "execution_count": 27,
      "metadata": {
        "id": "4dCdCyTcFK54"
      },
      "outputs": [],
      "source": [
        "## 네트워크 저장하기\n",
        "def save(ckpt_dir, net, optim, epoch):\n",
        "    if not os.path.exists(ckpt_dir):\n",
        "        os.makedirs(ckpt_dir)\n",
        "\n",
        "    torch.save({'net': net.state_dict(), 'optim': optim.state_dict()},\n",
        "               \"%s/model_epoch%d.pth\" % (ckpt_dir, epoch))"
      ]
    },
    {
      "cell_type": "code",
      "execution_count": 28,
      "metadata": {
        "id": "YsUJEuHMFN3w"
      },
      "outputs": [],
      "source": [
        "## 네트워크 불러오기\n",
        "def load(ckpt_dir, net, optim):\n",
        "    if not os.path.exists(ckpt_dir):\n",
        "        epoch = 0\n",
        "        return net, optim, epoch\n",
        "\n",
        "    ckpt_lst = os.listdir(ckpt_dir)\n",
        "    ckpt_lst.sort(key=lambda f: int(''.join(filter(str.isdigit, f))))\n",
        "\n",
        "    dict_model = torch.load('%s/%s' % (ckpt_dir, ckpt_lst[-1]))\n",
        "\n",
        "    net.load_state_dict(dict_model['net'])\n",
        "    optim.load_state_dict(dict_model['optim'])\n",
        "    epoch = int(ckpt_lst[-1].split('epoch')[1].split('.pth')[0])\n",
        "\n",
        "    return net, optim, epoch"
      ]
    },
    {
      "cell_type": "markdown",
      "metadata": {
        "id": "JnhoPQtXFPmB"
      },
      "source": [
        "# Network 훈련"
      ]
    },
    {
      "cell_type": "code",
      "execution_count": 29,
      "metadata": {
        "colab": {
          "base_uri": "https://localhost:8080/",
          "height": 906
        },
        "id": "w0pq6bReDDnM",
        "outputId": "40074a3a-ed5f-49ae-f091-48ad85307d03"
      },
      "outputs": [
        {
          "metadata": {
            "tags": null
          },
          "name": "stderr",
          "output_type": "stream",
          "text": [
            "/usr/local/lib/python3.7/dist-packages/torch/utils/data/dataloader.py:566: UserWarning: This DataLoader will create 8 worker processes in total. Our suggested max number of worker in current system is 4, which is smaller than what this DataLoader is going to create. Please be aware that excessive worker creation might get DataLoader running slow or even freeze, lower the worker number to avoid potential slowness/freeze if necessary.\n",
            "  cpuset_checked))\n",
            "/usr/local/lib/python3.7/dist-packages/torch/utils/data/dataloader.py:566: UserWarning: This DataLoader will create 8 worker processes in total. Our suggested max number of worker in current system is 4, which is smaller than what this DataLoader is going to create. Please be aware that excessive worker creation might get DataLoader running slow or even freeze, lower the worker number to avoid potential slowness/freeze if necessary.\n",
            "  cpuset_checked))\n"
          ]
        },
        {
          "output_type": "stream",
          "name": "stdout",
          "text": [
            "TRAIN: EPOCH 0001 / 0020 | BATCH 0001 / 3450 | LOSS 0.7381\n",
            "TRAIN: EPOCH 0001 / 0020 | BATCH 0002 / 3450 | LOSS 0.7196\n",
            "TRAIN: EPOCH 0001 / 0020 | BATCH 0003 / 3450 | LOSS 0.6899\n",
            "TRAIN: EPOCH 0001 / 0020 | BATCH 0004 / 3450 | LOSS 0.6594\n",
            "TRAIN: EPOCH 0001 / 0020 | BATCH 0005 / 3450 | LOSS 0.6322\n",
            "TRAIN: EPOCH 0001 / 0020 | BATCH 0006 / 3450 | LOSS 0.6072\n",
            "TRAIN: EPOCH 0001 / 0020 | BATCH 0007 / 3450 | LOSS 0.5842\n",
            "TRAIN: EPOCH 0001 / 0020 | BATCH 0008 / 3450 | LOSS 0.5636\n",
            "TRAIN: EPOCH 0001 / 0020 | BATCH 0009 / 3450 | LOSS 0.5461\n",
            "TRAIN: EPOCH 0001 / 0020 | BATCH 0010 / 3450 | LOSS 0.5292\n",
            "TRAIN: EPOCH 0001 / 0020 | BATCH 0011 / 3450 | LOSS 0.5189\n",
            "TRAIN: EPOCH 0001 / 0020 | BATCH 0012 / 3450 | LOSS 0.5075\n",
            "TRAIN: EPOCH 0001 / 0020 | BATCH 0013 / 3450 | LOSS 0.4970\n",
            "TRAIN: EPOCH 0001 / 0020 | BATCH 0014 / 3450 | LOSS 0.4866\n",
            "TRAIN: EPOCH 0001 / 0020 | BATCH 0015 / 3450 | LOSS 0.4777\n",
            "TRAIN: EPOCH 0001 / 0020 | BATCH 0016 / 3450 | LOSS 0.4707\n",
            "TRAIN: EPOCH 0001 / 0020 | BATCH 0017 / 3450 | LOSS 0.4627\n",
            "TRAIN: EPOCH 0001 / 0020 | BATCH 0018 / 3450 | LOSS 0.4553\n",
            "TRAIN: EPOCH 0001 / 0020 | BATCH 0019 / 3450 | LOSS 0.4512\n",
            "TRAIN: EPOCH 0001 / 0020 | BATCH 0020 / 3450 | LOSS 0.4433\n",
            "TRAIN: EPOCH 0001 / 0020 | BATCH 0021 / 3450 | LOSS 0.4415\n",
            "TRAIN: EPOCH 0001 / 0020 | BATCH 0022 / 3450 | LOSS 0.4365\n",
            "TRAIN: EPOCH 0001 / 0020 | BATCH 0023 / 3450 | LOSS 0.4295\n"
          ]
        },
        {
          "output_type": "error",
          "ename": "KeyboardInterrupt",
          "evalue": "ignored",
          "traceback": [
            "\u001b[0;31m---------------------------------------------------------------------------\u001b[0m",
            "\u001b[0;31mKeyboardInterrupt\u001b[0m                         Traceback (most recent call last)",
            "\u001b[0;32m<ipython-input-29-9a120c03e3dc>\u001b[0m in \u001b[0;36m<module>\u001b[0;34m\u001b[0m\n\u001b[1;32m     66\u001b[0m \u001b[0;34m\u001b[0m\u001b[0m\n\u001b[1;32m     67\u001b[0m             \u001b[0mloss\u001b[0m \u001b[0;34m=\u001b[0m \u001b[0mfn_loss\u001b[0m\u001b[0;34m(\u001b[0m\u001b[0moutput\u001b[0m\u001b[0;34m,\u001b[0m \u001b[0mlabel\u001b[0m\u001b[0;34m)\u001b[0m\u001b[0;34m\u001b[0m\u001b[0;34m\u001b[0m\u001b[0m\n\u001b[0;32m---> 68\u001b[0;31m             \u001b[0mloss\u001b[0m\u001b[0;34m.\u001b[0m\u001b[0mbackward\u001b[0m\u001b[0;34m(\u001b[0m\u001b[0;34m)\u001b[0m\u001b[0;34m\u001b[0m\u001b[0;34m\u001b[0m\u001b[0m\n\u001b[0m\u001b[1;32m     69\u001b[0m \u001b[0;34m\u001b[0m\u001b[0m\n\u001b[1;32m     70\u001b[0m             \u001b[0moptim\u001b[0m\u001b[0;34m.\u001b[0m\u001b[0mstep\u001b[0m\u001b[0;34m(\u001b[0m\u001b[0;34m)\u001b[0m\u001b[0;34m\u001b[0m\u001b[0;34m\u001b[0m\u001b[0m\n",
            "\u001b[0;32m/usr/local/lib/python3.7/dist-packages/torch/_tensor.py\u001b[0m in \u001b[0;36mbackward\u001b[0;34m(self, gradient, retain_graph, create_graph, inputs)\u001b[0m\n\u001b[1;32m    394\u001b[0m                 \u001b[0mcreate_graph\u001b[0m\u001b[0;34m=\u001b[0m\u001b[0mcreate_graph\u001b[0m\u001b[0;34m,\u001b[0m\u001b[0;34m\u001b[0m\u001b[0;34m\u001b[0m\u001b[0m\n\u001b[1;32m    395\u001b[0m                 inputs=inputs)\n\u001b[0;32m--> 396\u001b[0;31m         \u001b[0mtorch\u001b[0m\u001b[0;34m.\u001b[0m\u001b[0mautograd\u001b[0m\u001b[0;34m.\u001b[0m\u001b[0mbackward\u001b[0m\u001b[0;34m(\u001b[0m\u001b[0mself\u001b[0m\u001b[0;34m,\u001b[0m \u001b[0mgradient\u001b[0m\u001b[0;34m,\u001b[0m \u001b[0mretain_graph\u001b[0m\u001b[0;34m,\u001b[0m \u001b[0mcreate_graph\u001b[0m\u001b[0;34m,\u001b[0m \u001b[0minputs\u001b[0m\u001b[0;34m=\u001b[0m\u001b[0minputs\u001b[0m\u001b[0;34m)\u001b[0m\u001b[0;34m\u001b[0m\u001b[0;34m\u001b[0m\u001b[0m\n\u001b[0m\u001b[1;32m    397\u001b[0m \u001b[0;34m\u001b[0m\u001b[0m\n\u001b[1;32m    398\u001b[0m     \u001b[0;32mdef\u001b[0m \u001b[0mregister_hook\u001b[0m\u001b[0;34m(\u001b[0m\u001b[0mself\u001b[0m\u001b[0;34m,\u001b[0m \u001b[0mhook\u001b[0m\u001b[0;34m)\u001b[0m\u001b[0;34m:\u001b[0m\u001b[0;34m\u001b[0m\u001b[0;34m\u001b[0m\u001b[0m\n",
            "\u001b[0;32m/usr/local/lib/python3.7/dist-packages/torch/autograd/__init__.py\u001b[0m in \u001b[0;36mbackward\u001b[0;34m(tensors, grad_tensors, retain_graph, create_graph, grad_variables, inputs)\u001b[0m\n\u001b[1;32m    173\u001b[0m     Variable._execution_engine.run_backward(  # Calls into the C++ engine to run the backward pass\n\u001b[1;32m    174\u001b[0m         \u001b[0mtensors\u001b[0m\u001b[0;34m,\u001b[0m \u001b[0mgrad_tensors_\u001b[0m\u001b[0;34m,\u001b[0m \u001b[0mretain_graph\u001b[0m\u001b[0;34m,\u001b[0m \u001b[0mcreate_graph\u001b[0m\u001b[0;34m,\u001b[0m \u001b[0minputs\u001b[0m\u001b[0;34m,\u001b[0m\u001b[0;34m\u001b[0m\u001b[0;34m\u001b[0m\u001b[0m\n\u001b[0;32m--> 175\u001b[0;31m         allow_unreachable=True, accumulate_grad=True)  # Calls into the C++ engine to run the backward pass\n\u001b[0m\u001b[1;32m    176\u001b[0m \u001b[0;34m\u001b[0m\u001b[0m\n\u001b[1;32m    177\u001b[0m def grad(\n",
            "\u001b[0;31mKeyboardInterrupt\u001b[0m: "
          ]
        }
      ],
      "source": [
        "# 훈련 파라미터 설정하기\n",
        "lr = 1e-3\n",
        "batch_size = 4\n",
        "num_epoch = 20\n",
        "\n",
        "base_dir = './drive/MyDrive/DACrew/unet'\n",
        "data_dir = dir_data\n",
        "ckpt_dir = os.path.join(base_dir, \"checkpoint\")\n",
        "log_dir = os.path.join(base_dir, \"log\")\n",
        "\n",
        "\n",
        "# 훈련을 위한 Transform과 DataLoader\n",
        "transform = transforms.Compose([Normalization(mean=0.5, std=0.5), RandomFlip(), ToTensor()])\n",
        "\n",
        "dataset_train = Dataset(data_dir=os.path.join(data_dir, 'train'), transform=transform)\n",
        "loader_train = DataLoader(dataset_train, batch_size=batch_size, shuffle=True, num_workers=8)\n",
        "\n",
        "dataset_val = Dataset(data_dir=os.path.join(data_dir, 'val'), transform=transform)\n",
        "loader_val = DataLoader(dataset_val, batch_size=batch_size, shuffle=False, num_workers=8)\n",
        "\n",
        "# 네트워크 생성하기\n",
        "device = torch.device('cuda' if torch.cuda.is_available() else 'cpu')\n",
        "net = UNet().to(device)\n",
        "\n",
        "# 손실함수 정의하기\n",
        "fn_loss = nn.BCEWithLogitsLoss().to(device)\n",
        "\n",
        "# Optimizer 설정하기\n",
        "optim = torch.optim.Adam(net.parameters(), lr=lr)\n",
        "\n",
        "# 그밖에 부수적인 variables 설정하기\n",
        "num_data_train = len(dataset_train)\n",
        "num_data_val = len(dataset_val)\n",
        "\n",
        "num_batch_train = np.ceil(num_data_train / batch_size)\n",
        "num_batch_val = np.ceil(num_data_val / batch_size)\n",
        "\n",
        "# 그 밖에 부수적인 functions 설정하기\n",
        "fn_tonumpy = lambda x: x.to('cpu').detach().numpy().transpose(0, 2, 3, 1)\n",
        "fn_denorm = lambda x, mean, std: (x * std) + mean\n",
        "fn_class = lambda x: 1.0 * (x > 0.5)\n",
        "\n",
        "# Tensorboard 를 사용하기 위한 SummaryWriter 설정\n",
        "writer_train = SummaryWriter(log_dir=os.path.join(log_dir, 'train'))\n",
        "writer_val = SummaryWriter(log_dir=os.path.join(log_dir, 'val'))\n",
        "\n",
        "# 네트워크 학습시키기\n",
        "st_epoch = 0\n",
        "\n",
        "# 학습한 모델이 있을 경우 모델 로드하기\n",
        "net, optim, st_epoch = load(ckpt_dir=ckpt_dir, net=net, optim=optim) \n",
        "\n",
        "for epoch in tqdm(range(st_epoch + 1, num_epoch + 1)):\n",
        "        net.train()\n",
        "        loss_arr = []\n",
        "\n",
        "        for batch, data in enumerate(loader_train, 1):\n",
        "            # forward pass\n",
        "            label = data['label'].to(device)\n",
        "            input = data['input'].to(device)\n",
        "\n",
        "            output = net(input)\n",
        "\n",
        "            # backward pass\n",
        "            optim.zero_grad()\n",
        "\n",
        "            loss = fn_loss(output, label)\n",
        "            loss.backward()\n",
        "\n",
        "            optim.step()\n",
        "\n",
        "            # 손실함수 계산\n",
        "            loss_arr += [loss.item()]\n",
        "\n",
        "            print(\"TRAIN: EPOCH %04d / %04d | BATCH %04d / %04d | LOSS %.4f\" %\n",
        "                  (epoch, num_epoch, batch, num_batch_train, np.mean(loss_arr)))\n",
        "\n",
        "            # Tensorboard 저장하기\n",
        "            label = fn_tonumpy(label)\n",
        "            input = fn_tonumpy(fn_denorm(input, mean=0.5, std=0.5))\n",
        "            output = fn_tonumpy(fn_class(output))\n",
        "\n",
        "            writer_train.add_image('label', label, num_batch_train * (epoch - 1) + batch, dataformats='NHWC')\n",
        "            writer_train.add_image('input', input, num_batch_train * (epoch - 1) + batch, dataformats='NHWC')\n",
        "            writer_train.add_image('output', output, num_batch_train * (epoch - 1) + batch, dataformats='NHWC')\n",
        "\n",
        "        writer_train.add_scalar('loss', np.mean(loss_arr), epoch)\n",
        "\n",
        "        with torch.no_grad():\n",
        "            net.eval()\n",
        "            loss_arr = []\n",
        "\n",
        "            for batch, data in enumerate(loader_val, 1):\n",
        "                # forward pass\n",
        "                label = data['label'].to(device)\n",
        "                input = data['input'].to(device)\n",
        "\n",
        "                output = net(input)\n",
        "\n",
        "                # 손실함수 계산하기\n",
        "                loss = fn_loss(output, label)\n",
        "\n",
        "                loss_arr += [loss.item()]\n",
        "\n",
        "                print(\"VALID: EPOCH %04d / %04d | BATCH %04d / %04d | LOSS %.4f\" %\n",
        "                      (epoch, num_epoch, batch, num_batch_val, np.mean(loss_arr)))\n",
        "\n",
        "                # Tensorboard 저장하기\n",
        "                label = fn_tonumpy(label)\n",
        "                input = fn_tonumpy(fn_denorm(input, mean=0.5, std=0.5))\n",
        "                output = fn_tonumpy(fn_class(output))\n",
        "\n",
        "                writer_val.add_image('label', label, num_batch_val * (epoch - 1) + batch, dataformats='NHWC')\n",
        "                writer_val.add_image('input', input, num_batch_val * (epoch - 1) + batch, dataformats='NHWC')\n",
        "                writer_val.add_image('output', output, num_batch_val * (epoch - 1) + batch, dataformats='NHWC')\n",
        "\n",
        "        writer_val.add_scalar('loss', np.mean(loss_arr), epoch)\n",
        "\n",
        "        # epoch 50마다 모델 저장하기\n",
        "        if epoch % 50 == 0:\n",
        "            save(ckpt_dir=ckpt_dir, net=net, optim=optim, epoch=epoch)\n",
        "\n",
        "        writer_train.close()\n",
        "        writer_val.close()"
      ]
    },
    {
      "cell_type": "markdown",
      "metadata": {
        "id": "Tuvqp8wJFboI"
      },
      "source": [
        "# Model Test"
      ]
    },
    {
      "cell_type": "code",
      "execution_count": null,
      "metadata": {
        "id": "iKqOirjjFeww"
      },
      "outputs": [],
      "source": [
        "transform = transforms.Compose([Normalization(mean=0.5, std=0.5), ToTensor()])\n",
        "\n",
        "dataset_test = Dataset(data_dir=os.path.join(data_dir, 'test'), transform=transform)\n",
        "loader_test = DataLoader(dataset_test, batch_size=batch_size, shuffle=False, num_workers=8)\n",
        "\n",
        "# 그밖에 부수적인 variables 설정하기\n",
        "num_data_test = len(dataset_test)\n",
        "num_batch_test = np.ceil(num_data_test / batch_size)\n",
        "\n",
        "# 결과 디렉토리 생성하기\n",
        "result_dir = os.path.join(base_dir, 'result')\n",
        "if not os.path.exists(result_dir):\n",
        "    os.makedirs(os.path.join(result_dir, 'png'))\n",
        "    os.makedirs(os.path.join(result_dir, 'numpy'))\n",
        "\n",
        "\n",
        "net, optim, st_epoch = load(ckpt_dir=ckpt_dir, net=net, optim=optim)\n",
        "\n",
        "with torch.no_grad():\n",
        "      net.eval()\n",
        "      loss_arr = []\n",
        "\n",
        "      for batch, data in enumerate(loader_test, 1):\n",
        "          # forward pass\n",
        "          label = data['label'].to(device)\n",
        "          input = data['input'].to(device)\n",
        "\n",
        "          output = net(input)\n",
        "\n",
        "          # 손실함수 계산하기\n",
        "          loss = fn_loss(output, label)\n",
        "\n",
        "          loss_arr += [loss.item()]\n",
        "\n",
        "          print(\"TEST: BATCH %04d / %04d | LOSS %.4f\" %\n",
        "                (batch, num_batch_test, np.mean(loss_arr)))\n",
        "\n",
        "          # Tensorboard 저장하기\n",
        "          label = fn_tonumpy(label)\n",
        "          input = fn_tonumpy(fn_denorm(input, mean=0.5, std=0.5))\n",
        "          output = fn_tonumpy(fn_class(output))\n",
        "\n",
        "          # 테스트 결과 저장하기\n",
        "          for j in range(label.shape[0]):\n",
        "              id = num_batch_test * (batch - 1) + j\n",
        "\n",
        "              plt.imsave(os.path.join(result_dir, 'png', 'label_%04d.png' % id), label[j].squeeze(), cmap='gray')\n",
        "              plt.imsave(os.path.join(result_dir, 'png', 'input_%04d.png' % id), input[j].squeeze(), cmap='gray')\n",
        "              plt.imsave(os.path.join(result_dir, 'png', 'output_%04d.png' % id), output[j].squeeze(), cmap='gray')\n",
        "\n",
        "              np.save(os.path.join(result_dir, 'numpy', 'label_%04d.npy' % id), label[j].squeeze())\n",
        "              np.save(os.path.join(result_dir, 'numpy', 'input_%04d.npy' % id), input[j].squeeze())\n",
        "              np.save(os.path.join(result_dir, 'numpy', 'output_%04d.npy' % id), output[j].squeeze())\n",
        "\n",
        "print(\"AVERAGE TEST: BATCH %04d / %04d | LOSS %.4f\" %\n",
        "        (batch, num_batch_test, np.mean(loss_arr)))"
      ]
    },
    {
      "cell_type": "markdown",
      "metadata": {
        "id": "nYAWbTidFfOo"
      },
      "source": [
        "# Result Visualization"
      ]
    },
    {
      "cell_type": "code",
      "execution_count": null,
      "metadata": {
        "id": "7QUNtnWwFtGu"
      },
      "outputs": [],
      "source": [
        "##\n",
        "lst_data = os.listdir(os.path.join(result_dir, 'numpy'))\n",
        "\n",
        "lst_label = [f for f in lst_data if f.startswith('label')]\n",
        "lst_input = [f for f in lst_data if f.startswith('input')]\n",
        "lst_output = [f for f in lst_data if f.startswith('output')]\n",
        "\n",
        "lst_label.sort()\n",
        "lst_input.sort()\n",
        "lst_output.sort()\n",
        "\n",
        "##\n",
        "id = 0\n",
        "\n",
        "label = np.load(os.path.join(result_dir,\"numpy\", lst_label[id]))\n",
        "input = np.load(os.path.join(result_dir,\"numpy\", lst_input[id]))\n",
        "output = np.load(os.path.join(result_dir,\"numpy\", lst_output[id]))\n",
        "\n",
        "## 플롯 그리기\n",
        "plt.figure(figsize=(8,6))\n",
        "plt.subplot(131)\n",
        "plt.imshow(input, cmap='gray')\n",
        "plt.title('input')\n",
        "\n",
        "plt.subplot(132)\n",
        "plt.imshow(label, cmap='gray')\n",
        "plt.title('label')\n",
        "\n",
        "plt.subplot(133)\n",
        "plt.imshow(output, cmap='gray')\n",
        "plt.title('output')\n",
        "\n",
        "plt.show()"
      ]
    }
  ],
  "metadata": {
    "accelerator": "TPU",
    "colab": {
      "machine_shape": "hm",
      "provenance": [],
      "include_colab_link": true
    },
    "gpuClass": "standard",
    "kernelspec": {
      "display_name": "Python 3",
      "name": "python3"
    },
    "language_info": {
      "name": "python"
    }
  },
  "nbformat": 4,
  "nbformat_minor": 0
}