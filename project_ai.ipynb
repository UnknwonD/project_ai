{
  "cells": [
    {
      "cell_type": "markdown",
      "metadata": {
        "id": "view-in-github",
        "colab_type": "text"
      },
      "source": [
        "<a href=\"https://colab.research.google.com/github/UnknwonD/project_ai/blob/main/project_ai.ipynb\" target=\"_parent\"><img src=\"https://colab.research.google.com/assets/colab-badge.svg\" alt=\"Open In Colab\"/></a>"
      ]
    },
    {
      "cell_type": "markdown",
      "metadata": {
        "id": "JM1mPZuO764e"
      },
      "source": [
        "# Data 압축 풀기"
      ]
    },
    {
      "cell_type": "code",
      "execution_count": 1,
      "metadata": {
        "colab": {
          "base_uri": "https://localhost:8080/"
        },
        "id": "J0_IjEk479qi",
        "outputId": "d7f620a5-1d16-4525-a2e3-a23376f60f8a"
      },
      "outputs": [
        {
          "output_type": "stream",
          "name": "stdout",
          "text": [
            "Drive already mounted at /content/drive; to attempt to forcibly remount, call drive.mount(\"/content/drive\", force_remount=True).\n"
          ]
        }
      ],
      "source": [
        "# 드라이브 마운트\n",
        "from google.colab import drive\n",
        "drive.mount('/content/drive')"
      ]
    },
    {
      "cell_type": "code",
      "source": [
        "def extract_file_name(url):\n",
        "  file_list = os.listdir(url)\n",
        "  file_name = []\n",
        "  for file in file_list:\n",
        "    file_name.append(file.split('.')[0])\n",
        "  return file_name"
      ],
      "metadata": {
        "id": "d8DDZAVeZEEB"
      },
      "execution_count": 5,
      "outputs": []
    },
    {
      "cell_type": "code",
      "source": [
        "file_name = extract_file_name(\"/content/drive/MyDrive/project_ai/damage_part_jpg/\")"
      ],
      "metadata": {
        "id": "eyIYdzb5bKHI"
      },
      "execution_count": 6,
      "outputs": []
    },
    {
      "cell_type": "code",
      "source": [
        "sample_path = \"/content/drive/MyDrive/project_ai/sampled/\"\n",
        "if not os.path.exists(sample_path):\n",
        "    os.mkdir(sample_path)\n",
        "    os.mkdir(sample_path + \"jpg/\")\n",
        "    os.mkdir(sample_path + \"json/\")\n",
        "\n",
        "cnt = 0\n",
        "for file in file_name:\n",
        "  if cnt == 1000: break\n",
        "  imgfile = \"/content/drive/MyDrive/project_ai/damage_part_jpg/{}.jpg\".format(file)\n",
        "  img = cv2.imread(imgfile)\n",
        "  with open('/content/drive/MyDrive/project_ai/damage_part_json/{}.json'.format(file), 'r') as f:\n",
        "    json_data = json.load(f)\n",
        "  \n",
        "  cv2.imwrite(\"/content/drive/MyDrive/project_ai/sampled/jpg/{}.jpg\".format(file), img)\n",
        "  with open('/content/drive/MyDrive/project_ai/sampled/json/{}.json'.format(file), 'w') as f:\n",
        "    json.dump(json_data, f)\n",
        "  cnt += 1"
      ],
      "metadata": {
        "id": "Ihec9LTDZE3A"
      },
      "execution_count": 9,
      "outputs": []
    },
    {
      "cell_type": "code",
      "source": [
        "sample_data = os.listdir(\"/content/drive/MyDrive/project_ai/sampled/jpg/\")\n",
        "print(len(os.listdir(\"/content/drive/MyDrive/project_ai/sampled/jpg/\")))\n",
        "print(len(sample_data))"
      ],
      "metadata": {
        "id": "NKFn_2UPfLzB",
        "outputId": "28a89ca0-e927-4cbc-c2c3-ca1720fda719",
        "colab": {
          "base_uri": "https://localhost:8080/"
        }
      },
      "execution_count": 12,
      "outputs": [
        {
          "output_type": "stream",
          "name": "stdout",
          "text": [
            "1000\n",
            "1000\n"
          ]
        }
      ]
    },
    {
      "cell_type": "code",
      "execution_count": null,
      "metadata": {
        "id": "KTGPOURC-fJa"
      },
      "outputs": [],
      "source": [
        "from glob import glob"
      ]
    },
    {
      "cell_type": "code",
      "execution_count": null,
      "metadata": {
        "colab": {
          "base_uri": "https://localhost:8080/"
        },
        "id": "lWWi0SQ7HemE",
        "outputId": "7a1b3696-60b5-42d5-bc41-ddd6595245cd"
      },
      "outputs": [
        {
          "name": "stdout",
          "output_type": "stream",
          "text": [
            "/content/drive/MyDrive/project_ai\n"
          ]
        }
      ],
      "source": [
        "# %cd /content/drive/MyDrive/project_ai\n",
        "\n",
        "# !unzip -qq \"/content/drive/MyDrive/project_ai/VL_damage_part.zip\""
      ]
    },
    {
      "cell_type": "code",
      "execution_count": null,
      "metadata": {
        "colab": {
          "base_uri": "https://localhost:8080/"
        },
        "id": "JgIadXNwHkCj",
        "outputId": "4b0cec0a-ebc7-46a1-b1be-b24887398663"
      },
      "outputs": [
        {
          "name": "stdout",
          "output_type": "stream",
          "text": [
            "/content/drive/MyDrive/project_ai\n",
            "replace damage_part_jpg/0000016_as-0031772.jpg? [y]es, [n]o, [A]ll, [N]one, [r]ename: "
          ]
        }
      ],
      "source": [
        "# %cd /content/drive/MyDrive/project_ai\n",
        "\n",
        "# !unzip -qq \"/content/drive/MyDrive/project_ai/VS_damage_part_jpg.zip\""
      ]
    },
    {
      "cell_type": "code",
      "execution_count": null,
      "metadata": {
        "colab": {
          "base_uri": "https://localhost:8080/"
        },
        "id": "fzW-hL8m8xEr",
        "outputId": "eb51eeb8-eb38-456a-e8c8-3ffeff6fa545"
      },
      "outputs": [
        {
          "name": "stdout",
          "output_type": "stream",
          "text": [
            "json 파일 갯수 : 17248\n"
          ]
        }
      ],
      "source": [
        "filepaths1 = list(glob('/content/drive/MyDrive/project_ai/damage_part_json/*.json'))\n",
        "print(\"json 파일 갯수 : {}\".format(len(filepaths1)))"
      ]
    },
    {
      "cell_type": "code",
      "execution_count": null,
      "metadata": {
        "colab": {
          "base_uri": "https://localhost:8080/"
        },
        "id": "F2kFqlfj9WC7",
        "outputId": "fc3e3ef4-b9b1-42e9-e3bb-d82ffda135a9"
      },
      "outputs": [
        {
          "name": "stdout",
          "output_type": "stream",
          "text": [
            "jpg 파일 갯수 : 17248\n"
          ]
        }
      ],
      "source": [
        "filepaths2 = list(glob('/content/drive/MyDrive/project_ai/damage_part_jpg/*.jpg'))\n",
        "print(\"jpg 파일 갯수 : {}\".format(len(filepaths2)))"
      ]
    },
    {
      "cell_type": "code",
      "execution_count": null,
      "metadata": {
        "colab": {
          "base_uri": "https://localhost:8080/"
        },
        "id": "5qYao2oUxFf_",
        "outputId": "ced4488b-82d2-48ca-d359-d10e2ecca432"
      },
      "outputs": [
        {
          "name": "stdout",
          "output_type": "stream",
          "text": [
            "mask 파일 갯수 : 17248\n"
          ]
        }
      ],
      "source": [
        "filepaths3 = list(glob('/content/drive/MyDrive/project_ai/masked/*.jpg'))\n",
        "print(\"mask 파일 갯수 : {}\".format(len(filepaths3)))"
      ]
    },
    {
      "cell_type": "markdown",
      "metadata": {
        "id": "M9utK6RCDt1s"
      },
      "source": [
        "# 마스크 이미지 만들기"
      ]
    },
    {
      "cell_type": "code",
      "execution_count": null,
      "metadata": {
        "colab": {
          "base_uri": "https://localhost:8080/"
        },
        "id": "hYb3fcymCokt",
        "outputId": "18bf5bfe-cc8e-4a00-a4aa-2df0dee3b6cc"
      },
      "outputs": [
        {
          "output_type": "stream",
          "name": "stdout",
          "text": [
            "Mounted at /content/drive\n"
          ]
        }
      ],
      "source": [
        "from google.colab import drive\n",
        "drive.mount('/content/drive')"
      ]
    },
    {
      "cell_type": "code",
      "execution_count": 56,
      "metadata": {
        "id": "lBZjfqQXDtGr"
      },
      "outputs": [],
      "source": [
        "import cv2\n",
        "import numpy as np\n",
        "from google.colab.patches import cv2_imshow\n",
        "import os\n",
        "import json\n",
        "from PIL import Image\n",
        "from tqdm import notebook, tqdm"
      ]
    },
    {
      "cell_type": "code",
      "execution_count": 13,
      "metadata": {
        "id": "id_-Qs13SwRQ"
      },
      "outputs": [],
      "source": [
        "# 이미지 파일 리사이즈 하는 함수 (원본이미지파일 경로, mask이미지인가[폴더구분위함], 가로세로 크기)\n",
        "def resize_jpg(url, mask=False, w=512):\n",
        "  save_path = \"/content/drive/MyDrive/project_ai/sampled/resized/\"  # 저장할 이미지 경로\n",
        "\n",
        "  # 저장할 경로 없으면 생성\n",
        "  if not os.path.exists(save_path):\n",
        "      os.mkdir(save_path)\n",
        "      \n",
        "  # 원본 이미지 경로의 모든 이미지 list 지정\n",
        "  if not mask:\n",
        "    data_list = os.listdir(url + \"jpg/\")\n",
        "  else:\n",
        "    data_list = os.listdir(url + \"masked/\")\n",
        "  \n",
        "  print(len(data_list))\n",
        "  \n",
        "  if not os.path.exists(save_path + \"x/\"):\n",
        "      os.mkdir(save_path + \"x/\")\n",
        "  if not os.path.exists(save_path + \"y/\"):\n",
        "      os.mkdir(save_path + \"y/\")\n",
        "\n",
        "  # 모든 이미지 resize 후 저장하기\n",
        "  for token in tqdm(data_list):\n",
        "      # 이미지 열기\n",
        "      if not mask:\n",
        "        im = Image.open(url + \"jpg/\" + token).convert('L').resize((w, w))\n",
        "        im.save(save_path + \"x/\"+ token)\n",
        "      else:\n",
        "        im = Image.open(url + \"masked/\" + token).convert('L').resize((w, w))\n",
        "        im.save(save_path + \"y/\"+ token)\n",
        "\n",
        "\n",
        "# 파일 이름 리스트로 저장하는 함수\n",
        "def extract_file_name(url):\n",
        "  file_list = os.listdir(url)\n",
        "  file_name = []\n",
        "  for file in file_list:\n",
        "    file_name.append(file.split('.')[0])\n",
        "  return file_name"
      ]
    },
    {
      "cell_type": "code",
      "execution_count": null,
      "metadata": {
        "id": "bvaxc8auHgZF"
      },
      "outputs": [],
      "source": [
        "# # 아예 세그멘테이션이 없는지 확인해볼게\n",
        "# files = tqdm(extract_file_name(\"/content/drive/MyDrive/project_ai/damage_part_jpg/\"))\n",
        "\n",
        "# for file in files:\n",
        "#   with open('/content/drive/MyDrive/project_ai/damage_part_json/{}.json'.format(file), 'r') as f:\n",
        "#     json_data = json.load(f)\n",
        "#     mask_num = 0\n",
        "#     for j in range(len(json_data[\"annotations\"])):\n",
        "#       if json_data[\"annotations\"][j][\"damage\"] == None:\n",
        "#         mask_num += 1\n",
        "    \n",
        "#     if len(json_data[\"annotations\"]) == mask_num:\n",
        "#       print(\"아무것도 없음\")"
      ]
    },
    {
      "cell_type": "code",
      "execution_count": 19,
      "metadata": {
        "colab": {
          "base_uri": "https://localhost:8080/"
        },
        "id": "V_Gsybe18nwO",
        "outputId": "f4dd5a0d-9398-4b00-a6bf-3bf7b4b95d71"
      },
      "outputs": [
        {
          "output_type": "stream",
          "name": "stderr",
          "text": [
            "Processing 0160244_as-0026068: 100%|██████████| 1000/1000 [01:06<00:00, 14.95it/s]\n"
          ]
        }
      ],
      "source": [
        "files = tqdm(extract_file_name(\"/content/drive/MyDrive/project_ai/sampled/jpg/\"))\n",
        "\n",
        "# 마스크 이미지를 저장할 경로 생성\n",
        "save_path = '/content/drive/MyDrive/project_ai/sampled/masked/'\n",
        "# save_path 경로가 없으면 폴더를 만듦\n",
        "if not os.path.exists(save_path):\n",
        "  os.mkdir(save_path)\n",
        "\n",
        "for file in files:\n",
        "  files.set_description(f\"Processing {file}\")\n",
        "  imgfile = \"/content/drive/MyDrive/project_ai/sampled/jpg/{}.jpg\".format(file)\n",
        "  img = cv2.imread(imgfile)\n",
        "  with open('/content/drive/MyDrive/project_ai/sampled/json/{}.json'.format(file), 'r') as f:\n",
        "    json_data = json.load(f)\n",
        "  \n",
        "  \n",
        "  # 데미지 파트가 없다면 mask_num += 1\n",
        "  mask_num = 0\n",
        "  for j in range(len(json_data[\"annotations\"])):\n",
        "    if json_data[\"annotations\"][j][\"damage\"] == None:\n",
        "      mask_num += 1\n",
        "\n",
        "\n",
        "  img[img!=256] = 0\n",
        "\n",
        "  ## mask_num을 뺀 segmentation 정보까지만 사용하여 마스크 이미지 만들기\n",
        "  # segmentation 없으면 바로 저장\n",
        "  if len(json_data[\"annotations\"]) == mask_num:\n",
        "    # 마스크된 이미지는 이미지파일이름+mask 파일로 save_path 경로에 저장\n",
        "    cv2.imwrite(\"/content/drive/MyDrive/project_ai/sampled/masked/{}_mask.jpg\".format(file), img)\n",
        "  \n",
        "  # 있으면 파손 부위 라벨링링\n",
        "  else:\n",
        "    for i in range(len(json_data[\"annotations\"])-mask_num):\n",
        "      area = np.array(json_data[\"annotations\"][i][\"segmentation\"][0][0])\n",
        "      filled = cv2.fillPoly(img, pts = [area], color = (255, 255, 255))\n",
        "      # 마스크된 이미지는 이미지파일이름+mask 파일로 save_path 경로에 저장\n",
        "      cv2.imwrite(\"/content/drive/MyDrive/project_ai/sampled/masked/{}_mask.jpg\".format(file), filled)"
      ]
    },
    {
      "cell_type": "markdown",
      "metadata": {
        "id": "zzyrbcOKdzmw"
      },
      "source": [
        "## 이미지 리사이즈\n"
      ]
    },
    {
      "cell_type": "code",
      "execution_count": 17,
      "metadata": {
        "colab": {
          "base_uri": "https://localhost:8080/"
        },
        "id": "kKQ-aVyUs027",
        "outputId": "f29b493d-4756-439d-852e-93721376a8cb"
      },
      "outputs": [
        {
          "output_type": "stream",
          "name": "stdout",
          "text": [
            "1000\n"
          ]
        },
        {
          "output_type": "stream",
          "name": "stderr",
          "text": [
            "100%|██████████| 1000/1000 [00:27<00:00, 35.88it/s]\n"
          ]
        }
      ],
      "source": [
        "resize_jpg(\"/content/drive/MyDrive/project_ai/sampled/\", mask=False, w=512)"
      ]
    },
    {
      "cell_type": "code",
      "execution_count": 20,
      "metadata": {
        "id": "UksJP6ThFkpu",
        "colab": {
          "base_uri": "https://localhost:8080/"
        },
        "outputId": "4dc0a709-2dcd-467a-9dfe-8bdd8e1c0b4e"
      },
      "outputs": [
        {
          "output_type": "stream",
          "name": "stdout",
          "text": [
            "1000\n"
          ]
        },
        {
          "output_type": "stream",
          "name": "stderr",
          "text": [
            "100%|██████████| 1000/1000 [00:21<00:00, 47.20it/s]\n"
          ]
        }
      ],
      "source": [
        "resize_jpg(\"/content/drive/MyDrive/project_ai/sampled/\", mask=True, w=512)"
      ]
    },
    {
      "cell_type": "code",
      "execution_count": 21,
      "metadata": {
        "colab": {
          "base_uri": "https://localhost:8080/"
        },
        "id": "DgPdXO8ohUO3",
        "outputId": "6001a5de-c6e2-4709-e958-6af254c1ec28"
      },
      "outputs": [
        {
          "output_type": "stream",
          "name": "stdout",
          "text": [
            "dataset-x 파일 갯수 : 1000\n",
            "dataset-y 파일 갯수 : 1000\n"
          ]
        }
      ],
      "source": [
        "from glob import glob\n",
        "\n",
        "filepaths4 = list(glob('/content/drive/MyDrive/project_ai/sampled/resized/x/*.jpg'))\n",
        "filepaths5 = list(glob('/content/drive/MyDrive/project_ai/sampled/resized/y/*.jpg'))\n",
        "print(\"dataset-x 파일 갯수 : {}\".format(len(filepaths4)))\n",
        "print(\"dataset-y 파일 갯수 : {}\".format(len(filepaths5)))"
      ]
    },
    {
      "cell_type": "markdown",
      "metadata": {
        "id": "7aCk8NXMD5RO"
      },
      "source": [
        "# 사용할 데이터(이미지) 정리\n",
        "\n"
      ]
    },
    {
      "cell_type": "code",
      "source": [
        "from google.colab import drive\n",
        "drive.mount('/content/drive')"
      ],
      "metadata": {
        "colab": {
          "base_uri": "https://localhost:8080/"
        },
        "id": "LcIYyewA4ug_",
        "outputId": "3d5ba847-c8c2-463a-f222-c7035d9a330e"
      },
      "execution_count": 55,
      "outputs": [
        {
          "output_type": "stream",
          "name": "stdout",
          "text": [
            "Drive already mounted at /content/drive; to attempt to forcibly remount, call drive.mount(\"/content/drive\", force_remount=True).\n"
          ]
        }
      ]
    },
    {
      "cell_type": "code",
      "execution_count": 57,
      "metadata": {
        "id": "-PUU4hc9eLNS"
      },
      "outputs": [],
      "source": [
        "## 라이브러리 불러오기\n",
        "import os\n",
        "import numpy as np\n",
        "from PIL import Image\n",
        "import matplotlib.pyplot as plt\n",
        "from tqdm import notebook, tqdm"
      ]
    },
    {
      "cell_type": "code",
      "execution_count": 58,
      "metadata": {
        "id": "Ix-QconMeN72"
      },
      "outputs": [],
      "source": [
        "## 데이터 불러오기\n",
        "dir_data = '/content/drive/MyDrive/project_ai/sampled/' \n",
        "\n",
        "# 원본 이미지 (리사이즈 된)\n",
        "path_dir_x = '/content/drive/MyDrive/project_ai/sampled/resized/x/'\n",
        "file_list_x = os.listdir(path_dir_x)\n",
        "# 마스크 이미지 (리사이즈 된)\n",
        "path_dir_y = '/content/drive/MyDrive/project_ai/sampled/resized/y/'\n",
        "file_list_y = os.listdir(path_dir_y)"
      ]
    },
    {
      "cell_type": "code",
      "execution_count": 59,
      "metadata": {
        "id": "zqblR-sieQvZ"
      },
      "outputs": [],
      "source": [
        "# # 수정 필요함 \n",
        "# for jpg in file_list_x[0]:\n",
        "#     img_input = Image.open(path_dir_x + jpg)\n",
        "# for jpg in file_list_y[0]:\n",
        "#     img_label = Image.open(path_dir_y + jpg)\n",
        "\n",
        "img_label = Image.open(path_dir_y + file_list_y[0])"
      ]
    },
    {
      "cell_type": "code",
      "execution_count": 60,
      "metadata": {
        "id": "EFCzcl3LeTml"
      },
      "outputs": [],
      "source": [
        "# 이미지 사이즈 \n",
        "ny, nx = img_label.size\n",
        "# 이미지 갯수\n",
        "nframe = len(file_list_y)"
      ]
    },
    {
      "cell_type": "code",
      "execution_count": 61,
      "metadata": {
        "id": "6jUSWzCVCpYg"
      },
      "outputs": [],
      "source": [
        "## train/test/val 폴더 생성 (8/1/1 비율로 생성 ㅋㅋ)\n",
        "nframe_train = 800\n",
        "nframe_val = 100\n",
        "nframe_test = 100\n",
        "\n",
        "## train/test/val 폴더 경로 지정해주기\n",
        "dir_save_train = os.path.join(dir_data, 'train')\n",
        "dir_save_val = os.path.join(dir_data, 'val')\n",
        "dir_save_test = os.path.join(dir_data, 'test')\n",
        "\n",
        "## 만약 폴더가 없으면 생성하기\n",
        "if not os.path.exists(dir_save_train):\n",
        "    os.makedirs(dir_save_train)\n",
        "\n",
        "if not os.path.exists(dir_save_val):\n",
        "    os.makedirs(dir_save_val)\n",
        "\n",
        "if not os.path.exists(dir_save_test):\n",
        "    os.makedirs(dir_save_test)\n",
        "\n",
        "## 전체 이미지를 랜덤으로 섞어줌\n",
        "id_frame = np.arange(nframe)\n",
        "np.random.shuffle(id_frame)"
      ]
    },
    {
      "cell_type": "code",
      "execution_count": 27,
      "metadata": {
        "colab": {
          "base_uri": "https://localhost:8080/"
        },
        "id": "RhqEK9R7CrmO",
        "outputId": "08713e20-08c9-4fa8-aa68-c9c5aa522360"
      },
      "outputs": [
        {
          "output_type": "stream",
          "name": "stderr",
          "text": [
            "100%|██████████| 800/800 [00:13<00:00, 59.24it/s]\n"
          ]
        }
      ],
      "source": [
        "## 선택된 train 이미지를 npy 파일로 저장\n",
        "offset_nframe = 0\n",
        "\n",
        "for i in tqdm(range(nframe_train)):\n",
        "  jpg_x = file_list_x[id_frame[i + offset_nframe]]\n",
        "  img_input = Image.open(path_dir_x + jpg_x)\n",
        "  input_ = np.asarray(img_input)\n",
        "  jpg_x = jpg_x.split('.')[0]   # .jpg를 지우기 위해서\n",
        "  np.save(os.path.join(dir_save_train, 'input_%05d.npy' % i), input_)\n",
        "  \n",
        "  jpg_y = file_list_y[id_frame[i + offset_nframe]]\n",
        "  img_label = Image.open(path_dir_y + jpg_y)\n",
        "  label_ = np.asarray(img_label)\n",
        "  jpg_y = jpg_y.split('.')[0]   # .jpg를 지우기 위해서\n",
        "  np.save(os.path.join(dir_save_train, 'label_%05d.npy' % i), label_)"
      ]
    },
    {
      "cell_type": "code",
      "execution_count": 28,
      "metadata": {
        "id": "c8hl0TzwCtVr",
        "colab": {
          "base_uri": "https://localhost:8080/"
        },
        "outputId": "331ac63f-a8ad-4a88-a508-1e2982c699c6"
      },
      "outputs": [
        {
          "output_type": "stream",
          "name": "stderr",
          "text": [
            "100%|██████████| 100/100 [00:01<00:00, 66.87it/s]\n"
          ]
        }
      ],
      "source": [
        "## 선택된 val 이미지를 npy 파일로 저장\n",
        "offset_nframe = nframe_train\n",
        "\n",
        "for i in tqdm(range(nframe_val)):\n",
        "  jpg_x = file_list_x[id_frame[i + offset_nframe]]\n",
        "  img_input = Image.open(path_dir_x + jpg_x)\n",
        "  input_ = np.asarray(img_input)\n",
        "  jpg_x = jpg_x.split('.')[0]\n",
        "  np.save(os.path.join(dir_save_val, 'input_%05d.npy' % i), input_)\n",
        "  \n",
        "  jpg_y = file_list_y[id_frame[i + offset_nframe]]\n",
        "  img_label = Image.open(path_dir_y + jpg_y)\n",
        "  label_ = np.asarray(img_label)\n",
        "  jpg_y = jpg_y.split('.')[0]\n",
        "  np.save(os.path.join(dir_save_val, 'label_%05d.npy' % i), label_)"
      ]
    },
    {
      "cell_type": "code",
      "execution_count": 29,
      "metadata": {
        "id": "RcPPa-YNCuoP",
        "colab": {
          "base_uri": "https://localhost:8080/"
        },
        "outputId": "c1ca16d9-45f4-4344-ca6c-171caa05a03f"
      },
      "outputs": [
        {
          "output_type": "stream",
          "name": "stderr",
          "text": [
            "100%|██████████| 100/100 [00:01<00:00, 54.42it/s]\n"
          ]
        }
      ],
      "source": [
        "## 선택된 test 이미지를 npy 파일로 저장\n",
        "offset_nframe = nframe_train + nframe_val\n",
        "\n",
        "for i in tqdm(range(nframe_test)):\n",
        "  jpg_x = file_list_x[id_frame[i + offset_nframe]]\n",
        "  img_input = Image.open(path_dir_x + jpg_x)\n",
        "  input_ = np.asarray(img_input)\n",
        "  jpg_x = jpg_x.split('.')[0]\n",
        "  np.save(os.path.join(dir_save_test, 'input_%03d.npy' % i), input_)\n",
        "  \n",
        "  jpg_y = file_list_y[id_frame[i + offset_nframe]]\n",
        "  img_label = Image.open(path_dir_y + jpg_y)\n",
        "  label_ = np.asarray(img_label)\n",
        "  jpg_y = jpg_y.split('.')[0]\n",
        "  np.save(os.path.join(dir_save_test, 'label_%03d.npy' % i), label_)"
      ]
    },
    {
      "cell_type": "code",
      "source": [
        "jpg_x = file_list_x[50]\n",
        "img_input = Image.open(path_dir_x + jpg_x)\n",
        "input_ = np.asarray(img_input)\n",
        "\n",
        "jpg_y = file_list_y[50]\n",
        "img_label = Image.open(path_dir_y + jpg_y)\n",
        "label_ = np.asarray(img_label)"
      ],
      "metadata": {
        "id": "JKtJP6fIB68a"
      },
      "execution_count": 36,
      "outputs": []
    },
    {
      "cell_type": "code",
      "execution_count": 37,
      "metadata": {
        "id": "4YW6YnU7CvuB",
        "colab": {
          "base_uri": "https://localhost:8080/",
          "height": 216
        },
        "outputId": "4ea4c62b-5743-4be2-9ffc-a4c1b17d3781"
      },
      "outputs": [
        {
          "output_type": "display_data",
          "data": {
            "text/plain": [
              "<Figure size 432x288 with 2 Axes>"
            ],
            "image/png": "[encoded data removed]"
          },
          "metadata": {
            "needs_background": "light"
          }
        }
      ],
      "source": [
        "## 이미지 시각화\n",
        "\n",
        "plt.subplot(122)\n",
        "plt.imshow(label_, cmap='gray')\n",
        "plt.title('label')\n",
        "\n",
        "plt.subplot(121)\n",
        "plt.imshow(input_, cmap='gray')\n",
        "plt.title('input')\n",
        "\n",
        "plt.show()"
      ]
    },
    {
      "cell_type": "code",
      "execution_count": 38,
      "metadata": {
        "colab": {
          "base_uri": "https://localhost:8080/",
          "height": 297
        },
        "id": "J7Top26MCxHk",
        "outputId": "b6fc0293-9683-47bd-dbad-e1afc7e0e76b"
      },
      "outputs": [
        {
          "output_type": "display_data",
          "data": {
            "text/plain": [
              "<Figure size 432x288 with 2 Axes>"
            ],
            "image/png": "[encoded data removed]"
          },
          "metadata": {
            "needs_background": "light"
          }
        }
      ],
      "source": [
        "## 한 이미지의 분포\n",
        "\n",
        "plt.subplot(122)\n",
        "plt.hist(label_.flatten(), bins=20)\n",
        "plt.title('label')\n",
        "\n",
        "plt.subplot(121)\n",
        "plt.hist(input_.flatten(), bins=20)\n",
        "plt.title('input')\n",
        "\n",
        "plt.tight_layout()\n",
        "plt.show()"
      ]
    },
    {
      "cell_type": "markdown",
      "metadata": {
        "id": "zVoMpRUkENYd"
      },
      "source": [
        "# U-Net 네트워크 구축\n"
      ]
    },
    {
      "cell_type": "code",
      "execution_count": 62,
      "metadata": {
        "id": "fo12bGtx1g0A"
      },
      "outputs": [],
      "source": [
        "## 라이브러리 불러오기\n",
        "import os\n",
        "import numpy as np\n",
        "\n",
        "import torch\n",
        "import torch.nn as nn\n",
        "from torch.utils.data import DataLoader\n",
        "from torch.utils.tensorboard import SummaryWriter\n",
        "\n",
        "import matplotlib.pyplot as plt\n",
        "\n",
        "from torchvision import transforms, datasets"
      ]
    },
    {
      "cell_type": "code",
      "execution_count": 63,
      "metadata": {
        "id": "wOlJisWvCyeo"
      },
      "outputs": [],
      "source": [
        "## 네트워크 구축하기\n",
        "class UNet(nn.Module):\n",
        "    def __init__(self):\n",
        "        super(UNet, self).__init__()\n",
        "\n",
        "        # Convolution + BatchNormalization + Relu 정의하기\n",
        "        def CBR2d(in_channels, out_channels, kernel_size=3, stride=1, padding=1, bias=True): \n",
        "            layers = []\n",
        "            layers += [nn.Conv2d(in_channels=in_channels, out_channels=out_channels,\n",
        "                                 kernel_size=kernel_size, stride=stride, padding=padding,\n",
        "                                 bias=bias)]\n",
        "            layers += [nn.BatchNorm2d(num_features=out_channels)]\n",
        "            layers += [nn.ReLU()]\n",
        "\n",
        "            cbr = nn.Sequential(*layers)\n",
        "\n",
        "            return cbr\n",
        "\n",
        "        # 수축 경로(Contracting path)\n",
        "        self.enc1_1 = CBR2d(in_channels=1, out_channels=64)\n",
        "        self.enc1_2 = CBR2d(in_channels=64, out_channels=64)\n",
        "\n",
        "        self.pool1 = nn.MaxPool2d(kernel_size=2)\n",
        "\n",
        "        self.enc2_1 = CBR2d(in_channels=64, out_channels=128)\n",
        "        self.enc2_2 = CBR2d(in_channels=128, out_channels=128)\n",
        "\n",
        "        self.pool2 = nn.MaxPool2d(kernel_size=2)\n",
        "\n",
        "        self.enc3_1 = CBR2d(in_channels=128, out_channels=256)\n",
        "        self.enc3_2 = CBR2d(in_channels=256, out_channels=256)\n",
        "\n",
        "        self.pool3 = nn.MaxPool2d(kernel_size=2)\n",
        "\n",
        "        self.enc4_1 = CBR2d(in_channels=256, out_channels=512)\n",
        "        self.enc4_2 = CBR2d(in_channels=512, out_channels=512)\n",
        "\n",
        "        self.pool4 = nn.MaxPool2d(kernel_size=2)\n",
        "\n",
        "        self.enc5_1 = CBR2d(in_channels=512, out_channels=1024)\n",
        "\n",
        "        # 확장 경로(Expansive path)\n",
        "        self.dec5_1 = CBR2d(in_channels=1024, out_channels=512)\n",
        "\n",
        "        self.unpool4 = nn.ConvTranspose2d(in_channels=512, out_channels=512,\n",
        "                                          kernel_size=2, stride=2, padding=0, bias=True)\n",
        "\n",
        "        self.dec4_2 = CBR2d(in_channels=2 * 512, out_channels=512)\n",
        "        self.dec4_1 = CBR2d(in_channels=512, out_channels=256)\n",
        "\n",
        "        self.unpool3 = nn.ConvTranspose2d(in_channels=256, out_channels=256,\n",
        "                                          kernel_size=2, stride=2, padding=0, bias=True)\n",
        "\n",
        "        self.dec3_2 = CBR2d(in_channels=2 * 256, out_channels=256)\n",
        "        self.dec3_1 = CBR2d(in_channels=256, out_channels=128)\n",
        "\n",
        "        self.unpool2 = nn.ConvTranspose2d(in_channels=128, out_channels=128,\n",
        "                                          kernel_size=2, stride=2, padding=0, bias=True)\n",
        "\n",
        "        self.dec2_2 = CBR2d(in_channels=2 * 128, out_channels=128)\n",
        "        self.dec2_1 = CBR2d(in_channels=128, out_channels=64)\n",
        "\n",
        "        self.unpool1 = nn.ConvTranspose2d(in_channels=64, out_channels=64,\n",
        "                                          kernel_size=2, stride=2, padding=0, bias=True)\n",
        "\n",
        "        self.dec1_2 = CBR2d(in_channels=2 * 64, out_channels=64)\n",
        "        self.dec1_1 = CBR2d(in_channels=64, out_channels=64)\n",
        "\n",
        "        self.fc = nn.Conv2d(in_channels=64, out_channels=1, kernel_size=1, stride=1, padding=0, bias=True)\n",
        "    \n",
        "    # forward 함수 정의하기\n",
        "    def forward(self, x):\n",
        "        enc1_1 = self.enc1_1(x)\n",
        "        enc1_2 = self.enc1_2(enc1_1)\n",
        "        pool1 = self.pool1(enc1_2)\n",
        "\n",
        "        enc2_1 = self.enc2_1(pool1)\n",
        "        enc2_2 = self.enc2_2(enc2_1)\n",
        "        pool2 = self.pool2(enc2_2)\n",
        "\n",
        "        enc3_1 = self.enc3_1(pool2)\n",
        "        enc3_2 = self.enc3_2(enc3_1)\n",
        "        pool3 = self.pool3(enc3_2)\n",
        "\n",
        "        enc4_1 = self.enc4_1(pool3)\n",
        "        enc4_2 = self.enc4_2(enc4_1)\n",
        "        pool4 = self.pool4(enc4_2)\n",
        "\n",
        "        enc5_1 = self.enc5_1(pool4)\n",
        "\n",
        "        dec5_1 = self.dec5_1(enc5_1)\n",
        "\n",
        "        unpool4 = self.unpool4(dec5_1)\n",
        "        cat4 = torch.cat((unpool4, enc4_2), dim=1)\n",
        "        dec4_2 = self.dec4_2(cat4)\n",
        "        dec4_1 = self.dec4_1(dec4_2)\n",
        "\n",
        "        unpool3 = self.unpool3(dec4_1)\n",
        "        cat3 = torch.cat((unpool3, enc3_2), dim=1)\n",
        "        dec3_2 = self.dec3_2(cat3)\n",
        "        dec3_1 = self.dec3_1(dec3_2)\n",
        "\n",
        "        unpool2 = self.unpool2(dec3_1)\n",
        "        cat2 = torch.cat((unpool2, enc2_2), dim=1)\n",
        "        dec2_2 = self.dec2_2(cat2)\n",
        "        dec2_1 = self.dec2_1(dec2_2)\n",
        "\n",
        "        unpool1 = self.unpool1(dec2_1)\n",
        "        cat1 = torch.cat((unpool1, enc1_2), dim=1)\n",
        "        dec1_2 = self.dec1_2(cat1)\n",
        "        dec1_1 = self.dec1_1(dec1_2)\n",
        "\n",
        "        x = self.fc(dec1_1)\n",
        "\n",
        "        return x"
      ]
    },
    {
      "cell_type": "markdown",
      "metadata": {
        "id": "b_X_NNorEe68"
      },
      "source": [
        "# DataLoader"
      ]
    },
    {
      "cell_type": "code",
      "execution_count": 64,
      "metadata": {
        "id": "adppUStIEisr"
      },
      "outputs": [],
      "source": [
        "# 데이터 로더를 구현하기\n",
        "class Dataset(torch.utils.data.Dataset):\n",
        "    def __init__(self, data_dir, transform=None):\n",
        "        self.data_dir = data_dir\n",
        "        self.transform = transform\n",
        "\n",
        "        lst_data = os.listdir(self.data_dir)\n",
        "\n",
        "        lst_label = [f for f in lst_data if f.startswith('label')]\n",
        "        lst_input = [f for f in lst_data if f.startswith('input')]\n",
        "\n",
        "        lst_label.sort()\n",
        "        lst_input.sort()\n",
        "\n",
        "        self.lst_label = lst_label\n",
        "        self.lst_input = lst_input\n",
        "\n",
        "    def __len__(self):\n",
        "        return len(self.lst_label)\n",
        "\n",
        "    def __getitem__(self, index):\n",
        "        label = np.load(os.path.join(self.data_dir, self.lst_label[index]))\n",
        "        input = np.load(os.path.join(self.data_dir, self.lst_input[index]))\n",
        "\n",
        "        # 정규화\n",
        "        label = label/255.0\n",
        "        input = input/255.0\n",
        "\n",
        "        # 이미지와 레이블의 차원 = 2일 경우(채널이 없을 경우, 흑백 이미지), 새로운 채널(축) 생성\n",
        "        if label.ndim == 2:\n",
        "            label = label[:, :, np.newaxis]\n",
        "            # label = np.repeat(label[:,:,np.newaxis],3,-1) # 세 번째 차원의 수가 3개 (컬러를 말함)\n",
        "        if input.ndim == 2:\n",
        "            input = input[:, :, np.newaxis]\n",
        "\n",
        "        data = {'input': input, 'label': label}\n",
        "\n",
        "        # transform이 정의되어 있다면 transform을 거친 데이터를 불러옴\n",
        "        if self.transform:\n",
        "            data = self.transform(data)\n",
        "\n",
        "        return data"
      ]
    },
    {
      "cell_type": "code",
      "execution_count": 42,
      "metadata": {
        "colab": {
          "base_uri": "https://localhost:8080/"
        },
        "id": "ScBS0OH5Emr7",
        "outputId": "208c0fc5-8736-4e00-f81a-d2537dd39754"
      },
      "outputs": [
        {
          "output_type": "stream",
          "name": "stdout",
          "text": [
            "X 이미지 Shape : (512, 512)\n",
            "Y 이미지 Shape : (512, 512)\n"
          ]
        }
      ],
      "source": [
        "## 데이터 Shape 확인해보기\n",
        "\n",
        "print(\"X 이미지 Shape : {}\".format(input_.shape))\n",
        "print(\"Y 이미지 Shape : {}\".format(label_.shape))"
      ]
    },
    {
      "cell_type": "code",
      "execution_count": 65,
      "metadata": {
        "id": "kk1QXXeJC638"
      },
      "outputs": [],
      "source": [
        "## 데이터로더 잘 구현되었는지 확인\n",
        "\n",
        "dataset_train = Dataset(data_dir=dir_save_train)\n",
        "data = dataset_train.__getitem__(0) # 한 이미지 불러오기\n",
        "input = data['input']\n",
        "label = data['label']"
      ]
    },
    {
      "cell_type": "code",
      "source": [
        "## 데이터 Shape 확인해보기\n",
        "\n",
        "print(\"X 이미지 Shape : {}\".format(input.shape))\n",
        "print(\"Y 이미지 Shape : {}\".format(label.shape))"
      ],
      "metadata": {
        "colab": {
          "base_uri": "https://localhost:8080/"
        },
        "id": "CLkCkVixEEvP",
        "outputId": "bc98ad18-bbdc-4781-eb99-ab7b16596838"
      },
      "execution_count": 44,
      "outputs": [
        {
          "output_type": "stream",
          "name": "stdout",
          "text": [
            "X 이미지 Shape : (512, 512, 1)\n",
            "Y 이미지 Shape : (512, 512, 1)\n"
          ]
        }
      ]
    },
    {
      "cell_type": "code",
      "execution_count": 45,
      "metadata": {
        "colab": {
          "base_uri": "https://localhost:8080/",
          "height": 216
        },
        "id": "Hfvf9ZZ-DAHx",
        "outputId": "8b376e15-84a7-4430-8d39-a59731d9c89f"
      },
      "outputs": [
        {
          "output_type": "display_data",
          "data": {
            "text/plain": [
              "<Figure size 432x288 with 2 Axes>"
            ],
            "image/png": "[encoded data removed]"
          },
          "metadata": {
            "needs_background": "light"
          }
        }
      ],
      "source": [
        "# 불러온 이미지 시각화\n",
        "\n",
        "plt.subplot(122)\n",
        "plt.imshow(label.reshape(512, 512), cmap='gray')\n",
        "plt.title('label')\n",
        "\n",
        "plt.subplot(121)\n",
        "plt.imshow(input.reshape(512, 512), cmap='gray')\n",
        "plt.title('input')\n",
        "\n",
        "plt.show()"
      ]
    },
    {
      "cell_type": "markdown",
      "metadata": {
        "id": "6qM0_v5LE91Z"
      },
      "source": [
        "# Transform"
      ]
    },
    {
      "cell_type": "code",
      "execution_count": 66,
      "metadata": {
        "id": "18xWydEWE9MZ"
      },
      "outputs": [],
      "source": [
        "# 트렌스폼 구현하기\n",
        "class ToTensor(object):\n",
        "    def __call__(self, data):\n",
        "        label, input = data['label'], data['input']\n",
        "\n",
        "        # 배열 순서 바꿈 픽셀컬러 정보를 맨 앞으로\n",
        "        label = label.transpose((2, 0, 1)).astype(np.float32)\n",
        "        input = input.transpose((2, 0, 1)).astype(np.float32)\n",
        "\n",
        "        data = {'label': torch.from_numpy(label), 'input': torch.from_numpy(input)}\n",
        "\n",
        "        return data\n",
        "\n",
        "## 정규화\n",
        "class Normalization(object):\n",
        "    def __init__(self, mean=0.5, std=0.5):\n",
        "        self.mean = mean\n",
        "        self.std = std\n",
        "\n",
        "    def __call__(self, data):\n",
        "        label, input = data['label'], data['input']\n",
        "\n",
        "        input = (input - self.mean) / self.std\n",
        "\n",
        "        data = {'label': label, 'input': input}\n",
        "\n",
        "        return data\n",
        "\n",
        "class RandomFlip(object):\n",
        "    def __call__(self, data):\n",
        "        label, input = data['label'], data['input']\n",
        "\n",
        "        if np.random.rand() > 0.5:\n",
        "            label = np.fliplr(label)\n",
        "            input = np.fliplr(input)\n",
        "\n",
        "        if np.random.rand() > 0.5:\n",
        "            label = np.flipud(label)\n",
        "            input = np.flipud(input)\n",
        "\n",
        "        data = {'label': label, 'input': input}\n",
        "\n",
        "        return data"
      ]
    },
    {
      "cell_type": "code",
      "execution_count": 67,
      "metadata": {
        "id": "KW18OXByDBR4"
      },
      "outputs": [],
      "source": [
        "## 트랜스폼 잘 구현되었는지 확인\n",
        "transform = transforms.Compose([Normalization(mean=0.5, std=0.5), RandomFlip(), ToTensor()])\n",
        "dataset_train = Dataset(data_dir=dir_save_train, transform=transform)\n",
        "data = dataset_train.__getitem__(0) # 한 이미지 불러오기\n",
        "input = data['input']\n",
        "label = data['label']"
      ]
    },
    {
      "cell_type": "code",
      "source": [
        "## 데이터 Shape 확인해보기\n",
        "\n",
        "print(\"X 이미지 Shape : {}\".format(input.shape))\n",
        "print(\"Y 이미지 Shape : {}\".format(label.shape))"
      ],
      "metadata": {
        "colab": {
          "base_uri": "https://localhost:8080/"
        },
        "id": "Wx5fkoxZEQDv",
        "outputId": "3c8b6118-8ba0-4ad7-c8f6-e8ed7210a929"
      },
      "execution_count": 48,
      "outputs": [
        {
          "output_type": "stream",
          "name": "stdout",
          "text": [
            "X 이미지 Shape : torch.Size([1, 512, 512])\n",
            "Y 이미지 Shape : torch.Size([1, 512, 512])\n"
          ]
        }
      ]
    },
    {
      "cell_type": "code",
      "execution_count": 49,
      "metadata": {
        "colab": {
          "base_uri": "https://localhost:8080/",
          "height": 297
        },
        "id": "TI41xsey2Nst",
        "outputId": "6dc1c38f-a740-4c8b-d785-357af78aaf56"
      },
      "outputs": [
        {
          "output_type": "display_data",
          "data": {
            "text/plain": [
              "<Figure size 432x288 with 2 Axes>"
            ],
            "image/png": "[encoded data removed]"
          },
          "metadata": {
            "needs_background": "light"
          }
        }
      ],
      "source": [
        "## 불러온 이미지 시각화\n",
        "plt.subplot(122)\n",
        "plt.hist(label.flatten(), bins=20)\n",
        "plt.title('label')\n",
        "\n",
        "plt.subplot(121)\n",
        "plt.hist(input.flatten(), bins=20)\n",
        "plt.title('input')\n",
        "\n",
        "plt.tight_layout()\n",
        "plt.show()"
      ]
    },
    {
      "cell_type": "markdown",
      "metadata": {
        "id": "02G0n8l0FH25"
      },
      "source": [
        "# Network 저장 & 호출"
      ]
    },
    {
      "cell_type": "code",
      "execution_count": 68,
      "metadata": {
        "id": "4dCdCyTcFK54"
      },
      "outputs": [],
      "source": [
        "## 네트워크 저장하기\n",
        "def save(ckpt_dir, net, optim, epoch):\n",
        "    if not os.path.exists(ckpt_dir):\n",
        "        os.makedirs(ckpt_dir)\n",
        "\n",
        "    torch.save({'net': net.state_dict(), 'optim': optim.state_dict()},\n",
        "               \"%s/model_epoch%d.pth\" % (ckpt_dir, epoch))"
      ]
    },
    {
      "cell_type": "code",
      "execution_count": 69,
      "metadata": {
        "id": "YsUJEuHMFN3w"
      },
      "outputs": [],
      "source": [
        "## 네트워크 불러오기\n",
        "def load(ckpt_dir, net, optim):\n",
        "    if not os.path.exists(ckpt_dir):\n",
        "        epoch = 0\n",
        "        return net, optim, epoch\n",
        "\n",
        "    ckpt_lst = os.listdir(ckpt_dir)\n",
        "    ckpt_lst.sort(key=lambda f: int(''.join(filter(str.isdigit, f))))\n",
        "\n",
        "    dict_model = torch.load('%s/%s' % (ckpt_dir, ckpt_lst[-1]))\n",
        "\n",
        "    net.load_state_dict(dict_model['net'])\n",
        "    optim.load_state_dict(dict_model['optim'])\n",
        "    epoch = int(ckpt_lst[-1].split('epoch')[1].split('.pth')[0])\n",
        "\n",
        "    return net, optim, epoch"
      ]
    },
    {
      "cell_type": "markdown",
      "metadata": {
        "id": "JnhoPQtXFPmB"
      },
      "source": [
        "# Network 훈련"
      ]
    },
    {
      "cell_type": "code",
      "execution_count": 70,
      "metadata": {
        "colab": {
          "base_uri": "https://localhost:8080/"
        },
        "id": "w0pq6bReDDnM",
        "outputId": "fd4df3cc-fee2-4db0-b4a0-44be73467757"
      },
      "outputs": [
        {
          "output_type": "stream",
          "name": "stdout",
          "text": [
            "TRAIN: EPOCH 0001 / 0005 | BATCH 0001 / 0200 | LOSS 0.5953\n",
            "TRAIN: EPOCH 0001 / 0005 | BATCH 0002 / 0200 | LOSS 0.5866\n",
            "TRAIN: EPOCH 0001 / 0005 | BATCH 0003 / 0200 | LOSS 0.5746\n",
            "TRAIN: EPOCH 0001 / 0005 | BATCH 0004 / 0200 | LOSS 0.5563\n",
            "TRAIN: EPOCH 0001 / 0005 | BATCH 0005 / 0200 | LOSS 0.5409\n",
            "TRAIN: EPOCH 0001 / 0005 | BATCH 0006 / 0200 | LOSS 0.5268\n",
            "TRAIN: EPOCH 0001 / 0005 | BATCH 0007 / 0200 | LOSS 0.5141\n",
            "TRAIN: EPOCH 0001 / 0005 | BATCH 0008 / 0200 | LOSS 0.5002\n",
            "TRAIN: EPOCH 0001 / 0005 | BATCH 0009 / 0200 | LOSS 0.4869\n",
            "TRAIN: EPOCH 0001 / 0005 | BATCH 0010 / 0200 | LOSS 0.4771\n",
            "TRAIN: EPOCH 0001 / 0005 | BATCH 0011 / 0200 | LOSS 0.4666\n",
            "TRAIN: EPOCH 0001 / 0005 | BATCH 0012 / 0200 | LOSS 0.4591\n",
            "TRAIN: EPOCH 0001 / 0005 | BATCH 0013 / 0200 | LOSS 0.4490\n",
            "TRAIN: EPOCH 0001 / 0005 | BATCH 0014 / 0200 | LOSS 0.4439\n",
            "TRAIN: EPOCH 0001 / 0005 | BATCH 0015 / 0200 | LOSS 0.4329\n",
            "TRAIN: EPOCH 0001 / 0005 | BATCH 0016 / 0200 | LOSS 0.4259\n",
            "TRAIN: EPOCH 0001 / 0005 | BATCH 0017 / 0200 | LOSS 0.4170\n",
            "TRAIN: EPOCH 0001 / 0005 | BATCH 0018 / 0200 | LOSS 0.4101\n",
            "TRAIN: EPOCH 0001 / 0005 | BATCH 0019 / 0200 | LOSS 0.4046\n",
            "TRAIN: EPOCH 0001 / 0005 | BATCH 0020 / 0200 | LOSS 0.3973\n",
            "TRAIN: EPOCH 0001 / 0005 | BATCH 0021 / 0200 | LOSS 0.3934\n",
            "TRAIN: EPOCH 0001 / 0005 | BATCH 0022 / 0200 | LOSS 0.3865\n",
            "TRAIN: EPOCH 0001 / 0005 | BATCH 0023 / 0200 | LOSS 0.3805\n",
            "TRAIN: EPOCH 0001 / 0005 | BATCH 0024 / 0200 | LOSS 0.3768\n",
            "TRAIN: EPOCH 0001 / 0005 | BATCH 0025 / 0200 | LOSS 0.3718\n",
            "TRAIN: EPOCH 0001 / 0005 | BATCH 0026 / 0200 | LOSS 0.3678\n",
            "TRAIN: EPOCH 0001 / 0005 | BATCH 0027 / 0200 | LOSS 0.3634\n",
            "TRAIN: EPOCH 0001 / 0005 | BATCH 0028 / 0200 | LOSS 0.3575\n",
            "TRAIN: EPOCH 0001 / 0005 | BATCH 0029 / 0200 | LOSS 0.3533\n",
            "TRAIN: EPOCH 0001 / 0005 | BATCH 0030 / 0200 | LOSS 0.3491\n",
            "TRAIN: EPOCH 0001 / 0005 | BATCH 0031 / 0200 | LOSS 0.3458\n",
            "TRAIN: EPOCH 0001 / 0005 | BATCH 0032 / 0200 | LOSS 0.3432\n",
            "TRAIN: EPOCH 0001 / 0005 | BATCH 0033 / 0200 | LOSS 0.3394\n",
            "TRAIN: EPOCH 0001 / 0005 | BATCH 0034 / 0200 | LOSS 0.3404\n",
            "TRAIN: EPOCH 0001 / 0005 | BATCH 0035 / 0200 | LOSS 0.3362\n",
            "TRAIN: EPOCH 0001 / 0005 | BATCH 0036 / 0200 | LOSS 0.3320\n",
            "TRAIN: EPOCH 0001 / 0005 | BATCH 0037 / 0200 | LOSS 0.3281\n",
            "TRAIN: EPOCH 0001 / 0005 | BATCH 0038 / 0200 | LOSS 0.3264\n",
            "TRAIN: EPOCH 0001 / 0005 | BATCH 0039 / 0200 | LOSS 0.3266\n",
            "TRAIN: EPOCH 0001 / 0005 | BATCH 0040 / 0200 | LOSS 0.3257\n",
            "TRAIN: EPOCH 0001 / 0005 | BATCH 0041 / 0200 | LOSS 0.3237\n",
            "TRAIN: EPOCH 0001 / 0005 | BATCH 0042 / 0200 | LOSS 0.3224\n",
            "TRAIN: EPOCH 0001 / 0005 | BATCH 0043 / 0200 | LOSS 0.3196\n",
            "TRAIN: EPOCH 0001 / 0005 | BATCH 0044 / 0200 | LOSS 0.3185\n",
            "TRAIN: EPOCH 0001 / 0005 | BATCH 0045 / 0200 | LOSS 0.3155\n",
            "TRAIN: EPOCH 0001 / 0005 | BATCH 0046 / 0200 | LOSS 0.3146\n",
            "TRAIN: EPOCH 0001 / 0005 | BATCH 0047 / 0200 | LOSS 0.3131\n",
            "TRAIN: EPOCH 0001 / 0005 | BATCH 0048 / 0200 | LOSS 0.3097\n",
            "TRAIN: EPOCH 0001 / 0005 | BATCH 0049 / 0200 | LOSS 0.3072\n",
            "TRAIN: EPOCH 0001 / 0005 | BATCH 0050 / 0200 | LOSS 0.3045\n",
            "TRAIN: EPOCH 0001 / 0005 | BATCH 0051 / 0200 | LOSS 0.3017\n",
            "TRAIN: EPOCH 0001 / 0005 | BATCH 0052 / 0200 | LOSS 0.2998\n",
            "TRAIN: EPOCH 0001 / 0005 | BATCH 0053 / 0200 | LOSS 0.2976\n",
            "TRAIN: EPOCH 0001 / 0005 | BATCH 0054 / 0200 | LOSS 0.2976\n",
            "TRAIN: EPOCH 0001 / 0005 | BATCH 0055 / 0200 | LOSS 0.2975\n",
            "TRAIN: EPOCH 0001 / 0005 | BATCH 0056 / 0200 | LOSS 0.2952\n",
            "TRAIN: EPOCH 0001 / 0005 | BATCH 0057 / 0200 | LOSS 0.2923\n",
            "TRAIN: EPOCH 0001 / 0005 | BATCH 0058 / 0200 | LOSS 0.2899\n",
            "TRAIN: EPOCH 0001 / 0005 | BATCH 0059 / 0200 | LOSS 0.2891\n",
            "TRAIN: EPOCH 0001 / 0005 | BATCH 0060 / 0200 | LOSS 0.2893\n",
            "TRAIN: EPOCH 0001 / 0005 | BATCH 0061 / 0200 | LOSS 0.2873\n",
            "TRAIN: EPOCH 0001 / 0005 | BATCH 0062 / 0200 | LOSS 0.2849\n",
            "TRAIN: EPOCH 0001 / 0005 | BATCH 0063 / 0200 | LOSS 0.2827\n",
            "TRAIN: EPOCH 0001 / 0005 | BATCH 0064 / 0200 | LOSS 0.2808\n",
            "TRAIN: EPOCH 0001 / 0005 | BATCH 0065 / 0200 | LOSS 0.2787\n",
            "TRAIN: EPOCH 0001 / 0005 | BATCH 0066 / 0200 | LOSS 0.2772\n",
            "TRAIN: EPOCH 0001 / 0005 | BATCH 0067 / 0200 | LOSS 0.2752\n",
            "TRAIN: EPOCH 0001 / 0005 | BATCH 0068 / 0200 | LOSS 0.2733\n",
            "TRAIN: EPOCH 0001 / 0005 | BATCH 0069 / 0200 | LOSS 0.2713\n",
            "TRAIN: EPOCH 0001 / 0005 | BATCH 0070 / 0200 | LOSS 0.2704\n",
            "TRAIN: EPOCH 0001 / 0005 | BATCH 0071 / 0200 | LOSS 0.2690\n",
            "TRAIN: EPOCH 0001 / 0005 | BATCH 0072 / 0200 | LOSS 0.2677\n",
            "TRAIN: EPOCH 0001 / 0005 | BATCH 0073 / 0200 | LOSS 0.2665\n",
            "TRAIN: EPOCH 0001 / 0005 | BATCH 0074 / 0200 | LOSS 0.2653\n",
            "TRAIN: EPOCH 0001 / 0005 | BATCH 0075 / 0200 | LOSS 0.2643\n",
            "TRAIN: EPOCH 0001 / 0005 | BATCH 0076 / 0200 | LOSS 0.2622\n",
            "TRAIN: EPOCH 0001 / 0005 | BATCH 0077 / 0200 | LOSS 0.2604\n",
            "TRAIN: EPOCH 0001 / 0005 | BATCH 0078 / 0200 | LOSS 0.2589\n",
            "TRAIN: EPOCH 0001 / 0005 | BATCH 0079 / 0200 | LOSS 0.2570\n",
            "TRAIN: EPOCH 0001 / 0005 | BATCH 0080 / 0200 | LOSS 0.2563\n",
            "TRAIN: EPOCH 0001 / 0005 | BATCH 0081 / 0200 | LOSS 0.2558\n",
            "TRAIN: EPOCH 0001 / 0005 | BATCH 0082 / 0200 | LOSS 0.2549\n",
            "TRAIN: EPOCH 0001 / 0005 | BATCH 0083 / 0200 | LOSS 0.2528\n",
            "TRAIN: EPOCH 0001 / 0005 | BATCH 0084 / 0200 | LOSS 0.2512\n",
            "TRAIN: EPOCH 0001 / 0005 | BATCH 0085 / 0200 | LOSS 0.2501\n",
            "TRAIN: EPOCH 0001 / 0005 | BATCH 0086 / 0200 | LOSS 0.2490\n",
            "TRAIN: EPOCH 0001 / 0005 | BATCH 0087 / 0200 | LOSS 0.2491\n",
            "TRAIN: EPOCH 0001 / 0005 | BATCH 0088 / 0200 | LOSS 0.2507\n",
            "TRAIN: EPOCH 0001 / 0005 | BATCH 0089 / 0200 | LOSS 0.2497\n",
            "TRAIN: EPOCH 0001 / 0005 | BATCH 0090 / 0200 | LOSS 0.2484\n",
            "TRAIN: EPOCH 0001 / 0005 | BATCH 0091 / 0200 | LOSS 0.2475\n",
            "TRAIN: EPOCH 0001 / 0005 | BATCH 0092 / 0200 | LOSS 0.2472\n",
            "TRAIN: EPOCH 0001 / 0005 | BATCH 0093 / 0200 | LOSS 0.2473\n",
            "TRAIN: EPOCH 0001 / 0005 | BATCH 0094 / 0200 | LOSS 0.2459\n",
            "TRAIN: EPOCH 0001 / 0005 | BATCH 0095 / 0200 | LOSS 0.2450\n",
            "TRAIN: EPOCH 0001 / 0005 | BATCH 0096 / 0200 | LOSS 0.2450\n",
            "TRAIN: EPOCH 0001 / 0005 | BATCH 0097 / 0200 | LOSS 0.2460\n",
            "TRAIN: EPOCH 0001 / 0005 | BATCH 0098 / 0200 | LOSS 0.2457\n",
            "TRAIN: EPOCH 0001 / 0005 | BATCH 0099 / 0200 | LOSS 0.2468\n",
            "TRAIN: EPOCH 0001 / 0005 | BATCH 0100 / 0200 | LOSS 0.2452\n",
            "TRAIN: EPOCH 0001 / 0005 | BATCH 0101 / 0200 | LOSS 0.2463\n",
            "TRAIN: EPOCH 0001 / 0005 | BATCH 0102 / 0200 | LOSS 0.2454\n",
            "TRAIN: EPOCH 0001 / 0005 | BATCH 0103 / 0200 | LOSS 0.2449\n",
            "TRAIN: EPOCH 0001 / 0005 | BATCH 0104 / 0200 | LOSS 0.2446\n",
            "TRAIN: EPOCH 0001 / 0005 | BATCH 0105 / 0200 | LOSS 0.2445\n",
            "TRAIN: EPOCH 0001 / 0005 | BATCH 0106 / 0200 | LOSS 0.2443\n",
            "TRAIN: EPOCH 0001 / 0005 | BATCH 0107 / 0200 | LOSS 0.2436\n",
            "TRAIN: EPOCH 0001 / 0005 | BATCH 0108 / 0200 | LOSS 0.2426\n",
            "TRAIN: EPOCH 0001 / 0005 | BATCH 0109 / 0200 | LOSS 0.2428\n",
            "TRAIN: EPOCH 0001 / 0005 | BATCH 0110 / 0200 | LOSS 0.2419\n",
            "TRAIN: EPOCH 0001 / 0005 | BATCH 0111 / 0200 | LOSS 0.2428\n",
            "TRAIN: EPOCH 0001 / 0005 | BATCH 0112 / 0200 | LOSS 0.2418\n",
            "TRAIN: EPOCH 0001 / 0005 | BATCH 0113 / 0200 | LOSS 0.2426\n",
            "TRAIN: EPOCH 0001 / 0005 | BATCH 0114 / 0200 | LOSS 0.2415\n",
            "TRAIN: EPOCH 0001 / 0005 | BATCH 0115 / 0200 | LOSS 0.2405\n",
            "TRAIN: EPOCH 0001 / 0005 | BATCH 0116 / 0200 | LOSS 0.2410\n",
            "TRAIN: EPOCH 0001 / 0005 | BATCH 0117 / 0200 | LOSS 0.2398\n",
            "TRAIN: EPOCH 0001 / 0005 | BATCH 0118 / 0200 | LOSS 0.2396\n",
            "TRAIN: EPOCH 0001 / 0005 | BATCH 0119 / 0200 | LOSS 0.2385\n",
            "TRAIN: EPOCH 0001 / 0005 | BATCH 0120 / 0200 | LOSS 0.2373\n",
            "TRAIN: EPOCH 0001 / 0005 | BATCH 0121 / 0200 | LOSS 0.2364\n",
            "TRAIN: EPOCH 0001 / 0005 | BATCH 0122 / 0200 | LOSS 0.2351\n",
            "TRAIN: EPOCH 0001 / 0005 | BATCH 0123 / 0200 | LOSS 0.2342\n",
            "TRAIN: EPOCH 0001 / 0005 | BATCH 0124 / 0200 | LOSS 0.2331\n",
            "TRAIN: EPOCH 0001 / 0005 | BATCH 0125 / 0200 | LOSS 0.2333\n",
            "TRAIN: EPOCH 0001 / 0005 | BATCH 0126 / 0200 | LOSS 0.2328\n",
            "TRAIN: EPOCH 0001 / 0005 | BATCH 0127 / 0200 | LOSS 0.2330\n",
            "TRAIN: EPOCH 0001 / 0005 | BATCH 0128 / 0200 | LOSS 0.2326\n",
            "TRAIN: EPOCH 0001 / 0005 | BATCH 0129 / 0200 | LOSS 0.2334\n",
            "TRAIN: EPOCH 0001 / 0005 | BATCH 0130 / 0200 | LOSS 0.2329\n",
            "TRAIN: EPOCH 0001 / 0005 | BATCH 0131 / 0200 | LOSS 0.2328\n",
            "TRAIN: EPOCH 0001 / 0005 | BATCH 0132 / 0200 | LOSS 0.2322\n",
            "TRAIN: EPOCH 0001 / 0005 | BATCH 0133 / 0200 | LOSS 0.2326\n",
            "TRAIN: EPOCH 0001 / 0005 | BATCH 0134 / 0200 | LOSS 0.2324\n",
            "TRAIN: EPOCH 0001 / 0005 | BATCH 0135 / 0200 | LOSS 0.2340\n",
            "TRAIN: EPOCH 0001 / 0005 | BATCH 0136 / 0200 | LOSS 0.2335\n",
            "TRAIN: EPOCH 0001 / 0005 | BATCH 0137 / 0200 | LOSS 0.2327\n",
            "TRAIN: EPOCH 0001 / 0005 | BATCH 0138 / 0200 | LOSS 0.2317\n",
            "TRAIN: EPOCH 0001 / 0005 | BATCH 0139 / 0200 | LOSS 0.2305\n",
            "TRAIN: EPOCH 0001 / 0005 | BATCH 0140 / 0200 | LOSS 0.2295\n",
            "TRAIN: EPOCH 0001 / 0005 | BATCH 0141 / 0200 | LOSS 0.2292\n",
            "TRAIN: EPOCH 0001 / 0005 | BATCH 0142 / 0200 | LOSS 0.2287\n",
            "TRAIN: EPOCH 0001 / 0005 | BATCH 0143 / 0200 | LOSS 0.2290\n",
            "TRAIN: EPOCH 0001 / 0005 | BATCH 0144 / 0200 | LOSS 0.2281\n",
            "TRAIN: EPOCH 0001 / 0005 | BATCH 0145 / 0200 | LOSS 0.2270\n",
            "TRAIN: EPOCH 0001 / 0005 | BATCH 0146 / 0200 | LOSS 0.2262\n",
            "TRAIN: EPOCH 0001 / 0005 | BATCH 0147 / 0200 | LOSS 0.2260\n",
            "TRAIN: EPOCH 0001 / 0005 | BATCH 0148 / 0200 | LOSS 0.2259\n",
            "TRAIN: EPOCH 0001 / 0005 | BATCH 0149 / 0200 | LOSS 0.2264\n",
            "TRAIN: EPOCH 0001 / 0005 | BATCH 0150 / 0200 | LOSS 0.2266\n",
            "TRAIN: EPOCH 0001 / 0005 | BATCH 0151 / 0200 | LOSS 0.2259\n",
            "TRAIN: EPOCH 0001 / 0005 | BATCH 0152 / 0200 | LOSS 0.2262\n",
            "TRAIN: EPOCH 0001 / 0005 | BATCH 0153 / 0200 | LOSS 0.2260\n",
            "TRAIN: EPOCH 0001 / 0005 | BATCH 0154 / 0200 | LOSS 0.2259\n",
            "TRAIN: EPOCH 0001 / 0005 | BATCH 0155 / 0200 | LOSS 0.2251\n",
            "TRAIN: EPOCH 0001 / 0005 | BATCH 0156 / 0200 | LOSS 0.2246\n",
            "TRAIN: EPOCH 0001 / 0005 | BATCH 0157 / 0200 | LOSS 0.2241\n",
            "TRAIN: EPOCH 0001 / 0005 | BATCH 0158 / 0200 | LOSS 0.2242\n",
            "TRAIN: EPOCH 0001 / 0005 | BATCH 0159 / 0200 | LOSS 0.2238\n",
            "TRAIN: EPOCH 0001 / 0005 | BATCH 0160 / 0200 | LOSS 0.2246\n",
            "TRAIN: EPOCH 0001 / 0005 | BATCH 0161 / 0200 | LOSS 0.2238\n",
            "TRAIN: EPOCH 0001 / 0005 | BATCH 0162 / 0200 | LOSS 0.2233\n",
            "TRAIN: EPOCH 0001 / 0005 | BATCH 0163 / 0200 | LOSS 0.2226\n",
            "TRAIN: EPOCH 0001 / 0005 | BATCH 0164 / 0200 | LOSS 0.2236\n",
            "TRAIN: EPOCH 0001 / 0005 | BATCH 0165 / 0200 | LOSS 0.2232\n",
            "TRAIN: EPOCH 0001 / 0005 | BATCH 0166 / 0200 | LOSS 0.2231\n",
            "TRAIN: EPOCH 0001 / 0005 | BATCH 0167 / 0200 | LOSS 0.2231\n",
            "TRAIN: EPOCH 0001 / 0005 | BATCH 0168 / 0200 | LOSS 0.2224\n",
            "TRAIN: EPOCH 0001 / 0005 | BATCH 0169 / 0200 | LOSS 0.2217\n",
            "TRAIN: EPOCH 0001 / 0005 | BATCH 0170 / 0200 | LOSS 0.2212\n",
            "TRAIN: EPOCH 0001 / 0005 | BATCH 0171 / 0200 | LOSS 0.2204\n",
            "TRAIN: EPOCH 0001 / 0005 | BATCH 0172 / 0200 | LOSS 0.2198\n",
            "TRAIN: EPOCH 0001 / 0005 | BATCH 0173 / 0200 | LOSS 0.2196\n",
            "TRAIN: EPOCH 0001 / 0005 | BATCH 0174 / 0200 | LOSS 0.2205\n",
            "TRAIN: EPOCH 0001 / 0005 | BATCH 0175 / 0200 | LOSS 0.2203\n",
            "TRAIN: EPOCH 0001 / 0005 | BATCH 0176 / 0200 | LOSS 0.2194\n",
            "TRAIN: EPOCH 0001 / 0005 | BATCH 0177 / 0200 | LOSS 0.2193\n",
            "TRAIN: EPOCH 0001 / 0005 | BATCH 0178 / 0200 | LOSS 0.2187\n",
            "TRAIN: EPOCH 0001 / 0005 | BATCH 0179 / 0200 | LOSS 0.2182\n",
            "TRAIN: EPOCH 0001 / 0005 | BATCH 0180 / 0200 | LOSS 0.2184\n",
            "TRAIN: EPOCH 0001 / 0005 | BATCH 0181 / 0200 | LOSS 0.2176\n",
            "TRAIN: EPOCH 0001 / 0005 | BATCH 0182 / 0200 | LOSS 0.2180\n",
            "TRAIN: EPOCH 0001 / 0005 | BATCH 0183 / 0200 | LOSS 0.2185\n",
            "TRAIN: EPOCH 0001 / 0005 | BATCH 0184 / 0200 | LOSS 0.2178\n",
            "TRAIN: EPOCH 0001 / 0005 | BATCH 0185 / 0200 | LOSS 0.2181\n",
            "TRAIN: EPOCH 0001 / 0005 | BATCH 0186 / 0200 | LOSS 0.2173\n",
            "TRAIN: EPOCH 0001 / 0005 | BATCH 0187 / 0200 | LOSS 0.2175\n",
            "TRAIN: EPOCH 0001 / 0005 | BATCH 0188 / 0200 | LOSS 0.2174\n",
            "TRAIN: EPOCH 0001 / 0005 | BATCH 0189 / 0200 | LOSS 0.2167\n",
            "TRAIN: EPOCH 0001 / 0005 | BATCH 0190 / 0200 | LOSS 0.2163\n",
            "TRAIN: EPOCH 0001 / 0005 | BATCH 0191 / 0200 | LOSS 0.2166\n",
            "TRAIN: EPOCH 0001 / 0005 | BATCH 0192 / 0200 | LOSS 0.2161\n",
            "TRAIN: EPOCH 0001 / 0005 | BATCH 0193 / 0200 | LOSS 0.2156\n",
            "TRAIN: EPOCH 0001 / 0005 | BATCH 0194 / 0200 | LOSS 0.2163\n",
            "TRAIN: EPOCH 0001 / 0005 | BATCH 0195 / 0200 | LOSS 0.2158\n",
            "TRAIN: EPOCH 0001 / 0005 | BATCH 0196 / 0200 | LOSS 0.2151\n",
            "TRAIN: EPOCH 0001 / 0005 | BATCH 0197 / 0200 | LOSS 0.2151\n",
            "TRAIN: EPOCH 0001 / 0005 | BATCH 0198 / 0200 | LOSS 0.2150\n",
            "TRAIN: EPOCH 0001 / 0005 | BATCH 0199 / 0200 | LOSS 0.2148\n",
            "TRAIN: EPOCH 0001 / 0005 | BATCH 0200 / 0200 | LOSS 0.2143\n",
            "VALID: EPOCH 0001 / 0005 | BATCH 0001 / 0025 | LOSS 0.1420\n",
            "VALID: EPOCH 0001 / 0005 | BATCH 0002 / 0025 | LOSS 0.1920\n",
            "VALID: EPOCH 0001 / 0005 | BATCH 0003 / 0025 | LOSS 0.1861\n",
            "VALID: EPOCH 0001 / 0005 | BATCH 0004 / 0025 | LOSS 0.1626\n",
            "VALID: EPOCH 0001 / 0005 | BATCH 0005 / 0025 | LOSS 0.1824\n",
            "VALID: EPOCH 0001 / 0005 | BATCH 0006 / 0025 | LOSS 0.1812\n",
            "VALID: EPOCH 0001 / 0005 | BATCH 0007 / 0025 | LOSS 0.1702\n",
            "VALID: EPOCH 0001 / 0005 | BATCH 0008 / 0025 | LOSS 0.1722\n",
            "VALID: EPOCH 0001 / 0005 | BATCH 0009 / 0025 | LOSS 0.1610\n",
            "VALID: EPOCH 0001 / 0005 | BATCH 0010 / 0025 | LOSS 0.1592\n",
            "VALID: EPOCH 0001 / 0005 | BATCH 0011 / 0025 | LOSS 0.1583\n",
            "VALID: EPOCH 0001 / 0005 | BATCH 0012 / 0025 | LOSS 0.1746\n",
            "VALID: EPOCH 0001 / 0005 | BATCH 0013 / 0025 | LOSS 0.1719\n",
            "VALID: EPOCH 0001 / 0005 | BATCH 0014 / 0025 | LOSS 0.1670\n",
            "VALID: EPOCH 0001 / 0005 | BATCH 0015 / 0025 | LOSS 0.1605\n",
            "VALID: EPOCH 0001 / 0005 | BATCH 0016 / 0025 | LOSS 0.1778\n",
            "VALID: EPOCH 0001 / 0005 | BATCH 0017 / 0025 | LOSS 0.1954\n",
            "VALID: EPOCH 0001 / 0005 | BATCH 0018 / 0025 | LOSS 0.1916\n",
            "VALID: EPOCH 0001 / 0005 | BATCH 0019 / 0025 | LOSS 0.1945\n",
            "VALID: EPOCH 0001 / 0005 | BATCH 0020 / 0025 | LOSS 0.1909\n",
            "VALID: EPOCH 0001 / 0005 | BATCH 0021 / 0025 | LOSS 0.1870\n",
            "VALID: EPOCH 0001 / 0005 | BATCH 0022 / 0025 | LOSS 0.1892\n",
            "VALID: EPOCH 0001 / 0005 | BATCH 0023 / 0025 | LOSS 0.1945\n",
            "VALID: EPOCH 0001 / 0005 | BATCH 0024 / 0025 | LOSS 0.1926\n",
            "VALID: EPOCH 0001 / 0005 | BATCH 0025 / 0025 | LOSS 0.1889\n",
            "TRAIN: EPOCH 0002 / 0005 | BATCH 0001 / 0200 | LOSS 0.1938\n",
            "TRAIN: EPOCH 0002 / 0005 | BATCH 0002 / 0200 | LOSS 0.1796\n",
            "TRAIN: EPOCH 0002 / 0005 | BATCH 0003 / 0200 | LOSS 0.1538\n",
            "TRAIN: EPOCH 0002 / 0005 | BATCH 0004 / 0200 | LOSS 0.1508\n",
            "TRAIN: EPOCH 0002 / 0005 | BATCH 0005 / 0200 | LOSS 0.1453\n",
            "TRAIN: EPOCH 0002 / 0005 | BATCH 0006 / 0200 | LOSS 0.1491\n",
            "TRAIN: EPOCH 0002 / 0005 | BATCH 0007 / 0200 | LOSS 0.1497\n",
            "TRAIN: EPOCH 0002 / 0005 | BATCH 0008 / 0200 | LOSS 0.1449\n",
            "TRAIN: EPOCH 0002 / 0005 | BATCH 0009 / 0200 | LOSS 0.1415\n",
            "TRAIN: EPOCH 0002 / 0005 | BATCH 0010 / 0200 | LOSS 0.1368\n",
            "TRAIN: EPOCH 0002 / 0005 | BATCH 0011 / 0200 | LOSS 0.1385\n",
            "TRAIN: EPOCH 0002 / 0005 | BATCH 0012 / 0200 | LOSS 0.1391\n",
            "TRAIN: EPOCH 0002 / 0005 | BATCH 0013 / 0200 | LOSS 0.1465\n",
            "TRAIN: EPOCH 0002 / 0005 | BATCH 0014 / 0200 | LOSS 0.1439\n",
            "TRAIN: EPOCH 0002 / 0005 | BATCH 0015 / 0200 | LOSS 0.1519\n",
            "TRAIN: EPOCH 0002 / 0005 | BATCH 0016 / 0200 | LOSS 0.1526\n",
            "TRAIN: EPOCH 0002 / 0005 | BATCH 0017 / 0200 | LOSS 0.1572\n",
            "TRAIN: EPOCH 0002 / 0005 | BATCH 0018 / 0200 | LOSS 0.1601\n",
            "TRAIN: EPOCH 0002 / 0005 | BATCH 0019 / 0200 | LOSS 0.1558\n",
            "TRAIN: EPOCH 0002 / 0005 | BATCH 0020 / 0200 | LOSS 0.1658\n",
            "TRAIN: EPOCH 0002 / 0005 | BATCH 0021 / 0200 | LOSS 0.1717\n",
            "TRAIN: EPOCH 0002 / 0005 | BATCH 0022 / 0200 | LOSS 0.1714\n",
            "TRAIN: EPOCH 0002 / 0005 | BATCH 0023 / 0200 | LOSS 0.1695\n",
            "TRAIN: EPOCH 0002 / 0005 | BATCH 0024 / 0200 | LOSS 0.1665\n",
            "TRAIN: EPOCH 0002 / 0005 | BATCH 0025 / 0200 | LOSS 0.1649\n",
            "TRAIN: EPOCH 0002 / 0005 | BATCH 0026 / 0200 | LOSS 0.1636\n",
            "TRAIN: EPOCH 0002 / 0005 | BATCH 0027 / 0200 | LOSS 0.1627\n",
            "TRAIN: EPOCH 0002 / 0005 | BATCH 0028 / 0200 | LOSS 0.1597\n",
            "TRAIN: EPOCH 0002 / 0005 | BATCH 0029 / 0200 | LOSS 0.1588\n",
            "TRAIN: EPOCH 0002 / 0005 | BATCH 0030 / 0200 | LOSS 0.1575\n",
            "TRAIN: EPOCH 0002 / 0005 | BATCH 0031 / 0200 | LOSS 0.1580\n",
            "TRAIN: EPOCH 0002 / 0005 | BATCH 0032 / 0200 | LOSS 0.1624\n",
            "TRAIN: EPOCH 0002 / 0005 | BATCH 0033 / 0200 | LOSS 0.1612\n",
            "TRAIN: EPOCH 0002 / 0005 | BATCH 0034 / 0200 | LOSS 0.1591\n",
            "TRAIN: EPOCH 0002 / 0005 | BATCH 0035 / 0200 | LOSS 0.1576\n",
            "TRAIN: EPOCH 0002 / 0005 | BATCH 0036 / 0200 | LOSS 0.1618\n",
            "TRAIN: EPOCH 0002 / 0005 | BATCH 0037 / 0200 | LOSS 0.1657\n",
            "TRAIN: EPOCH 0002 / 0005 | BATCH 0038 / 0200 | LOSS 0.1641\n",
            "TRAIN: EPOCH 0002 / 0005 | BATCH 0039 / 0200 | LOSS 0.1642\n",
            "TRAIN: EPOCH 0002 / 0005 | BATCH 0040 / 0200 | LOSS 0.1635\n",
            "TRAIN: EPOCH 0002 / 0005 | BATCH 0041 / 0200 | LOSS 0.1620\n",
            "TRAIN: EPOCH 0002 / 0005 | BATCH 0042 / 0200 | LOSS 0.1646\n",
            "TRAIN: EPOCH 0002 / 0005 | BATCH 0043 / 0200 | LOSS 0.1679\n",
            "TRAIN: EPOCH 0002 / 0005 | BATCH 0044 / 0200 | LOSS 0.1667\n",
            "TRAIN: EPOCH 0002 / 0005 | BATCH 0045 / 0200 | LOSS 0.1662\n",
            "TRAIN: EPOCH 0002 / 0005 | BATCH 0046 / 0200 | LOSS 0.1673\n",
            "TRAIN: EPOCH 0002 / 0005 | BATCH 0047 / 0200 | LOSS 0.1655\n",
            "TRAIN: EPOCH 0002 / 0005 | BATCH 0048 / 0200 | LOSS 0.1668\n",
            "TRAIN: EPOCH 0002 / 0005 | BATCH 0049 / 0200 | LOSS 0.1699\n",
            "TRAIN: EPOCH 0002 / 0005 | BATCH 0050 / 0200 | LOSS 0.1695\n",
            "TRAIN: EPOCH 0002 / 0005 | BATCH 0051 / 0200 | LOSS 0.1691\n",
            "TRAIN: EPOCH 0002 / 0005 | BATCH 0052 / 0200 | LOSS 0.1705\n",
            "TRAIN: EPOCH 0002 / 0005 | BATCH 0053 / 0200 | LOSS 0.1722\n",
            "TRAIN: EPOCH 0002 / 0005 | BATCH 0054 / 0200 | LOSS 0.1716\n",
            "TRAIN: EPOCH 0002 / 0005 | BATCH 0055 / 0200 | LOSS 0.1703\n",
            "TRAIN: EPOCH 0002 / 0005 | BATCH 0056 / 0200 | LOSS 0.1706\n",
            "TRAIN: EPOCH 0002 / 0005 | BATCH 0057 / 0200 | LOSS 0.1716\n",
            "TRAIN: EPOCH 0002 / 0005 | BATCH 0058 / 0200 | LOSS 0.1731\n",
            "TRAIN: EPOCH 0002 / 0005 | BATCH 0059 / 0200 | LOSS 0.1731\n",
            "TRAIN: EPOCH 0002 / 0005 | BATCH 0060 / 0200 | LOSS 0.1714\n",
            "TRAIN: EPOCH 0002 / 0005 | BATCH 0061 / 0200 | LOSS 0.1737\n",
            "TRAIN: EPOCH 0002 / 0005 | BATCH 0062 / 0200 | LOSS 0.1732\n",
            "TRAIN: EPOCH 0002 / 0005 | BATCH 0063 / 0200 | LOSS 0.1753\n",
            "TRAIN: EPOCH 0002 / 0005 | BATCH 0064 / 0200 | LOSS 0.1781\n",
            "TRAIN: EPOCH 0002 / 0005 | BATCH 0065 / 0200 | LOSS 0.1785\n",
            "TRAIN: EPOCH 0002 / 0005 | BATCH 0066 / 0200 | LOSS 0.1781\n",
            "TRAIN: EPOCH 0002 / 0005 | BATCH 0067 / 0200 | LOSS 0.1787\n",
            "TRAIN: EPOCH 0002 / 0005 | BATCH 0068 / 0200 | LOSS 0.1779\n",
            "TRAIN: EPOCH 0002 / 0005 | BATCH 0069 / 0200 | LOSS 0.1769\n",
            "TRAIN: EPOCH 0002 / 0005 | BATCH 0070 / 0200 | LOSS 0.1758\n",
            "TRAIN: EPOCH 0002 / 0005 | BATCH 0071 / 0200 | LOSS 0.1763\n",
            "TRAIN: EPOCH 0002 / 0005 | BATCH 0072 / 0200 | LOSS 0.1785\n",
            "TRAIN: EPOCH 0002 / 0005 | BATCH 0073 / 0200 | LOSS 0.1779\n",
            "TRAIN: EPOCH 0002 / 0005 | BATCH 0074 / 0200 | LOSS 0.1792\n",
            "TRAIN: EPOCH 0002 / 0005 | BATCH 0075 / 0200 | LOSS 0.1809\n",
            "TRAIN: EPOCH 0002 / 0005 | BATCH 0076 / 0200 | LOSS 0.1802\n",
            "TRAIN: EPOCH 0002 / 0005 | BATCH 0077 / 0200 | LOSS 0.1801\n",
            "TRAIN: EPOCH 0002 / 0005 | BATCH 0078 / 0200 | LOSS 0.1817\n",
            "TRAIN: EPOCH 0002 / 0005 | BATCH 0079 / 0200 | LOSS 0.1809\n",
            "TRAIN: EPOCH 0002 / 0005 | BATCH 0080 / 0200 | LOSS 0.1820\n",
            "TRAIN: EPOCH 0002 / 0005 | BATCH 0081 / 0200 | LOSS 0.1823\n",
            "TRAIN: EPOCH 0002 / 0005 | BATCH 0082 / 0200 | LOSS 0.1820\n",
            "TRAIN: EPOCH 0002 / 0005 | BATCH 0083 / 0200 | LOSS 0.1808\n",
            "TRAIN: EPOCH 0002 / 0005 | BATCH 0084 / 0200 | LOSS 0.1808\n",
            "TRAIN: EPOCH 0002 / 0005 | BATCH 0085 / 0200 | LOSS 0.1801\n",
            "TRAIN: EPOCH 0002 / 0005 | BATCH 0086 / 0200 | LOSS 0.1800\n",
            "TRAIN: EPOCH 0002 / 0005 | BATCH 0087 / 0200 | LOSS 0.1801\n",
            "TRAIN: EPOCH 0002 / 0005 | BATCH 0088 / 0200 | LOSS 0.1797\n",
            "TRAIN: EPOCH 0002 / 0005 | BATCH 0089 / 0200 | LOSS 0.1789\n",
            "TRAIN: EPOCH 0002 / 0005 | BATCH 0090 / 0200 | LOSS 0.1821\n",
            "TRAIN: EPOCH 0002 / 0005 | BATCH 0091 / 0200 | LOSS 0.1825\n",
            "TRAIN: EPOCH 0002 / 0005 | BATCH 0092 / 0200 | LOSS 0.1834\n",
            "TRAIN: EPOCH 0002 / 0005 | BATCH 0093 / 0200 | LOSS 0.1834\n",
            "TRAIN: EPOCH 0002 / 0005 | BATCH 0094 / 0200 | LOSS 0.1826\n",
            "TRAIN: EPOCH 0002 / 0005 | BATCH 0095 / 0200 | LOSS 0.1836\n",
            "TRAIN: EPOCH 0002 / 0005 | BATCH 0096 / 0200 | LOSS 0.1831\n",
            "TRAIN: EPOCH 0002 / 0005 | BATCH 0097 / 0200 | LOSS 0.1841\n",
            "TRAIN: EPOCH 0002 / 0005 | BATCH 0098 / 0200 | LOSS 0.1834\n",
            "TRAIN: EPOCH 0002 / 0005 | BATCH 0099 / 0200 | LOSS 0.1836\n",
            "TRAIN: EPOCH 0002 / 0005 | BATCH 0100 / 0200 | LOSS 0.1829\n",
            "TRAIN: EPOCH 0002 / 0005 | BATCH 0101 / 0200 | LOSS 0.1822\n",
            "TRAIN: EPOCH 0002 / 0005 | BATCH 0102 / 0200 | LOSS 0.1814\n",
            "TRAIN: EPOCH 0002 / 0005 | BATCH 0103 / 0200 | LOSS 0.1808\n",
            "TRAIN: EPOCH 0002 / 0005 | BATCH 0104 / 0200 | LOSS 0.1802\n",
            "TRAIN: EPOCH 0002 / 0005 | BATCH 0105 / 0200 | LOSS 0.1801\n",
            "TRAIN: EPOCH 0002 / 0005 | BATCH 0106 / 0200 | LOSS 0.1795\n",
            "TRAIN: EPOCH 0002 / 0005 | BATCH 0107 / 0200 | LOSS 0.1792\n",
            "TRAIN: EPOCH 0002 / 0005 | BATCH 0108 / 0200 | LOSS 0.1782\n",
            "TRAIN: EPOCH 0002 / 0005 | BATCH 0109 / 0200 | LOSS 0.1776\n",
            "TRAIN: EPOCH 0002 / 0005 | BATCH 0110 / 0200 | LOSS 0.1779\n",
            "TRAIN: EPOCH 0002 / 0005 | BATCH 0111 / 0200 | LOSS 0.1777\n",
            "TRAIN: EPOCH 0002 / 0005 | BATCH 0112 / 0200 | LOSS 0.1766\n",
            "TRAIN: EPOCH 0002 / 0005 | BATCH 0113 / 0200 | LOSS 0.1771\n",
            "TRAIN: EPOCH 0002 / 0005 | BATCH 0114 / 0200 | LOSS 0.1761\n",
            "TRAIN: EPOCH 0002 / 0005 | BATCH 0115 / 0200 | LOSS 0.1762\n",
            "TRAIN: EPOCH 0002 / 0005 | BATCH 0116 / 0200 | LOSS 0.1756\n",
            "TRAIN: EPOCH 0002 / 0005 | BATCH 0117 / 0200 | LOSS 0.1751\n",
            "TRAIN: EPOCH 0002 / 0005 | BATCH 0118 / 0200 | LOSS 0.1750\n",
            "TRAIN: EPOCH 0002 / 0005 | BATCH 0119 / 0200 | LOSS 0.1751\n",
            "TRAIN: EPOCH 0002 / 0005 | BATCH 0120 / 0200 | LOSS 0.1743\n",
            "TRAIN: EPOCH 0002 / 0005 | BATCH 0121 / 0200 | LOSS 0.1747\n",
            "TRAIN: EPOCH 0002 / 0005 | BATCH 0122 / 0200 | LOSS 0.1744\n",
            "TRAIN: EPOCH 0002 / 0005 | BATCH 0123 / 0200 | LOSS 0.1738\n",
            "TRAIN: EPOCH 0002 / 0005 | BATCH 0124 / 0200 | LOSS 0.1729\n",
            "TRAIN: EPOCH 0002 / 0005 | BATCH 0125 / 0200 | LOSS 0.1728\n",
            "TRAIN: EPOCH 0002 / 0005 | BATCH 0126 / 0200 | LOSS 0.1727\n",
            "TRAIN: EPOCH 0002 / 0005 | BATCH 0127 / 0200 | LOSS 0.1729\n",
            "TRAIN: EPOCH 0002 / 0005 | BATCH 0128 / 0200 | LOSS 0.1721\n",
            "TRAIN: EPOCH 0002 / 0005 | BATCH 0129 / 0200 | LOSS 0.1736\n",
            "TRAIN: EPOCH 0002 / 0005 | BATCH 0130 / 0200 | LOSS 0.1733\n",
            "TRAIN: EPOCH 0002 / 0005 | BATCH 0131 / 0200 | LOSS 0.1738\n",
            "TRAIN: EPOCH 0002 / 0005 | BATCH 0132 / 0200 | LOSS 0.1738\n",
            "TRAIN: EPOCH 0002 / 0005 | BATCH 0133 / 0200 | LOSS 0.1749\n",
            "TRAIN: EPOCH 0002 / 0005 | BATCH 0134 / 0200 | LOSS 0.1745\n",
            "TRAIN: EPOCH 0002 / 0005 | BATCH 0135 / 0200 | LOSS 0.1747\n",
            "TRAIN: EPOCH 0002 / 0005 | BATCH 0136 / 0200 | LOSS 0.1758\n",
            "TRAIN: EPOCH 0002 / 0005 | BATCH 0137 / 0200 | LOSS 0.1764\n",
            "TRAIN: EPOCH 0002 / 0005 | BATCH 0138 / 0200 | LOSS 0.1767\n",
            "TRAIN: EPOCH 0002 / 0005 | BATCH 0139 / 0200 | LOSS 0.1768\n",
            "TRAIN: EPOCH 0002 / 0005 | BATCH 0140 / 0200 | LOSS 0.1769\n",
            "TRAIN: EPOCH 0002 / 0005 | BATCH 0141 / 0200 | LOSS 0.1772\n",
            "TRAIN: EPOCH 0002 / 0005 | BATCH 0142 / 0200 | LOSS 0.1775\n",
            "TRAIN: EPOCH 0002 / 0005 | BATCH 0143 / 0200 | LOSS 0.1773\n",
            "TRAIN: EPOCH 0002 / 0005 | BATCH 0144 / 0200 | LOSS 0.1765\n",
            "TRAIN: EPOCH 0002 / 0005 | BATCH 0145 / 0200 | LOSS 0.1771\n",
            "TRAIN: EPOCH 0002 / 0005 | BATCH 0146 / 0200 | LOSS 0.1763\n",
            "TRAIN: EPOCH 0002 / 0005 | BATCH 0147 / 0200 | LOSS 0.1770\n",
            "TRAIN: EPOCH 0002 / 0005 | BATCH 0148 / 0200 | LOSS 0.1763\n",
            "TRAIN: EPOCH 0002 / 0005 | BATCH 0149 / 0200 | LOSS 0.1759\n",
            "TRAIN: EPOCH 0002 / 0005 | BATCH 0150 / 0200 | LOSS 0.1755\n",
            "TRAIN: EPOCH 0002 / 0005 | BATCH 0151 / 0200 | LOSS 0.1763\n",
            "TRAIN: EPOCH 0002 / 0005 | BATCH 0152 / 0200 | LOSS 0.1760\n",
            "TRAIN: EPOCH 0002 / 0005 | BATCH 0153 / 0200 | LOSS 0.1768\n",
            "TRAIN: EPOCH 0002 / 0005 | BATCH 0154 / 0200 | LOSS 0.1769\n",
            "TRAIN: EPOCH 0002 / 0005 | BATCH 0155 / 0200 | LOSS 0.1762\n",
            "TRAIN: EPOCH 0002 / 0005 | BATCH 0156 / 0200 | LOSS 0.1757\n",
            "TRAIN: EPOCH 0002 / 0005 | BATCH 0157 / 0200 | LOSS 0.1759\n",
            "TRAIN: EPOCH 0002 / 0005 | BATCH 0158 / 0200 | LOSS 0.1768\n",
            "TRAIN: EPOCH 0002 / 0005 | BATCH 0159 / 0200 | LOSS 0.1767\n",
            "TRAIN: EPOCH 0002 / 0005 | BATCH 0160 / 0200 | LOSS 0.1762\n",
            "TRAIN: EPOCH 0002 / 0005 | BATCH 0161 / 0200 | LOSS 0.1774\n",
            "TRAIN: EPOCH 0002 / 0005 | BATCH 0162 / 0200 | LOSS 0.1781\n",
            "TRAIN: EPOCH 0002 / 0005 | BATCH 0163 / 0200 | LOSS 0.1781\n",
            "TRAIN: EPOCH 0002 / 0005 | BATCH 0164 / 0200 | LOSS 0.1782\n",
            "TRAIN: EPOCH 0002 / 0005 | BATCH 0165 / 0200 | LOSS 0.1777\n",
            "TRAIN: EPOCH 0002 / 0005 | BATCH 0166 / 0200 | LOSS 0.1776\n",
            "TRAIN: EPOCH 0002 / 0005 | BATCH 0167 / 0200 | LOSS 0.1784\n",
            "TRAIN: EPOCH 0002 / 0005 | BATCH 0168 / 0200 | LOSS 0.1781\n",
            "TRAIN: EPOCH 0002 / 0005 | BATCH 0169 / 0200 | LOSS 0.1795\n",
            "TRAIN: EPOCH 0002 / 0005 | BATCH 0170 / 0200 | LOSS 0.1791\n",
            "TRAIN: EPOCH 0002 / 0005 | BATCH 0171 / 0200 | LOSS 0.1791\n",
            "TRAIN: EPOCH 0002 / 0005 | BATCH 0172 / 0200 | LOSS 0.1789\n",
            "TRAIN: EPOCH 0002 / 0005 | BATCH 0173 / 0200 | LOSS 0.1784\n",
            "TRAIN: EPOCH 0002 / 0005 | BATCH 0174 / 0200 | LOSS 0.1780\n",
            "TRAIN: EPOCH 0002 / 0005 | BATCH 0175 / 0200 | LOSS 0.1778\n",
            "TRAIN: EPOCH 0002 / 0005 | BATCH 0176 / 0200 | LOSS 0.1792\n",
            "TRAIN: EPOCH 0002 / 0005 | BATCH 0177 / 0200 | LOSS 0.1789\n",
            "TRAIN: EPOCH 0002 / 0005 | BATCH 0178 / 0200 | LOSS 0.1785\n",
            "TRAIN: EPOCH 0002 / 0005 | BATCH 0179 / 0200 | LOSS 0.1780\n",
            "TRAIN: EPOCH 0002 / 0005 | BATCH 0180 / 0200 | LOSS 0.1778\n",
            "TRAIN: EPOCH 0002 / 0005 | BATCH 0181 / 0200 | LOSS 0.1781\n",
            "TRAIN: EPOCH 0002 / 0005 | BATCH 0182 / 0200 | LOSS 0.1788\n",
            "TRAIN: EPOCH 0002 / 0005 | BATCH 0183 / 0200 | LOSS 0.1786\n",
            "TRAIN: EPOCH 0002 / 0005 | BATCH 0184 / 0200 | LOSS 0.1782\n",
            "TRAIN: EPOCH 0002 / 0005 | BATCH 0185 / 0200 | LOSS 0.1784\n",
            "TRAIN: EPOCH 0002 / 0005 | BATCH 0186 / 0200 | LOSS 0.1780\n",
            "TRAIN: EPOCH 0002 / 0005 | BATCH 0187 / 0200 | LOSS 0.1773\n",
            "TRAIN: EPOCH 0002 / 0005 | BATCH 0188 / 0200 | LOSS 0.1768\n",
            "TRAIN: EPOCH 0002 / 0005 | BATCH 0189 / 0200 | LOSS 0.1768\n",
            "TRAIN: EPOCH 0002 / 0005 | BATCH 0190 / 0200 | LOSS 0.1763\n",
            "TRAIN: EPOCH 0002 / 0005 | BATCH 0191 / 0200 | LOSS 0.1760\n",
            "TRAIN: EPOCH 0002 / 0005 | BATCH 0192 / 0200 | LOSS 0.1759\n",
            "TRAIN: EPOCH 0002 / 0005 | BATCH 0193 / 0200 | LOSS 0.1757\n",
            "TRAIN: EPOCH 0002 / 0005 | BATCH 0194 / 0200 | LOSS 0.1753\n",
            "TRAIN: EPOCH 0002 / 0005 | BATCH 0195 / 0200 | LOSS 0.1747\n",
            "TRAIN: EPOCH 0002 / 0005 | BATCH 0196 / 0200 | LOSS 0.1741\n",
            "TRAIN: EPOCH 0002 / 0005 | BATCH 0197 / 0200 | LOSS 0.1735\n",
            "TRAIN: EPOCH 0002 / 0005 | BATCH 0198 / 0200 | LOSS 0.1730\n",
            "TRAIN: EPOCH 0002 / 0005 | BATCH 0199 / 0200 | LOSS 0.1736\n",
            "TRAIN: EPOCH 0002 / 0005 | BATCH 0200 / 0200 | LOSS 0.1733\n",
            "VALID: EPOCH 0002 / 0005 | BATCH 0001 / 0025 | LOSS 0.1400\n",
            "VALID: EPOCH 0002 / 0005 | BATCH 0002 / 0025 | LOSS 0.1954\n",
            "VALID: EPOCH 0002 / 0005 | BATCH 0003 / 0025 | LOSS 0.1885\n",
            "VALID: EPOCH 0002 / 0005 | BATCH 0004 / 0025 | LOSS 0.1626\n",
            "VALID: EPOCH 0002 / 0005 | BATCH 0005 / 0025 | LOSS 0.1821\n",
            "VALID: EPOCH 0002 / 0005 | BATCH 0006 / 0025 | LOSS 0.1815\n",
            "VALID: EPOCH 0002 / 0005 | BATCH 0007 / 0025 | LOSS 0.1681\n",
            "VALID: EPOCH 0002 / 0005 | BATCH 0008 / 0025 | LOSS 0.1708\n",
            "VALID: EPOCH 0002 / 0005 | BATCH 0009 / 0025 | LOSS 0.1586\n",
            "VALID: EPOCH 0002 / 0005 | BATCH 0010 / 0025 | LOSS 0.1569\n",
            "VALID: EPOCH 0002 / 0005 | BATCH 0011 / 0025 | LOSS 0.1561\n",
            "VALID: EPOCH 0002 / 0005 | BATCH 0012 / 0025 | LOSS 0.1743\n",
            "VALID: EPOCH 0002 / 0005 | BATCH 0013 / 0025 | LOSS 0.1714\n",
            "VALID: EPOCH 0002 / 0005 | BATCH 0014 / 0025 | LOSS 0.1660\n",
            "VALID: EPOCH 0002 / 0005 | BATCH 0015 / 0025 | LOSS 0.1589\n",
            "VALID: EPOCH 0002 / 0005 | BATCH 0016 / 0025 | LOSS 0.1784\n",
            "VALID: EPOCH 0002 / 0005 | BATCH 0017 / 0025 | LOSS 0.1984\n",
            "VALID: EPOCH 0002 / 0005 | BATCH 0018 / 0025 | LOSS 0.1941\n",
            "VALID: EPOCH 0002 / 0005 | BATCH 0019 / 0025 | LOSS 0.1972\n",
            "VALID: EPOCH 0002 / 0005 | BATCH 0020 / 0025 | LOSS 0.1931\n",
            "VALID: EPOCH 0002 / 0005 | BATCH 0021 / 0025 | LOSS 0.1888\n",
            "VALID: EPOCH 0002 / 0005 | BATCH 0022 / 0025 | LOSS 0.1913\n",
            "VALID: EPOCH 0002 / 0005 | BATCH 0023 / 0025 | LOSS 0.1974\n",
            "VALID: EPOCH 0002 / 0005 | BATCH 0024 / 0025 | LOSS 0.1953\n",
            "VALID: EPOCH 0002 / 0005 | BATCH 0025 / 0025 | LOSS 0.1911\n",
            "TRAIN: EPOCH 0003 / 0005 | BATCH 0001 / 0200 | LOSS 0.0857\n",
            "TRAIN: EPOCH 0003 / 0005 | BATCH 0002 / 0200 | LOSS 0.0809\n",
            "TRAIN: EPOCH 0003 / 0005 | BATCH 0003 / 0200 | LOSS 0.1173\n",
            "TRAIN: EPOCH 0003 / 0005 | BATCH 0004 / 0200 | LOSS 0.1055\n",
            "TRAIN: EPOCH 0003 / 0005 | BATCH 0005 / 0200 | LOSS 0.1006\n",
            "TRAIN: EPOCH 0003 / 0005 | BATCH 0006 / 0200 | LOSS 0.1086\n",
            "TRAIN: EPOCH 0003 / 0005 | BATCH 0007 / 0200 | LOSS 0.1243\n",
            "TRAIN: EPOCH 0003 / 0005 | BATCH 0008 / 0200 | LOSS 0.1452\n",
            "TRAIN: EPOCH 0003 / 0005 | BATCH 0009 / 0200 | LOSS 0.1488\n",
            "TRAIN: EPOCH 0003 / 0005 | BATCH 0010 / 0200 | LOSS 0.1478\n",
            "TRAIN: EPOCH 0003 / 0005 | BATCH 0011 / 0200 | LOSS 0.1445\n",
            "TRAIN: EPOCH 0003 / 0005 | BATCH 0012 / 0200 | LOSS 0.1396\n",
            "TRAIN: EPOCH 0003 / 0005 | BATCH 0013 / 0200 | LOSS 0.1409\n",
            "TRAIN: EPOCH 0003 / 0005 | BATCH 0014 / 0200 | LOSS 0.1432\n",
            "TRAIN: EPOCH 0003 / 0005 | BATCH 0015 / 0200 | LOSS 0.1389\n",
            "TRAIN: EPOCH 0003 / 0005 | BATCH 0016 / 0200 | LOSS 0.1394\n",
            "TRAIN: EPOCH 0003 / 0005 | BATCH 0017 / 0200 | LOSS 0.1399\n",
            "TRAIN: EPOCH 0003 / 0005 | BATCH 0018 / 0200 | LOSS 0.1475\n",
            "TRAIN: EPOCH 0003 / 0005 | BATCH 0019 / 0200 | LOSS 0.1514\n",
            "TRAIN: EPOCH 0003 / 0005 | BATCH 0020 / 0200 | LOSS 0.1490\n",
            "TRAIN: EPOCH 0003 / 0005 | BATCH 0021 / 0200 | LOSS 0.1535\n",
            "TRAIN: EPOCH 0003 / 0005 | BATCH 0022 / 0200 | LOSS 0.1550\n",
            "TRAIN: EPOCH 0003 / 0005 | BATCH 0023 / 0200 | LOSS 0.1575\n",
            "TRAIN: EPOCH 0003 / 0005 | BATCH 0024 / 0200 | LOSS 0.1620\n",
            "TRAIN: EPOCH 0003 / 0005 | BATCH 0025 / 0200 | LOSS 0.1603\n",
            "TRAIN: EPOCH 0003 / 0005 | BATCH 0026 / 0200 | LOSS 0.1639\n",
            "TRAIN: EPOCH 0003 / 0005 | BATCH 0027 / 0200 | LOSS 0.1602\n",
            "TRAIN: EPOCH 0003 / 0005 | BATCH 0028 / 0200 | LOSS 0.1580\n",
            "TRAIN: EPOCH 0003 / 0005 | BATCH 0029 / 0200 | LOSS 0.1700\n",
            "TRAIN: EPOCH 0003 / 0005 | BATCH 0030 / 0200 | LOSS 0.1675\n",
            "TRAIN: EPOCH 0003 / 0005 | BATCH 0031 / 0200 | LOSS 0.1655\n",
            "TRAIN: EPOCH 0003 / 0005 | BATCH 0032 / 0200 | LOSS 0.1688\n",
            "TRAIN: EPOCH 0003 / 0005 | BATCH 0033 / 0200 | LOSS 0.1685\n",
            "TRAIN: EPOCH 0003 / 0005 | BATCH 0034 / 0200 | LOSS 0.1689\n",
            "TRAIN: EPOCH 0003 / 0005 | BATCH 0035 / 0200 | LOSS 0.1664\n",
            "TRAIN: EPOCH 0003 / 0005 | BATCH 0036 / 0200 | LOSS 0.1686\n",
            "TRAIN: EPOCH 0003 / 0005 | BATCH 0037 / 0200 | LOSS 0.1663\n",
            "TRAIN: EPOCH 0003 / 0005 | BATCH 0038 / 0200 | LOSS 0.1726\n",
            "TRAIN: EPOCH 0003 / 0005 | BATCH 0039 / 0200 | LOSS 0.1721\n",
            "TRAIN: EPOCH 0003 / 0005 | BATCH 0040 / 0200 | LOSS 0.1719\n",
            "TRAIN: EPOCH 0003 / 0005 | BATCH 0041 / 0200 | LOSS 0.1721\n",
            "TRAIN: EPOCH 0003 / 0005 | BATCH 0042 / 0200 | LOSS 0.1721\n",
            "TRAIN: EPOCH 0003 / 0005 | BATCH 0043 / 0200 | LOSS 0.1703\n",
            "TRAIN: EPOCH 0003 / 0005 | BATCH 0044 / 0200 | LOSS 0.1740\n",
            "TRAIN: EPOCH 0003 / 0005 | BATCH 0045 / 0200 | LOSS 0.1733\n",
            "TRAIN: EPOCH 0003 / 0005 | BATCH 0046 / 0200 | LOSS 0.1715\n",
            "TRAIN: EPOCH 0003 / 0005 | BATCH 0047 / 0200 | LOSS 0.1700\n",
            "TRAIN: EPOCH 0003 / 0005 | BATCH 0048 / 0200 | LOSS 0.1698\n",
            "TRAIN: EPOCH 0003 / 0005 | BATCH 0049 / 0200 | LOSS 0.1708\n",
            "TRAIN: EPOCH 0003 / 0005 | BATCH 0050 / 0200 | LOSS 0.1705\n",
            "TRAIN: EPOCH 0003 / 0005 | BATCH 0051 / 0200 | LOSS 0.1702\n",
            "TRAIN: EPOCH 0003 / 0005 | BATCH 0052 / 0200 | LOSS 0.1709\n",
            "TRAIN: EPOCH 0003 / 0005 | BATCH 0053 / 0200 | LOSS 0.1703\n",
            "TRAIN: EPOCH 0003 / 0005 | BATCH 0054 / 0200 | LOSS 0.1711\n",
            "TRAIN: EPOCH 0003 / 0005 | BATCH 0055 / 0200 | LOSS 0.1735\n",
            "TRAIN: EPOCH 0003 / 0005 | BATCH 0056 / 0200 | LOSS 0.1727\n",
            "TRAIN: EPOCH 0003 / 0005 | BATCH 0057 / 0200 | LOSS 0.1724\n",
            "TRAIN: EPOCH 0003 / 0005 | BATCH 0058 / 0200 | LOSS 0.1724\n",
            "TRAIN: EPOCH 0003 / 0005 | BATCH 0059 / 0200 | LOSS 0.1719\n",
            "TRAIN: EPOCH 0003 / 0005 | BATCH 0060 / 0200 | LOSS 0.1717\n",
            "TRAIN: EPOCH 0003 / 0005 | BATCH 0061 / 0200 | LOSS 0.1722\n",
            "TRAIN: EPOCH 0003 / 0005 | BATCH 0062 / 0200 | LOSS 0.1746\n",
            "TRAIN: EPOCH 0003 / 0005 | BATCH 0063 / 0200 | LOSS 0.1750\n",
            "TRAIN: EPOCH 0003 / 0005 | BATCH 0064 / 0200 | LOSS 0.1732\n",
            "TRAIN: EPOCH 0003 / 0005 | BATCH 0065 / 0200 | LOSS 0.1724\n",
            "TRAIN: EPOCH 0003 / 0005 | BATCH 0066 / 0200 | LOSS 0.1755\n",
            "TRAIN: EPOCH 0003 / 0005 | BATCH 0067 / 0200 | LOSS 0.1768\n",
            "TRAIN: EPOCH 0003 / 0005 | BATCH 0068 / 0200 | LOSS 0.1771\n",
            "TRAIN: EPOCH 0003 / 0005 | BATCH 0069 / 0200 | LOSS 0.1771\n",
            "TRAIN: EPOCH 0003 / 0005 | BATCH 0070 / 0200 | LOSS 0.1760\n",
            "TRAIN: EPOCH 0003 / 0005 | BATCH 0071 / 0200 | LOSS 0.1751\n",
            "TRAIN: EPOCH 0003 / 0005 | BATCH 0072 / 0200 | LOSS 0.1755\n",
            "TRAIN: EPOCH 0003 / 0005 | BATCH 0073 / 0200 | LOSS 0.1796\n",
            "TRAIN: EPOCH 0003 / 0005 | BATCH 0074 / 0200 | LOSS 0.1797\n",
            "TRAIN: EPOCH 0003 / 0005 | BATCH 0075 / 0200 | LOSS 0.1799\n",
            "TRAIN: EPOCH 0003 / 0005 | BATCH 0076 / 0200 | LOSS 0.1788\n",
            "TRAIN: EPOCH 0003 / 0005 | BATCH 0077 / 0200 | LOSS 0.1774\n",
            "TRAIN: EPOCH 0003 / 0005 | BATCH 0078 / 0200 | LOSS 0.1764\n",
            "TRAIN: EPOCH 0003 / 0005 | BATCH 0079 / 0200 | LOSS 0.1758\n",
            "TRAIN: EPOCH 0003 / 0005 | BATCH 0080 / 0200 | LOSS 0.1756\n",
            "TRAIN: EPOCH 0003 / 0005 | BATCH 0081 / 0200 | LOSS 0.1755\n",
            "TRAIN: EPOCH 0003 / 0005 | BATCH 0082 / 0200 | LOSS 0.1774\n",
            "TRAIN: EPOCH 0003 / 0005 | BATCH 0083 / 0200 | LOSS 0.1765\n",
            "TRAIN: EPOCH 0003 / 0005 | BATCH 0084 / 0200 | LOSS 0.1775\n",
            "TRAIN: EPOCH 0003 / 0005 | BATCH 0085 / 0200 | LOSS 0.1782\n",
            "TRAIN: EPOCH 0003 / 0005 | BATCH 0086 / 0200 | LOSS 0.1777\n",
            "TRAIN: EPOCH 0003 / 0005 | BATCH 0087 / 0200 | LOSS 0.1776\n",
            "TRAIN: EPOCH 0003 / 0005 | BATCH 0088 / 0200 | LOSS 0.1789\n",
            "TRAIN: EPOCH 0003 / 0005 | BATCH 0089 / 0200 | LOSS 0.1786\n",
            "TRAIN: EPOCH 0003 / 0005 | BATCH 0090 / 0200 | LOSS 0.1787\n",
            "TRAIN: EPOCH 0003 / 0005 | BATCH 0091 / 0200 | LOSS 0.1793\n",
            "TRAIN: EPOCH 0003 / 0005 | BATCH 0092 / 0200 | LOSS 0.1780\n",
            "TRAIN: EPOCH 0003 / 0005 | BATCH 0093 / 0200 | LOSS 0.1779\n",
            "TRAIN: EPOCH 0003 / 0005 | BATCH 0094 / 0200 | LOSS 0.1776\n",
            "TRAIN: EPOCH 0003 / 0005 | BATCH 0095 / 0200 | LOSS 0.1770\n",
            "TRAIN: EPOCH 0003 / 0005 | BATCH 0096 / 0200 | LOSS 0.1767\n",
            "TRAIN: EPOCH 0003 / 0005 | BATCH 0097 / 0200 | LOSS 0.1787\n",
            "TRAIN: EPOCH 0003 / 0005 | BATCH 0098 / 0200 | LOSS 0.1778\n",
            "TRAIN: EPOCH 0003 / 0005 | BATCH 0099 / 0200 | LOSS 0.1766\n",
            "TRAIN: EPOCH 0003 / 0005 | BATCH 0100 / 0200 | LOSS 0.1797\n",
            "TRAIN: EPOCH 0003 / 0005 | BATCH 0101 / 0200 | LOSS 0.1797\n",
            "TRAIN: EPOCH 0003 / 0005 | BATCH 0102 / 0200 | LOSS 0.1789\n",
            "TRAIN: EPOCH 0003 / 0005 | BATCH 0103 / 0200 | LOSS 0.1778\n",
            "TRAIN: EPOCH 0003 / 0005 | BATCH 0104 / 0200 | LOSS 0.1777\n",
            "TRAIN: EPOCH 0003 / 0005 | BATCH 0105 / 0200 | LOSS 0.1786\n",
            "TRAIN: EPOCH 0003 / 0005 | BATCH 0106 / 0200 | LOSS 0.1784\n",
            "TRAIN: EPOCH 0003 / 0005 | BATCH 0107 / 0200 | LOSS 0.1778\n",
            "TRAIN: EPOCH 0003 / 0005 | BATCH 0108 / 0200 | LOSS 0.1768\n",
            "TRAIN: EPOCH 0003 / 0005 | BATCH 0109 / 0200 | LOSS 0.1779\n",
            "TRAIN: EPOCH 0003 / 0005 | BATCH 0110 / 0200 | LOSS 0.1785\n",
            "TRAIN: EPOCH 0003 / 0005 | BATCH 0111 / 0200 | LOSS 0.1777\n",
            "TRAIN: EPOCH 0003 / 0005 | BATCH 0112 / 0200 | LOSS 0.1768\n",
            "TRAIN: EPOCH 0003 / 0005 | BATCH 0113 / 0200 | LOSS 0.1763\n",
            "TRAIN: EPOCH 0003 / 0005 | BATCH 0114 / 0200 | LOSS 0.1776\n",
            "TRAIN: EPOCH 0003 / 0005 | BATCH 0115 / 0200 | LOSS 0.1782\n",
            "TRAIN: EPOCH 0003 / 0005 | BATCH 0116 / 0200 | LOSS 0.1773\n",
            "TRAIN: EPOCH 0003 / 0005 | BATCH 0117 / 0200 | LOSS 0.1763\n",
            "TRAIN: EPOCH 0003 / 0005 | BATCH 0118 / 0200 | LOSS 0.1773\n",
            "TRAIN: EPOCH 0003 / 0005 | BATCH 0119 / 0200 | LOSS 0.1775\n",
            "TRAIN: EPOCH 0003 / 0005 | BATCH 0120 / 0200 | LOSS 0.1787\n",
            "TRAIN: EPOCH 0003 / 0005 | BATCH 0121 / 0200 | LOSS 0.1779\n",
            "TRAIN: EPOCH 0003 / 0005 | BATCH 0122 / 0200 | LOSS 0.1773\n",
            "TRAIN: EPOCH 0003 / 0005 | BATCH 0123 / 0200 | LOSS 0.1770\n",
            "TRAIN: EPOCH 0003 / 0005 | BATCH 0124 / 0200 | LOSS 0.1763\n",
            "TRAIN: EPOCH 0003 / 0005 | BATCH 0125 / 0200 | LOSS 0.1761\n",
            "TRAIN: EPOCH 0003 / 0005 | BATCH 0126 / 0200 | LOSS 0.1751\n",
            "TRAIN: EPOCH 0003 / 0005 | BATCH 0127 / 0200 | LOSS 0.1743\n",
            "TRAIN: EPOCH 0003 / 0005 | BATCH 0128 / 0200 | LOSS 0.1769\n",
            "TRAIN: EPOCH 0003 / 0005 | BATCH 0129 / 0200 | LOSS 0.1763\n",
            "TRAIN: EPOCH 0003 / 0005 | BATCH 0130 / 0200 | LOSS 0.1753\n",
            "TRAIN: EPOCH 0003 / 0005 | BATCH 0131 / 0200 | LOSS 0.1761\n",
            "TRAIN: EPOCH 0003 / 0005 | BATCH 0132 / 0200 | LOSS 0.1770\n",
            "TRAIN: EPOCH 0003 / 0005 | BATCH 0133 / 0200 | LOSS 0.1762\n",
            "TRAIN: EPOCH 0003 / 0005 | BATCH 0134 / 0200 | LOSS 0.1759\n",
            "TRAIN: EPOCH 0003 / 0005 | BATCH 0135 / 0200 | LOSS 0.1760\n",
            "TRAIN: EPOCH 0003 / 0005 | BATCH 0136 / 0200 | LOSS 0.1757\n",
            "TRAIN: EPOCH 0003 / 0005 | BATCH 0137 / 0200 | LOSS 0.1763\n",
            "TRAIN: EPOCH 0003 / 0005 | BATCH 0138 / 0200 | LOSS 0.1761\n",
            "TRAIN: EPOCH 0003 / 0005 | BATCH 0139 / 0200 | LOSS 0.1779\n",
            "TRAIN: EPOCH 0003 / 0005 | BATCH 0140 / 0200 | LOSS 0.1775\n",
            "TRAIN: EPOCH 0003 / 0005 | BATCH 0141 / 0200 | LOSS 0.1775\n",
            "TRAIN: EPOCH 0003 / 0005 | BATCH 0142 / 0200 | LOSS 0.1771\n",
            "TRAIN: EPOCH 0003 / 0005 | BATCH 0143 / 0200 | LOSS 0.1764\n",
            "TRAIN: EPOCH 0003 / 0005 | BATCH 0144 / 0200 | LOSS 0.1757\n",
            "TRAIN: EPOCH 0003 / 0005 | BATCH 0145 / 0200 | LOSS 0.1752\n",
            "TRAIN: EPOCH 0003 / 0005 | BATCH 0146 / 0200 | LOSS 0.1750\n",
            "TRAIN: EPOCH 0003 / 0005 | BATCH 0147 / 0200 | LOSS 0.1749\n",
            "TRAIN: EPOCH 0003 / 0005 | BATCH 0148 / 0200 | LOSS 0.1743\n",
            "TRAIN: EPOCH 0003 / 0005 | BATCH 0149 / 0200 | LOSS 0.1742\n",
            "TRAIN: EPOCH 0003 / 0005 | BATCH 0150 / 0200 | LOSS 0.1743\n",
            "TRAIN: EPOCH 0003 / 0005 | BATCH 0151 / 0200 | LOSS 0.1744\n",
            "TRAIN: EPOCH 0003 / 0005 | BATCH 0152 / 0200 | LOSS 0.1742\n",
            "TRAIN: EPOCH 0003 / 0005 | BATCH 0153 / 0200 | LOSS 0.1736\n",
            "TRAIN: EPOCH 0003 / 0005 | BATCH 0154 / 0200 | LOSS 0.1743\n",
            "TRAIN: EPOCH 0003 / 0005 | BATCH 0155 / 0200 | LOSS 0.1751\n",
            "TRAIN: EPOCH 0003 / 0005 | BATCH 0156 / 0200 | LOSS 0.1745\n",
            "TRAIN: EPOCH 0003 / 0005 | BATCH 0157 / 0200 | LOSS 0.1742\n",
            "TRAIN: EPOCH 0003 / 0005 | BATCH 0158 / 0200 | LOSS 0.1737\n",
            "TRAIN: EPOCH 0003 / 0005 | BATCH 0159 / 0200 | LOSS 0.1730\n",
            "TRAIN: EPOCH 0003 / 0005 | BATCH 0160 / 0200 | LOSS 0.1727\n",
            "TRAIN: EPOCH 0003 / 0005 | BATCH 0161 / 0200 | LOSS 0.1724\n",
            "TRAIN: EPOCH 0003 / 0005 | BATCH 0162 / 0200 | LOSS 0.1736\n",
            "TRAIN: EPOCH 0003 / 0005 | BATCH 0163 / 0200 | LOSS 0.1744\n",
            "TRAIN: EPOCH 0003 / 0005 | BATCH 0164 / 0200 | LOSS 0.1740\n",
            "TRAIN: EPOCH 0003 / 0005 | BATCH 0165 / 0200 | LOSS 0.1736\n",
            "TRAIN: EPOCH 0003 / 0005 | BATCH 0166 / 0200 | LOSS 0.1730\n",
            "TRAIN: EPOCH 0003 / 0005 | BATCH 0167 / 0200 | LOSS 0.1725\n",
            "TRAIN: EPOCH 0003 / 0005 | BATCH 0168 / 0200 | LOSS 0.1725\n",
            "TRAIN: EPOCH 0003 / 0005 | BATCH 0169 / 0200 | LOSS 0.1718\n",
            "TRAIN: EPOCH 0003 / 0005 | BATCH 0170 / 0200 | LOSS 0.1716\n",
            "TRAIN: EPOCH 0003 / 0005 | BATCH 0171 / 0200 | LOSS 0.1717\n",
            "TRAIN: EPOCH 0003 / 0005 | BATCH 0172 / 0200 | LOSS 0.1712\n",
            "TRAIN: EPOCH 0003 / 0005 | BATCH 0173 / 0200 | LOSS 0.1709\n",
            "TRAIN: EPOCH 0003 / 0005 | BATCH 0174 / 0200 | LOSS 0.1722\n",
            "TRAIN: EPOCH 0003 / 0005 | BATCH 0175 / 0200 | LOSS 0.1722\n",
            "TRAIN: EPOCH 0003 / 0005 | BATCH 0176 / 0200 | LOSS 0.1721\n",
            "TRAIN: EPOCH 0003 / 0005 | BATCH 0177 / 0200 | LOSS 0.1716\n",
            "TRAIN: EPOCH 0003 / 0005 | BATCH 0178 / 0200 | LOSS 0.1728\n",
            "TRAIN: EPOCH 0003 / 0005 | BATCH 0179 / 0200 | LOSS 0.1732\n",
            "TRAIN: EPOCH 0003 / 0005 | BATCH 0180 / 0200 | LOSS 0.1737\n",
            "TRAIN: EPOCH 0003 / 0005 | BATCH 0181 / 0200 | LOSS 0.1731\n",
            "TRAIN: EPOCH 0003 / 0005 | BATCH 0182 / 0200 | LOSS 0.1729\n",
            "TRAIN: EPOCH 0003 / 0005 | BATCH 0183 / 0200 | LOSS 0.1737\n",
            "TRAIN: EPOCH 0003 / 0005 | BATCH 0184 / 0200 | LOSS 0.1744\n",
            "TRAIN: EPOCH 0003 / 0005 | BATCH 0185 / 0200 | LOSS 0.1752\n",
            "TRAIN: EPOCH 0003 / 0005 | BATCH 0186 / 0200 | LOSS 0.1746\n",
            "TRAIN: EPOCH 0003 / 0005 | BATCH 0187 / 0200 | LOSS 0.1741\n",
            "TRAIN: EPOCH 0003 / 0005 | BATCH 0188 / 0200 | LOSS 0.1739\n",
            "TRAIN: EPOCH 0003 / 0005 | BATCH 0189 / 0200 | LOSS 0.1735\n",
            "TRAIN: EPOCH 0003 / 0005 | BATCH 0190 / 0200 | LOSS 0.1737\n",
            "TRAIN: EPOCH 0003 / 0005 | BATCH 0191 / 0200 | LOSS 0.1735\n",
            "TRAIN: EPOCH 0003 / 0005 | BATCH 0192 / 0200 | LOSS 0.1732\n",
            "TRAIN: EPOCH 0003 / 0005 | BATCH 0193 / 0200 | LOSS 0.1735\n",
            "TRAIN: EPOCH 0003 / 0005 | BATCH 0194 / 0200 | LOSS 0.1731\n",
            "TRAIN: EPOCH 0003 / 0005 | BATCH 0195 / 0200 | LOSS 0.1733\n",
            "TRAIN: EPOCH 0003 / 0005 | BATCH 0196 / 0200 | LOSS 0.1740\n",
            "TRAIN: EPOCH 0003 / 0005 | BATCH 0197 / 0200 | LOSS 0.1738\n",
            "TRAIN: EPOCH 0003 / 0005 | BATCH 0198 / 0200 | LOSS 0.1733\n",
            "TRAIN: EPOCH 0003 / 0005 | BATCH 0199 / 0200 | LOSS 0.1730\n",
            "TRAIN: EPOCH 0003 / 0005 | BATCH 0200 / 0200 | LOSS 0.1724\n",
            "VALID: EPOCH 0003 / 0005 | BATCH 0001 / 0025 | LOSS 0.1390\n",
            "VALID: EPOCH 0003 / 0005 | BATCH 0002 / 0025 | LOSS 0.1926\n",
            "VALID: EPOCH 0003 / 0005 | BATCH 0003 / 0025 | LOSS 0.1860\n",
            "VALID: EPOCH 0003 / 0005 | BATCH 0004 / 0025 | LOSS 0.1621\n",
            "VALID: EPOCH 0003 / 0005 | BATCH 0005 / 0025 | LOSS 0.1791\n",
            "VALID: EPOCH 0003 / 0005 | BATCH 0006 / 0025 | LOSS 0.1779\n",
            "VALID: EPOCH 0003 / 0005 | BATCH 0007 / 0025 | LOSS 0.1658\n",
            "VALID: EPOCH 0003 / 0005 | BATCH 0008 / 0025 | LOSS 0.1686\n",
            "VALID: EPOCH 0003 / 0005 | BATCH 0009 / 0025 | LOSS 0.1579\n",
            "VALID: EPOCH 0003 / 0005 | BATCH 0010 / 0025 | LOSS 0.1565\n",
            "VALID: EPOCH 0003 / 0005 | BATCH 0011 / 0025 | LOSS 0.1556\n",
            "VALID: EPOCH 0003 / 0005 | BATCH 0012 / 0025 | LOSS 0.1730\n",
            "VALID: EPOCH 0003 / 0005 | BATCH 0013 / 0025 | LOSS 0.1704\n",
            "VALID: EPOCH 0003 / 0005 | BATCH 0014 / 0025 | LOSS 0.1656\n",
            "VALID: EPOCH 0003 / 0005 | BATCH 0015 / 0025 | LOSS 0.1590\n",
            "VALID: EPOCH 0003 / 0005 | BATCH 0016 / 0025 | LOSS 0.1769\n",
            "VALID: EPOCH 0003 / 0005 | BATCH 0017 / 0025 | LOSS 0.1944\n",
            "VALID: EPOCH 0003 / 0005 | BATCH 0018 / 0025 | LOSS 0.1904\n",
            "VALID: EPOCH 0003 / 0005 | BATCH 0019 / 0025 | LOSS 0.1936\n",
            "VALID: EPOCH 0003 / 0005 | BATCH 0020 / 0025 | LOSS 0.1900\n",
            "VALID: EPOCH 0003 / 0005 | BATCH 0021 / 0025 | LOSS 0.1860\n",
            "VALID: EPOCH 0003 / 0005 | BATCH 0022 / 0025 | LOSS 0.1883\n",
            "VALID: EPOCH 0003 / 0005 | BATCH 0023 / 0025 | LOSS 0.1939\n",
            "VALID: EPOCH 0003 / 0005 | BATCH 0024 / 0025 | LOSS 0.1920\n",
            "VALID: EPOCH 0003 / 0005 | BATCH 0025 / 0025 | LOSS 0.1882\n",
            "TRAIN: EPOCH 0004 / 0005 | BATCH 0001 / 0200 | LOSS 0.1945\n",
            "TRAIN: EPOCH 0004 / 0005 | BATCH 0002 / 0200 | LOSS 0.2476\n",
            "TRAIN: EPOCH 0004 / 0005 | BATCH 0003 / 0200 | LOSS 0.2303\n",
            "TRAIN: EPOCH 0004 / 0005 | BATCH 0004 / 0200 | LOSS 0.2195\n",
            "TRAIN: EPOCH 0004 / 0005 | BATCH 0005 / 0200 | LOSS 0.2048\n",
            "TRAIN: EPOCH 0004 / 0005 | BATCH 0006 / 0200 | LOSS 0.2043\n",
            "TRAIN: EPOCH 0004 / 0005 | BATCH 0007 / 0200 | LOSS 0.1995\n",
            "TRAIN: EPOCH 0004 / 0005 | BATCH 0008 / 0200 | LOSS 0.2042\n",
            "TRAIN: EPOCH 0004 / 0005 | BATCH 0009 / 0200 | LOSS 0.1944\n",
            "TRAIN: EPOCH 0004 / 0005 | BATCH 0010 / 0200 | LOSS 0.1959\n",
            "TRAIN: EPOCH 0004 / 0005 | BATCH 0011 / 0200 | LOSS 0.1941\n",
            "TRAIN: EPOCH 0004 / 0005 | BATCH 0012 / 0200 | LOSS 0.1884\n",
            "TRAIN: EPOCH 0004 / 0005 | BATCH 0013 / 0200 | LOSS 0.1816\n",
            "TRAIN: EPOCH 0004 / 0005 | BATCH 0014 / 0200 | LOSS 0.1787\n",
            "TRAIN: EPOCH 0004 / 0005 | BATCH 0015 / 0200 | LOSS 0.1735\n",
            "TRAIN: EPOCH 0004 / 0005 | BATCH 0016 / 0200 | LOSS 0.1814\n",
            "TRAIN: EPOCH 0004 / 0005 | BATCH 0017 / 0200 | LOSS 0.1812\n",
            "TRAIN: EPOCH 0004 / 0005 | BATCH 0018 / 0200 | LOSS 0.1790\n",
            "TRAIN: EPOCH 0004 / 0005 | BATCH 0019 / 0200 | LOSS 0.1774\n",
            "TRAIN: EPOCH 0004 / 0005 | BATCH 0020 / 0200 | LOSS 0.1847\n",
            "TRAIN: EPOCH 0004 / 0005 | BATCH 0021 / 0200 | LOSS 0.1909\n",
            "TRAIN: EPOCH 0004 / 0005 | BATCH 0022 / 0200 | LOSS 0.1877\n",
            "TRAIN: EPOCH 0004 / 0005 | BATCH 0023 / 0200 | LOSS 0.1931\n",
            "TRAIN: EPOCH 0004 / 0005 | BATCH 0024 / 0200 | LOSS 0.1919\n",
            "TRAIN: EPOCH 0004 / 0005 | BATCH 0025 / 0200 | LOSS 0.1892\n",
            "TRAIN: EPOCH 0004 / 0005 | BATCH 0026 / 0200 | LOSS 0.1932\n",
            "TRAIN: EPOCH 0004 / 0005 | BATCH 0027 / 0200 | LOSS 0.1893\n",
            "TRAIN: EPOCH 0004 / 0005 | BATCH 0028 / 0200 | LOSS 0.1891\n",
            "TRAIN: EPOCH 0004 / 0005 | BATCH 0029 / 0200 | LOSS 0.1978\n",
            "TRAIN: EPOCH 0004 / 0005 | BATCH 0030 / 0200 | LOSS 0.1936\n",
            "TRAIN: EPOCH 0004 / 0005 | BATCH 0031 / 0200 | LOSS 0.1909\n",
            "TRAIN: EPOCH 0004 / 0005 | BATCH 0032 / 0200 | LOSS 0.1883\n",
            "TRAIN: EPOCH 0004 / 0005 | BATCH 0033 / 0200 | LOSS 0.1845\n",
            "TRAIN: EPOCH 0004 / 0005 | BATCH 0034 / 0200 | LOSS 0.1857\n",
            "TRAIN: EPOCH 0004 / 0005 | BATCH 0035 / 0200 | LOSS 0.1835\n",
            "TRAIN: EPOCH 0004 / 0005 | BATCH 0036 / 0200 | LOSS 0.1808\n",
            "TRAIN: EPOCH 0004 / 0005 | BATCH 0037 / 0200 | LOSS 0.1774\n",
            "TRAIN: EPOCH 0004 / 0005 | BATCH 0038 / 0200 | LOSS 0.1771\n",
            "TRAIN: EPOCH 0004 / 0005 | BATCH 0039 / 0200 | LOSS 0.1760\n",
            "TRAIN: EPOCH 0004 / 0005 | BATCH 0040 / 0200 | LOSS 0.1809\n",
            "TRAIN: EPOCH 0004 / 0005 | BATCH 0041 / 0200 | LOSS 0.1788\n",
            "TRAIN: EPOCH 0004 / 0005 | BATCH 0042 / 0200 | LOSS 0.1789\n",
            "TRAIN: EPOCH 0004 / 0005 | BATCH 0043 / 0200 | LOSS 0.1774\n",
            "TRAIN: EPOCH 0004 / 0005 | BATCH 0044 / 0200 | LOSS 0.1772\n",
            "TRAIN: EPOCH 0004 / 0005 | BATCH 0045 / 0200 | LOSS 0.1763\n",
            "TRAIN: EPOCH 0004 / 0005 | BATCH 0046 / 0200 | LOSS 0.1749\n",
            "TRAIN: EPOCH 0004 / 0005 | BATCH 0047 / 0200 | LOSS 0.1732\n",
            "TRAIN: EPOCH 0004 / 0005 | BATCH 0048 / 0200 | LOSS 0.1731\n",
            "TRAIN: EPOCH 0004 / 0005 | BATCH 0049 / 0200 | LOSS 0.1731\n",
            "TRAIN: EPOCH 0004 / 0005 | BATCH 0050 / 0200 | LOSS 0.1760\n",
            "TRAIN: EPOCH 0004 / 0005 | BATCH 0051 / 0200 | LOSS 0.1740\n",
            "TRAIN: EPOCH 0004 / 0005 | BATCH 0052 / 0200 | LOSS 0.1717\n",
            "TRAIN: EPOCH 0004 / 0005 | BATCH 0053 / 0200 | LOSS 0.1742\n",
            "TRAIN: EPOCH 0004 / 0005 | BATCH 0054 / 0200 | LOSS 0.1747\n",
            "TRAIN: EPOCH 0004 / 0005 | BATCH 0055 / 0200 | LOSS 0.1751\n",
            "TRAIN: EPOCH 0004 / 0005 | BATCH 0056 / 0200 | LOSS 0.1750\n",
            "TRAIN: EPOCH 0004 / 0005 | BATCH 0057 / 0200 | LOSS 0.1742\n",
            "TRAIN: EPOCH 0004 / 0005 | BATCH 0058 / 0200 | LOSS 0.1728\n",
            "TRAIN: EPOCH 0004 / 0005 | BATCH 0059 / 0200 | LOSS 0.1714\n",
            "TRAIN: EPOCH 0004 / 0005 | BATCH 0060 / 0200 | LOSS 0.1702\n",
            "TRAIN: EPOCH 0004 / 0005 | BATCH 0061 / 0200 | LOSS 0.1761\n",
            "TRAIN: EPOCH 0004 / 0005 | BATCH 0062 / 0200 | LOSS 0.1786\n",
            "TRAIN: EPOCH 0004 / 0005 | BATCH 0063 / 0200 | LOSS 0.1804\n",
            "TRAIN: EPOCH 0004 / 0005 | BATCH 0064 / 0200 | LOSS 0.1797\n",
            "TRAIN: EPOCH 0004 / 0005 | BATCH 0065 / 0200 | LOSS 0.1827\n",
            "TRAIN: EPOCH 0004 / 0005 | BATCH 0066 / 0200 | LOSS 0.1813\n",
            "TRAIN: EPOCH 0004 / 0005 | BATCH 0067 / 0200 | LOSS 0.1844\n",
            "TRAIN: EPOCH 0004 / 0005 | BATCH 0068 / 0200 | LOSS 0.1877\n",
            "TRAIN: EPOCH 0004 / 0005 | BATCH 0069 / 0200 | LOSS 0.1867\n",
            "TRAIN: EPOCH 0004 / 0005 | BATCH 0070 / 0200 | LOSS 0.1866\n",
            "TRAIN: EPOCH 0004 / 0005 | BATCH 0071 / 0200 | LOSS 0.1857\n",
            "TRAIN: EPOCH 0004 / 0005 | BATCH 0072 / 0200 | LOSS 0.1843\n",
            "TRAIN: EPOCH 0004 / 0005 | BATCH 0073 / 0200 | LOSS 0.1862\n",
            "TRAIN: EPOCH 0004 / 0005 | BATCH 0074 / 0200 | LOSS 0.1863\n",
            "TRAIN: EPOCH 0004 / 0005 | BATCH 0075 / 0200 | LOSS 0.1857\n",
            "TRAIN: EPOCH 0004 / 0005 | BATCH 0076 / 0200 | LOSS 0.1867\n",
            "TRAIN: EPOCH 0004 / 0005 | BATCH 0077 / 0200 | LOSS 0.1860\n",
            "TRAIN: EPOCH 0004 / 0005 | BATCH 0078 / 0200 | LOSS 0.1851\n",
            "TRAIN: EPOCH 0004 / 0005 | BATCH 0079 / 0200 | LOSS 0.1859\n",
            "TRAIN: EPOCH 0004 / 0005 | BATCH 0080 / 0200 | LOSS 0.1873\n",
            "TRAIN: EPOCH 0004 / 0005 | BATCH 0081 / 0200 | LOSS 0.1879\n",
            "TRAIN: EPOCH 0004 / 0005 | BATCH 0082 / 0200 | LOSS 0.1869\n",
            "TRAIN: EPOCH 0004 / 0005 | BATCH 0083 / 0200 | LOSS 0.1875\n",
            "TRAIN: EPOCH 0004 / 0005 | BATCH 0084 / 0200 | LOSS 0.1877\n",
            "TRAIN: EPOCH 0004 / 0005 | BATCH 0085 / 0200 | LOSS 0.1875\n",
            "TRAIN: EPOCH 0004 / 0005 | BATCH 0086 / 0200 | LOSS 0.1865\n",
            "TRAIN: EPOCH 0004 / 0005 | BATCH 0087 / 0200 | LOSS 0.1855\n",
            "TRAIN: EPOCH 0004 / 0005 | BATCH 0088 / 0200 | LOSS 0.1843\n",
            "TRAIN: EPOCH 0004 / 0005 | BATCH 0089 / 0200 | LOSS 0.1862\n",
            "TRAIN: EPOCH 0004 / 0005 | BATCH 0090 / 0200 | LOSS 0.1869\n",
            "TRAIN: EPOCH 0004 / 0005 | BATCH 0091 / 0200 | LOSS 0.1859\n",
            "TRAIN: EPOCH 0004 / 0005 | BATCH 0092 / 0200 | LOSS 0.1859\n",
            "TRAIN: EPOCH 0004 / 0005 | BATCH 0093 / 0200 | LOSS 0.1862\n",
            "TRAIN: EPOCH 0004 / 0005 | BATCH 0094 / 0200 | LOSS 0.1852\n",
            "TRAIN: EPOCH 0004 / 0005 | BATCH 0095 / 0200 | LOSS 0.1846\n",
            "TRAIN: EPOCH 0004 / 0005 | BATCH 0096 / 0200 | LOSS 0.1853\n",
            "TRAIN: EPOCH 0004 / 0005 | BATCH 0097 / 0200 | LOSS 0.1843\n",
            "TRAIN: EPOCH 0004 / 0005 | BATCH 0098 / 0200 | LOSS 0.1847\n",
            "TRAIN: EPOCH 0004 / 0005 | BATCH 0099 / 0200 | LOSS 0.1848\n",
            "TRAIN: EPOCH 0004 / 0005 | BATCH 0100 / 0200 | LOSS 0.1870\n",
            "TRAIN: EPOCH 0004 / 0005 | BATCH 0101 / 0200 | LOSS 0.1859\n",
            "TRAIN: EPOCH 0004 / 0005 | BATCH 0102 / 0200 | LOSS 0.1849\n",
            "TRAIN: EPOCH 0004 / 0005 | BATCH 0103 / 0200 | LOSS 0.1837\n",
            "TRAIN: EPOCH 0004 / 0005 | BATCH 0104 / 0200 | LOSS 0.1830\n",
            "TRAIN: EPOCH 0004 / 0005 | BATCH 0105 / 0200 | LOSS 0.1821\n",
            "TRAIN: EPOCH 0004 / 0005 | BATCH 0106 / 0200 | LOSS 0.1809\n",
            "TRAIN: EPOCH 0004 / 0005 | BATCH 0107 / 0200 | LOSS 0.1802\n",
            "TRAIN: EPOCH 0004 / 0005 | BATCH 0108 / 0200 | LOSS 0.1827\n",
            "TRAIN: EPOCH 0004 / 0005 | BATCH 0109 / 0200 | LOSS 0.1823\n",
            "TRAIN: EPOCH 0004 / 0005 | BATCH 0110 / 0200 | LOSS 0.1816\n",
            "TRAIN: EPOCH 0004 / 0005 | BATCH 0111 / 0200 | LOSS 0.1812\n",
            "TRAIN: EPOCH 0004 / 0005 | BATCH 0112 / 0200 | LOSS 0.1802\n",
            "TRAIN: EPOCH 0004 / 0005 | BATCH 0113 / 0200 | LOSS 0.1795\n",
            "TRAIN: EPOCH 0004 / 0005 | BATCH 0114 / 0200 | LOSS 0.1790\n",
            "TRAIN: EPOCH 0004 / 0005 | BATCH 0115 / 0200 | LOSS 0.1784\n",
            "TRAIN: EPOCH 0004 / 0005 | BATCH 0116 / 0200 | LOSS 0.1779\n",
            "TRAIN: EPOCH 0004 / 0005 | BATCH 0117 / 0200 | LOSS 0.1772\n",
            "TRAIN: EPOCH 0004 / 0005 | BATCH 0118 / 0200 | LOSS 0.1762\n",
            "TRAIN: EPOCH 0004 / 0005 | BATCH 0119 / 0200 | LOSS 0.1756\n",
            "TRAIN: EPOCH 0004 / 0005 | BATCH 0120 / 0200 | LOSS 0.1755\n",
            "TRAIN: EPOCH 0004 / 0005 | BATCH 0121 / 0200 | LOSS 0.1747\n",
            "TRAIN: EPOCH 0004 / 0005 | BATCH 0122 / 0200 | LOSS 0.1739\n",
            "TRAIN: EPOCH 0004 / 0005 | BATCH 0123 / 0200 | LOSS 0.1740\n",
            "TRAIN: EPOCH 0004 / 0005 | BATCH 0124 / 0200 | LOSS 0.1734\n",
            "TRAIN: EPOCH 0004 / 0005 | BATCH 0125 / 0200 | LOSS 0.1732\n",
            "TRAIN: EPOCH 0004 / 0005 | BATCH 0126 / 0200 | LOSS 0.1727\n",
            "TRAIN: EPOCH 0004 / 0005 | BATCH 0127 / 0200 | LOSS 0.1721\n",
            "TRAIN: EPOCH 0004 / 0005 | BATCH 0128 / 0200 | LOSS 0.1718\n",
            "TRAIN: EPOCH 0004 / 0005 | BATCH 0129 / 0200 | LOSS 0.1710\n",
            "TRAIN: EPOCH 0004 / 0005 | BATCH 0130 / 0200 | LOSS 0.1709\n",
            "TRAIN: EPOCH 0004 / 0005 | BATCH 0131 / 0200 | LOSS 0.1702\n",
            "TRAIN: EPOCH 0004 / 0005 | BATCH 0132 / 0200 | LOSS 0.1699\n",
            "TRAIN: EPOCH 0004 / 0005 | BATCH 0133 / 0200 | LOSS 0.1694\n",
            "TRAIN: EPOCH 0004 / 0005 | BATCH 0134 / 0200 | LOSS 0.1692\n",
            "TRAIN: EPOCH 0004 / 0005 | BATCH 0135 / 0200 | LOSS 0.1687\n",
            "TRAIN: EPOCH 0004 / 0005 | BATCH 0136 / 0200 | LOSS 0.1689\n",
            "TRAIN: EPOCH 0004 / 0005 | BATCH 0137 / 0200 | LOSS 0.1685\n",
            "TRAIN: EPOCH 0004 / 0005 | BATCH 0138 / 0200 | LOSS 0.1695\n",
            "TRAIN: EPOCH 0004 / 0005 | BATCH 0139 / 0200 | LOSS 0.1704\n",
            "TRAIN: EPOCH 0004 / 0005 | BATCH 0140 / 0200 | LOSS 0.1700\n",
            "TRAIN: EPOCH 0004 / 0005 | BATCH 0141 / 0200 | LOSS 0.1708\n",
            "TRAIN: EPOCH 0004 / 0005 | BATCH 0142 / 0200 | LOSS 0.1708\n",
            "TRAIN: EPOCH 0004 / 0005 | BATCH 0143 / 0200 | LOSS 0.1706\n",
            "TRAIN: EPOCH 0004 / 0005 | BATCH 0144 / 0200 | LOSS 0.1711\n",
            "TRAIN: EPOCH 0004 / 0005 | BATCH 0145 / 0200 | LOSS 0.1706\n",
            "TRAIN: EPOCH 0004 / 0005 | BATCH 0146 / 0200 | LOSS 0.1710\n",
            "TRAIN: EPOCH 0004 / 0005 | BATCH 0147 / 0200 | LOSS 0.1709\n",
            "TRAIN: EPOCH 0004 / 0005 | BATCH 0148 / 0200 | LOSS 0.1716\n",
            "TRAIN: EPOCH 0004 / 0005 | BATCH 0149 / 0200 | LOSS 0.1709\n",
            "TRAIN: EPOCH 0004 / 0005 | BATCH 0150 / 0200 | LOSS 0.1710\n",
            "TRAIN: EPOCH 0004 / 0005 | BATCH 0151 / 0200 | LOSS 0.1716\n",
            "TRAIN: EPOCH 0004 / 0005 | BATCH 0152 / 0200 | LOSS 0.1708\n",
            "TRAIN: EPOCH 0004 / 0005 | BATCH 0153 / 0200 | LOSS 0.1702\n",
            "TRAIN: EPOCH 0004 / 0005 | BATCH 0154 / 0200 | LOSS 0.1695\n",
            "TRAIN: EPOCH 0004 / 0005 | BATCH 0155 / 0200 | LOSS 0.1690\n",
            "TRAIN: EPOCH 0004 / 0005 | BATCH 0156 / 0200 | LOSS 0.1687\n",
            "TRAIN: EPOCH 0004 / 0005 | BATCH 0157 / 0200 | LOSS 0.1692\n",
            "TRAIN: EPOCH 0004 / 0005 | BATCH 0158 / 0200 | LOSS 0.1693\n",
            "TRAIN: EPOCH 0004 / 0005 | BATCH 0159 / 0200 | LOSS 0.1687\n",
            "TRAIN: EPOCH 0004 / 0005 | BATCH 0160 / 0200 | LOSS 0.1684\n",
            "TRAIN: EPOCH 0004 / 0005 | BATCH 0161 / 0200 | LOSS 0.1684\n",
            "TRAIN: EPOCH 0004 / 0005 | BATCH 0162 / 0200 | LOSS 0.1683\n",
            "TRAIN: EPOCH 0004 / 0005 | BATCH 0163 / 0200 | LOSS 0.1678\n",
            "TRAIN: EPOCH 0004 / 0005 | BATCH 0164 / 0200 | LOSS 0.1675\n",
            "TRAIN: EPOCH 0004 / 0005 | BATCH 0165 / 0200 | LOSS 0.1674\n",
            "TRAIN: EPOCH 0004 / 0005 | BATCH 0166 / 0200 | LOSS 0.1670\n",
            "TRAIN: EPOCH 0004 / 0005 | BATCH 0167 / 0200 | LOSS 0.1679\n",
            "TRAIN: EPOCH 0004 / 0005 | BATCH 0168 / 0200 | LOSS 0.1673\n",
            "TRAIN: EPOCH 0004 / 0005 | BATCH 0169 / 0200 | LOSS 0.1674\n",
            "TRAIN: EPOCH 0004 / 0005 | BATCH 0170 / 0200 | LOSS 0.1670\n",
            "TRAIN: EPOCH 0004 / 0005 | BATCH 0171 / 0200 | LOSS 0.1673\n",
            "TRAIN: EPOCH 0004 / 0005 | BATCH 0172 / 0200 | LOSS 0.1684\n",
            "TRAIN: EPOCH 0004 / 0005 | BATCH 0173 / 0200 | LOSS 0.1694\n",
            "TRAIN: EPOCH 0004 / 0005 | BATCH 0174 / 0200 | LOSS 0.1703\n",
            "TRAIN: EPOCH 0004 / 0005 | BATCH 0175 / 0200 | LOSS 0.1704\n",
            "TRAIN: EPOCH 0004 / 0005 | BATCH 0176 / 0200 | LOSS 0.1703\n",
            "TRAIN: EPOCH 0004 / 0005 | BATCH 0177 / 0200 | LOSS 0.1697\n",
            "TRAIN: EPOCH 0004 / 0005 | BATCH 0178 / 0200 | LOSS 0.1697\n",
            "TRAIN: EPOCH 0004 / 0005 | BATCH 0179 / 0200 | LOSS 0.1693\n",
            "TRAIN: EPOCH 0004 / 0005 | BATCH 0180 / 0200 | LOSS 0.1702\n",
            "TRAIN: EPOCH 0004 / 0005 | BATCH 0181 / 0200 | LOSS 0.1710\n",
            "TRAIN: EPOCH 0004 / 0005 | BATCH 0182 / 0200 | LOSS 0.1709\n",
            "TRAIN: EPOCH 0004 / 0005 | BATCH 0183 / 0200 | LOSS 0.1729\n",
            "TRAIN: EPOCH 0004 / 0005 | BATCH 0184 / 0200 | LOSS 0.1727\n",
            "TRAIN: EPOCH 0004 / 0005 | BATCH 0185 / 0200 | LOSS 0.1731\n",
            "TRAIN: EPOCH 0004 / 0005 | BATCH 0186 / 0200 | LOSS 0.1730\n",
            "TRAIN: EPOCH 0004 / 0005 | BATCH 0187 / 0200 | LOSS 0.1726\n",
            "TRAIN: EPOCH 0004 / 0005 | BATCH 0188 / 0200 | LOSS 0.1721\n",
            "TRAIN: EPOCH 0004 / 0005 | BATCH 0189 / 0200 | LOSS 0.1716\n",
            "TRAIN: EPOCH 0004 / 0005 | BATCH 0190 / 0200 | LOSS 0.1716\n",
            "TRAIN: EPOCH 0004 / 0005 | BATCH 0191 / 0200 | LOSS 0.1716\n",
            "TRAIN: EPOCH 0004 / 0005 | BATCH 0192 / 0200 | LOSS 0.1711\n",
            "TRAIN: EPOCH 0004 / 0005 | BATCH 0193 / 0200 | LOSS 0.1710\n",
            "TRAIN: EPOCH 0004 / 0005 | BATCH 0194 / 0200 | LOSS 0.1710\n",
            "TRAIN: EPOCH 0004 / 0005 | BATCH 0195 / 0200 | LOSS 0.1713\n",
            "TRAIN: EPOCH 0004 / 0005 | BATCH 0196 / 0200 | LOSS 0.1708\n",
            "TRAIN: EPOCH 0004 / 0005 | BATCH 0197 / 0200 | LOSS 0.1704\n",
            "TRAIN: EPOCH 0004 / 0005 | BATCH 0198 / 0200 | LOSS 0.1703\n",
            "TRAIN: EPOCH 0004 / 0005 | BATCH 0199 / 0200 | LOSS 0.1719\n",
            "TRAIN: EPOCH 0004 / 0005 | BATCH 0200 / 0200 | LOSS 0.1723\n",
            "VALID: EPOCH 0004 / 0005 | BATCH 0001 / 0025 | LOSS 0.1389\n",
            "VALID: EPOCH 0004 / 0005 | BATCH 0002 / 0025 | LOSS 0.1929\n",
            "VALID: EPOCH 0004 / 0005 | BATCH 0003 / 0025 | LOSS 0.1865\n",
            "VALID: EPOCH 0004 / 0005 | BATCH 0004 / 0025 | LOSS 0.1616\n",
            "VALID: EPOCH 0004 / 0005 | BATCH 0005 / 0025 | LOSS 0.1789\n",
            "VALID: EPOCH 0004 / 0005 | BATCH 0006 / 0025 | LOSS 0.1779\n",
            "VALID: EPOCH 0004 / 0005 | BATCH 0007 / 0025 | LOSS 0.1653\n",
            "VALID: EPOCH 0004 / 0005 | BATCH 0008 / 0025 | LOSS 0.1680\n",
            "VALID: EPOCH 0004 / 0005 | BATCH 0009 / 0025 | LOSS 0.1567\n",
            "VALID: EPOCH 0004 / 0005 | BATCH 0010 / 0025 | LOSS 0.1551\n",
            "VALID: EPOCH 0004 / 0005 | BATCH 0011 / 0025 | LOSS 0.1544\n",
            "VALID: EPOCH 0004 / 0005 | BATCH 0012 / 0025 | LOSS 0.1721\n",
            "VALID: EPOCH 0004 / 0005 | BATCH 0013 / 0025 | LOSS 0.1696\n",
            "VALID: EPOCH 0004 / 0005 | BATCH 0014 / 0025 | LOSS 0.1647\n",
            "VALID: EPOCH 0004 / 0005 | BATCH 0015 / 0025 | LOSS 0.1579\n",
            "VALID: EPOCH 0004 / 0005 | BATCH 0016 / 0025 | LOSS 0.1767\n",
            "VALID: EPOCH 0004 / 0005 | BATCH 0017 / 0025 | LOSS 0.1950\n",
            "VALID: EPOCH 0004 / 0005 | BATCH 0018 / 0025 | LOSS 0.1910\n",
            "VALID: EPOCH 0004 / 0005 | BATCH 0019 / 0025 | LOSS 0.1941\n",
            "VALID: EPOCH 0004 / 0005 | BATCH 0020 / 0025 | LOSS 0.1903\n",
            "VALID: EPOCH 0004 / 0005 | BATCH 0021 / 0025 | LOSS 0.1864\n",
            "VALID: EPOCH 0004 / 0005 | BATCH 0022 / 0025 | LOSS 0.1887\n",
            "VALID: EPOCH 0004 / 0005 | BATCH 0023 / 0025 | LOSS 0.1944\n",
            "VALID: EPOCH 0004 / 0005 | BATCH 0024 / 0025 | LOSS 0.1925\n",
            "VALID: EPOCH 0004 / 0005 | BATCH 0025 / 0025 | LOSS 0.1886\n",
            "TRAIN: EPOCH 0005 / 0005 | BATCH 0001 / 0200 | LOSS 0.0686\n",
            "TRAIN: EPOCH 0005 / 0005 | BATCH 0002 / 0200 | LOSS 0.0963\n",
            "TRAIN: EPOCH 0005 / 0005 | BATCH 0003 / 0200 | LOSS 0.1052\n",
            "TRAIN: EPOCH 0005 / 0005 | BATCH 0004 / 0200 | LOSS 0.1076\n",
            "TRAIN: EPOCH 0005 / 0005 | BATCH 0005 / 0200 | LOSS 0.1058\n",
            "TRAIN: EPOCH 0005 / 0005 | BATCH 0006 / 0200 | LOSS 0.1121\n",
            "TRAIN: EPOCH 0005 / 0005 | BATCH 0007 / 0200 | LOSS 0.1079\n",
            "TRAIN: EPOCH 0005 / 0005 | BATCH 0008 / 0200 | LOSS 0.1130\n",
            "TRAIN: EPOCH 0005 / 0005 | BATCH 0009 / 0200 | LOSS 0.1285\n",
            "TRAIN: EPOCH 0005 / 0005 | BATCH 0010 / 0200 | LOSS 0.1275\n",
            "TRAIN: EPOCH 0005 / 0005 | BATCH 0011 / 0200 | LOSS 0.1222\n",
            "TRAIN: EPOCH 0005 / 0005 | BATCH 0012 / 0200 | LOSS 0.1293\n",
            "TRAIN: EPOCH 0005 / 0005 | BATCH 0013 / 0200 | LOSS 0.1355\n",
            "TRAIN: EPOCH 0005 / 0005 | BATCH 0014 / 0200 | LOSS 0.1325\n",
            "TRAIN: EPOCH 0005 / 0005 | BATCH 0015 / 0200 | LOSS 0.1299\n",
            "TRAIN: EPOCH 0005 / 0005 | BATCH 0016 / 0200 | LOSS 0.1325\n",
            "TRAIN: EPOCH 0005 / 0005 | BATCH 0017 / 0200 | LOSS 0.1319\n",
            "TRAIN: EPOCH 0005 / 0005 | BATCH 0018 / 0200 | LOSS 0.1328\n",
            "TRAIN: EPOCH 0005 / 0005 | BATCH 0019 / 0200 | LOSS 0.1291\n",
            "TRAIN: EPOCH 0005 / 0005 | BATCH 0020 / 0200 | LOSS 0.1266\n",
            "TRAIN: EPOCH 0005 / 0005 | BATCH 0021 / 0200 | LOSS 0.1309\n",
            "TRAIN: EPOCH 0005 / 0005 | BATCH 0022 / 0200 | LOSS 0.1287\n",
            "TRAIN: EPOCH 0005 / 0005 | BATCH 0023 / 0200 | LOSS 0.1339\n",
            "TRAIN: EPOCH 0005 / 0005 | BATCH 0024 / 0200 | LOSS 0.1314\n",
            "TRAIN: EPOCH 0005 / 0005 | BATCH 0025 / 0200 | LOSS 0.1389\n",
            "TRAIN: EPOCH 0005 / 0005 | BATCH 0026 / 0200 | LOSS 0.1415\n",
            "TRAIN: EPOCH 0005 / 0005 | BATCH 0027 / 0200 | LOSS 0.1437\n",
            "TRAIN: EPOCH 0005 / 0005 | BATCH 0028 / 0200 | LOSS 0.1406\n",
            "TRAIN: EPOCH 0005 / 0005 | BATCH 0029 / 0200 | LOSS 0.1383\n",
            "TRAIN: EPOCH 0005 / 0005 | BATCH 0030 / 0200 | LOSS 0.1385\n",
            "TRAIN: EPOCH 0005 / 0005 | BATCH 0031 / 0200 | LOSS 0.1397\n",
            "TRAIN: EPOCH 0005 / 0005 | BATCH 0032 / 0200 | LOSS 0.1382\n",
            "TRAIN: EPOCH 0005 / 0005 | BATCH 0033 / 0200 | LOSS 0.1415\n",
            "TRAIN: EPOCH 0005 / 0005 | BATCH 0034 / 0200 | LOSS 0.1401\n",
            "TRAIN: EPOCH 0005 / 0005 | BATCH 0035 / 0200 | LOSS 0.1461\n",
            "TRAIN: EPOCH 0005 / 0005 | BATCH 0036 / 0200 | LOSS 0.1485\n",
            "TRAIN: EPOCH 0005 / 0005 | BATCH 0037 / 0200 | LOSS 0.1479\n",
            "TRAIN: EPOCH 0005 / 0005 | BATCH 0038 / 0200 | LOSS 0.1456\n",
            "TRAIN: EPOCH 0005 / 0005 | BATCH 0039 / 0200 | LOSS 0.1444\n",
            "TRAIN: EPOCH 0005 / 0005 | BATCH 0040 / 0200 | LOSS 0.1437\n",
            "TRAIN: EPOCH 0005 / 0005 | BATCH 0041 / 0200 | LOSS 0.1451\n",
            "TRAIN: EPOCH 0005 / 0005 | BATCH 0042 / 0200 | LOSS 0.1429\n",
            "TRAIN: EPOCH 0005 / 0005 | BATCH 0043 / 0200 | LOSS 0.1474\n",
            "TRAIN: EPOCH 0005 / 0005 | BATCH 0044 / 0200 | LOSS 0.1455\n",
            "TRAIN: EPOCH 0005 / 0005 | BATCH 0045 / 0200 | LOSS 0.1513\n",
            "TRAIN: EPOCH 0005 / 0005 | BATCH 0046 / 0200 | LOSS 0.1522\n",
            "TRAIN: EPOCH 0005 / 0005 | BATCH 0047 / 0200 | LOSS 0.1509\n",
            "TRAIN: EPOCH 0005 / 0005 | BATCH 0048 / 0200 | LOSS 0.1531\n",
            "TRAIN: EPOCH 0005 / 0005 | BATCH 0049 / 0200 | LOSS 0.1574\n",
            "TRAIN: EPOCH 0005 / 0005 | BATCH 0050 / 0200 | LOSS 0.1620\n",
            "TRAIN: EPOCH 0005 / 0005 | BATCH 0051 / 0200 | LOSS 0.1611\n",
            "TRAIN: EPOCH 0005 / 0005 | BATCH 0052 / 0200 | LOSS 0.1589\n",
            "TRAIN: EPOCH 0005 / 0005 | BATCH 0053 / 0200 | LOSS 0.1600\n",
            "TRAIN: EPOCH 0005 / 0005 | BATCH 0054 / 0200 | LOSS 0.1589\n",
            "TRAIN: EPOCH 0005 / 0005 | BATCH 0055 / 0200 | LOSS 0.1570\n",
            "TRAIN: EPOCH 0005 / 0005 | BATCH 0056 / 0200 | LOSS 0.1563\n",
            "TRAIN: EPOCH 0005 / 0005 | BATCH 0057 / 0200 | LOSS 0.1552\n",
            "TRAIN: EPOCH 0005 / 0005 | BATCH 0058 / 0200 | LOSS 0.1544\n",
            "TRAIN: EPOCH 0005 / 0005 | BATCH 0059 / 0200 | LOSS 0.1541\n",
            "TRAIN: EPOCH 0005 / 0005 | BATCH 0060 / 0200 | LOSS 0.1571\n",
            "TRAIN: EPOCH 0005 / 0005 | BATCH 0061 / 0200 | LOSS 0.1566\n",
            "TRAIN: EPOCH 0005 / 0005 | BATCH 0062 / 0200 | LOSS 0.1588\n",
            "TRAIN: EPOCH 0005 / 0005 | BATCH 0063 / 0200 | LOSS 0.1585\n",
            "TRAIN: EPOCH 0005 / 0005 | BATCH 0064 / 0200 | LOSS 0.1569\n",
            "TRAIN: EPOCH 0005 / 0005 | BATCH 0065 / 0200 | LOSS 0.1564\n",
            "TRAIN: EPOCH 0005 / 0005 | BATCH 0066 / 0200 | LOSS 0.1592\n",
            "TRAIN: EPOCH 0005 / 0005 | BATCH 0067 / 0200 | LOSS 0.1603\n",
            "TRAIN: EPOCH 0005 / 0005 | BATCH 0068 / 0200 | LOSS 0.1597\n",
            "TRAIN: EPOCH 0005 / 0005 | BATCH 0069 / 0200 | LOSS 0.1594\n",
            "TRAIN: EPOCH 0005 / 0005 | BATCH 0070 / 0200 | LOSS 0.1587\n",
            "TRAIN: EPOCH 0005 / 0005 | BATCH 0071 / 0200 | LOSS 0.1581\n",
            "TRAIN: EPOCH 0005 / 0005 | BATCH 0072 / 0200 | LOSS 0.1577\n",
            "TRAIN: EPOCH 0005 / 0005 | BATCH 0073 / 0200 | LOSS 0.1598\n",
            "TRAIN: EPOCH 0005 / 0005 | BATCH 0074 / 0200 | LOSS 0.1585\n",
            "TRAIN: EPOCH 0005 / 0005 | BATCH 0075 / 0200 | LOSS 0.1578\n",
            "TRAIN: EPOCH 0005 / 0005 | BATCH 0076 / 0200 | LOSS 0.1587\n",
            "TRAIN: EPOCH 0005 / 0005 | BATCH 0077 / 0200 | LOSS 0.1586\n",
            "TRAIN: EPOCH 0005 / 0005 | BATCH 0078 / 0200 | LOSS 0.1593\n",
            "TRAIN: EPOCH 0005 / 0005 | BATCH 0079 / 0200 | LOSS 0.1584\n",
            "TRAIN: EPOCH 0005 / 0005 | BATCH 0080 / 0200 | LOSS 0.1608\n",
            "TRAIN: EPOCH 0005 / 0005 | BATCH 0081 / 0200 | LOSS 0.1610\n",
            "TRAIN: EPOCH 0005 / 0005 | BATCH 0082 / 0200 | LOSS 0.1600\n",
            "TRAIN: EPOCH 0005 / 0005 | BATCH 0083 / 0200 | LOSS 0.1599\n",
            "TRAIN: EPOCH 0005 / 0005 | BATCH 0084 / 0200 | LOSS 0.1616\n",
            "TRAIN: EPOCH 0005 / 0005 | BATCH 0085 / 0200 | LOSS 0.1610\n",
            "TRAIN: EPOCH 0005 / 0005 | BATCH 0086 / 0200 | LOSS 0.1620\n",
            "TRAIN: EPOCH 0005 / 0005 | BATCH 0087 / 0200 | LOSS 0.1616\n",
            "TRAIN: EPOCH 0005 / 0005 | BATCH 0088 / 0200 | LOSS 0.1604\n",
            "TRAIN: EPOCH 0005 / 0005 | BATCH 0089 / 0200 | LOSS 0.1612\n",
            "TRAIN: EPOCH 0005 / 0005 | BATCH 0090 / 0200 | LOSS 0.1603\n",
            "TRAIN: EPOCH 0005 / 0005 | BATCH 0091 / 0200 | LOSS 0.1601\n",
            "TRAIN: EPOCH 0005 / 0005 | BATCH 0092 / 0200 | LOSS 0.1599\n",
            "TRAIN: EPOCH 0005 / 0005 | BATCH 0093 / 0200 | LOSS 0.1589\n",
            "TRAIN: EPOCH 0005 / 0005 | BATCH 0094 / 0200 | LOSS 0.1592\n",
            "TRAIN: EPOCH 0005 / 0005 | BATCH 0095 / 0200 | LOSS 0.1614\n",
            "TRAIN: EPOCH 0005 / 0005 | BATCH 0096 / 0200 | LOSS 0.1624\n",
            "TRAIN: EPOCH 0005 / 0005 | BATCH 0097 / 0200 | LOSS 0.1623\n",
            "TRAIN: EPOCH 0005 / 0005 | BATCH 0098 / 0200 | LOSS 0.1632\n",
            "TRAIN: EPOCH 0005 / 0005 | BATCH 0099 / 0200 | LOSS 0.1646\n",
            "TRAIN: EPOCH 0005 / 0005 | BATCH 0100 / 0200 | LOSS 0.1654\n",
            "TRAIN: EPOCH 0005 / 0005 | BATCH 0101 / 0200 | LOSS 0.1652\n",
            "TRAIN: EPOCH 0005 / 0005 | BATCH 0102 / 0200 | LOSS 0.1670\n",
            "TRAIN: EPOCH 0005 / 0005 | BATCH 0103 / 0200 | LOSS 0.1662\n",
            "TRAIN: EPOCH 0005 / 0005 | BATCH 0104 / 0200 | LOSS 0.1661\n",
            "TRAIN: EPOCH 0005 / 0005 | BATCH 0105 / 0200 | LOSS 0.1657\n",
            "TRAIN: EPOCH 0005 / 0005 | BATCH 0106 / 0200 | LOSS 0.1667\n",
            "TRAIN: EPOCH 0005 / 0005 | BATCH 0107 / 0200 | LOSS 0.1682\n",
            "TRAIN: EPOCH 0005 / 0005 | BATCH 0108 / 0200 | LOSS 0.1685\n",
            "TRAIN: EPOCH 0005 / 0005 | BATCH 0109 / 0200 | LOSS 0.1677\n",
            "TRAIN: EPOCH 0005 / 0005 | BATCH 0110 / 0200 | LOSS 0.1680\n",
            "TRAIN: EPOCH 0005 / 0005 | BATCH 0111 / 0200 | LOSS 0.1674\n",
            "TRAIN: EPOCH 0005 / 0005 | BATCH 0112 / 0200 | LOSS 0.1664\n",
            "TRAIN: EPOCH 0005 / 0005 | BATCH 0113 / 0200 | LOSS 0.1661\n",
            "TRAIN: EPOCH 0005 / 0005 | BATCH 0114 / 0200 | LOSS 0.1658\n",
            "TRAIN: EPOCH 0005 / 0005 | BATCH 0115 / 0200 | LOSS 0.1663\n",
            "TRAIN: EPOCH 0005 / 0005 | BATCH 0116 / 0200 | LOSS 0.1667\n",
            "TRAIN: EPOCH 0005 / 0005 | BATCH 0117 / 0200 | LOSS 0.1668\n",
            "TRAIN: EPOCH 0005 / 0005 | BATCH 0118 / 0200 | LOSS 0.1662\n",
            "TRAIN: EPOCH 0005 / 0005 | BATCH 0119 / 0200 | LOSS 0.1661\n",
            "TRAIN: EPOCH 0005 / 0005 | BATCH 0120 / 0200 | LOSS 0.1656\n",
            "TRAIN: EPOCH 0005 / 0005 | BATCH 0121 / 0200 | LOSS 0.1659\n",
            "TRAIN: EPOCH 0005 / 0005 | BATCH 0122 / 0200 | LOSS 0.1667\n",
            "TRAIN: EPOCH 0005 / 0005 | BATCH 0123 / 0200 | LOSS 0.1661\n",
            "TRAIN: EPOCH 0005 / 0005 | BATCH 0124 / 0200 | LOSS 0.1659\n",
            "TRAIN: EPOCH 0005 / 0005 | BATCH 0125 / 0200 | LOSS 0.1659\n",
            "TRAIN: EPOCH 0005 / 0005 | BATCH 0126 / 0200 | LOSS 0.1662\n",
            "TRAIN: EPOCH 0005 / 0005 | BATCH 0127 / 0200 | LOSS 0.1663\n",
            "TRAIN: EPOCH 0005 / 0005 | BATCH 0128 / 0200 | LOSS 0.1657\n",
            "TRAIN: EPOCH 0005 / 0005 | BATCH 0129 / 0200 | LOSS 0.1671\n",
            "TRAIN: EPOCH 0005 / 0005 | BATCH 0130 / 0200 | LOSS 0.1669\n",
            "TRAIN: EPOCH 0005 / 0005 | BATCH 0131 / 0200 | LOSS 0.1661\n",
            "TRAIN: EPOCH 0005 / 0005 | BATCH 0132 / 0200 | LOSS 0.1659\n",
            "TRAIN: EPOCH 0005 / 0005 | BATCH 0133 / 0200 | LOSS 0.1654\n",
            "TRAIN: EPOCH 0005 / 0005 | BATCH 0134 / 0200 | LOSS 0.1653\n",
            "TRAIN: EPOCH 0005 / 0005 | BATCH 0135 / 0200 | LOSS 0.1650\n",
            "TRAIN: EPOCH 0005 / 0005 | BATCH 0136 / 0200 | LOSS 0.1653\n",
            "TRAIN: EPOCH 0005 / 0005 | BATCH 0137 / 0200 | LOSS 0.1646\n",
            "TRAIN: EPOCH 0005 / 0005 | BATCH 0138 / 0200 | LOSS 0.1638\n",
            "TRAIN: EPOCH 0005 / 0005 | BATCH 0139 / 0200 | LOSS 0.1648\n",
            "TRAIN: EPOCH 0005 / 0005 | BATCH 0140 / 0200 | LOSS 0.1649\n",
            "TRAIN: EPOCH 0005 / 0005 | BATCH 0141 / 0200 | LOSS 0.1661\n",
            "TRAIN: EPOCH 0005 / 0005 | BATCH 0142 / 0200 | LOSS 0.1657\n",
            "TRAIN: EPOCH 0005 / 0005 | BATCH 0143 / 0200 | LOSS 0.1659\n",
            "TRAIN: EPOCH 0005 / 0005 | BATCH 0144 / 0200 | LOSS 0.1682\n",
            "TRAIN: EPOCH 0005 / 0005 | BATCH 0145 / 0200 | LOSS 0.1683\n",
            "TRAIN: EPOCH 0005 / 0005 | BATCH 0146 / 0200 | LOSS 0.1689\n",
            "TRAIN: EPOCH 0005 / 0005 | BATCH 0147 / 0200 | LOSS 0.1708\n",
            "TRAIN: EPOCH 0005 / 0005 | BATCH 0148 / 0200 | LOSS 0.1703\n",
            "TRAIN: EPOCH 0005 / 0005 | BATCH 0149 / 0200 | LOSS 0.1699\n",
            "TRAIN: EPOCH 0005 / 0005 | BATCH 0150 / 0200 | LOSS 0.1697\n",
            "TRAIN: EPOCH 0005 / 0005 | BATCH 0151 / 0200 | LOSS 0.1690\n",
            "TRAIN: EPOCH 0005 / 0005 | BATCH 0152 / 0200 | LOSS 0.1685\n",
            "TRAIN: EPOCH 0005 / 0005 | BATCH 0153 / 0200 | LOSS 0.1681\n",
            "TRAIN: EPOCH 0005 / 0005 | BATCH 0154 / 0200 | LOSS 0.1685\n",
            "TRAIN: EPOCH 0005 / 0005 | BATCH 0155 / 0200 | LOSS 0.1691\n",
            "TRAIN: EPOCH 0005 / 0005 | BATCH 0156 / 0200 | LOSS 0.1697\n",
            "TRAIN: EPOCH 0005 / 0005 | BATCH 0157 / 0200 | LOSS 0.1706\n",
            "TRAIN: EPOCH 0005 / 0005 | BATCH 0158 / 0200 | LOSS 0.1699\n",
            "TRAIN: EPOCH 0005 / 0005 | BATCH 0159 / 0200 | LOSS 0.1707\n",
            "TRAIN: EPOCH 0005 / 0005 | BATCH 0160 / 0200 | LOSS 0.1703\n",
            "TRAIN: EPOCH 0005 / 0005 | BATCH 0161 / 0200 | LOSS 0.1707\n",
            "TRAIN: EPOCH 0005 / 0005 | BATCH 0162 / 0200 | LOSS 0.1713\n",
            "TRAIN: EPOCH 0005 / 0005 | BATCH 0163 / 0200 | LOSS 0.1713\n",
            "TRAIN: EPOCH 0005 / 0005 | BATCH 0164 / 0200 | LOSS 0.1711\n",
            "TRAIN: EPOCH 0005 / 0005 | BATCH 0165 / 0200 | LOSS 0.1709\n",
            "TRAIN: EPOCH 0005 / 0005 | BATCH 0166 / 0200 | LOSS 0.1704\n",
            "TRAIN: EPOCH 0005 / 0005 | BATCH 0167 / 0200 | LOSS 0.1709\n",
            "TRAIN: EPOCH 0005 / 0005 | BATCH 0168 / 0200 | LOSS 0.1707\n",
            "TRAIN: EPOCH 0005 / 0005 | BATCH 0169 / 0200 | LOSS 0.1712\n",
            "TRAIN: EPOCH 0005 / 0005 | BATCH 0170 / 0200 | LOSS 0.1715\n",
            "TRAIN: EPOCH 0005 / 0005 | BATCH 0171 / 0200 | LOSS 0.1717\n",
            "TRAIN: EPOCH 0005 / 0005 | BATCH 0172 / 0200 | LOSS 0.1724\n",
            "TRAIN: EPOCH 0005 / 0005 | BATCH 0173 / 0200 | LOSS 0.1732\n",
            "TRAIN: EPOCH 0005 / 0005 | BATCH 0174 / 0200 | LOSS 0.1732\n",
            "TRAIN: EPOCH 0005 / 0005 | BATCH 0175 / 0200 | LOSS 0.1732\n",
            "TRAIN: EPOCH 0005 / 0005 | BATCH 0176 / 0200 | LOSS 0.1743\n",
            "TRAIN: EPOCH 0005 / 0005 | BATCH 0177 / 0200 | LOSS 0.1736\n",
            "TRAIN: EPOCH 0005 / 0005 | BATCH 0178 / 0200 | LOSS 0.1735\n",
            "TRAIN: EPOCH 0005 / 0005 | BATCH 0179 / 0200 | LOSS 0.1735\n",
            "TRAIN: EPOCH 0005 / 0005 | BATCH 0180 / 0200 | LOSS 0.1730\n",
            "TRAIN: EPOCH 0005 / 0005 | BATCH 0181 / 0200 | LOSS 0.1725\n",
            "TRAIN: EPOCH 0005 / 0005 | BATCH 0182 / 0200 | LOSS 0.1726\n",
            "TRAIN: EPOCH 0005 / 0005 | BATCH 0183 / 0200 | LOSS 0.1727\n",
            "TRAIN: EPOCH 0005 / 0005 | BATCH 0184 / 0200 | LOSS 0.1722\n",
            "TRAIN: EPOCH 0005 / 0005 | BATCH 0185 / 0200 | LOSS 0.1729\n",
            "TRAIN: EPOCH 0005 / 0005 | BATCH 0186 / 0200 | LOSS 0.1735\n",
            "TRAIN: EPOCH 0005 / 0005 | BATCH 0187 / 0200 | LOSS 0.1734\n",
            "TRAIN: EPOCH 0005 / 0005 | BATCH 0188 / 0200 | LOSS 0.1735\n",
            "TRAIN: EPOCH 0005 / 0005 | BATCH 0189 / 0200 | LOSS 0.1734\n",
            "TRAIN: EPOCH 0005 / 0005 | BATCH 0190 / 0200 | LOSS 0.1735\n",
            "TRAIN: EPOCH 0005 / 0005 | BATCH 0191 / 0200 | LOSS 0.1730\n",
            "TRAIN: EPOCH 0005 / 0005 | BATCH 0192 / 0200 | LOSS 0.1726\n",
            "TRAIN: EPOCH 0005 / 0005 | BATCH 0193 / 0200 | LOSS 0.1730\n",
            "TRAIN: EPOCH 0005 / 0005 | BATCH 0194 / 0200 | LOSS 0.1729\n",
            "TRAIN: EPOCH 0005 / 0005 | BATCH 0195 / 0200 | LOSS 0.1728\n",
            "TRAIN: EPOCH 0005 / 0005 | BATCH 0196 / 0200 | LOSS 0.1726\n",
            "TRAIN: EPOCH 0005 / 0005 | BATCH 0197 / 0200 | LOSS 0.1726\n",
            "TRAIN: EPOCH 0005 / 0005 | BATCH 0198 / 0200 | LOSS 0.1723\n",
            "TRAIN: EPOCH 0005 / 0005 | BATCH 0199 / 0200 | LOSS 0.1721\n",
            "TRAIN: EPOCH 0005 / 0005 | BATCH 0200 / 0200 | LOSS 0.1720\n",
            "VALID: EPOCH 0005 / 0005 | BATCH 0001 / 0025 | LOSS 0.1409\n",
            "VALID: EPOCH 0005 / 0005 | BATCH 0002 / 0025 | LOSS 0.1928\n",
            "VALID: EPOCH 0005 / 0005 | BATCH 0003 / 0025 | LOSS 0.1855\n",
            "VALID: EPOCH 0005 / 0005 | BATCH 0004 / 0025 | LOSS 0.1617\n",
            "VALID: EPOCH 0005 / 0005 | BATCH 0005 / 0025 | LOSS 0.1802\n",
            "VALID: EPOCH 0005 / 0005 | BATCH 0006 / 0025 | LOSS 0.1799\n",
            "VALID: EPOCH 0005 / 0005 | BATCH 0007 / 0025 | LOSS 0.1676\n",
            "VALID: EPOCH 0005 / 0005 | BATCH 0008 / 0025 | LOSS 0.1699\n",
            "VALID: EPOCH 0005 / 0005 | BATCH 0009 / 0025 | LOSS 0.1586\n",
            "VALID: EPOCH 0005 / 0005 | BATCH 0010 / 0025 | LOSS 0.1570\n",
            "VALID: EPOCH 0005 / 0005 | BATCH 0011 / 0025 | LOSS 0.1563\n",
            "VALID: EPOCH 0005 / 0005 | BATCH 0012 / 0025 | LOSS 0.1730\n",
            "VALID: EPOCH 0005 / 0005 | BATCH 0013 / 0025 | LOSS 0.1703\n",
            "VALID: EPOCH 0005 / 0005 | BATCH 0014 / 0025 | LOSS 0.1652\n",
            "VALID: EPOCH 0005 / 0005 | BATCH 0015 / 0025 | LOSS 0.1587\n",
            "VALID: EPOCH 0005 / 0005 | BATCH 0016 / 0025 | LOSS 0.1764\n",
            "VALID: EPOCH 0005 / 0005 | BATCH 0017 / 0025 | LOSS 0.1950\n",
            "VALID: EPOCH 0005 / 0005 | BATCH 0018 / 0025 | LOSS 0.1910\n",
            "VALID: EPOCH 0005 / 0005 | BATCH 0019 / 0025 | LOSS 0.1939\n",
            "VALID: EPOCH 0005 / 0005 | BATCH 0020 / 0025 | LOSS 0.1902\n",
            "VALID: EPOCH 0005 / 0005 | BATCH 0021 / 0025 | LOSS 0.1862\n",
            "VALID: EPOCH 0005 / 0005 | BATCH 0022 / 0025 | LOSS 0.1885\n",
            "VALID: EPOCH 0005 / 0005 | BATCH 0023 / 0025 | LOSS 0.1942\n",
            "VALID: EPOCH 0005 / 0005 | BATCH 0024 / 0025 | LOSS 0.1923\n",
            "VALID: EPOCH 0005 / 0005 | BATCH 0025 / 0025 | LOSS 0.1884\n"
          ]
        }
      ],
      "source": [
        "# 훈련 파라미터 설정하기\n",
        "lr = 1e-3\n",
        "batch_size = 4\n",
        "num_epoch = 5\n",
        "\n",
        "base_dir = './drive/MyDrive/DACrew/unet'\n",
        "data_dir = dir_data\n",
        "ckpt_dir = os.path.join(base_dir, \"checkpoint\")\n",
        "log_dir = os.path.join(base_dir, \"log\")\n",
        "\n",
        "\n",
        "# 훈련을 위한 Transform과 DataLoader\n",
        "transform = transforms.Compose([Normalization(mean=0.5, std=0.5), RandomFlip(), ToTensor()])\n",
        "\n",
        "dataset_train = Dataset(data_dir=os.path.join(data_dir, 'train'), transform=transform)\n",
        "loader_train = DataLoader(dataset_train, batch_size=batch_size, shuffle=True, num_workers=8)\n",
        "\n",
        "dataset_val = Dataset(data_dir=os.path.join(data_dir, 'val'), transform=transform)\n",
        "loader_val = DataLoader(dataset_val, batch_size=batch_size, shuffle=False, num_workers=8)\n",
        "\n",
        "# 네트워크 생성하기\n",
        "device = torch.device('cuda' if torch.cuda.is_available() else 'cpu')\n",
        "net = UNet().to(device)\n",
        "\n",
        "# 손실함수 정의하기\n",
        "fn_loss = nn.BCEWithLogitsLoss().to(device)\n",
        "\n",
        "# Optimizer 설정하기\n",
        "optim = torch.optim.Adam(net.parameters(), lr=lr)\n",
        "\n",
        "# 그밖에 부수적인 variables 설정하기\n",
        "num_data_train = len(dataset_train)\n",
        "num_data_val = len(dataset_val)\n",
        "\n",
        "num_batch_train = np.ceil(num_data_train / batch_size)\n",
        "num_batch_val = np.ceil(num_data_val / batch_size)\n",
        "\n",
        "# 그 밖에 부수적인 functions 설정하기\n",
        "fn_tonumpy = lambda x: x.to('cpu').detach().numpy().transpose(0, 2, 3, 1)\n",
        "fn_denorm = lambda x, mean, std: (x * std) + mean\n",
        "fn_class = lambda x: 1.0 * (x > 0.5)\n",
        "\n",
        "# Tensorboard 를 사용하기 위한 SummaryWriter 설정\n",
        "writer_train = SummaryWriter(log_dir=os.path.join(log_dir, 'train'))\n",
        "writer_val = SummaryWriter(log_dir=os.path.join(log_dir, 'val'))\n",
        "\n",
        "# 네트워크 학습시키기\n",
        "st_epoch = 0\n",
        "\n",
        "# 학습한 모델이 있을 경우 모델 로드하기\n",
        "net, optim, st_epoch = load(ckpt_dir=ckpt_dir, net=net, optim=optim) \n",
        "\n",
        "for epoch in range(st_epoch + 1, num_epoch + 1):\n",
        "        net.train()\n",
        "        loss_arr = []\n",
        "\n",
        "        for batch, data in enumerate(loader_train, 1):\n",
        "            # forward pass\n",
        "            label = data['label'].to(device)\n",
        "            input = data['input'].to(device)\n",
        "\n",
        "            output = net(input)\n",
        "\n",
        "            # backward pass\n",
        "            optim.zero_grad()\n",
        "\n",
        "            loss = fn_loss(output, label)\n",
        "            loss.backward()\n",
        "\n",
        "            optim.step()\n",
        "\n",
        "            # 손실함수 계산\n",
        "            loss_arr += [loss.item()]\n",
        "\n",
        "            print(\"TRAIN: EPOCH %04d / %04d | BATCH %04d / %04d | LOSS %.4f\" %\n",
        "                  (epoch, num_epoch, batch, num_batch_train, np.mean(loss_arr)))\n",
        "\n",
        "            # Tensorboard 저장하기\n",
        "            label = fn_tonumpy(label)\n",
        "            input = fn_tonumpy(fn_denorm(input, mean=0.5, std=0.5))\n",
        "            output = fn_tonumpy(fn_class(output))\n",
        "\n",
        "            writer_train.add_image('label', label, num_batch_train * (epoch - 1) + batch, dataformats='NHWC')\n",
        "            writer_train.add_image('input', input, num_batch_train * (epoch - 1) + batch, dataformats='NHWC')\n",
        "            writer_train.add_image('output', output, num_batch_train * (epoch - 1) + batch, dataformats='NHWC')\n",
        "\n",
        "        writer_train.add_scalar('loss', np.mean(loss_arr), epoch)\n",
        "\n",
        "        with torch.no_grad():\n",
        "            net.eval()\n",
        "            loss_arr = []\n",
        "\n",
        "            for batch, data in enumerate(loader_val, 1):\n",
        "                # forward pass\n",
        "                label = data['label'].to(device)\n",
        "                input = data['input'].to(device)\n",
        "\n",
        "                output = net(input)\n",
        "\n",
        "                # 손실함수 계산하기\n",
        "                loss = fn_loss(output, label)\n",
        "\n",
        "                loss_arr += [loss.item()]\n",
        "\n",
        "                print(\"VALID: EPOCH %04d / %04d | BATCH %04d / %04d | LOSS %.4f\" %\n",
        "                      (epoch, num_epoch, batch, num_batch_val, np.mean(loss_arr)))\n",
        "\n",
        "                # Tensorboard 저장하기\n",
        "                label = fn_tonumpy(label)\n",
        "                input = fn_tonumpy(fn_denorm(input, mean=0.5, std=0.5))\n",
        "                output = fn_tonumpy(fn_class(output))\n",
        "\n",
        "                writer_val.add_image('label', label, num_batch_val * (epoch - 1) + batch, dataformats='NHWC')\n",
        "                writer_val.add_image('input', input, num_batch_val * (epoch - 1) + batch, dataformats='NHWC')\n",
        "                writer_val.add_image('output', output, num_batch_val * (epoch - 1) + batch, dataformats='NHWC')\n",
        "\n",
        "        writer_val.add_scalar('loss', np.mean(loss_arr), epoch)\n",
        "\n",
        "        # epoch 50마다 모델 저장하기\n",
        "        if epoch % 50 == 0:\n",
        "            save(ckpt_dir=ckpt_dir, net=net, optim=optim, epoch=epoch)\n",
        "\n",
        "        writer_train.close()\n",
        "        writer_val.close()"
      ]
    },
    {
      "cell_type": "markdown",
      "metadata": {
        "id": "Tuvqp8wJFboI"
      },
      "source": [
        "# Model Test"
      ]
    },
    {
      "cell_type": "code",
      "execution_count": 71,
      "metadata": {
        "id": "iKqOirjjFeww",
        "outputId": "b2acb940-f936-45cf-e3d3-e38a64f5ad0f",
        "colab": {
          "base_uri": "https://localhost:8080/"
        }
      },
      "outputs": [
        {
          "output_type": "stream",
          "name": "stdout",
          "text": [
            "TEST: BATCH 0001 / 0025 | LOSS 0.0982\n",
            "TEST: BATCH 0002 / 0025 | LOSS 0.0855\n",
            "TEST: BATCH 0003 / 0025 | LOSS 0.1751\n",
            "TEST: BATCH 0004 / 0025 | LOSS 0.1502\n",
            "TEST: BATCH 0005 / 0025 | LOSS 0.1492\n",
            "TEST: BATCH 0006 / 0025 | LOSS 0.1607\n",
            "TEST: BATCH 0007 / 0025 | LOSS 0.1838\n",
            "TEST: BATCH 0008 / 0025 | LOSS 0.2041\n",
            "TEST: BATCH 0009 / 0025 | LOSS 0.1972\n",
            "TEST: BATCH 0010 / 0025 | LOSS 0.1965\n",
            "TEST: BATCH 0011 / 0025 | LOSS 0.2099\n",
            "TEST: BATCH 0012 / 0025 | LOSS 0.1975\n",
            "TEST: BATCH 0013 / 0025 | LOSS 0.1959\n",
            "TEST: BATCH 0014 / 0025 | LOSS 0.1896\n",
            "TEST: BATCH 0015 / 0025 | LOSS 0.1992\n",
            "TEST: BATCH 0016 / 0025 | LOSS 0.1924\n",
            "TEST: BATCH 0017 / 0025 | LOSS 0.2039\n",
            "TEST: BATCH 0018 / 0025 | LOSS 0.2006\n",
            "TEST: BATCH 0019 / 0025 | LOSS 0.1990\n",
            "TEST: BATCH 0020 / 0025 | LOSS 0.1943\n",
            "TEST: BATCH 0021 / 0025 | LOSS 0.1912\n",
            "TEST: BATCH 0022 / 0025 | LOSS 0.1918\n",
            "TEST: BATCH 0023 / 0025 | LOSS 0.1929\n",
            "TEST: BATCH 0024 / 0025 | LOSS 0.1911\n",
            "TEST: BATCH 0025 / 0025 | LOSS 0.1920\n",
            "AVERAGE TEST: BATCH 0025 / 0025 | LOSS 0.1920\n"
          ]
        }
      ],
      "source": [
        "transform = transforms.Compose([Normalization(mean=0.5, std=0.5), ToTensor()])\n",
        "\n",
        "dataset_test = Dataset(data_dir=os.path.join(data_dir, 'test'), transform=transform)\n",
        "loader_test = DataLoader(dataset_test, batch_size=batch_size, shuffle=False, num_workers=8)\n",
        "\n",
        "# 그밖에 부수적인 variables 설정하기\n",
        "num_data_test = len(dataset_test)\n",
        "num_batch_test = np.ceil(num_data_test / batch_size)\n",
        "\n",
        "# 결과 디렉토리 생성하기\n",
        "result_dir = os.path.join(base_dir, 'result')\n",
        "if not os.path.exists(result_dir):\n",
        "    os.makedirs(os.path.join(result_dir, 'png'))\n",
        "    os.makedirs(os.path.join(result_dir, 'numpy'))\n",
        "\n",
        "\n",
        "net, optim, st_epoch = load(ckpt_dir=ckpt_dir, net=net, optim=optim)\n",
        "\n",
        "with torch.no_grad():\n",
        "      net.eval()\n",
        "      loss_arr = []\n",
        "\n",
        "      for batch, data in enumerate(loader_test, 1):\n",
        "          # forward pass\n",
        "          label = data['label'].to(device)\n",
        "          input = data['input'].to(device)\n",
        "\n",
        "          output = net(input)\n",
        "\n",
        "          # 손실함수 계산하기\n",
        "          loss = fn_loss(output, label)\n",
        "\n",
        "          loss_arr += [loss.item()]\n",
        "\n",
        "          print(\"TEST: BATCH %04d / %04d | LOSS %.4f\" %\n",
        "                (batch, num_batch_test, np.mean(loss_arr)))\n",
        "\n",
        "          # Tensorboard 저장하기\n",
        "          label = fn_tonumpy(label)\n",
        "          input = fn_tonumpy(fn_denorm(input, mean=0.5, std=0.5))\n",
        "          output = fn_tonumpy(fn_class(output))\n",
        "\n",
        "          # 테스트 결과 저장하기\n",
        "          for j in range(label.shape[0]):\n",
        "              id = num_batch_test * (batch - 1) + j\n",
        "\n",
        "              plt.imsave(os.path.join(result_dir, 'png', 'label_%04d.png' % id), label[j].squeeze(), cmap='gray')\n",
        "              plt.imsave(os.path.join(result_dir, 'png', 'input_%04d.png' % id), input[j].squeeze(), cmap='gray')\n",
        "              plt.imsave(os.path.join(result_dir, 'png', 'output_%04d.png' % id), output[j].squeeze(), cmap='gray')\n",
        "\n",
        "              np.save(os.path.join(result_dir, 'numpy', 'label_%04d.npy' % id), label[j].squeeze())\n",
        "              np.save(os.path.join(result_dir, 'numpy', 'input_%04d.npy' % id), input[j].squeeze())\n",
        "              np.save(os.path.join(result_dir, 'numpy', 'output_%04d.npy' % id), output[j].squeeze())\n",
        "\n",
        "print(\"AVERAGE TEST: BATCH %04d / %04d | LOSS %.4f\" %\n",
        "        (batch, num_batch_test, np.mean(loss_arr)))"
      ]
    },
    {
      "cell_type": "markdown",
      "metadata": {
        "id": "nYAWbTidFfOo"
      },
      "source": [
        "# Result Visualization"
      ]
    },
    {
      "cell_type": "code",
      "execution_count": 72,
      "metadata": {
        "id": "7QUNtnWwFtGu",
        "outputId": "79bd8510-97ab-459e-bf2e-f03443913db4",
        "colab": {
          "base_uri": "https://localhost:8080/",
          "height": 195
        }
      },
      "outputs": [
        {
          "output_type": "display_data",
          "data": {
            "text/plain": [
              "<Figure size 576x432 with 3 Axes>"
            ],
            "image/png": "[encoded data removed]"
          },
          "metadata": {
            "needs_background": "light"
          }
        }
      ],
      "source": [
        "##\n",
        "lst_data = os.listdir(os.path.join(result_dir, 'numpy'))\n",
        "\n",
        "lst_label = [f for f in lst_data if f.startswith('label')]\n",
        "lst_input = [f for f in lst_data if f.startswith('input')]\n",
        "lst_output = [f for f in lst_data if f.startswith('output')]\n",
        "\n",
        "lst_label.sort()\n",
        "lst_input.sort()\n",
        "lst_output.sort()\n",
        "\n",
        "##\n",
        "id = 0\n",
        "\n",
        "label = np.load(os.path.join(result_dir,\"numpy\", lst_label[id]))\n",
        "input = np.load(os.path.join(result_dir,\"numpy\", lst_input[id]))\n",
        "output = np.load(os.path.join(result_dir,\"numpy\", lst_output[id]))\n",
        "\n",
        "## 플롯 그리기\n",
        "plt.figure(figsize=(8,6))\n",
        "plt.subplot(131)\n",
        "plt.imshow(input, cmap='gray')\n",
        "plt.title('input')\n",
        "\n",
        "plt.subplot(132)\n",
        "plt.imshow(label, cmap='gray')\n",
        "plt.title('label')\n",
        "\n",
        "plt.subplot(133)\n",
        "plt.imshow(output, cmap='gray')\n",
        "plt.title('output')\n",
        "\n",
        "plt.show()"
      ]
    }
  ],
  "metadata": {
    "accelerator": "TPU",
    "colab": {
      "machine_shape": "hm",
      "provenance": [],
      "include_colab_link": true
    },
    "gpuClass": "standard",
    "kernelspec": {
      "display_name": "Python 3",
      "name": "python3"
    },
    "language_info": {
      "name": "python"
    }
  },
  "nbformat": 4,
  "nbformat_minor": 0
}