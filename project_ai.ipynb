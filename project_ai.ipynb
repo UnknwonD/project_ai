{
  "cells": [
    {
      "cell_type": "markdown",
      "metadata": {
        "id": "view-in-github",
        "colab_type": "text"
      },
      "source": [
        "<a href=\"https://colab.research.google.com/github/UnknwonD/project_ai/blob/preprocessing/project_ai.ipynb\" target=\"_parent\"><img src=\"https://colab.research.google.com/assets/colab-badge.svg\" alt=\"Open In Colab\"/></a>"
      ]
    },
    {
      "cell_type": "markdown",
      "metadata": {
        "id": "JM1mPZuO764e"
      },
      "source": [
        "# Data 압축 풀기"
      ]
    },
    {
      "cell_type": "code",
      "execution_count": null,
      "metadata": {
        "colab": {
          "base_uri": "https://localhost:8080/"
        },
        "id": "J0_IjEk479qi",
        "outputId": "ac08e5c2-f133-40cf-c396-067b7a4162e4"
      },
      "outputs": [
        {
          "name": "stdout",
          "output_type": "stream",
          "text": [
            "Drive already mounted at /content/drive; to attempt to forcibly remount, call drive.mount(\"/content/drive\", force_remount=True).\n"
          ]
        }
      ],
      "source": [
        "# 드라이브 마운트\n",
        "from google.colab import drive\n",
        "drive.mount('/content/drive')"
      ]
    },
    {
      "cell_type": "code",
      "execution_count": null,
      "metadata": {
        "id": "KTGPOURC-fJa"
      },
      "outputs": [],
      "source": [
        "from glob import glob"
      ]
    },
    {
      "cell_type": "code",
      "execution_count": null,
      "metadata": {
        "colab": {
          "base_uri": "https://localhost:8080/"
        },
        "id": "lWWi0SQ7HemE",
        "outputId": "7a1b3696-60b5-42d5-bc41-ddd6595245cd"
      },
      "outputs": [
        {
          "name": "stdout",
          "output_type": "stream",
          "text": [
            "/content/drive/MyDrive/project_ai\n"
          ]
        }
      ],
      "source": [
        "# %cd /content/drive/MyDrive/project_ai\n",
        "\n",
        "# !unzip -qq \"/content/drive/MyDrive/project_ai/VL_damage_part.zip\""
      ]
    },
    {
      "cell_type": "code",
      "execution_count": null,
      "metadata": {
        "colab": {
          "base_uri": "https://localhost:8080/"
        },
        "id": "JgIadXNwHkCj",
        "outputId": "4b0cec0a-ebc7-46a1-b1be-b24887398663"
      },
      "outputs": [
        {
          "name": "stdout",
          "output_type": "stream",
          "text": [
            "/content/drive/MyDrive/project_ai\n",
            "replace damage_part_jpg/0000016_as-0031772.jpg? [y]es, [n]o, [A]ll, [N]one, [r]ename: "
          ]
        }
      ],
      "source": [
        "# %cd /content/drive/MyDrive/project_ai\n",
        "\n",
        "# !unzip -qq \"/content/drive/MyDrive/project_ai/VS_damage_part_jpg.zip\""
      ]
    },
    {
      "cell_type": "code",
      "execution_count": null,
      "metadata": {
        "colab": {
          "base_uri": "https://localhost:8080/"
        },
        "id": "fzW-hL8m8xEr",
        "outputId": "eb51eeb8-eb38-456a-e8c8-3ffeff6fa545"
      },
      "outputs": [
        {
          "name": "stdout",
          "output_type": "stream",
          "text": [
            "json 파일 갯수 : 17248\n"
          ]
        }
      ],
      "source": [
        "filepaths1 = list(glob('/content/drive/MyDrive/project_ai/damage_part_json/*.json'))\n",
        "print(\"json 파일 갯수 : {}\".format(len(filepaths1)))"
      ]
    },
    {
      "cell_type": "code",
      "execution_count": null,
      "metadata": {
        "colab": {
          "base_uri": "https://localhost:8080/"
        },
        "id": "F2kFqlfj9WC7",
        "outputId": "fc3e3ef4-b9b1-42e9-e3bb-d82ffda135a9"
      },
      "outputs": [
        {
          "name": "stdout",
          "output_type": "stream",
          "text": [
            "jpg 파일 갯수 : 17248\n"
          ]
        }
      ],
      "source": [
        "filepaths2 = list(glob('/content/drive/MyDrive/project_ai/damage_part_jpg/*.jpg'))\n",
        "print(\"jpg 파일 갯수 : {}\".format(len(filepaths2)))"
      ]
    },
    {
      "cell_type": "code",
      "execution_count": null,
      "metadata": {
        "colab": {
          "base_uri": "https://localhost:8080/"
        },
        "id": "5qYao2oUxFf_",
        "outputId": "ced4488b-82d2-48ca-d359-d10e2ecca432"
      },
      "outputs": [
        {
          "name": "stdout",
          "output_type": "stream",
          "text": [
            "mask 파일 갯수 : 17248\n"
          ]
        }
      ],
      "source": [
        "filepaths3 = list(glob('/content/drive/MyDrive/project_ai/masked/*.jpg'))\n",
        "print(\"mask 파일 갯수 : {}\".format(len(filepaths3)))"
      ]
    },
    {
      "cell_type": "markdown",
      "metadata": {
        "id": "M9utK6RCDt1s"
      },
      "source": [
        "# 마스크 이미지 만들기"
      ]
    },
    {
      "cell_type": "code",
      "execution_count": 7,
      "metadata": {
        "colab": {
          "base_uri": "https://localhost:8080/"
        },
        "id": "hYb3fcymCokt",
        "outputId": "9cbdd76d-eb6e-4ad2-a890-bde72d44a3fa"
      },
      "outputs": [
        {
          "output_type": "stream",
          "name": "stdout",
          "text": [
            "Drive already mounted at /content/drive; to attempt to forcibly remount, call drive.mount(\"/content/drive\", force_remount=True).\n"
          ]
        }
      ],
      "source": [
        "from google.colab import drive\n",
        "drive.mount('/content/drive')"
      ]
    },
    {
      "cell_type": "code",
      "execution_count": 6,
      "metadata": {
        "id": "lBZjfqQXDtGr"
      },
      "outputs": [],
      "source": [
        "import cv2\n",
        "import numpy as np\n",
        "from google.colab.patches import cv2_imshow\n",
        "import os\n",
        "import json\n",
        "from PIL import Image, ImageOps\n",
        "from tqdm import notebook, tqdm"
      ]
    },
    {
      "cell_type": "code",
      "execution_count": 21,
      "metadata": {
        "id": "id_-Qs13SwRQ"
      },
      "outputs": [],
      "source": [
        "# 이미지 파일 리사이즈 하는 함수 (원본이미지파일 경로, mask이미지인가[폴더구분위함], 가로세로 크기)\n",
        "def resize_jpg(url, mask=False, w=512):\n",
        "  save_path = '/content/drive/MyDrive/project_ai/dataset/'  # 저장할 이미지 경로\n",
        "\n",
        "  # 저장할 경로 없으면 생성\n",
        "  if not os.path.exists(save_path):\n",
        "      os.mkdir(save_path)\n",
        "      \n",
        "  # 원본 이미지 경로의 모든 이미지 list 지정\n",
        "  if not mask:\n",
        "    data_list = os.listdir(url + \"damage_part_jpg/\")\n",
        "  else:\n",
        "    data_list = os.listdir(url + \"masked/\")\n",
        "  \n",
        "  print(len(data_list))\n",
        "  \n",
        "  if not os.path.exists(save_path + \"x/\"):\n",
        "      os.mkdir(save_path + \"x/\")\n",
        "  if not os.path.exists(save_path + \"y/\"):\n",
        "      os.mkdir(save_path + \"y/\")\n",
        "\n",
        "  # 모든 이미지 resize 후 저장하기\n",
        "  for token in tqdm(data_list):\n",
        "      # 이미지 열기\n",
        "      if not mask:\n",
        "        im = Image.open(url + \"damage_part_jpg/\" + token).convert('L').resize((w, w))\n",
        "        im = ImageOps.grayscale(im)\n",
        "        im.save(save_path + \"x/\"+ token)\n",
        "      else:\n",
        "        im = Image.open(url + \"masked/\" + token).convert('L').resize((w, w))\n",
        "        im.save(save_path + \"y/\"+ token)\n",
        "\n",
        "\n",
        "# 파일 이름 리스트로 저장하는 함수\n",
        "def extract_file_name(url):\n",
        "  file_list = os.listdir(url)\n",
        "  file_name = []\n",
        "  for file in file_list:\n",
        "    file_name.append(file.split('.')[0])\n",
        "  return file_name"
      ]
    },
    {
      "cell_type": "code",
      "execution_count": null,
      "metadata": {
        "id": "bvaxc8auHgZF"
      },
      "outputs": [],
      "source": [
        "# # 아예 세그멘테이션이 없는지 확인해볼게\n",
        "# files = tqdm(extract_file_name(\"/content/drive/MyDrive/project_ai/damage_part_jpg/\"))\n",
        "\n",
        "# for file in files:\n",
        "#   with open('/content/drive/MyDrive/project_ai/damage_part_json/{}.json'.format(file), 'r') as f:\n",
        "#     json_data = json.load(f)\n",
        "#     mask_num = 0\n",
        "#     for j in range(len(json_data[\"annotations\"])):\n",
        "#       if json_data[\"annotations\"][j][\"damage\"] == None:\n",
        "#         mask_num += 1\n",
        "    \n",
        "#     if len(json_data[\"annotations\"]) == mask_num:\n",
        "#       print(\"아무것도 없음\")"
      ]
    },
    {
      "cell_type": "code",
      "execution_count": 9,
      "metadata": {
        "colab": {
          "base_uri": "https://localhost:8080/"
        },
        "id": "V_Gsybe18nwO",
        "outputId": "b451b77e-da10-4b89-9597-ee2bcf192499"
      },
      "outputs": [
        {
          "output_type": "stream",
          "name": "stderr",
          "text": [
            "Processing 0599735_as-0040967: 100%|██████████| 17248/17248 [3:54:27<00:00,  1.23it/s]\n"
          ]
        }
      ],
      "source": [
        "files = tqdm(extract_file_name(\"/content/drive/MyDrive/project_ai/damage_part_jpg/\"))\n",
        "\n",
        "# 마스크 이미지를 저장할 경로 생성\n",
        "save_path = '/content/drive/MyDrive/project_ai/masked/'\n",
        "# save_path 경로가 없으면 폴더를 만듦\n",
        "if not os.path.exists(save_path):\n",
        "  os.mkdir(save_path)\n",
        "\n",
        "for file in files:\n",
        "  files.set_description(f\"Processing {file}\")\n",
        "  imgfile = \"/content/drive/MyDrive/project_ai/damage_part_jpg/{}.jpg\".format(file)\n",
        "  img = cv2.imread(imgfile)\n",
        "  with open('/content/drive/MyDrive/project_ai/damage_part_json/{}.json'.format(file), 'r') as f:\n",
        "    json_data = json.load(f)\n",
        "  \n",
        "  \n",
        "  # 데미지 파트가 없다면 mask_num += 1\n",
        "  mask_num = 0\n",
        "  for j in range(len(json_data[\"annotations\"])):\n",
        "    if json_data[\"annotations\"][j][\"damage\"] == None:\n",
        "      mask_num += 1\n",
        "\n",
        "\n",
        "  img[img!=256] = 0\n",
        "\n",
        "  ## mask_num을 뺀 segmentation 정보까지만 사용하여 마스크 이미지 만들기\n",
        "  # segmentation 없으면 바로 저장\n",
        "  if len(json_data[\"annotations\"]) == mask_num:\n",
        "    # 마스크된 이미지는 이미지파일이름+mask 파일로 save_path 경로에 저장\n",
        "    cv2.imwrite(\"/content/drive/MyDrive/project_ai/masked/{}_mask.jpg\".format(file), img)\n",
        "  \n",
        "  # 있으면 파손 부위 라벨링링\n",
        "  else:\n",
        "    for i in range(len(json_data[\"annotations\"])-mask_num):\n",
        "      area = np.array(json_data[\"annotations\"][i][\"segmentation\"][0][0])\n",
        "      filled = cv2.fillPoly(img, pts = [area], color = (255, 255, 255))\n",
        "      # 마스크된 이미지는 이미지파일이름+mask 파일로 save_path 경로에 저장\n",
        "      cv2.imwrite(\"/content/drive/MyDrive/project_ai/masked/{}_mask.jpg\".format(file), filled)"
      ]
    },
    {
      "cell_type": "markdown",
      "source": [],
      "metadata": {
        "id": "JqS_f30aOn0m"
      }
    },
    {
      "cell_type": "markdown",
      "metadata": {
        "id": "zzyrbcOKdzmw"
      },
      "source": [
        "## 이미지 리사이즈\n"
      ]
    },
    {
      "cell_type": "code",
      "execution_count": 103,
      "metadata": {
        "colab": {
          "base_uri": "https://localhost:8080/"
        },
        "id": "kKQ-aVyUs027",
        "outputId": "af918b32-c875-409d-9a0b-7b8bb9c733c4"
      },
      "outputs": [
        {
          "output_type": "stream",
          "name": "stdout",
          "text": [
            "17248\n"
          ]
        },
        {
          "output_type": "stream",
          "name": "stderr",
          "text": [
            "100%|██████████| 17248/17248 [07:25<00:00, 38.70it/s]\n"
          ]
        }
      ],
      "source": [
        "resize_jpg(\"/content/drive/MyDrive/project_ai/\", mask=False, w=512)"
      ]
    },
    {
      "cell_type": "code",
      "execution_count": 22,
      "metadata": {
        "id": "UksJP6ThFkpu",
        "colab": {
          "base_uri": "https://localhost:8080/"
        },
        "outputId": "6c3a0a99-0070-4892-9b26-388bf1a0a920"
      },
      "outputs": [
        {
          "output_type": "stream",
          "name": "stdout",
          "text": [
            "17248\n"
          ]
        },
        {
          "output_type": "stream",
          "name": "stderr",
          "text": [
            "100%|██████████| 17248/17248 [57:25<00:00,  5.01it/s]\n"
          ]
        }
      ],
      "source": [
        "resize_jpg(\"/content/drive/MyDrive/project_ai/\", mask=True, w=512)"
      ]
    },
    {
      "cell_type": "code",
      "execution_count": 23,
      "metadata": {
        "colab": {
          "base_uri": "https://localhost:8080/"
        },
        "id": "DgPdXO8ohUO3",
        "outputId": "6f349a90-4db8-45a5-8f6e-3db142351b9d"
      },
      "outputs": [
        {
          "output_type": "stream",
          "name": "stdout",
          "text": [
            "dataset-x 파일 갯수 : 17248\n",
            "dataset-y 파일 갯수 : 17248\n"
          ]
        }
      ],
      "source": [
        "from glob import glob\n",
        "\n",
        "filepaths4 = list(glob('/content/drive/MyDrive/project_ai/dataset/x/*.jpg'))\n",
        "filepaths5 = list(glob('/content/drive/MyDrive/project_ai/dataset/y/*.jpg'))\n",
        "print(\"dataset-x 파일 갯수 : {}\".format(len(filepaths4)))\n",
        "print(\"dataset-y 파일 갯수 : {}\".format(len(filepaths5)))"
      ]
    },
    {
      "cell_type": "markdown",
      "metadata": {
        "id": "7aCk8NXMD5RO"
      },
      "source": [
        "# 사용할 데이터(이미지) 정리\n",
        "\n"
      ]
    },
    {
      "cell_type": "code",
      "execution_count": 5,
      "metadata": {
        "id": "-PUU4hc9eLNS"
      },
      "outputs": [],
      "source": [
        "## 라이브러리 불러오기\n",
        "import os\n",
        "import numpy as np\n",
        "from PIL import Image\n",
        "import matplotlib.pyplot as plt\n",
        "from tqdm import notebook, tqdm"
      ]
    },
    {
      "cell_type": "code",
      "execution_count": 8,
      "metadata": {
        "id": "Ix-QconMeN72"
      },
      "outputs": [],
      "source": [
        "## 데이터 불러오기\n",
        "dir_data = '/content/drive/MyDrive/project_ai' \n",
        "\n",
        "# 원본 이미지 (리사이즈 된)\n",
        "path_dir_x = '/content/drive/MyDrive/project_ai/dataset/x/'\n",
        "file_list_x = os.listdir(path_dir_x)\n",
        "# 마스크 이미지 (리사이즈 된)\n",
        "path_dir_y = '/content/drive/MyDrive/project_ai/dataset/y/'\n",
        "file_list_y = os.listdir(path_dir_y)"
      ]
    },
    {
      "cell_type": "code",
      "execution_count": 27,
      "metadata": {
        "id": "zqblR-sieQvZ"
      },
      "outputs": [],
      "source": [
        "# # 수정 필요함 \n",
        "# for jpg in file_list_x[0]:\n",
        "#     img_input = Image.open(path_dir_x + jpg)\n",
        "# for jpg in file_list_y[0]:\n",
        "#     img_label = Image.open(path_dir_y + jpg)\n",
        "\n",
        "img_label = Image.open(path_dir_y + file_list_y[0])"
      ]
    },
    {
      "cell_type": "code",
      "execution_count": 26,
      "metadata": {
        "id": "EFCzcl3LeTml"
      },
      "outputs": [],
      "source": [
        "# 이미지 사이즈 \n",
        "ny, nx = img_label.size\n",
        "# 이미지 갯수\n",
        "nframe = len(file_list_y)"
      ]
    },
    {
      "cell_type": "code",
      "source": [
        "# 이미지 사이즈 \n",
        "ny, nx = img_label.size\n",
        "# 이미지 갯수\n",
        "nframe = len(file_list_y)"
      ],
      "metadata": {
        "id": "GgrOcnYlwYCc"
      },
      "execution_count": 28,
      "outputs": []
    },
    {
      "cell_type": "code",
      "source": [
        "nframe"
      ],
      "metadata": {
        "id": "0_VMxZyyr7Vt",
        "outputId": "5ca414fa-bd25-4435-ad73-2c92e2fdc30e",
        "colab": {
          "base_uri": "https://localhost:8080/"
        }
      },
      "execution_count": 18,
      "outputs": [
        {
          "output_type": "execute_result",
          "data": {
            "text/plain": [
              "11898"
            ]
          },
          "metadata": {},
          "execution_count": 18
        }
      ]
    },
    {
      "cell_type": "code",
      "execution_count": 29,
      "metadata": {
        "id": "6jUSWzCVCpYg"
      },
      "outputs": [],
      "source": [
        "## train/test/val 폴더 생성 (8/1/1 비율로 생성 ㅋㅋ)\n",
        "nframe_train = 13800\n",
        "nframe_val = 1724\n",
        "nframe_test = 1724\n",
        "\n",
        "## train/test/val 폴더 경로 지정해주기\n",
        "dir_save_train = os.path.join(dir_data, 'train')\n",
        "dir_save_val = os.path.join(dir_data, 'val')\n",
        "dir_save_test = os.path.join(dir_data, 'test')\n",
        "\n",
        "## 만약 폴더가 없으면 생성하기\n",
        "if not os.path.exists(dir_save_train):\n",
        "    os.makedirs(dir_save_train)\n",
        "\n",
        "if not os.path.exists(dir_save_val):\n",
        "    os.makedirs(dir_save_val)\n",
        "\n",
        "if not os.path.exists(dir_save_test):\n",
        "    os.makedirs(dir_save_test)\n",
        "\n",
        "## 전체 이미지를 랜덤으로 섞어줌\n",
        "id_frame = np.arange(nframe)\n",
        "np.random.shuffle(id_frame)"
      ]
    },
    {
      "cell_type": "code",
      "execution_count": 30,
      "metadata": {
        "colab": {
          "base_uri": "https://localhost:8080/"
        },
        "id": "RhqEK9R7CrmO",
        "outputId": "86b99179-feb0-45a8-f86b-297469fa7ac3"
      },
      "outputs": [
        {
          "output_type": "stream",
          "name": "stderr",
          "text": [
            "100%|██████████| 1920/1920 [03:03<00:00, 10.47it/s]\n"
          ]
        }
      ],
      "source": [
        "## 선택된 train 이미지를 npy 파일로 저장\n",
        "offset_nframe = 0\n",
        "\n",
        "for i in tqdm(range(11880, nframe_train)):\n",
        "  jpg_x = file_list_x[id_frame[i + offset_nframe]]\n",
        "  img_input = Image.open(path_dir_x + jpg_x)\n",
        "  input_ = np.asarray(img_input)\n",
        "  jpg_x = jpg_x.split('.')[0]   # .jpg를 지우기 위해서\n",
        "  np.save(os.path.join(dir_save_train, 'input_%05d.npy' % i), input_)\n",
        "  \n",
        "  jpg_y = file_list_y[id_frame[i + offset_nframe]]\n",
        "  img_label = Image.open(path_dir_y + jpg_y)\n",
        "  label_ = np.asarray(img_label)\n",
        "  jpg_y = jpg_y.split('.')[0]   # .jpg를 지우기 위해서\n",
        "  np.save(os.path.join(dir_save_train, 'label_%05d.npy' % i), label_)"
      ]
    },
    {
      "cell_type": "code",
      "execution_count": 32,
      "metadata": {
        "id": "c8hl0TzwCtVr",
        "colab": {
          "base_uri": "https://localhost:8080/"
        },
        "outputId": "0bba878e-ffa8-4c01-9b9c-a88081e07260"
      },
      "outputs": [
        {
          "output_type": "stream",
          "name": "stderr",
          "text": [
            "100%|██████████| 1724/1724 [02:52<00:00,  9.99it/s]\n"
          ]
        }
      ],
      "source": [
        "## 선택된 val 이미지를 npy 파일로 저장\n",
        "offset_nframe = nframe_train\n",
        "\n",
        "for i in tqdm(range(nframe_val)):\n",
        "  jpg_x = file_list_x[id_frame[i + offset_nframe]]\n",
        "  img_input = Image.open(path_dir_x + jpg_x)\n",
        "  input_ = np.asarray(img_input)\n",
        "  jpg_x = jpg_x.split('.')[0]\n",
        "  np.save(os.path.join(dir_save_val, 'input_%05d.npy' % i), input_)\n",
        "  \n",
        "  jpg_y = file_list_y[id_frame[i + offset_nframe]]\n",
        "  img_label = Image.open(path_dir_y + jpg_y)\n",
        "  label_ = np.asarray(img_label)\n",
        "  jpg_y = jpg_y.split('.')[0]\n",
        "  np.save(os.path.join(dir_save_val, 'label_%05d.npy' % i), label_)"
      ]
    },
    {
      "cell_type": "code",
      "execution_count": 34,
      "metadata": {
        "id": "RcPPa-YNCuoP",
        "colab": {
          "base_uri": "https://localhost:8080/"
        },
        "outputId": "a5187b1f-ffcd-4414-c00f-9aa9e222c545"
      },
      "outputs": [
        {
          "output_type": "stream",
          "name": "stderr",
          "text": [
            "100%|██████████| 1724/1724 [02:40<00:00, 10.71it/s]\n"
          ]
        }
      ],
      "source": [
        "## 선택된 test 이미지를 npy 파일로 저장\n",
        "offset_nframe = nframe_train + nframe_val\n",
        "\n",
        "for i in tqdm(range(nframe_test)):\n",
        "  jpg_x = file_list_x[id_frame[i + offset_nframe]]\n",
        "  img_input = Image.open(path_dir_x + jpg_x)\n",
        "  input_ = np.asarray(img_input)\n",
        "  jpg_x = jpg_x.split('.')[0]\n",
        "  np.save(os.path.join(dir_save_test, 'input_%03d.npy' % i), input_)\n",
        "  \n",
        "  jpg_y = file_list_y[id_frame[i + offset_nframe]]\n",
        "  img_label = Image.open(path_dir_y + jpg_y)\n",
        "  label_ = np.asarray(img_label)\n",
        "  jpg_y = jpg_y.split('.')[0]\n",
        "  np.save(os.path.join(dir_save_test, 'label_%03d.npy' % i), label_)"
      ]
    },
    {
      "cell_type": "code",
      "source": [
        "jpg_x = file_list_x[2]\n",
        "img_input = Image.open(path_dir_x + jpg_x)\n",
        "input_ = np.asarray(img_input)\n",
        "\n",
        "jpg_y = file_list_y[2]\n",
        "img_label = Image.open(path_dir_y + jpg_y)\n",
        "label_ = np.asarray(img_label)"
      ],
      "metadata": {
        "id": "JKtJP6fIB68a"
      },
      "execution_count": 35,
      "outputs": []
    },
    {
      "cell_type": "code",
      "execution_count": 36,
      "metadata": {
        "id": "4YW6YnU7CvuB",
        "colab": {
          "base_uri": "https://localhost:8080/",
          "height": 216
        },
        "outputId": "b76088cb-fe66-4b46-9c85-476b16289fa2"
      },
      "outputs": [
        {
          "output_type": "display_data",
          "data": {
            "text/plain": [
              "<Figure size 432x288 with 2 Axes>"
            ],
            "image/png": "[encoded data removed]"
          },
          "metadata": {
            "needs_background": "light"
          }
        }
      ],
      "source": [
        "## 이미지 시각화\n",
        "\n",
        "plt.subplot(122)\n",
        "plt.imshow(label_, cmap='gray')\n",
        "plt.title('label')\n",
        "\n",
        "plt.subplot(121)\n",
        "plt.imshow(input_, cmap='gray')\n",
        "plt.title('input')\n",
        "\n",
        "plt.show()"
      ]
    },
    {
      "cell_type": "code",
      "execution_count": 37,
      "metadata": {
        "colab": {
          "base_uri": "https://localhost:8080/",
          "height": 297
        },
        "id": "J7Top26MCxHk",
        "outputId": "a22ecbc3-fe79-409c-c439-8fd16ec12bba"
      },
      "outputs": [
        {
          "output_type": "display_data",
          "data": {
            "text/plain": [
              "<Figure size 432x288 with 2 Axes>"
            ],
            "image/png": "[encoded data removed]"
          },
          "metadata": {
            "needs_background": "light"
          }
        }
      ],
      "source": [
        "## 한 이미지의 분포\n",
        "\n",
        "plt.subplot(122)\n",
        "plt.hist(label_.flatten(), bins=20)\n",
        "plt.title('label')\n",
        "\n",
        "plt.subplot(121)\n",
        "plt.hist(input_.flatten(), bins=20)\n",
        "plt.title('input')\n",
        "\n",
        "plt.tight_layout()\n",
        "plt.show()"
      ]
    },
    {
      "cell_type": "markdown",
      "metadata": {
        "id": "zVoMpRUkENYd"
      },
      "source": [
        "# U-Net 네트워크 구축\n"
      ]
    },
    {
      "cell_type": "code",
      "execution_count": 9,
      "metadata": {
        "id": "fo12bGtx1g0A"
      },
      "outputs": [],
      "source": [
        "## 라이브러리 불러오기\n",
        "import os\n",
        "import numpy as np\n",
        "\n",
        "import torch\n",
        "import torch.nn as nn\n",
        "from torch.utils.data import DataLoader\n",
        "from torch.utils.tensorboard import SummaryWriter\n",
        "\n",
        "import matplotlib.pyplot as plt\n",
        "\n",
        "from torchvision import transforms, datasets"
      ]
    },
    {
      "cell_type": "code",
      "execution_count": 10,
      "metadata": {
        "id": "wOlJisWvCyeo"
      },
      "outputs": [],
      "source": [
        "## 네트워크 구축하기\n",
        "class UNet(nn.Module):\n",
        "    def __init__(self):\n",
        "        super(UNet, self).__init__()\n",
        "\n",
        "        # Convolution + BatchNormalization + Relu 정의하기\n",
        "        def CBR2d(in_channels, out_channels, kernel_size=3, stride=1, padding=1, bias=True): \n",
        "            layers = []\n",
        "            layers += [nn.Conv2d(in_channels=in_channels, out_channels=out_channels,\n",
        "                                 kernel_size=kernel_size, stride=stride, padding=padding,\n",
        "                                 bias=bias)]\n",
        "            layers += [nn.BatchNorm2d(num_features=out_channels)]\n",
        "            layers += [nn.ReLU()]\n",
        "\n",
        "            cbr = nn.Sequential(*layers)\n",
        "\n",
        "            return cbr\n",
        "\n",
        "        # 수축 경로(Contracting path)\n",
        "        self.enc1_1 = CBR2d(in_channels=1, out_channels=64)\n",
        "        self.enc1_2 = CBR2d(in_channels=64, out_channels=64)\n",
        "\n",
        "        self.pool1 = nn.MaxPool2d(kernel_size=2)\n",
        "\n",
        "        self.enc2_1 = CBR2d(in_channels=64, out_channels=128)\n",
        "        self.enc2_2 = CBR2d(in_channels=128, out_channels=128)\n",
        "\n",
        "        self.pool2 = nn.MaxPool2d(kernel_size=2)\n",
        "\n",
        "        self.enc3_1 = CBR2d(in_channels=128, out_channels=256)\n",
        "        self.enc3_2 = CBR2d(in_channels=256, out_channels=256)\n",
        "\n",
        "        self.pool3 = nn.MaxPool2d(kernel_size=2)\n",
        "\n",
        "        self.enc4_1 = CBR2d(in_channels=256, out_channels=512)\n",
        "        self.enc4_2 = CBR2d(in_channels=512, out_channels=512)\n",
        "\n",
        "        self.pool4 = nn.MaxPool2d(kernel_size=2)\n",
        "\n",
        "        self.enc5_1 = CBR2d(in_channels=512, out_channels=1024)\n",
        "\n",
        "        # 확장 경로(Expansive path)\n",
        "        self.dec5_1 = CBR2d(in_channels=1024, out_channels=512)\n",
        "\n",
        "        self.unpool4 = nn.ConvTranspose2d(in_channels=512, out_channels=512,\n",
        "                                          kernel_size=2, stride=2, padding=0, bias=True)\n",
        "\n",
        "        self.dec4_2 = CBR2d(in_channels=2 * 512, out_channels=512)\n",
        "        self.dec4_1 = CBR2d(in_channels=512, out_channels=256)\n",
        "\n",
        "        self.unpool3 = nn.ConvTranspose2d(in_channels=256, out_channels=256,\n",
        "                                          kernel_size=2, stride=2, padding=0, bias=True)\n",
        "\n",
        "        self.dec3_2 = CBR2d(in_channels=2 * 256, out_channels=256)\n",
        "        self.dec3_1 = CBR2d(in_channels=256, out_channels=128)\n",
        "\n",
        "        self.unpool2 = nn.ConvTranspose2d(in_channels=128, out_channels=128,\n",
        "                                          kernel_size=2, stride=2, padding=0, bias=True)\n",
        "\n",
        "        self.dec2_2 = CBR2d(in_channels=2 * 128, out_channels=128)\n",
        "        self.dec2_1 = CBR2d(in_channels=128, out_channels=64)\n",
        "\n",
        "        self.unpool1 = nn.ConvTranspose2d(in_channels=64, out_channels=64,\n",
        "                                          kernel_size=2, stride=2, padding=0, bias=True)\n",
        "\n",
        "        self.dec1_2 = CBR2d(in_channels=2 * 64, out_channels=64)\n",
        "        self.dec1_1 = CBR2d(in_channels=64, out_channels=64)\n",
        "\n",
        "        self.fc = nn.Conv2d(in_channels=64, out_channels=1, kernel_size=1, stride=1, padding=0, bias=True)\n",
        "    \n",
        "    # forward 함수 정의하기\n",
        "    def forward(self, x):\n",
        "        enc1_1 = self.enc1_1(x)\n",
        "        enc1_2 = self.enc1_2(enc1_1)\n",
        "        pool1 = self.pool1(enc1_2)\n",
        "\n",
        "        enc2_1 = self.enc2_1(pool1)\n",
        "        enc2_2 = self.enc2_2(enc2_1)\n",
        "        pool2 = self.pool2(enc2_2)\n",
        "\n",
        "        enc3_1 = self.enc3_1(pool2)\n",
        "        enc3_2 = self.enc3_2(enc3_1)\n",
        "        pool3 = self.pool3(enc3_2)\n",
        "\n",
        "        enc4_1 = self.enc4_1(pool3)\n",
        "        enc4_2 = self.enc4_2(enc4_1)\n",
        "        pool4 = self.pool4(enc4_2)\n",
        "\n",
        "        enc5_1 = self.enc5_1(pool4)\n",
        "\n",
        "        dec5_1 = self.dec5_1(enc5_1)\n",
        "\n",
        "        unpool4 = self.unpool4(dec5_1)\n",
        "        cat4 = torch.cat((unpool4, enc4_2), dim=1)\n",
        "        dec4_2 = self.dec4_2(cat4)\n",
        "        dec4_1 = self.dec4_1(dec4_2)\n",
        "\n",
        "        unpool3 = self.unpool3(dec4_1)\n",
        "        cat3 = torch.cat((unpool3, enc3_2), dim=1)\n",
        "        dec3_2 = self.dec3_2(cat3)\n",
        "        dec3_1 = self.dec3_1(dec3_2)\n",
        "\n",
        "        unpool2 = self.unpool2(dec3_1)\n",
        "        cat2 = torch.cat((unpool2, enc2_2), dim=1)\n",
        "        dec2_2 = self.dec2_2(cat2)\n",
        "        dec2_1 = self.dec2_1(dec2_2)\n",
        "\n",
        "        unpool1 = self.unpool1(dec2_1)\n",
        "        cat1 = torch.cat((unpool1, enc1_2), dim=1)\n",
        "        dec1_2 = self.dec1_2(cat1)\n",
        "        dec1_1 = self.dec1_1(dec1_2)\n",
        "\n",
        "        x = self.fc(dec1_1)\n",
        "\n",
        "        return x"
      ]
    },
    {
      "cell_type": "markdown",
      "metadata": {
        "id": "b_X_NNorEe68"
      },
      "source": [
        "# DataLoader"
      ]
    },
    {
      "cell_type": "code",
      "execution_count": 11,
      "metadata": {
        "id": "adppUStIEisr"
      },
      "outputs": [],
      "source": [
        "# 데이터 로더를 구현하기\n",
        "class Dataset(torch.utils.data.Dataset):\n",
        "    def __init__(self, data_dir, transform=None):\n",
        "        self.data_dir = data_dir\n",
        "        self.transform = transform\n",
        "\n",
        "        lst_data = os.listdir(self.data_dir)\n",
        "\n",
        "        lst_label = [f for f in lst_data if f.startswith('label')]\n",
        "        lst_input = [f for f in lst_data if f.startswith('input')]\n",
        "\n",
        "        lst_label.sort()\n",
        "        lst_input.sort()\n",
        "\n",
        "        self.lst_label = lst_label\n",
        "        self.lst_input = lst_input\n",
        "\n",
        "    def __len__(self):\n",
        "        return len(self.lst_label)\n",
        "\n",
        "    def __getitem__(self, index):\n",
        "        label = np.load(os.path.join(self.data_dir, self.lst_label[index]))\n",
        "        input = np.load(os.path.join(self.data_dir, self.lst_input[index]))\n",
        "\n",
        "        # 정규화\n",
        "        label = label/255.0\n",
        "        input = input/255.0\n",
        "\n",
        "        # 이미지와 레이블의 차원 = 2일 경우(채널이 없을 경우, 흑백 이미지), 새로운 채널(축) 생성\n",
        "        if label.ndim == 2:\n",
        "            label = label[:, :, np.newaxis]\n",
        "            # label = np.repeat(label[:,:,np.newaxis],3,-1) # 세 번째 차원의 수가 3개 (컬러를 말함)\n",
        "        if input.ndim == 2:\n",
        "            input = input[:, :, np.newaxis]\n",
        "\n",
        "        data = {'input': input, 'label': label}\n",
        "\n",
        "        # transform이 정의되어 있다면 transform을 거친 데이터를 불러옴\n",
        "        if self.transform:\n",
        "            data = self.transform(data)\n",
        "\n",
        "        return data"
      ]
    },
    {
      "cell_type": "code",
      "execution_count": 12,
      "metadata": {
        "colab": {
          "base_uri": "https://localhost:8080/",
          "height": 229
        },
        "id": "ScBS0OH5Emr7",
        "outputId": "9b7c2d95-56c4-4773-8449-4ff7c6371e0d"
      },
      "outputs": [
        {
          "output_type": "error",
          "ename": "NameError",
          "evalue": "ignored",
          "traceback": [
            "\u001b[0;31m---------------------------------------------------------------------------\u001b[0m",
            "\u001b[0;31mNameError\u001b[0m                                 Traceback (most recent call last)",
            "\u001b[0;32m<ipython-input-12-9f189bb4de1d>\u001b[0m in \u001b[0;36m<module>\u001b[0;34m\u001b[0m\n\u001b[1;32m      1\u001b[0m \u001b[0;31m## 데이터 Shape 확인해보기\u001b[0m\u001b[0;34m\u001b[0m\u001b[0;34m\u001b[0m\u001b[0;34m\u001b[0m\u001b[0m\n\u001b[1;32m      2\u001b[0m \u001b[0;34m\u001b[0m\u001b[0m\n\u001b[0;32m----> 3\u001b[0;31m \u001b[0mprint\u001b[0m\u001b[0;34m(\u001b[0m\u001b[0;34m\"X 이미지 Shape : {}\"\u001b[0m\u001b[0;34m.\u001b[0m\u001b[0mformat\u001b[0m\u001b[0;34m(\u001b[0m\u001b[0minput_\u001b[0m\u001b[0;34m.\u001b[0m\u001b[0mshape\u001b[0m\u001b[0;34m)\u001b[0m\u001b[0;34m)\u001b[0m\u001b[0;34m\u001b[0m\u001b[0;34m\u001b[0m\u001b[0m\n\u001b[0m\u001b[1;32m      4\u001b[0m \u001b[0mprint\u001b[0m\u001b[0;34m(\u001b[0m\u001b[0;34m\"Y 이미지 Shape : {}\"\u001b[0m\u001b[0;34m.\u001b[0m\u001b[0mformat\u001b[0m\u001b[0;34m(\u001b[0m\u001b[0mlabel_\u001b[0m\u001b[0;34m.\u001b[0m\u001b[0mshape\u001b[0m\u001b[0;34m)\u001b[0m\u001b[0;34m)\u001b[0m\u001b[0;34m\u001b[0m\u001b[0;34m\u001b[0m\u001b[0m\n",
            "\u001b[0;31mNameError\u001b[0m: name 'input_' is not defined"
          ]
        }
      ],
      "source": [
        "## 데이터 Shape 확인해보기\n",
        "\n",
        "print(\"X 이미지 Shape : {}\".format(input_.shape))\n",
        "print(\"Y 이미지 Shape : {}\".format(label_.shape))"
      ]
    },
    {
      "cell_type": "code",
      "execution_count": 42,
      "metadata": {
        "id": "kk1QXXeJC638"
      },
      "outputs": [],
      "source": [
        "## 데이터로더 잘 구현되었는지 확인\n",
        "\n",
        "dataset_train = Dataset(data_dir=dir_save_train)\n",
        "data = dataset_train.__getitem__(0) # 한 이미지 불러오기\n",
        "input = data['input']\n",
        "label = data['label']"
      ]
    },
    {
      "cell_type": "code",
      "source": [
        "## 데이터 Shape 확인해보기\n",
        "\n",
        "print(\"X 이미지 Shape : {}\".format(input_.shape))\n",
        "print(\"Y 이미지 Shape : {}\".format(label_.shape))"
      ],
      "metadata": {
        "colab": {
          "base_uri": "https://localhost:8080/"
        },
        "id": "CLkCkVixEEvP",
        "outputId": "73990b57-bfb4-4aab-fc56-a378e802abd2"
      },
      "execution_count": 43,
      "outputs": [
        {
          "output_type": "stream",
          "name": "stdout",
          "text": [
            "X 이미지 Shape : (512, 512)\n",
            "Y 이미지 Shape : (512, 512)\n"
          ]
        }
      ]
    },
    {
      "cell_type": "code",
      "execution_count": 44,
      "metadata": {
        "colab": {
          "base_uri": "https://localhost:8080/",
          "height": 216
        },
        "id": "Hfvf9ZZ-DAHx",
        "outputId": "9984a471-e015-4c64-daf9-f235196a0f26"
      },
      "outputs": [
        {
          "output_type": "display_data",
          "data": {
            "text/plain": [
              "<Figure size 432x288 with 2 Axes>"
            ],
            "image/png": "[encoded data removed]"
          },
          "metadata": {
            "needs_background": "light"
          }
        }
      ],
      "source": [
        "# 불러온 이미지 시각화\n",
        "\n",
        "plt.subplot(122)\n",
        "plt.imshow(label.reshape(512, 512), cmap='gray')\n",
        "plt.title('label')\n",
        "\n",
        "plt.subplot(121)\n",
        "plt.imshow(input.reshape(512, 512), cmap='gray')\n",
        "plt.title('input')\n",
        "\n",
        "plt.show()"
      ]
    },
    {
      "cell_type": "markdown",
      "metadata": {
        "id": "6qM0_v5LE91Z"
      },
      "source": [
        "# Transform"
      ]
    },
    {
      "cell_type": "code",
      "execution_count": 13,
      "metadata": {
        "id": "18xWydEWE9MZ"
      },
      "outputs": [],
      "source": [
        "# 트렌스폼 구현하기\n",
        "class ToTensor(object):\n",
        "    def __call__(self, data):\n",
        "        label, input = data['label'], data['input']\n",
        "\n",
        "        # 배열 순서 바꿈 픽셀컬러 정보를 맨 앞으로\n",
        "        label = label.transpose((2, 0, 1)).astype(np.float32)\n",
        "        input = input.transpose((2, 0, 1)).astype(np.float32)\n",
        "\n",
        "        data = {'label': torch.from_numpy(label), 'input': torch.from_numpy(input)}\n",
        "\n",
        "        return data\n",
        "\n",
        "## 정규화\n",
        "class Normalization(object):\n",
        "    def __init__(self, mean=0.5, std=0.5):\n",
        "        self.mean = mean\n",
        "        self.std = std\n",
        "\n",
        "    def __call__(self, data):\n",
        "        label, input = data['label'], data['input']\n",
        "\n",
        "        input = (input - self.mean) / self.std\n",
        "\n",
        "        data = {'label': label, 'input': input}\n",
        "\n",
        "        return data\n",
        "\n",
        "class RandomFlip(object):\n",
        "    def __call__(self, data):\n",
        "        label, input = data['label'], data['input']\n",
        "\n",
        "        if np.random.rand() > 0.5:\n",
        "            label = np.fliplr(label)\n",
        "            input = np.fliplr(input)\n",
        "\n",
        "        if np.random.rand() > 0.5:\n",
        "            label = np.flipud(label)\n",
        "            input = np.flipud(input)\n",
        "\n",
        "        data = {'label': label, 'input': input}\n",
        "\n",
        "        return data"
      ]
    },
    {
      "cell_type": "code",
      "execution_count": 14,
      "metadata": {
        "id": "KW18OXByDBR4",
        "colab": {
          "base_uri": "https://localhost:8080/",
          "height": 248
        },
        "outputId": "96052c2d-f876-4aab-9350-326378a3b656"
      },
      "outputs": [
        {
          "output_type": "error",
          "ename": "NameError",
          "evalue": "ignored",
          "traceback": [
            "\u001b[0;31m---------------------------------------------------------------------------\u001b[0m",
            "\u001b[0;31mNameError\u001b[0m                                 Traceback (most recent call last)",
            "\u001b[0;32m<ipython-input-14-22129ce575c8>\u001b[0m in \u001b[0;36m<module>\u001b[0;34m\u001b[0m\n\u001b[1;32m      1\u001b[0m \u001b[0;31m## 트랜스폼 잘 구현되었는지 확인\u001b[0m\u001b[0;34m\u001b[0m\u001b[0;34m\u001b[0m\u001b[0;34m\u001b[0m\u001b[0m\n\u001b[1;32m      2\u001b[0m \u001b[0mtransform\u001b[0m \u001b[0;34m=\u001b[0m \u001b[0mtransforms\u001b[0m\u001b[0;34m.\u001b[0m\u001b[0mCompose\u001b[0m\u001b[0;34m(\u001b[0m\u001b[0;34m[\u001b[0m\u001b[0mNormalization\u001b[0m\u001b[0;34m(\u001b[0m\u001b[0mmean\u001b[0m\u001b[0;34m=\u001b[0m\u001b[0;36m0.5\u001b[0m\u001b[0;34m,\u001b[0m \u001b[0mstd\u001b[0m\u001b[0;34m=\u001b[0m\u001b[0;36m0.5\u001b[0m\u001b[0;34m)\u001b[0m\u001b[0;34m,\u001b[0m \u001b[0mRandomFlip\u001b[0m\u001b[0;34m(\u001b[0m\u001b[0;34m)\u001b[0m\u001b[0;34m,\u001b[0m \u001b[0mToTensor\u001b[0m\u001b[0;34m(\u001b[0m\u001b[0;34m)\u001b[0m\u001b[0;34m]\u001b[0m\u001b[0;34m)\u001b[0m\u001b[0;34m\u001b[0m\u001b[0;34m\u001b[0m\u001b[0m\n\u001b[0;32m----> 3\u001b[0;31m \u001b[0mdataset_train\u001b[0m \u001b[0;34m=\u001b[0m \u001b[0mDataset\u001b[0m\u001b[0;34m(\u001b[0m\u001b[0mdata_dir\u001b[0m\u001b[0;34m=\u001b[0m\u001b[0mdir_save_train\u001b[0m\u001b[0;34m,\u001b[0m \u001b[0mtransform\u001b[0m\u001b[0;34m=\u001b[0m\u001b[0mtransform\u001b[0m\u001b[0;34m)\u001b[0m\u001b[0;34m\u001b[0m\u001b[0;34m\u001b[0m\u001b[0m\n\u001b[0m\u001b[1;32m      4\u001b[0m \u001b[0mdata\u001b[0m \u001b[0;34m=\u001b[0m \u001b[0mdataset_train\u001b[0m\u001b[0;34m.\u001b[0m\u001b[0m__getitem__\u001b[0m\u001b[0;34m(\u001b[0m\u001b[0;36m0\u001b[0m\u001b[0;34m)\u001b[0m \u001b[0;31m# 한 이미지 불러오기\u001b[0m\u001b[0;34m\u001b[0m\u001b[0;34m\u001b[0m\u001b[0m\n\u001b[1;32m      5\u001b[0m \u001b[0minput\u001b[0m \u001b[0;34m=\u001b[0m \u001b[0mdata\u001b[0m\u001b[0;34m[\u001b[0m\u001b[0;34m'input'\u001b[0m\u001b[0;34m]\u001b[0m\u001b[0;34m\u001b[0m\u001b[0;34m\u001b[0m\u001b[0m\n",
            "\u001b[0;31mNameError\u001b[0m: name 'dir_save_train' is not defined"
          ]
        }
      ],
      "source": [
        "## 트랜스폼 잘 구현되었는지 확인\n",
        "transform = transforms.Compose([Normalization(mean=0.5, std=0.5), RandomFlip(), ToTensor()])\n",
        "dataset_train = Dataset(data_dir=dir_save_train, transform=transform)\n",
        "data = dataset_train.__getitem__(0) # 한 이미지 불러오기\n",
        "input = data['input']\n",
        "label = data['label']"
      ]
    },
    {
      "cell_type": "code",
      "source": [
        "## 데이터 Shape 확인해보기\n",
        "\n",
        "print(\"X 이미지 Shape : {}\".format(input.shape))\n",
        "print(\"Y 이미지 Shape : {}\".format(label.shape))"
      ],
      "metadata": {
        "colab": {
          "base_uri": "https://localhost:8080/"
        },
        "id": "Wx5fkoxZEQDv",
        "outputId": "f5327fe5-277f-4301-84fe-f84dc4372c45"
      },
      "execution_count": 47,
      "outputs": [
        {
          "output_type": "stream",
          "name": "stdout",
          "text": [
            "X 이미지 Shape : torch.Size([1, 512, 512])\n",
            "Y 이미지 Shape : torch.Size([1, 512, 512])\n"
          ]
        }
      ]
    },
    {
      "cell_type": "code",
      "execution_count": 48,
      "metadata": {
        "colab": {
          "base_uri": "https://localhost:8080/",
          "height": 297
        },
        "id": "TI41xsey2Nst",
        "outputId": "0409d70d-5492-497f-f87c-82705a74113a"
      },
      "outputs": [
        {
          "output_type": "display_data",
          "data": {
            "text/plain": [
              "<Figure size 432x288 with 2 Axes>"
            ],
            "image/png": "[encoded data removed]"
          },
          "metadata": {
            "needs_background": "light"
          }
        }
      ],
      "source": [
        "## 불러온 이미지 시각화\n",
        "plt.subplot(122)\n",
        "plt.hist(label.flatten(), bins=20)\n",
        "plt.title('label')\n",
        "\n",
        "plt.subplot(121)\n",
        "plt.hist(input.flatten(), bins=20)\n",
        "plt.title('input')\n",
        "\n",
        "plt.tight_layout()\n",
        "plt.show()"
      ]
    },
    {
      "cell_type": "markdown",
      "metadata": {
        "id": "02G0n8l0FH25"
      },
      "source": [
        "# Network 저장 & 호출"
      ]
    },
    {
      "cell_type": "code",
      "execution_count": 49,
      "metadata": {
        "id": "4dCdCyTcFK54"
      },
      "outputs": [],
      "source": [
        "## 네트워크 저장하기\n",
        "def save(ckpt_dir, net, optim, epoch):\n",
        "    if not os.path.exists(ckpt_dir):\n",
        "        os.makedirs(ckpt_dir)\n",
        "\n",
        "    torch.save({'net': net.state_dict(), 'optim': optim.state_dict()},\n",
        "               \"%s/model_epoch%d.pth\" % (ckpt_dir, epoch))"
      ]
    },
    {
      "cell_type": "code",
      "execution_count": 15,
      "metadata": {
        "id": "YsUJEuHMFN3w"
      },
      "outputs": [],
      "source": [
        "## 네트워크 불러오기\n",
        "def load(ckpt_dir, net, optim):\n",
        "    if not os.path.exists(ckpt_dir):\n",
        "        epoch = 0\n",
        "        return net, optim, epoch\n",
        "\n",
        "    ckpt_lst = os.listdir(ckpt_dir)\n",
        "    ckpt_lst.sort(key=lambda f: int(''.join(filter(str.isdigit, f))))\n",
        "\n",
        "    dict_model = torch.load('%s/%s' % (ckpt_dir, ckpt_lst[-1]))\n",
        "\n",
        "    net.load_state_dict(dict_model['net'])\n",
        "    optim.load_state_dict(dict_model['optim'])\n",
        "    epoch = int(ckpt_lst[-1].split('epoch')[1].split('.pth')[0])\n",
        "\n",
        "    return net, optim, epoch"
      ]
    },
    {
      "cell_type": "markdown",
      "metadata": {
        "id": "JnhoPQtXFPmB"
      },
      "source": [
        "# Network 훈련"
      ]
    },
    {
      "cell_type": "code",
      "execution_count": null,
      "metadata": {
        "colab": {
          "base_uri": "https://localhost:8080/"
        },
        "id": "w0pq6bReDDnM",
        "outputId": "f6d024e9-12e0-48a6-e2a7-aa34379954b0"
      },
      "outputs": [
        {
          "output_type": "stream",
          "name": "stderr",
          "text": [
            "\r  0%|          | 0/20 [00:00<?, ?it/s]"
          ]
        },
        {
          "output_type": "stream",
          "name": "stdout",
          "text": [
            "TRAIN: EPOCH 0001 / 0020 | BATCH 0001 / 0863 | LOSS 0.6462\n",
            "TRAIN: EPOCH 0001 / 0020 | BATCH 0002 / 0863 | LOSS 0.6261\n",
            "TRAIN: EPOCH 0001 / 0020 | BATCH 0003 / 0863 | LOSS 0.6050\n",
            "TRAIN: EPOCH 0001 / 0020 | BATCH 0004 / 0863 | LOSS 0.5824\n",
            "TRAIN: EPOCH 0001 / 0020 | BATCH 0005 / 0863 | LOSS 0.5589\n",
            "TRAIN: EPOCH 0001 / 0020 | BATCH 0006 / 0863 | LOSS 0.5431\n",
            "TRAIN: EPOCH 0001 / 0020 | BATCH 0007 / 0863 | LOSS 0.5236\n",
            "TRAIN: EPOCH 0001 / 0020 | BATCH 0008 / 0863 | LOSS 0.5062\n",
            "TRAIN: EPOCH 0001 / 0020 | BATCH 0009 / 0863 | LOSS 0.4896\n",
            "TRAIN: EPOCH 0001 / 0020 | BATCH 0010 / 0863 | LOSS 0.4780\n",
            "TRAIN: EPOCH 0001 / 0020 | BATCH 0011 / 0863 | LOSS 0.4687\n",
            "TRAIN: EPOCH 0001 / 0020 | BATCH 0012 / 0863 | LOSS 0.4559\n",
            "TRAIN: EPOCH 0001 / 0020 | BATCH 0013 / 0863 | LOSS 0.4443\n",
            "TRAIN: EPOCH 0001 / 0020 | BATCH 0014 / 0863 | LOSS 0.4358\n",
            "TRAIN: EPOCH 0001 / 0020 | BATCH 0015 / 0863 | LOSS 0.4270\n",
            "TRAIN: EPOCH 0001 / 0020 | BATCH 0016 / 0863 | LOSS 0.4178\n",
            "TRAIN: EPOCH 0001 / 0020 | BATCH 0017 / 0863 | LOSS 0.4095\n",
            "TRAIN: EPOCH 0001 / 0020 | BATCH 0018 / 0863 | LOSS 0.4016\n",
            "TRAIN: EPOCH 0001 / 0020 | BATCH 0019 / 0863 | LOSS 0.3948\n",
            "TRAIN: EPOCH 0001 / 0020 | BATCH 0020 / 0863 | LOSS 0.3881\n",
            "TRAIN: EPOCH 0001 / 0020 | BATCH 0021 / 0863 | LOSS 0.3817\n",
            "TRAIN: EPOCH 0001 / 0020 | BATCH 0022 / 0863 | LOSS 0.3760\n",
            "TRAIN: EPOCH 0001 / 0020 | BATCH 0023 / 0863 | LOSS 0.3717\n",
            "TRAIN: EPOCH 0001 / 0020 | BATCH 0024 / 0863 | LOSS 0.3663\n",
            "TRAIN: EPOCH 0001 / 0020 | BATCH 0025 / 0863 | LOSS 0.3608\n",
            "TRAIN: EPOCH 0001 / 0020 | BATCH 0026 / 0863 | LOSS 0.3565\n",
            "TRAIN: EPOCH 0001 / 0020 | BATCH 0027 / 0863 | LOSS 0.3536\n",
            "TRAIN: EPOCH 0001 / 0020 | BATCH 0028 / 0863 | LOSS 0.3503\n",
            "TRAIN: EPOCH 0001 / 0020 | BATCH 0029 / 0863 | LOSS 0.3473\n",
            "TRAIN: EPOCH 0001 / 0020 | BATCH 0030 / 0863 | LOSS 0.3433\n",
            "TRAIN: EPOCH 0001 / 0020 | BATCH 0031 / 0863 | LOSS 0.3395\n",
            "TRAIN: EPOCH 0001 / 0020 | BATCH 0032 / 0863 | LOSS 0.3358\n",
            "TRAIN: EPOCH 0001 / 0020 | BATCH 0033 / 0863 | LOSS 0.3321\n",
            "TRAIN: EPOCH 0001 / 0020 | BATCH 0034 / 0863 | LOSS 0.3290\n",
            "TRAIN: EPOCH 0001 / 0020 | BATCH 0035 / 0863 | LOSS 0.3257\n",
            "TRAIN: EPOCH 0001 / 0020 | BATCH 0036 / 0863 | LOSS 0.3219\n",
            "TRAIN: EPOCH 0001 / 0020 | BATCH 0037 / 0863 | LOSS 0.3204\n",
            "TRAIN: EPOCH 0001 / 0020 | BATCH 0038 / 0863 | LOSS 0.3186\n",
            "TRAIN: EPOCH 0001 / 0020 | BATCH 0039 / 0863 | LOSS 0.3167\n",
            "TRAIN: EPOCH 0001 / 0020 | BATCH 0040 / 0863 | LOSS 0.3155\n",
            "TRAIN: EPOCH 0001 / 0020 | BATCH 0041 / 0863 | LOSS 0.3134\n",
            "TRAIN: EPOCH 0001 / 0020 | BATCH 0042 / 0863 | LOSS 0.3112\n",
            "TRAIN: EPOCH 0001 / 0020 | BATCH 0043 / 0863 | LOSS 0.3092\n",
            "TRAIN: EPOCH 0001 / 0020 | BATCH 0044 / 0863 | LOSS 0.3069\n",
            "TRAIN: EPOCH 0001 / 0020 | BATCH 0045 / 0863 | LOSS 0.3041\n",
            "TRAIN: EPOCH 0001 / 0020 | BATCH 0046 / 0863 | LOSS 0.3016\n",
            "TRAIN: EPOCH 0001 / 0020 | BATCH 0047 / 0863 | LOSS 0.2997\n",
            "TRAIN: EPOCH 0001 / 0020 | BATCH 0048 / 0863 | LOSS 0.2980\n",
            "TRAIN: EPOCH 0001 / 0020 | BATCH 0049 / 0863 | LOSS 0.2953\n",
            "TRAIN: EPOCH 0001 / 0020 | BATCH 0050 / 0863 | LOSS 0.2927\n",
            "TRAIN: EPOCH 0001 / 0020 | BATCH 0051 / 0863 | LOSS 0.2908\n",
            "TRAIN: EPOCH 0001 / 0020 | BATCH 0052 / 0863 | LOSS 0.2885\n",
            "TRAIN: EPOCH 0001 / 0020 | BATCH 0053 / 0863 | LOSS 0.2861\n",
            "TRAIN: EPOCH 0001 / 0020 | BATCH 0054 / 0863 | LOSS 0.2841\n",
            "TRAIN: EPOCH 0001 / 0020 | BATCH 0055 / 0863 | LOSS 0.2831\n",
            "TRAIN: EPOCH 0001 / 0020 | BATCH 0056 / 0863 | LOSS 0.2812\n",
            "TRAIN: EPOCH 0001 / 0020 | BATCH 0057 / 0863 | LOSS 0.2789\n",
            "TRAIN: EPOCH 0001 / 0020 | BATCH 0058 / 0863 | LOSS 0.2774\n",
            "TRAIN: EPOCH 0001 / 0020 | BATCH 0059 / 0863 | LOSS 0.2757\n",
            "TRAIN: EPOCH 0001 / 0020 | BATCH 0060 / 0863 | LOSS 0.2744\n",
            "TRAIN: EPOCH 0001 / 0020 | BATCH 0061 / 0863 | LOSS 0.2727\n",
            "TRAIN: EPOCH 0001 / 0020 | BATCH 0062 / 0863 | LOSS 0.2711\n",
            "TRAIN: EPOCH 0001 / 0020 | BATCH 0063 / 0863 | LOSS 0.2690\n",
            "TRAIN: EPOCH 0001 / 0020 | BATCH 0064 / 0863 | LOSS 0.2675\n",
            "TRAIN: EPOCH 0001 / 0020 | BATCH 0065 / 0863 | LOSS 0.2660\n",
            "TRAIN: EPOCH 0001 / 0020 | BATCH 0066 / 0863 | LOSS 0.2647\n",
            "TRAIN: EPOCH 0001 / 0020 | BATCH 0067 / 0863 | LOSS 0.2633\n",
            "TRAIN: EPOCH 0001 / 0020 | BATCH 0068 / 0863 | LOSS 0.2627\n",
            "TRAIN: EPOCH 0001 / 0020 | BATCH 0069 / 0863 | LOSS 0.2612\n",
            "TRAIN: EPOCH 0001 / 0020 | BATCH 0070 / 0863 | LOSS 0.2596\n",
            "TRAIN: EPOCH 0001 / 0020 | BATCH 0071 / 0863 | LOSS 0.2586\n",
            "TRAIN: EPOCH 0001 / 0020 | BATCH 0072 / 0863 | LOSS 0.2577\n",
            "TRAIN: EPOCH 0001 / 0020 | BATCH 0073 / 0863 | LOSS 0.2561\n",
            "TRAIN: EPOCH 0001 / 0020 | BATCH 0074 / 0863 | LOSS 0.2541\n",
            "TRAIN: EPOCH 0001 / 0020 | BATCH 0075 / 0863 | LOSS 0.2525\n",
            "TRAIN: EPOCH 0001 / 0020 | BATCH 0076 / 0863 | LOSS 0.2521\n",
            "TRAIN: EPOCH 0001 / 0020 | BATCH 0077 / 0863 | LOSS 0.2512\n",
            "TRAIN: EPOCH 0001 / 0020 | BATCH 0078 / 0863 | LOSS 0.2496\n",
            "TRAIN: EPOCH 0001 / 0020 | BATCH 0079 / 0863 | LOSS 0.2487\n",
            "TRAIN: EPOCH 0001 / 0020 | BATCH 0080 / 0863 | LOSS 0.2478\n",
            "TRAIN: EPOCH 0001 / 0020 | BATCH 0081 / 0863 | LOSS 0.2470\n",
            "TRAIN: EPOCH 0001 / 0020 | BATCH 0082 / 0863 | LOSS 0.2455\n",
            "TRAIN: EPOCH 0001 / 0020 | BATCH 0083 / 0863 | LOSS 0.2442\n",
            "TRAIN: EPOCH 0001 / 0020 | BATCH 0084 / 0863 | LOSS 0.2434\n",
            "TRAIN: EPOCH 0001 / 0020 | BATCH 0085 / 0863 | LOSS 0.2424\n",
            "TRAIN: EPOCH 0001 / 0020 | BATCH 0086 / 0863 | LOSS 0.2412\n",
            "TRAIN: EPOCH 0001 / 0020 | BATCH 0087 / 0863 | LOSS 0.2415\n",
            "TRAIN: EPOCH 0001 / 0020 | BATCH 0088 / 0863 | LOSS 0.2404\n",
            "TRAIN: EPOCH 0001 / 0020 | BATCH 0089 / 0863 | LOSS 0.2399\n",
            "TRAIN: EPOCH 0001 / 0020 | BATCH 0090 / 0863 | LOSS 0.2400\n",
            "TRAIN: EPOCH 0001 / 0020 | BATCH 0091 / 0863 | LOSS 0.2391\n",
            "TRAIN: EPOCH 0001 / 0020 | BATCH 0092 / 0863 | LOSS 0.2392\n",
            "TRAIN: EPOCH 0001 / 0020 | BATCH 0093 / 0863 | LOSS 0.2380\n",
            "TRAIN: EPOCH 0001 / 0020 | BATCH 0094 / 0863 | LOSS 0.2370\n",
            "TRAIN: EPOCH 0001 / 0020 | BATCH 0095 / 0863 | LOSS 0.2364\n",
            "TRAIN: EPOCH 0001 / 0020 | BATCH 0096 / 0863 | LOSS 0.2358\n",
            "TRAIN: EPOCH 0001 / 0020 | BATCH 0097 / 0863 | LOSS 0.2349\n",
            "TRAIN: EPOCH 0001 / 0020 | BATCH 0098 / 0863 | LOSS 0.2344\n",
            "TRAIN: EPOCH 0001 / 0020 | BATCH 0099 / 0863 | LOSS 0.2342\n",
            "TRAIN: EPOCH 0001 / 0020 | BATCH 0100 / 0863 | LOSS 0.2334\n",
            "TRAIN: EPOCH 0001 / 0020 | BATCH 0101 / 0863 | LOSS 0.2324\n",
            "TRAIN: EPOCH 0001 / 0020 | BATCH 0102 / 0863 | LOSS 0.2316\n",
            "TRAIN: EPOCH 0001 / 0020 | BATCH 0103 / 0863 | LOSS 0.2309\n",
            "TRAIN: EPOCH 0001 / 0020 | BATCH 0104 / 0863 | LOSS 0.2298\n",
            "TRAIN: EPOCH 0001 / 0020 | BATCH 0105 / 0863 | LOSS 0.2286\n",
            "TRAIN: EPOCH 0001 / 0020 | BATCH 0106 / 0863 | LOSS 0.2275\n",
            "TRAIN: EPOCH 0001 / 0020 | BATCH 0107 / 0863 | LOSS 0.2272\n",
            "TRAIN: EPOCH 0001 / 0020 | BATCH 0108 / 0863 | LOSS 0.2266\n",
            "TRAIN: EPOCH 0001 / 0020 | BATCH 0109 / 0863 | LOSS 0.2265\n",
            "TRAIN: EPOCH 0001 / 0020 | BATCH 0110 / 0863 | LOSS 0.2254\n",
            "TRAIN: EPOCH 0001 / 0020 | BATCH 0111 / 0863 | LOSS 0.2246\n",
            "TRAIN: EPOCH 0001 / 0020 | BATCH 0112 / 0863 | LOSS 0.2238\n",
            "TRAIN: EPOCH 0001 / 0020 | BATCH 0113 / 0863 | LOSS 0.2228\n",
            "TRAIN: EPOCH 0001 / 0020 | BATCH 0114 / 0863 | LOSS 0.2225\n",
            "TRAIN: EPOCH 0001 / 0020 | BATCH 0115 / 0863 | LOSS 0.2218\n",
            "TRAIN: EPOCH 0001 / 0020 | BATCH 0116 / 0863 | LOSS 0.2216\n",
            "TRAIN: EPOCH 0001 / 0020 | BATCH 0117 / 0863 | LOSS 0.2207\n",
            "TRAIN: EPOCH 0001 / 0020 | BATCH 0118 / 0863 | LOSS 0.2201\n",
            "TRAIN: EPOCH 0001 / 0020 | BATCH 0119 / 0863 | LOSS 0.2192\n",
            "TRAIN: EPOCH 0001 / 0020 | BATCH 0120 / 0863 | LOSS 0.2184\n",
            "TRAIN: EPOCH 0001 / 0020 | BATCH 0121 / 0863 | LOSS 0.2175\n",
            "TRAIN: EPOCH 0001 / 0020 | BATCH 0122 / 0863 | LOSS 0.2167\n",
            "TRAIN: EPOCH 0001 / 0020 | BATCH 0123 / 0863 | LOSS 0.2158\n",
            "TRAIN: EPOCH 0001 / 0020 | BATCH 0124 / 0863 | LOSS 0.2153\n",
            "TRAIN: EPOCH 0001 / 0020 | BATCH 0125 / 0863 | LOSS 0.2150\n",
            "TRAIN: EPOCH 0001 / 0020 | BATCH 0126 / 0863 | LOSS 0.2145\n",
            "TRAIN: EPOCH 0001 / 0020 | BATCH 0127 / 0863 | LOSS 0.2139\n",
            "TRAIN: EPOCH 0001 / 0020 | BATCH 0128 / 0863 | LOSS 0.2130\n",
            "TRAIN: EPOCH 0001 / 0020 | BATCH 0129 / 0863 | LOSS 0.2125\n",
            "TRAIN: EPOCH 0001 / 0020 | BATCH 0130 / 0863 | LOSS 0.2124\n",
            "TRAIN: EPOCH 0001 / 0020 | BATCH 0131 / 0863 | LOSS 0.2119\n",
            "TRAIN: EPOCH 0001 / 0020 | BATCH 0132 / 0863 | LOSS 0.2115\n",
            "TRAIN: EPOCH 0001 / 0020 | BATCH 0133 / 0863 | LOSS 0.2109\n",
            "TRAIN: EPOCH 0001 / 0020 | BATCH 0134 / 0863 | LOSS 0.2106\n",
            "TRAIN: EPOCH 0001 / 0020 | BATCH 0135 / 0863 | LOSS 0.2101\n",
            "TRAIN: EPOCH 0001 / 0020 | BATCH 0136 / 0863 | LOSS 0.2094\n",
            "TRAIN: EPOCH 0001 / 0020 | BATCH 0137 / 0863 | LOSS 0.2091\n",
            "TRAIN: EPOCH 0001 / 0020 | BATCH 0138 / 0863 | LOSS 0.2088\n",
            "TRAIN: EPOCH 0001 / 0020 | BATCH 0139 / 0863 | LOSS 0.2082\n",
            "TRAIN: EPOCH 0001 / 0020 | BATCH 0140 / 0863 | LOSS 0.2080\n",
            "TRAIN: EPOCH 0001 / 0020 | BATCH 0141 / 0863 | LOSS 0.2081\n",
            "TRAIN: EPOCH 0001 / 0020 | BATCH 0142 / 0863 | LOSS 0.2080\n",
            "TRAIN: EPOCH 0001 / 0020 | BATCH 0143 / 0863 | LOSS 0.2081\n",
            "TRAIN: EPOCH 0001 / 0020 | BATCH 0144 / 0863 | LOSS 0.2077\n",
            "TRAIN: EPOCH 0001 / 0020 | BATCH 0145 / 0863 | LOSS 0.2075\n",
            "TRAIN: EPOCH 0001 / 0020 | BATCH 0146 / 0863 | LOSS 0.2069\n",
            "TRAIN: EPOCH 0001 / 0020 | BATCH 0147 / 0863 | LOSS 0.2067\n",
            "TRAIN: EPOCH 0001 / 0020 | BATCH 0148 / 0863 | LOSS 0.2065\n",
            "TRAIN: EPOCH 0001 / 0020 | BATCH 0149 / 0863 | LOSS 0.2060\n",
            "TRAIN: EPOCH 0001 / 0020 | BATCH 0150 / 0863 | LOSS 0.2058\n",
            "TRAIN: EPOCH 0001 / 0020 | BATCH 0151 / 0863 | LOSS 0.2055\n",
            "TRAIN: EPOCH 0001 / 0020 | BATCH 0152 / 0863 | LOSS 0.2050\n",
            "TRAIN: EPOCH 0001 / 0020 | BATCH 0153 / 0863 | LOSS 0.2046\n",
            "TRAIN: EPOCH 0001 / 0020 | BATCH 0154 / 0863 | LOSS 0.2042\n",
            "TRAIN: EPOCH 0001 / 0020 | BATCH 0155 / 0863 | LOSS 0.2037\n",
            "TRAIN: EPOCH 0001 / 0020 | BATCH 0156 / 0863 | LOSS 0.2030\n",
            "TRAIN: EPOCH 0001 / 0020 | BATCH 0157 / 0863 | LOSS 0.2029\n",
            "TRAIN: EPOCH 0001 / 0020 | BATCH 0158 / 0863 | LOSS 0.2028\n",
            "TRAIN: EPOCH 0001 / 0020 | BATCH 0159 / 0863 | LOSS 0.2023\n",
            "TRAIN: EPOCH 0001 / 0020 | BATCH 0160 / 0863 | LOSS 0.2018\n",
            "TRAIN: EPOCH 0001 / 0020 | BATCH 0161 / 0863 | LOSS 0.2013\n",
            "TRAIN: EPOCH 0001 / 0020 | BATCH 0162 / 0863 | LOSS 0.2011\n",
            "TRAIN: EPOCH 0001 / 0020 | BATCH 0163 / 0863 | LOSS 0.2007\n",
            "TRAIN: EPOCH 0001 / 0020 | BATCH 0164 / 0863 | LOSS 0.2006\n",
            "TRAIN: EPOCH 0001 / 0020 | BATCH 0165 / 0863 | LOSS 0.2002\n",
            "TRAIN: EPOCH 0001 / 0020 | BATCH 0166 / 0863 | LOSS 0.2004\n",
            "TRAIN: EPOCH 0001 / 0020 | BATCH 0167 / 0863 | LOSS 0.1997\n",
            "TRAIN: EPOCH 0001 / 0020 | BATCH 0168 / 0863 | LOSS 0.1996\n",
            "TRAIN: EPOCH 0001 / 0020 | BATCH 0169 / 0863 | LOSS 0.1996\n",
            "TRAIN: EPOCH 0001 / 0020 | BATCH 0170 / 0863 | LOSS 0.1989\n",
            "TRAIN: EPOCH 0001 / 0020 | BATCH 0171 / 0863 | LOSS 0.1985\n",
            "TRAIN: EPOCH 0001 / 0020 | BATCH 0172 / 0863 | LOSS 0.1981\n",
            "TRAIN: EPOCH 0001 / 0020 | BATCH 0173 / 0863 | LOSS 0.1980\n",
            "TRAIN: EPOCH 0001 / 0020 | BATCH 0174 / 0863 | LOSS 0.1976\n",
            "TRAIN: EPOCH 0001 / 0020 | BATCH 0175 / 0863 | LOSS 0.1978\n",
            "TRAIN: EPOCH 0001 / 0020 | BATCH 0176 / 0863 | LOSS 0.1973\n",
            "TRAIN: EPOCH 0001 / 0020 | BATCH 0177 / 0863 | LOSS 0.1971\n",
            "TRAIN: EPOCH 0001 / 0020 | BATCH 0178 / 0863 | LOSS 0.1967\n",
            "TRAIN: EPOCH 0001 / 0020 | BATCH 0179 / 0863 | LOSS 0.1965\n",
            "TRAIN: EPOCH 0001 / 0020 | BATCH 0180 / 0863 | LOSS 0.1962\n",
            "TRAIN: EPOCH 0001 / 0020 | BATCH 0181 / 0863 | LOSS 0.1957\n",
            "TRAIN: EPOCH 0001 / 0020 | BATCH 0182 / 0863 | LOSS 0.1956\n",
            "TRAIN: EPOCH 0001 / 0020 | BATCH 0183 / 0863 | LOSS 0.1952\n",
            "TRAIN: EPOCH 0001 / 0020 | BATCH 0184 / 0863 | LOSS 0.1950\n",
            "TRAIN: EPOCH 0001 / 0020 | BATCH 0185 / 0863 | LOSS 0.1946\n",
            "TRAIN: EPOCH 0001 / 0020 | BATCH 0186 / 0863 | LOSS 0.1941\n",
            "TRAIN: EPOCH 0001 / 0020 | BATCH 0187 / 0863 | LOSS 0.1940\n",
            "TRAIN: EPOCH 0001 / 0020 | BATCH 0188 / 0863 | LOSS 0.1935\n",
            "TRAIN: EPOCH 0001 / 0020 | BATCH 0189 / 0863 | LOSS 0.1934\n",
            "TRAIN: EPOCH 0001 / 0020 | BATCH 0190 / 0863 | LOSS 0.1930\n",
            "TRAIN: EPOCH 0001 / 0020 | BATCH 0191 / 0863 | LOSS 0.1931\n",
            "TRAIN: EPOCH 0001 / 0020 | BATCH 0192 / 0863 | LOSS 0.1928\n",
            "TRAIN: EPOCH 0001 / 0020 | BATCH 0193 / 0863 | LOSS 0.1925\n",
            "TRAIN: EPOCH 0001 / 0020 | BATCH 0194 / 0863 | LOSS 0.1928\n",
            "TRAIN: EPOCH 0001 / 0020 | BATCH 0195 / 0863 | LOSS 0.1925\n",
            "TRAIN: EPOCH 0001 / 0020 | BATCH 0196 / 0863 | LOSS 0.1922\n",
            "TRAIN: EPOCH 0001 / 0020 | BATCH 0197 / 0863 | LOSS 0.1925\n",
            "TRAIN: EPOCH 0001 / 0020 | BATCH 0198 / 0863 | LOSS 0.1922\n",
            "TRAIN: EPOCH 0001 / 0020 | BATCH 0199 / 0863 | LOSS 0.1921\n",
            "TRAIN: EPOCH 0001 / 0020 | BATCH 0200 / 0863 | LOSS 0.1917\n",
            "TRAIN: EPOCH 0001 / 0020 | BATCH 0201 / 0863 | LOSS 0.1918\n",
            "TRAIN: EPOCH 0001 / 0020 | BATCH 0202 / 0863 | LOSS 0.1913\n",
            "TRAIN: EPOCH 0001 / 0020 | BATCH 0203 / 0863 | LOSS 0.1910\n",
            "TRAIN: EPOCH 0001 / 0020 | BATCH 0204 / 0863 | LOSS 0.1908\n",
            "TRAIN: EPOCH 0001 / 0020 | BATCH 0205 / 0863 | LOSS 0.1904\n",
            "TRAIN: EPOCH 0001 / 0020 | BATCH 0206 / 0863 | LOSS 0.1902\n",
            "TRAIN: EPOCH 0001 / 0020 | BATCH 0207 / 0863 | LOSS 0.1901\n",
            "TRAIN: EPOCH 0001 / 0020 | BATCH 0208 / 0863 | LOSS 0.1903\n",
            "TRAIN: EPOCH 0001 / 0020 | BATCH 0209 / 0863 | LOSS 0.1898\n",
            "TRAIN: EPOCH 0001 / 0020 | BATCH 0210 / 0863 | LOSS 0.1895\n",
            "TRAIN: EPOCH 0001 / 0020 | BATCH 0211 / 0863 | LOSS 0.1892\n",
            "TRAIN: EPOCH 0001 / 0020 | BATCH 0212 / 0863 | LOSS 0.1891\n",
            "TRAIN: EPOCH 0001 / 0020 | BATCH 0213 / 0863 | LOSS 0.1892\n",
            "TRAIN: EPOCH 0001 / 0020 | BATCH 0214 / 0863 | LOSS 0.1891\n",
            "TRAIN: EPOCH 0001 / 0020 | BATCH 0215 / 0863 | LOSS 0.1890\n",
            "TRAIN: EPOCH 0001 / 0020 | BATCH 0216 / 0863 | LOSS 0.1890\n",
            "TRAIN: EPOCH 0001 / 0020 | BATCH 0217 / 0863 | LOSS 0.1886\n",
            "TRAIN: EPOCH 0001 / 0020 | BATCH 0218 / 0863 | LOSS 0.1886\n",
            "TRAIN: EPOCH 0001 / 0020 | BATCH 0219 / 0863 | LOSS 0.1887\n",
            "TRAIN: EPOCH 0001 / 0020 | BATCH 0220 / 0863 | LOSS 0.1885\n",
            "TRAIN: EPOCH 0001 / 0020 | BATCH 0221 / 0863 | LOSS 0.1884\n",
            "TRAIN: EPOCH 0001 / 0020 | BATCH 0222 / 0863 | LOSS 0.1880\n",
            "TRAIN: EPOCH 0001 / 0020 | BATCH 0223 / 0863 | LOSS 0.1877\n",
            "TRAIN: EPOCH 0001 / 0020 | BATCH 0224 / 0863 | LOSS 0.1876\n",
            "TRAIN: EPOCH 0001 / 0020 | BATCH 0225 / 0863 | LOSS 0.1876\n",
            "TRAIN: EPOCH 0001 / 0020 | BATCH 0226 / 0863 | LOSS 0.1875\n",
            "TRAIN: EPOCH 0001 / 0020 | BATCH 0227 / 0863 | LOSS 0.1874\n",
            "TRAIN: EPOCH 0001 / 0020 | BATCH 0228 / 0863 | LOSS 0.1873\n",
            "TRAIN: EPOCH 0001 / 0020 | BATCH 0229 / 0863 | LOSS 0.1874\n",
            "TRAIN: EPOCH 0001 / 0020 | BATCH 0230 / 0863 | LOSS 0.1872\n",
            "TRAIN: EPOCH 0001 / 0020 | BATCH 0231 / 0863 | LOSS 0.1868\n",
            "TRAIN: EPOCH 0001 / 0020 | BATCH 0232 / 0863 | LOSS 0.1865\n",
            "TRAIN: EPOCH 0001 / 0020 | BATCH 0233 / 0863 | LOSS 0.1861\n",
            "TRAIN: EPOCH 0001 / 0020 | BATCH 0234 / 0863 | LOSS 0.1861\n",
            "TRAIN: EPOCH 0001 / 0020 | BATCH 0235 / 0863 | LOSS 0.1858\n",
            "TRAIN: EPOCH 0001 / 0020 | BATCH 0236 / 0863 | LOSS 0.1858\n",
            "TRAIN: EPOCH 0001 / 0020 | BATCH 0237 / 0863 | LOSS 0.1853\n",
            "TRAIN: EPOCH 0001 / 0020 | BATCH 0238 / 0863 | LOSS 0.1850\n",
            "TRAIN: EPOCH 0001 / 0020 | BATCH 0239 / 0863 | LOSS 0.1848\n",
            "TRAIN: EPOCH 0001 / 0020 | BATCH 0240 / 0863 | LOSS 0.1849\n",
            "TRAIN: EPOCH 0001 / 0020 | BATCH 0241 / 0863 | LOSS 0.1850\n",
            "TRAIN: EPOCH 0001 / 0020 | BATCH 0242 / 0863 | LOSS 0.1851\n",
            "TRAIN: EPOCH 0001 / 0020 | BATCH 0243 / 0863 | LOSS 0.1847\n",
            "TRAIN: EPOCH 0001 / 0020 | BATCH 0244 / 0863 | LOSS 0.1844\n",
            "TRAIN: EPOCH 0001 / 0020 | BATCH 0245 / 0863 | LOSS 0.1841\n",
            "TRAIN: EPOCH 0001 / 0020 | BATCH 0246 / 0863 | LOSS 0.1838\n",
            "TRAIN: EPOCH 0001 / 0020 | BATCH 0247 / 0863 | LOSS 0.1836\n",
            "TRAIN: EPOCH 0001 / 0020 | BATCH 0248 / 0863 | LOSS 0.1836\n",
            "TRAIN: EPOCH 0001 / 0020 | BATCH 0249 / 0863 | LOSS 0.1834\n",
            "TRAIN: EPOCH 0001 / 0020 | BATCH 0250 / 0863 | LOSS 0.1835\n",
            "TRAIN: EPOCH 0001 / 0020 | BATCH 0251 / 0863 | LOSS 0.1836\n",
            "TRAIN: EPOCH 0001 / 0020 | BATCH 0252 / 0863 | LOSS 0.1836\n",
            "TRAIN: EPOCH 0001 / 0020 | BATCH 0253 / 0863 | LOSS 0.1836\n",
            "TRAIN: EPOCH 0001 / 0020 | BATCH 0254 / 0863 | LOSS 0.1833\n",
            "TRAIN: EPOCH 0001 / 0020 | BATCH 0255 / 0863 | LOSS 0.1830\n",
            "TRAIN: EPOCH 0001 / 0020 | BATCH 0256 / 0863 | LOSS 0.1828\n",
            "TRAIN: EPOCH 0001 / 0020 | BATCH 0257 / 0863 | LOSS 0.1825\n",
            "TRAIN: EPOCH 0001 / 0020 | BATCH 0258 / 0863 | LOSS 0.1824\n",
            "TRAIN: EPOCH 0001 / 0020 | BATCH 0259 / 0863 | LOSS 0.1825\n",
            "TRAIN: EPOCH 0001 / 0020 | BATCH 0260 / 0863 | LOSS 0.1826\n",
            "TRAIN: EPOCH 0001 / 0020 | BATCH 0261 / 0863 | LOSS 0.1824\n",
            "TRAIN: EPOCH 0001 / 0020 | BATCH 0262 / 0863 | LOSS 0.1823\n",
            "TRAIN: EPOCH 0001 / 0020 | BATCH 0263 / 0863 | LOSS 0.1821\n",
            "TRAIN: EPOCH 0001 / 0020 | BATCH 0264 / 0863 | LOSS 0.1820\n",
            "TRAIN: EPOCH 0001 / 0020 | BATCH 0265 / 0863 | LOSS 0.1817\n",
            "TRAIN: EPOCH 0001 / 0020 | BATCH 0266 / 0863 | LOSS 0.1821\n",
            "TRAIN: EPOCH 0001 / 0020 | BATCH 0267 / 0863 | LOSS 0.1818\n",
            "TRAIN: EPOCH 0001 / 0020 | BATCH 0268 / 0863 | LOSS 0.1817\n",
            "TRAIN: EPOCH 0001 / 0020 | BATCH 0269 / 0863 | LOSS 0.1814\n",
            "TRAIN: EPOCH 0001 / 0020 | BATCH 0270 / 0863 | LOSS 0.1817\n",
            "TRAIN: EPOCH 0001 / 0020 | BATCH 0271 / 0863 | LOSS 0.1817\n",
            "TRAIN: EPOCH 0001 / 0020 | BATCH 0272 / 0863 | LOSS 0.1816\n",
            "TRAIN: EPOCH 0001 / 0020 | BATCH 0273 / 0863 | LOSS 0.1814\n",
            "TRAIN: EPOCH 0001 / 0020 | BATCH 0274 / 0863 | LOSS 0.1812\n",
            "TRAIN: EPOCH 0001 / 0020 | BATCH 0275 / 0863 | LOSS 0.1811\n",
            "TRAIN: EPOCH 0001 / 0020 | BATCH 0276 / 0863 | LOSS 0.1809\n",
            "TRAIN: EPOCH 0001 / 0020 | BATCH 0277 / 0863 | LOSS 0.1808\n",
            "TRAIN: EPOCH 0001 / 0020 | BATCH 0278 / 0863 | LOSS 0.1807\n",
            "TRAIN: EPOCH 0001 / 0020 | BATCH 0279 / 0863 | LOSS 0.1807\n",
            "TRAIN: EPOCH 0001 / 0020 | BATCH 0280 / 0863 | LOSS 0.1805\n",
            "TRAIN: EPOCH 0001 / 0020 | BATCH 0281 / 0863 | LOSS 0.1803\n",
            "TRAIN: EPOCH 0001 / 0020 | BATCH 0282 / 0863 | LOSS 0.1800\n",
            "TRAIN: EPOCH 0001 / 0020 | BATCH 0283 / 0863 | LOSS 0.1801\n",
            "TRAIN: EPOCH 0001 / 0020 | BATCH 0284 / 0863 | LOSS 0.1799\n",
            "TRAIN: EPOCH 0001 / 0020 | BATCH 0285 / 0863 | LOSS 0.1799\n",
            "TRAIN: EPOCH 0001 / 0020 | BATCH 0286 / 0863 | LOSS 0.1799\n",
            "TRAIN: EPOCH 0001 / 0020 | BATCH 0287 / 0863 | LOSS 0.1796\n",
            "TRAIN: EPOCH 0001 / 0020 | BATCH 0288 / 0863 | LOSS 0.1796\n",
            "TRAIN: EPOCH 0001 / 0020 | BATCH 0289 / 0863 | LOSS 0.1793\n",
            "TRAIN: EPOCH 0001 / 0020 | BATCH 0290 / 0863 | LOSS 0.1791\n",
            "TRAIN: EPOCH 0001 / 0020 | BATCH 0291 / 0863 | LOSS 0.1791\n",
            "TRAIN: EPOCH 0001 / 0020 | BATCH 0292 / 0863 | LOSS 0.1789\n",
            "TRAIN: EPOCH 0001 / 0020 | BATCH 0293 / 0863 | LOSS 0.1791\n",
            "TRAIN: EPOCH 0001 / 0020 | BATCH 0294 / 0863 | LOSS 0.1791\n",
            "TRAIN: EPOCH 0001 / 0020 | BATCH 0295 / 0863 | LOSS 0.1791\n",
            "TRAIN: EPOCH 0001 / 0020 | BATCH 0296 / 0863 | LOSS 0.1792\n",
            "TRAIN: EPOCH 0001 / 0020 | BATCH 0297 / 0863 | LOSS 0.1789\n",
            "TRAIN: EPOCH 0001 / 0020 | BATCH 0298 / 0863 | LOSS 0.1788\n",
            "TRAIN: EPOCH 0001 / 0020 | BATCH 0299 / 0863 | LOSS 0.1786\n",
            "TRAIN: EPOCH 0001 / 0020 | BATCH 0300 / 0863 | LOSS 0.1784\n",
            "TRAIN: EPOCH 0001 / 0020 | BATCH 0301 / 0863 | LOSS 0.1785\n",
            "TRAIN: EPOCH 0001 / 0020 | BATCH 0302 / 0863 | LOSS 0.1784\n",
            "TRAIN: EPOCH 0001 / 0020 | BATCH 0303 / 0863 | LOSS 0.1783\n",
            "TRAIN: EPOCH 0001 / 0020 | BATCH 0304 / 0863 | LOSS 0.1781\n",
            "TRAIN: EPOCH 0001 / 0020 | BATCH 0305 / 0863 | LOSS 0.1779\n",
            "TRAIN: EPOCH 0001 / 0020 | BATCH 0306 / 0863 | LOSS 0.1778\n",
            "TRAIN: EPOCH 0001 / 0020 | BATCH 0307 / 0863 | LOSS 0.1780\n",
            "TRAIN: EPOCH 0001 / 0020 | BATCH 0308 / 0863 | LOSS 0.1778\n",
            "TRAIN: EPOCH 0001 / 0020 | BATCH 0309 / 0863 | LOSS 0.1779\n",
            "TRAIN: EPOCH 0001 / 0020 | BATCH 0310 / 0863 | LOSS 0.1777\n",
            "TRAIN: EPOCH 0001 / 0020 | BATCH 0311 / 0863 | LOSS 0.1774\n",
            "TRAIN: EPOCH 0001 / 0020 | BATCH 0312 / 0863 | LOSS 0.1773\n",
            "TRAIN: EPOCH 0001 / 0020 | BATCH 0313 / 0863 | LOSS 0.1772\n",
            "TRAIN: EPOCH 0001 / 0020 | BATCH 0314 / 0863 | LOSS 0.1770\n",
            "TRAIN: EPOCH 0001 / 0020 | BATCH 0315 / 0863 | LOSS 0.1771\n",
            "TRAIN: EPOCH 0001 / 0020 | BATCH 0316 / 0863 | LOSS 0.1773\n",
            "TRAIN: EPOCH 0001 / 0020 | BATCH 0317 / 0863 | LOSS 0.1772\n",
            "TRAIN: EPOCH 0001 / 0020 | BATCH 0318 / 0863 | LOSS 0.1771\n",
            "TRAIN: EPOCH 0001 / 0020 | BATCH 0319 / 0863 | LOSS 0.1769\n",
            "TRAIN: EPOCH 0001 / 0020 | BATCH 0320 / 0863 | LOSS 0.1770\n",
            "TRAIN: EPOCH 0001 / 0020 | BATCH 0321 / 0863 | LOSS 0.1767\n",
            "TRAIN: EPOCH 0001 / 0020 | BATCH 0322 / 0863 | LOSS 0.1766\n",
            "TRAIN: EPOCH 0001 / 0020 | BATCH 0323 / 0863 | LOSS 0.1767\n",
            "TRAIN: EPOCH 0001 / 0020 | BATCH 0324 / 0863 | LOSS 0.1765\n",
            "TRAIN: EPOCH 0001 / 0020 | BATCH 0325 / 0863 | LOSS 0.1765\n",
            "TRAIN: EPOCH 0001 / 0020 | BATCH 0326 / 0863 | LOSS 0.1763\n",
            "TRAIN: EPOCH 0001 / 0020 | BATCH 0327 / 0863 | LOSS 0.1762\n",
            "TRAIN: EPOCH 0001 / 0020 | BATCH 0328 / 0863 | LOSS 0.1764\n",
            "TRAIN: EPOCH 0001 / 0020 | BATCH 0329 / 0863 | LOSS 0.1761\n",
            "TRAIN: EPOCH 0001 / 0020 | BATCH 0330 / 0863 | LOSS 0.1760\n",
            "TRAIN: EPOCH 0001 / 0020 | BATCH 0331 / 0863 | LOSS 0.1761\n",
            "TRAIN: EPOCH 0001 / 0020 | BATCH 0332 / 0863 | LOSS 0.1760\n",
            "TRAIN: EPOCH 0001 / 0020 | BATCH 0333 / 0863 | LOSS 0.1760\n",
            "TRAIN: EPOCH 0001 / 0020 | BATCH 0334 / 0863 | LOSS 0.1759\n",
            "TRAIN: EPOCH 0001 / 0020 | BATCH 0335 / 0863 | LOSS 0.1760\n",
            "TRAIN: EPOCH 0001 / 0020 | BATCH 0336 / 0863 | LOSS 0.1759\n",
            "TRAIN: EPOCH 0001 / 0020 | BATCH 0337 / 0863 | LOSS 0.1757\n",
            "TRAIN: EPOCH 0001 / 0020 | BATCH 0338 / 0863 | LOSS 0.1756\n",
            "TRAIN: EPOCH 0001 / 0020 | BATCH 0339 / 0863 | LOSS 0.1755\n",
            "TRAIN: EPOCH 0001 / 0020 | BATCH 0340 / 0863 | LOSS 0.1754\n",
            "TRAIN: EPOCH 0001 / 0020 | BATCH 0341 / 0863 | LOSS 0.1751\n",
            "TRAIN: EPOCH 0001 / 0020 | BATCH 0342 / 0863 | LOSS 0.1751\n",
            "TRAIN: EPOCH 0001 / 0020 | BATCH 0343 / 0863 | LOSS 0.1751\n",
            "TRAIN: EPOCH 0001 / 0020 | BATCH 0344 / 0863 | LOSS 0.1749\n",
            "TRAIN: EPOCH 0001 / 0020 | BATCH 0345 / 0863 | LOSS 0.1748\n",
            "TRAIN: EPOCH 0001 / 0020 | BATCH 0346 / 0863 | LOSS 0.1747\n",
            "TRAIN: EPOCH 0001 / 0020 | BATCH 0347 / 0863 | LOSS 0.1747\n",
            "TRAIN: EPOCH 0001 / 0020 | BATCH 0348 / 0863 | LOSS 0.1745\n",
            "TRAIN: EPOCH 0001 / 0020 | BATCH 0349 / 0863 | LOSS 0.1747\n",
            "TRAIN: EPOCH 0001 / 0020 | BATCH 0350 / 0863 | LOSS 0.1746\n",
            "TRAIN: EPOCH 0001 / 0020 | BATCH 0351 / 0863 | LOSS 0.1746\n",
            "TRAIN: EPOCH 0001 / 0020 | BATCH 0352 / 0863 | LOSS 0.1746\n",
            "TRAIN: EPOCH 0001 / 0020 | BATCH 0353 / 0863 | LOSS 0.1745\n",
            "TRAIN: EPOCH 0001 / 0020 | BATCH 0354 / 0863 | LOSS 0.1743\n",
            "TRAIN: EPOCH 0001 / 0020 | BATCH 0355 / 0863 | LOSS 0.1743\n",
            "TRAIN: EPOCH 0001 / 0020 | BATCH 0356 / 0863 | LOSS 0.1741\n",
            "TRAIN: EPOCH 0001 / 0020 | BATCH 0357 / 0863 | LOSS 0.1740\n",
            "TRAIN: EPOCH 0001 / 0020 | BATCH 0358 / 0863 | LOSS 0.1739\n",
            "TRAIN: EPOCH 0001 / 0020 | BATCH 0359 / 0863 | LOSS 0.1738\n",
            "TRAIN: EPOCH 0001 / 0020 | BATCH 0360 / 0863 | LOSS 0.1735\n",
            "TRAIN: EPOCH 0001 / 0020 | BATCH 0361 / 0863 | LOSS 0.1737\n",
            "TRAIN: EPOCH 0001 / 0020 | BATCH 0362 / 0863 | LOSS 0.1736\n",
            "TRAIN: EPOCH 0001 / 0020 | BATCH 0363 / 0863 | LOSS 0.1734\n",
            "TRAIN: EPOCH 0001 / 0020 | BATCH 0364 / 0863 | LOSS 0.1733\n",
            "TRAIN: EPOCH 0001 / 0020 | BATCH 0365 / 0863 | LOSS 0.1734\n",
            "TRAIN: EPOCH 0001 / 0020 | BATCH 0366 / 0863 | LOSS 0.1734\n",
            "TRAIN: EPOCH 0001 / 0020 | BATCH 0367 / 0863 | LOSS 0.1733\n",
            "TRAIN: EPOCH 0001 / 0020 | BATCH 0368 / 0863 | LOSS 0.1736\n",
            "TRAIN: EPOCH 0001 / 0020 | BATCH 0369 / 0863 | LOSS 0.1734\n",
            "TRAIN: EPOCH 0001 / 0020 | BATCH 0370 / 0863 | LOSS 0.1732\n",
            "TRAIN: EPOCH 0001 / 0020 | BATCH 0371 / 0863 | LOSS 0.1730\n",
            "TRAIN: EPOCH 0001 / 0020 | BATCH 0372 / 0863 | LOSS 0.1728\n",
            "TRAIN: EPOCH 0001 / 0020 | BATCH 0373 / 0863 | LOSS 0.1728\n",
            "TRAIN: EPOCH 0001 / 0020 | BATCH 0374 / 0863 | LOSS 0.1727\n",
            "TRAIN: EPOCH 0001 / 0020 | BATCH 0375 / 0863 | LOSS 0.1725\n",
            "TRAIN: EPOCH 0001 / 0020 | BATCH 0376 / 0863 | LOSS 0.1724\n",
            "TRAIN: EPOCH 0001 / 0020 | BATCH 0377 / 0863 | LOSS 0.1723\n",
            "TRAIN: EPOCH 0001 / 0020 | BATCH 0378 / 0863 | LOSS 0.1724\n",
            "TRAIN: EPOCH 0001 / 0020 | BATCH 0379 / 0863 | LOSS 0.1722\n",
            "TRAIN: EPOCH 0001 / 0020 | BATCH 0380 / 0863 | LOSS 0.1720\n",
            "TRAIN: EPOCH 0001 / 0020 | BATCH 0381 / 0863 | LOSS 0.1721\n",
            "TRAIN: EPOCH 0001 / 0020 | BATCH 0382 / 0863 | LOSS 0.1722\n",
            "TRAIN: EPOCH 0001 / 0020 | BATCH 0383 / 0863 | LOSS 0.1721\n",
            "TRAIN: EPOCH 0001 / 0020 | BATCH 0384 / 0863 | LOSS 0.1719\n",
            "TRAIN: EPOCH 0001 / 0020 | BATCH 0385 / 0863 | LOSS 0.1719\n",
            "TRAIN: EPOCH 0001 / 0020 | BATCH 0386 / 0863 | LOSS 0.1719\n",
            "TRAIN: EPOCH 0001 / 0020 | BATCH 0387 / 0863 | LOSS 0.1718\n",
            "TRAIN: EPOCH 0001 / 0020 | BATCH 0388 / 0863 | LOSS 0.1718\n",
            "TRAIN: EPOCH 0001 / 0020 | BATCH 0389 / 0863 | LOSS 0.1716\n",
            "TRAIN: EPOCH 0001 / 0020 | BATCH 0390 / 0863 | LOSS 0.1718\n",
            "TRAIN: EPOCH 0001 / 0020 | BATCH 0391 / 0863 | LOSS 0.1717\n",
            "TRAIN: EPOCH 0001 / 0020 | BATCH 0392 / 0863 | LOSS 0.1716\n",
            "TRAIN: EPOCH 0001 / 0020 | BATCH 0393 / 0863 | LOSS 0.1714\n",
            "TRAIN: EPOCH 0001 / 0020 | BATCH 0394 / 0863 | LOSS 0.1713\n",
            "TRAIN: EPOCH 0001 / 0020 | BATCH 0395 / 0863 | LOSS 0.1714\n",
            "TRAIN: EPOCH 0001 / 0020 | BATCH 0396 / 0863 | LOSS 0.1713\n",
            "TRAIN: EPOCH 0001 / 0020 | BATCH 0397 / 0863 | LOSS 0.1714\n",
            "TRAIN: EPOCH 0001 / 0020 | BATCH 0398 / 0863 | LOSS 0.1714\n",
            "TRAIN: EPOCH 0001 / 0020 | BATCH 0399 / 0863 | LOSS 0.1715\n",
            "TRAIN: EPOCH 0001 / 0020 | BATCH 0400 / 0863 | LOSS 0.1717\n",
            "TRAIN: EPOCH 0001 / 0020 | BATCH 0401 / 0863 | LOSS 0.1715\n",
            "TRAIN: EPOCH 0001 / 0020 | BATCH 0402 / 0863 | LOSS 0.1714\n",
            "TRAIN: EPOCH 0001 / 0020 | BATCH 0403 / 0863 | LOSS 0.1712\n",
            "TRAIN: EPOCH 0001 / 0020 | BATCH 0404 / 0863 | LOSS 0.1712\n",
            "TRAIN: EPOCH 0001 / 0020 | BATCH 0405 / 0863 | LOSS 0.1711\n",
            "TRAIN: EPOCH 0001 / 0020 | BATCH 0406 / 0863 | LOSS 0.1710\n",
            "TRAIN: EPOCH 0001 / 0020 | BATCH 0407 / 0863 | LOSS 0.1708\n",
            "TRAIN: EPOCH 0001 / 0020 | BATCH 0408 / 0863 | LOSS 0.1706\n",
            "TRAIN: EPOCH 0001 / 0020 | BATCH 0409 / 0863 | LOSS 0.1705\n",
            "TRAIN: EPOCH 0001 / 0020 | BATCH 0410 / 0863 | LOSS 0.1703\n",
            "TRAIN: EPOCH 0001 / 0020 | BATCH 0411 / 0863 | LOSS 0.1703\n",
            "TRAIN: EPOCH 0001 / 0020 | BATCH 0412 / 0863 | LOSS 0.1701\n",
            "TRAIN: EPOCH 0001 / 0020 | BATCH 0413 / 0863 | LOSS 0.1700\n",
            "TRAIN: EPOCH 0001 / 0020 | BATCH 0414 / 0863 | LOSS 0.1698\n",
            "TRAIN: EPOCH 0001 / 0020 | BATCH 0415 / 0863 | LOSS 0.1697\n",
            "TRAIN: EPOCH 0001 / 0020 | BATCH 0416 / 0863 | LOSS 0.1696\n",
            "TRAIN: EPOCH 0001 / 0020 | BATCH 0417 / 0863 | LOSS 0.1695\n",
            "TRAIN: EPOCH 0001 / 0020 | BATCH 0418 / 0863 | LOSS 0.1694\n",
            "TRAIN: EPOCH 0001 / 0020 | BATCH 0419 / 0863 | LOSS 0.1694\n",
            "TRAIN: EPOCH 0001 / 0020 | BATCH 0420 / 0863 | LOSS 0.1693\n",
            "TRAIN: EPOCH 0001 / 0020 | BATCH 0421 / 0863 | LOSS 0.1692\n",
            "TRAIN: EPOCH 0001 / 0020 | BATCH 0422 / 0863 | LOSS 0.1692\n",
            "TRAIN: EPOCH 0001 / 0020 | BATCH 0423 / 0863 | LOSS 0.1692\n",
            "TRAIN: EPOCH 0001 / 0020 | BATCH 0424 / 0863 | LOSS 0.1691\n",
            "TRAIN: EPOCH 0001 / 0020 | BATCH 0425 / 0863 | LOSS 0.1689\n",
            "TRAIN: EPOCH 0001 / 0020 | BATCH 0426 / 0863 | LOSS 0.1688\n",
            "TRAIN: EPOCH 0001 / 0020 | BATCH 0427 / 0863 | LOSS 0.1688\n",
            "TRAIN: EPOCH 0001 / 0020 | BATCH 0428 / 0863 | LOSS 0.1689\n",
            "TRAIN: EPOCH 0001 / 0020 | BATCH 0429 / 0863 | LOSS 0.1690\n",
            "TRAIN: EPOCH 0001 / 0020 | BATCH 0430 / 0863 | LOSS 0.1691\n",
            "TRAIN: EPOCH 0001 / 0020 | BATCH 0431 / 0863 | LOSS 0.1690\n",
            "TRAIN: EPOCH 0001 / 0020 | BATCH 0432 / 0863 | LOSS 0.1689\n",
            "TRAIN: EPOCH 0001 / 0020 | BATCH 0433 / 0863 | LOSS 0.1688\n",
            "TRAIN: EPOCH 0001 / 0020 | BATCH 0434 / 0863 | LOSS 0.1686\n",
            "TRAIN: EPOCH 0001 / 0020 | BATCH 0435 / 0863 | LOSS 0.1685\n",
            "TRAIN: EPOCH 0001 / 0020 | BATCH 0436 / 0863 | LOSS 0.1685\n",
            "TRAIN: EPOCH 0001 / 0020 | BATCH 0437 / 0863 | LOSS 0.1685\n",
            "TRAIN: EPOCH 0001 / 0020 | BATCH 0438 / 0863 | LOSS 0.1685\n",
            "TRAIN: EPOCH 0001 / 0020 | BATCH 0439 / 0863 | LOSS 0.1684\n",
            "TRAIN: EPOCH 0001 / 0020 | BATCH 0440 / 0863 | LOSS 0.1684\n",
            "TRAIN: EPOCH 0001 / 0020 | BATCH 0441 / 0863 | LOSS 0.1683\n",
            "TRAIN: EPOCH 0001 / 0020 | BATCH 0442 / 0863 | LOSS 0.1685\n",
            "TRAIN: EPOCH 0001 / 0020 | BATCH 0443 / 0863 | LOSS 0.1685\n",
            "TRAIN: EPOCH 0001 / 0020 | BATCH 0444 / 0863 | LOSS 0.1684\n",
            "TRAIN: EPOCH 0001 / 0020 | BATCH 0445 / 0863 | LOSS 0.1683\n",
            "TRAIN: EPOCH 0001 / 0020 | BATCH 0446 / 0863 | LOSS 0.1682\n",
            "TRAIN: EPOCH 0001 / 0020 | BATCH 0447 / 0863 | LOSS 0.1682\n",
            "TRAIN: EPOCH 0001 / 0020 | BATCH 0448 / 0863 | LOSS 0.1682\n",
            "TRAIN: EPOCH 0001 / 0020 | BATCH 0449 / 0863 | LOSS 0.1682\n",
            "TRAIN: EPOCH 0001 / 0020 | BATCH 0450 / 0863 | LOSS 0.1681\n",
            "TRAIN: EPOCH 0001 / 0020 | BATCH 0451 / 0863 | LOSS 0.1680\n",
            "TRAIN: EPOCH 0001 / 0020 | BATCH 0452 / 0863 | LOSS 0.1681\n",
            "TRAIN: EPOCH 0001 / 0020 | BATCH 0453 / 0863 | LOSS 0.1680\n",
            "TRAIN: EPOCH 0001 / 0020 | BATCH 0454 / 0863 | LOSS 0.1680\n",
            "TRAIN: EPOCH 0001 / 0020 | BATCH 0455 / 0863 | LOSS 0.1679\n",
            "TRAIN: EPOCH 0001 / 0020 | BATCH 0456 / 0863 | LOSS 0.1680\n",
            "TRAIN: EPOCH 0001 / 0020 | BATCH 0457 / 0863 | LOSS 0.1678\n",
            "TRAIN: EPOCH 0001 / 0020 | BATCH 0458 / 0863 | LOSS 0.1679\n",
            "TRAIN: EPOCH 0001 / 0020 | BATCH 0459 / 0863 | LOSS 0.1679\n",
            "TRAIN: EPOCH 0001 / 0020 | BATCH 0460 / 0863 | LOSS 0.1678\n",
            "TRAIN: EPOCH 0001 / 0020 | BATCH 0461 / 0863 | LOSS 0.1679\n",
            "TRAIN: EPOCH 0001 / 0020 | BATCH 0462 / 0863 | LOSS 0.1680\n",
            "TRAIN: EPOCH 0001 / 0020 | BATCH 0463 / 0863 | LOSS 0.1683\n",
            "TRAIN: EPOCH 0001 / 0020 | BATCH 0464 / 0863 | LOSS 0.1681\n",
            "TRAIN: EPOCH 0001 / 0020 | BATCH 0465 / 0863 | LOSS 0.1680\n",
            "TRAIN: EPOCH 0001 / 0020 | BATCH 0466 / 0863 | LOSS 0.1680\n",
            "TRAIN: EPOCH 0001 / 0020 | BATCH 0467 / 0863 | LOSS 0.1679\n",
            "TRAIN: EPOCH 0001 / 0020 | BATCH 0468 / 0863 | LOSS 0.1679\n",
            "TRAIN: EPOCH 0001 / 0020 | BATCH 0469 / 0863 | LOSS 0.1678\n",
            "TRAIN: EPOCH 0001 / 0020 | BATCH 0470 / 0863 | LOSS 0.1679\n",
            "TRAIN: EPOCH 0001 / 0020 | BATCH 0471 / 0863 | LOSS 0.1679\n",
            "TRAIN: EPOCH 0001 / 0020 | BATCH 0472 / 0863 | LOSS 0.1679\n",
            "TRAIN: EPOCH 0001 / 0020 | BATCH 0473 / 0863 | LOSS 0.1679\n",
            "TRAIN: EPOCH 0001 / 0020 | BATCH 0474 / 0863 | LOSS 0.1680\n",
            "TRAIN: EPOCH 0001 / 0020 | BATCH 0475 / 0863 | LOSS 0.1680\n",
            "TRAIN: EPOCH 0001 / 0020 | BATCH 0476 / 0863 | LOSS 0.1681\n",
            "TRAIN: EPOCH 0001 / 0020 | BATCH 0477 / 0863 | LOSS 0.1681\n",
            "TRAIN: EPOCH 0001 / 0020 | BATCH 0478 / 0863 | LOSS 0.1681\n",
            "TRAIN: EPOCH 0001 / 0020 | BATCH 0479 / 0863 | LOSS 0.1682\n",
            "TRAIN: EPOCH 0001 / 0020 | BATCH 0480 / 0863 | LOSS 0.1681\n",
            "TRAIN: EPOCH 0001 / 0020 | BATCH 0481 / 0863 | LOSS 0.1681\n",
            "TRAIN: EPOCH 0001 / 0020 | BATCH 0482 / 0863 | LOSS 0.1681\n",
            "TRAIN: EPOCH 0001 / 0020 | BATCH 0483 / 0863 | LOSS 0.1680\n",
            "TRAIN: EPOCH 0001 / 0020 | BATCH 0484 / 0863 | LOSS 0.1680\n",
            "TRAIN: EPOCH 0001 / 0020 | BATCH 0485 / 0863 | LOSS 0.1681\n",
            "TRAIN: EPOCH 0001 / 0020 | BATCH 0486 / 0863 | LOSS 0.1680\n",
            "TRAIN: EPOCH 0001 / 0020 | BATCH 0487 / 0863 | LOSS 0.1679\n",
            "TRAIN: EPOCH 0001 / 0020 | BATCH 0488 / 0863 | LOSS 0.1679\n",
            "TRAIN: EPOCH 0001 / 0020 | BATCH 0489 / 0863 | LOSS 0.1677\n",
            "TRAIN: EPOCH 0001 / 0020 | BATCH 0490 / 0863 | LOSS 0.1679\n",
            "TRAIN: EPOCH 0001 / 0020 | BATCH 0491 / 0863 | LOSS 0.1678\n",
            "TRAIN: EPOCH 0001 / 0020 | BATCH 0492 / 0863 | LOSS 0.1676\n",
            "TRAIN: EPOCH 0001 / 0020 | BATCH 0493 / 0863 | LOSS 0.1675\n",
            "TRAIN: EPOCH 0001 / 0020 | BATCH 0494 / 0863 | LOSS 0.1674\n",
            "TRAIN: EPOCH 0001 / 0020 | BATCH 0495 / 0863 | LOSS 0.1672\n",
            "TRAIN: EPOCH 0001 / 0020 | BATCH 0496 / 0863 | LOSS 0.1671\n",
            "TRAIN: EPOCH 0001 / 0020 | BATCH 0497 / 0863 | LOSS 0.1670\n",
            "TRAIN: EPOCH 0001 / 0020 | BATCH 0498 / 0863 | LOSS 0.1670\n",
            "TRAIN: EPOCH 0001 / 0020 | BATCH 0499 / 0863 | LOSS 0.1669\n",
            "TRAIN: EPOCH 0001 / 0020 | BATCH 0500 / 0863 | LOSS 0.1668\n",
            "TRAIN: EPOCH 0001 / 0020 | BATCH 0501 / 0863 | LOSS 0.1666\n",
            "TRAIN: EPOCH 0001 / 0020 | BATCH 0502 / 0863 | LOSS 0.1665\n",
            "TRAIN: EPOCH 0001 / 0020 | BATCH 0503 / 0863 | LOSS 0.1664\n",
            "TRAIN: EPOCH 0001 / 0020 | BATCH 0504 / 0863 | LOSS 0.1665\n",
            "TRAIN: EPOCH 0001 / 0020 | BATCH 0505 / 0863 | LOSS 0.1664\n",
            "TRAIN: EPOCH 0001 / 0020 | BATCH 0506 / 0863 | LOSS 0.1666\n",
            "TRAIN: EPOCH 0001 / 0020 | BATCH 0507 / 0863 | LOSS 0.1666\n",
            "TRAIN: EPOCH 0001 / 0020 | BATCH 0508 / 0863 | LOSS 0.1665\n",
            "TRAIN: EPOCH 0001 / 0020 | BATCH 0509 / 0863 | LOSS 0.1664\n",
            "TRAIN: EPOCH 0001 / 0020 | BATCH 0510 / 0863 | LOSS 0.1664\n",
            "TRAIN: EPOCH 0001 / 0020 | BATCH 0511 / 0863 | LOSS 0.1664\n",
            "TRAIN: EPOCH 0001 / 0020 | BATCH 0512 / 0863 | LOSS 0.1663\n",
            "TRAIN: EPOCH 0001 / 0020 | BATCH 0513 / 0863 | LOSS 0.1664\n",
            "TRAIN: EPOCH 0001 / 0020 | BATCH 0514 / 0863 | LOSS 0.1664\n",
            "TRAIN: EPOCH 0001 / 0020 | BATCH 0515 / 0863 | LOSS 0.1664\n",
            "TRAIN: EPOCH 0001 / 0020 | BATCH 0516 / 0863 | LOSS 0.1663\n",
            "TRAIN: EPOCH 0001 / 0020 | BATCH 0517 / 0863 | LOSS 0.1662\n",
            "TRAIN: EPOCH 0001 / 0020 | BATCH 0518 / 0863 | LOSS 0.1663\n",
            "TRAIN: EPOCH 0001 / 0020 | BATCH 0519 / 0863 | LOSS 0.1663\n",
            "TRAIN: EPOCH 0001 / 0020 | BATCH 0520 / 0863 | LOSS 0.1663\n",
            "TRAIN: EPOCH 0001 / 0020 | BATCH 0521 / 0863 | LOSS 0.1662\n",
            "TRAIN: EPOCH 0001 / 0020 | BATCH 0522 / 0863 | LOSS 0.1661\n",
            "TRAIN: EPOCH 0001 / 0020 | BATCH 0523 / 0863 | LOSS 0.1661\n",
            "TRAIN: EPOCH 0001 / 0020 | BATCH 0524 / 0863 | LOSS 0.1660\n",
            "TRAIN: EPOCH 0001 / 0020 | BATCH 0525 / 0863 | LOSS 0.1659\n",
            "TRAIN: EPOCH 0001 / 0020 | BATCH 0526 / 0863 | LOSS 0.1659\n",
            "TRAIN: EPOCH 0001 / 0020 | BATCH 0527 / 0863 | LOSS 0.1658\n",
            "TRAIN: EPOCH 0001 / 0020 | BATCH 0528 / 0863 | LOSS 0.1658\n",
            "TRAIN: EPOCH 0001 / 0020 | BATCH 0529 / 0863 | LOSS 0.1656\n",
            "TRAIN: EPOCH 0001 / 0020 | BATCH 0530 / 0863 | LOSS 0.1655\n",
            "TRAIN: EPOCH 0001 / 0020 | BATCH 0531 / 0863 | LOSS 0.1654\n",
            "TRAIN: EPOCH 0001 / 0020 | BATCH 0532 / 0863 | LOSS 0.1653\n",
            "TRAIN: EPOCH 0001 / 0020 | BATCH 0533 / 0863 | LOSS 0.1652\n",
            "TRAIN: EPOCH 0001 / 0020 | BATCH 0534 / 0863 | LOSS 0.1651\n",
            "TRAIN: EPOCH 0001 / 0020 | BATCH 0535 / 0863 | LOSS 0.1650\n",
            "TRAIN: EPOCH 0001 / 0020 | BATCH 0536 / 0863 | LOSS 0.1650\n",
            "TRAIN: EPOCH 0001 / 0020 | BATCH 0537 / 0863 | LOSS 0.1650\n",
            "TRAIN: EPOCH 0001 / 0020 | BATCH 0538 / 0863 | LOSS 0.1650\n",
            "TRAIN: EPOCH 0001 / 0020 | BATCH 0539 / 0863 | LOSS 0.1650\n",
            "TRAIN: EPOCH 0001 / 0020 | BATCH 0540 / 0863 | LOSS 0.1649\n",
            "TRAIN: EPOCH 0001 / 0020 | BATCH 0541 / 0863 | LOSS 0.1649\n",
            "TRAIN: EPOCH 0001 / 0020 | BATCH 0542 / 0863 | LOSS 0.1649\n",
            "TRAIN: EPOCH 0001 / 0020 | BATCH 0543 / 0863 | LOSS 0.1647\n",
            "TRAIN: EPOCH 0001 / 0020 | BATCH 0544 / 0863 | LOSS 0.1648\n",
            "TRAIN: EPOCH 0001 / 0020 | BATCH 0545 / 0863 | LOSS 0.1649\n",
            "TRAIN: EPOCH 0001 / 0020 | BATCH 0546 / 0863 | LOSS 0.1649\n",
            "TRAIN: EPOCH 0001 / 0020 | BATCH 0547 / 0863 | LOSS 0.1648\n",
            "TRAIN: EPOCH 0001 / 0020 | BATCH 0548 / 0863 | LOSS 0.1647\n",
            "TRAIN: EPOCH 0001 / 0020 | BATCH 0549 / 0863 | LOSS 0.1646\n",
            "TRAIN: EPOCH 0001 / 0020 | BATCH 0550 / 0863 | LOSS 0.1645\n",
            "TRAIN: EPOCH 0001 / 0020 | BATCH 0551 / 0863 | LOSS 0.1645\n",
            "TRAIN: EPOCH 0001 / 0020 | BATCH 0552 / 0863 | LOSS 0.1644\n",
            "TRAIN: EPOCH 0001 / 0020 | BATCH 0553 / 0863 | LOSS 0.1643\n",
            "TRAIN: EPOCH 0001 / 0020 | BATCH 0554 / 0863 | LOSS 0.1643\n",
            "TRAIN: EPOCH 0001 / 0020 | BATCH 0555 / 0863 | LOSS 0.1646\n",
            "TRAIN: EPOCH 0001 / 0020 | BATCH 0556 / 0863 | LOSS 0.1645\n",
            "TRAIN: EPOCH 0001 / 0020 | BATCH 0557 / 0863 | LOSS 0.1646\n",
            "TRAIN: EPOCH 0001 / 0020 | BATCH 0558 / 0863 | LOSS 0.1645\n",
            "TRAIN: EPOCH 0001 / 0020 | BATCH 0559 / 0863 | LOSS 0.1644\n",
            "TRAIN: EPOCH 0001 / 0020 | BATCH 0560 / 0863 | LOSS 0.1643\n",
            "TRAIN: EPOCH 0001 / 0020 | BATCH 0561 / 0863 | LOSS 0.1642\n",
            "TRAIN: EPOCH 0001 / 0020 | BATCH 0562 / 0863 | LOSS 0.1641\n",
            "TRAIN: EPOCH 0001 / 0020 | BATCH 0563 / 0863 | LOSS 0.1641\n",
            "TRAIN: EPOCH 0001 / 0020 | BATCH 0564 / 0863 | LOSS 0.1640\n",
            "TRAIN: EPOCH 0001 / 0020 | BATCH 0565 / 0863 | LOSS 0.1639\n",
            "TRAIN: EPOCH 0001 / 0020 | BATCH 0566 / 0863 | LOSS 0.1638\n",
            "TRAIN: EPOCH 0001 / 0020 | BATCH 0567 / 0863 | LOSS 0.1639\n",
            "TRAIN: EPOCH 0001 / 0020 | BATCH 0568 / 0863 | LOSS 0.1639\n",
            "TRAIN: EPOCH 0001 / 0020 | BATCH 0569 / 0863 | LOSS 0.1639\n",
            "TRAIN: EPOCH 0001 / 0020 | BATCH 0570 / 0863 | LOSS 0.1639\n",
            "TRAIN: EPOCH 0001 / 0020 | BATCH 0571 / 0863 | LOSS 0.1639\n",
            "TRAIN: EPOCH 0001 / 0020 | BATCH 0572 / 0863 | LOSS 0.1639\n",
            "TRAIN: EPOCH 0001 / 0020 | BATCH 0573 / 0863 | LOSS 0.1638\n",
            "TRAIN: EPOCH 0001 / 0020 | BATCH 0574 / 0863 | LOSS 0.1638\n",
            "TRAIN: EPOCH 0001 / 0020 | BATCH 0575 / 0863 | LOSS 0.1637\n",
            "TRAIN: EPOCH 0001 / 0020 | BATCH 0576 / 0863 | LOSS 0.1636\n",
            "TRAIN: EPOCH 0001 / 0020 | BATCH 0577 / 0863 | LOSS 0.1635\n",
            "TRAIN: EPOCH 0001 / 0020 | BATCH 0578 / 0863 | LOSS 0.1635\n",
            "TRAIN: EPOCH 0001 / 0020 | BATCH 0579 / 0863 | LOSS 0.1635\n",
            "TRAIN: EPOCH 0001 / 0020 | BATCH 0580 / 0863 | LOSS 0.1635\n",
            "TRAIN: EPOCH 0001 / 0020 | BATCH 0581 / 0863 | LOSS 0.1633\n",
            "TRAIN: EPOCH 0001 / 0020 | BATCH 0582 / 0863 | LOSS 0.1633\n",
            "TRAIN: EPOCH 0001 / 0020 | BATCH 0583 / 0863 | LOSS 0.1632\n",
            "TRAIN: EPOCH 0001 / 0020 | BATCH 0584 / 0863 | LOSS 0.1635\n",
            "TRAIN: EPOCH 0001 / 0020 | BATCH 0585 / 0863 | LOSS 0.1634\n",
            "TRAIN: EPOCH 0001 / 0020 | BATCH 0586 / 0863 | LOSS 0.1633\n",
            "TRAIN: EPOCH 0001 / 0020 | BATCH 0587 / 0863 | LOSS 0.1633\n",
            "TRAIN: EPOCH 0001 / 0020 | BATCH 0588 / 0863 | LOSS 0.1634\n",
            "TRAIN: EPOCH 0001 / 0020 | BATCH 0589 / 0863 | LOSS 0.1633\n",
            "TRAIN: EPOCH 0001 / 0020 | BATCH 0590 / 0863 | LOSS 0.1632\n",
            "TRAIN: EPOCH 0001 / 0020 | BATCH 0591 / 0863 | LOSS 0.1631\n",
            "TRAIN: EPOCH 0001 / 0020 | BATCH 0592 / 0863 | LOSS 0.1631\n",
            "TRAIN: EPOCH 0001 / 0020 | BATCH 0593 / 0863 | LOSS 0.1631\n",
            "TRAIN: EPOCH 0001 / 0020 | BATCH 0594 / 0863 | LOSS 0.1630\n",
            "TRAIN: EPOCH 0001 / 0020 | BATCH 0595 / 0863 | LOSS 0.1629\n",
            "TRAIN: EPOCH 0001 / 0020 | BATCH 0596 / 0863 | LOSS 0.1628\n",
            "TRAIN: EPOCH 0001 / 0020 | BATCH 0597 / 0863 | LOSS 0.1629\n",
            "TRAIN: EPOCH 0001 / 0020 | BATCH 0598 / 0863 | LOSS 0.1630\n",
            "TRAIN: EPOCH 0001 / 0020 | BATCH 0599 / 0863 | LOSS 0.1629\n",
            "TRAIN: EPOCH 0001 / 0020 | BATCH 0600 / 0863 | LOSS 0.1629\n",
            "TRAIN: EPOCH 0001 / 0020 | BATCH 0601 / 0863 | LOSS 0.1628\n",
            "TRAIN: EPOCH 0001 / 0020 | BATCH 0602 / 0863 | LOSS 0.1628\n",
            "TRAIN: EPOCH 0001 / 0020 | BATCH 0603 / 0863 | LOSS 0.1628\n",
            "TRAIN: EPOCH 0001 / 0020 | BATCH 0604 / 0863 | LOSS 0.1627\n",
            "TRAIN: EPOCH 0001 / 0020 | BATCH 0605 / 0863 | LOSS 0.1627\n",
            "TRAIN: EPOCH 0001 / 0020 | BATCH 0606 / 0863 | LOSS 0.1628\n",
            "TRAIN: EPOCH 0001 / 0020 | BATCH 0607 / 0863 | LOSS 0.1626\n",
            "TRAIN: EPOCH 0001 / 0020 | BATCH 0608 / 0863 | LOSS 0.1626\n",
            "TRAIN: EPOCH 0001 / 0020 | BATCH 0609 / 0863 | LOSS 0.1625\n",
            "TRAIN: EPOCH 0001 / 0020 | BATCH 0610 / 0863 | LOSS 0.1625\n",
            "TRAIN: EPOCH 0001 / 0020 | BATCH 0611 / 0863 | LOSS 0.1625\n",
            "TRAIN: EPOCH 0001 / 0020 | BATCH 0612 / 0863 | LOSS 0.1624\n",
            "TRAIN: EPOCH 0001 / 0020 | BATCH 0613 / 0863 | LOSS 0.1623\n",
            "TRAIN: EPOCH 0001 / 0020 | BATCH 0614 / 0863 | LOSS 0.1624\n",
            "TRAIN: EPOCH 0001 / 0020 | BATCH 0615 / 0863 | LOSS 0.1623\n",
            "TRAIN: EPOCH 0001 / 0020 | BATCH 0616 / 0863 | LOSS 0.1623\n",
            "TRAIN: EPOCH 0001 / 0020 | BATCH 0617 / 0863 | LOSS 0.1623\n",
            "TRAIN: EPOCH 0001 / 0020 | BATCH 0618 / 0863 | LOSS 0.1623\n",
            "TRAIN: EPOCH 0001 / 0020 | BATCH 0619 / 0863 | LOSS 0.1622\n",
            "TRAIN: EPOCH 0001 / 0020 | BATCH 0620 / 0863 | LOSS 0.1622\n",
            "TRAIN: EPOCH 0001 / 0020 | BATCH 0621 / 0863 | LOSS 0.1621\n",
            "TRAIN: EPOCH 0001 / 0020 | BATCH 0622 / 0863 | LOSS 0.1621\n",
            "TRAIN: EPOCH 0001 / 0020 | BATCH 0623 / 0863 | LOSS 0.1620\n",
            "TRAIN: EPOCH 0001 / 0020 | BATCH 0624 / 0863 | LOSS 0.1621\n",
            "TRAIN: EPOCH 0001 / 0020 | BATCH 0625 / 0863 | LOSS 0.1622\n",
            "TRAIN: EPOCH 0001 / 0020 | BATCH 0626 / 0863 | LOSS 0.1622\n",
            "TRAIN: EPOCH 0001 / 0020 | BATCH 0627 / 0863 | LOSS 0.1623\n",
            "TRAIN: EPOCH 0001 / 0020 | BATCH 0628 / 0863 | LOSS 0.1624\n",
            "TRAIN: EPOCH 0001 / 0020 | BATCH 0629 / 0863 | LOSS 0.1624\n",
            "TRAIN: EPOCH 0001 / 0020 | BATCH 0630 / 0863 | LOSS 0.1623\n",
            "TRAIN: EPOCH 0001 / 0020 | BATCH 0631 / 0863 | LOSS 0.1623\n",
            "TRAIN: EPOCH 0001 / 0020 | BATCH 0632 / 0863 | LOSS 0.1626\n",
            "TRAIN: EPOCH 0001 / 0020 | BATCH 0633 / 0863 | LOSS 0.1626\n",
            "TRAIN: EPOCH 0001 / 0020 | BATCH 0634 / 0863 | LOSS 0.1627\n",
            "TRAIN: EPOCH 0001 / 0020 | BATCH 0635 / 0863 | LOSS 0.1627\n",
            "TRAIN: EPOCH 0001 / 0020 | BATCH 0636 / 0863 | LOSS 0.1626\n",
            "TRAIN: EPOCH 0001 / 0020 | BATCH 0637 / 0863 | LOSS 0.1626\n",
            "TRAIN: EPOCH 0001 / 0020 | BATCH 0638 / 0863 | LOSS 0.1626\n",
            "TRAIN: EPOCH 0001 / 0020 | BATCH 0639 / 0863 | LOSS 0.1626\n",
            "TRAIN: EPOCH 0001 / 0020 | BATCH 0640 / 0863 | LOSS 0.1627\n",
            "TRAIN: EPOCH 0001 / 0020 | BATCH 0641 / 0863 | LOSS 0.1626\n",
            "TRAIN: EPOCH 0001 / 0020 | BATCH 0642 / 0863 | LOSS 0.1626\n",
            "TRAIN: EPOCH 0001 / 0020 | BATCH 0643 / 0863 | LOSS 0.1626\n",
            "TRAIN: EPOCH 0001 / 0020 | BATCH 0644 / 0863 | LOSS 0.1626\n",
            "TRAIN: EPOCH 0001 / 0020 | BATCH 0645 / 0863 | LOSS 0.1626\n",
            "TRAIN: EPOCH 0001 / 0020 | BATCH 0646 / 0863 | LOSS 0.1625\n",
            "TRAIN: EPOCH 0001 / 0020 | BATCH 0647 / 0863 | LOSS 0.1624\n",
            "TRAIN: EPOCH 0001 / 0020 | BATCH 0648 / 0863 | LOSS 0.1623\n",
            "TRAIN: EPOCH 0001 / 0020 | BATCH 0649 / 0863 | LOSS 0.1622\n",
            "TRAIN: EPOCH 0001 / 0020 | BATCH 0650 / 0863 | LOSS 0.1622\n",
            "TRAIN: EPOCH 0001 / 0020 | BATCH 0651 / 0863 | LOSS 0.1621\n",
            "TRAIN: EPOCH 0001 / 0020 | BATCH 0652 / 0863 | LOSS 0.1620\n",
            "TRAIN: EPOCH 0001 / 0020 | BATCH 0653 / 0863 | LOSS 0.1622\n",
            "TRAIN: EPOCH 0001 / 0020 | BATCH 0654 / 0863 | LOSS 0.1622\n",
            "TRAIN: EPOCH 0001 / 0020 | BATCH 0655 / 0863 | LOSS 0.1621\n",
            "TRAIN: EPOCH 0001 / 0020 | BATCH 0656 / 0863 | LOSS 0.1621\n",
            "TRAIN: EPOCH 0001 / 0020 | BATCH 0657 / 0863 | LOSS 0.1620\n",
            "TRAIN: EPOCH 0001 / 0020 | BATCH 0658 / 0863 | LOSS 0.1619\n",
            "TRAIN: EPOCH 0001 / 0020 | BATCH 0659 / 0863 | LOSS 0.1619\n",
            "TRAIN: EPOCH 0001 / 0020 | BATCH 0660 / 0863 | LOSS 0.1620\n",
            "TRAIN: EPOCH 0001 / 0020 | BATCH 0661 / 0863 | LOSS 0.1620\n",
            "TRAIN: EPOCH 0001 / 0020 | BATCH 0662 / 0863 | LOSS 0.1619\n",
            "TRAIN: EPOCH 0001 / 0020 | BATCH 0663 / 0863 | LOSS 0.1620\n",
            "TRAIN: EPOCH 0001 / 0020 | BATCH 0664 / 0863 | LOSS 0.1620\n",
            "TRAIN: EPOCH 0001 / 0020 | BATCH 0665 / 0863 | LOSS 0.1619\n",
            "TRAIN: EPOCH 0001 / 0020 | BATCH 0666 / 0863 | LOSS 0.1621\n",
            "TRAIN: EPOCH 0001 / 0020 | BATCH 0667 / 0863 | LOSS 0.1621\n",
            "TRAIN: EPOCH 0001 / 0020 | BATCH 0668 / 0863 | LOSS 0.1620\n",
            "TRAIN: EPOCH 0001 / 0020 | BATCH 0669 / 0863 | LOSS 0.1619\n",
            "TRAIN: EPOCH 0001 / 0020 | BATCH 0670 / 0863 | LOSS 0.1618\n",
            "TRAIN: EPOCH 0001 / 0020 | BATCH 0671 / 0863 | LOSS 0.1618\n",
            "TRAIN: EPOCH 0001 / 0020 | BATCH 0672 / 0863 | LOSS 0.1617\n",
            "TRAIN: EPOCH 0001 / 0020 | BATCH 0673 / 0863 | LOSS 0.1618\n",
            "TRAIN: EPOCH 0001 / 0020 | BATCH 0674 / 0863 | LOSS 0.1618\n",
            "TRAIN: EPOCH 0001 / 0020 | BATCH 0675 / 0863 | LOSS 0.1618\n",
            "TRAIN: EPOCH 0001 / 0020 | BATCH 0676 / 0863 | LOSS 0.1617\n",
            "TRAIN: EPOCH 0001 / 0020 | BATCH 0677 / 0863 | LOSS 0.1617\n",
            "TRAIN: EPOCH 0001 / 0020 | BATCH 0678 / 0863 | LOSS 0.1617\n",
            "TRAIN: EPOCH 0001 / 0020 | BATCH 0679 / 0863 | LOSS 0.1616\n",
            "TRAIN: EPOCH 0001 / 0020 | BATCH 0680 / 0863 | LOSS 0.1616\n",
            "TRAIN: EPOCH 0001 / 0020 | BATCH 0681 / 0863 | LOSS 0.1616\n",
            "TRAIN: EPOCH 0001 / 0020 | BATCH 0682 / 0863 | LOSS 0.1616\n",
            "TRAIN: EPOCH 0001 / 0020 | BATCH 0683 / 0863 | LOSS 0.1615\n",
            "TRAIN: EPOCH 0001 / 0020 | BATCH 0684 / 0863 | LOSS 0.1614\n",
            "TRAIN: EPOCH 0001 / 0020 | BATCH 0685 / 0863 | LOSS 0.1614\n",
            "TRAIN: EPOCH 0001 / 0020 | BATCH 0686 / 0863 | LOSS 0.1613\n",
            "TRAIN: EPOCH 0001 / 0020 | BATCH 0687 / 0863 | LOSS 0.1613\n",
            "TRAIN: EPOCH 0001 / 0020 | BATCH 0688 / 0863 | LOSS 0.1613\n",
            "TRAIN: EPOCH 0001 / 0020 | BATCH 0689 / 0863 | LOSS 0.1612\n",
            "TRAIN: EPOCH 0001 / 0020 | BATCH 0690 / 0863 | LOSS 0.1611\n",
            "TRAIN: EPOCH 0001 / 0020 | BATCH 0691 / 0863 | LOSS 0.1611\n",
            "TRAIN: EPOCH 0001 / 0020 | BATCH 0692 / 0863 | LOSS 0.1612\n",
            "TRAIN: EPOCH 0001 / 0020 | BATCH 0693 / 0863 | LOSS 0.1611\n",
            "TRAIN: EPOCH 0001 / 0020 | BATCH 0694 / 0863 | LOSS 0.1611\n",
            "TRAIN: EPOCH 0001 / 0020 | BATCH 0695 / 0863 | LOSS 0.1610\n",
            "TRAIN: EPOCH 0001 / 0020 | BATCH 0696 / 0863 | LOSS 0.1609\n",
            "TRAIN: EPOCH 0001 / 0020 | BATCH 0697 / 0863 | LOSS 0.1609\n",
            "TRAIN: EPOCH 0001 / 0020 | BATCH 0698 / 0863 | LOSS 0.1608\n",
            "TRAIN: EPOCH 0001 / 0020 | BATCH 0699 / 0863 | LOSS 0.1608\n",
            "TRAIN: EPOCH 0001 / 0020 | BATCH 0700 / 0863 | LOSS 0.1607\n",
            "TRAIN: EPOCH 0001 / 0020 | BATCH 0701 / 0863 | LOSS 0.1606\n",
            "TRAIN: EPOCH 0001 / 0020 | BATCH 0702 / 0863 | LOSS 0.1607\n",
            "TRAIN: EPOCH 0001 / 0020 | BATCH 0703 / 0863 | LOSS 0.1607\n",
            "TRAIN: EPOCH 0001 / 0020 | BATCH 0704 / 0863 | LOSS 0.1606\n",
            "TRAIN: EPOCH 0001 / 0020 | BATCH 0705 / 0863 | LOSS 0.1606\n",
            "TRAIN: EPOCH 0001 / 0020 | BATCH 0706 / 0863 | LOSS 0.1605\n",
            "TRAIN: EPOCH 0001 / 0020 | BATCH 0707 / 0863 | LOSS 0.1605\n",
            "TRAIN: EPOCH 0001 / 0020 | BATCH 0708 / 0863 | LOSS 0.1606\n",
            "TRAIN: EPOCH 0001 / 0020 | BATCH 0709 / 0863 | LOSS 0.1606\n",
            "TRAIN: EPOCH 0001 / 0020 | BATCH 0710 / 0863 | LOSS 0.1606\n",
            "TRAIN: EPOCH 0001 / 0020 | BATCH 0711 / 0863 | LOSS 0.1606\n",
            "TRAIN: EPOCH 0001 / 0020 | BATCH 0712 / 0863 | LOSS 0.1605\n",
            "TRAIN: EPOCH 0001 / 0020 | BATCH 0713 / 0863 | LOSS 0.1605\n",
            "TRAIN: EPOCH 0001 / 0020 | BATCH 0714 / 0863 | LOSS 0.1605\n",
            "TRAIN: EPOCH 0001 / 0020 | BATCH 0715 / 0863 | LOSS 0.1605\n",
            "TRAIN: EPOCH 0001 / 0020 | BATCH 0716 / 0863 | LOSS 0.1603\n",
            "TRAIN: EPOCH 0001 / 0020 | BATCH 0717 / 0863 | LOSS 0.1603\n",
            "TRAIN: EPOCH 0001 / 0020 | BATCH 0718 / 0863 | LOSS 0.1603\n",
            "TRAIN: EPOCH 0001 / 0020 | BATCH 0719 / 0863 | LOSS 0.1603\n",
            "TRAIN: EPOCH 0001 / 0020 | BATCH 0720 / 0863 | LOSS 0.1602\n",
            "TRAIN: EPOCH 0001 / 0020 | BATCH 0721 / 0863 | LOSS 0.1601\n",
            "TRAIN: EPOCH 0001 / 0020 | BATCH 0722 / 0863 | LOSS 0.1602\n",
            "TRAIN: EPOCH 0001 / 0020 | BATCH 0723 / 0863 | LOSS 0.1602\n",
            "TRAIN: EPOCH 0001 / 0020 | BATCH 0724 / 0863 | LOSS 0.1601\n",
            "TRAIN: EPOCH 0001 / 0020 | BATCH 0725 / 0863 | LOSS 0.1601\n",
            "TRAIN: EPOCH 0001 / 0020 | BATCH 0726 / 0863 | LOSS 0.1600\n",
            "TRAIN: EPOCH 0001 / 0020 | BATCH 0727 / 0863 | LOSS 0.1600\n",
            "TRAIN: EPOCH 0001 / 0020 | BATCH 0728 / 0863 | LOSS 0.1600\n",
            "TRAIN: EPOCH 0001 / 0020 | BATCH 0729 / 0863 | LOSS 0.1600\n",
            "TRAIN: EPOCH 0001 / 0020 | BATCH 0730 / 0863 | LOSS 0.1599\n",
            "TRAIN: EPOCH 0001 / 0020 | BATCH 0731 / 0863 | LOSS 0.1599\n",
            "TRAIN: EPOCH 0001 / 0020 | BATCH 0732 / 0863 | LOSS 0.1599\n",
            "TRAIN: EPOCH 0001 / 0020 | BATCH 0733 / 0863 | LOSS 0.1599\n",
            "TRAIN: EPOCH 0001 / 0020 | BATCH 0734 / 0863 | LOSS 0.1599\n",
            "TRAIN: EPOCH 0001 / 0020 | BATCH 0735 / 0863 | LOSS 0.1601\n",
            "TRAIN: EPOCH 0001 / 0020 | BATCH 0736 / 0863 | LOSS 0.1602\n",
            "TRAIN: EPOCH 0001 / 0020 | BATCH 0737 / 0863 | LOSS 0.1602\n",
            "TRAIN: EPOCH 0001 / 0020 | BATCH 0738 / 0863 | LOSS 0.1601\n",
            "TRAIN: EPOCH 0001 / 0020 | BATCH 0739 / 0863 | LOSS 0.1601\n",
            "TRAIN: EPOCH 0001 / 0020 | BATCH 0740 / 0863 | LOSS 0.1601\n",
            "TRAIN: EPOCH 0001 / 0020 | BATCH 0741 / 0863 | LOSS 0.1600\n",
            "TRAIN: EPOCH 0001 / 0020 | BATCH 0742 / 0863 | LOSS 0.1600\n",
            "TRAIN: EPOCH 0001 / 0020 | BATCH 0743 / 0863 | LOSS 0.1600\n",
            "TRAIN: EPOCH 0001 / 0020 | BATCH 0744 / 0863 | LOSS 0.1599\n",
            "TRAIN: EPOCH 0001 / 0020 | BATCH 0745 / 0863 | LOSS 0.1598\n",
            "TRAIN: EPOCH 0001 / 0020 | BATCH 0746 / 0863 | LOSS 0.1599\n",
            "TRAIN: EPOCH 0001 / 0020 | BATCH 0747 / 0863 | LOSS 0.1600\n",
            "TRAIN: EPOCH 0001 / 0020 | BATCH 0748 / 0863 | LOSS 0.1600\n",
            "TRAIN: EPOCH 0001 / 0020 | BATCH 0749 / 0863 | LOSS 0.1600\n",
            "TRAIN: EPOCH 0001 / 0020 | BATCH 0750 / 0863 | LOSS 0.1599\n",
            "TRAIN: EPOCH 0001 / 0020 | BATCH 0751 / 0863 | LOSS 0.1600\n",
            "TRAIN: EPOCH 0001 / 0020 | BATCH 0752 / 0863 | LOSS 0.1599\n",
            "TRAIN: EPOCH 0001 / 0020 | BATCH 0753 / 0863 | LOSS 0.1599\n",
            "TRAIN: EPOCH 0001 / 0020 | BATCH 0754 / 0863 | LOSS 0.1598\n",
            "TRAIN: EPOCH 0001 / 0020 | BATCH 0755 / 0863 | LOSS 0.1599\n",
            "TRAIN: EPOCH 0001 / 0020 | BATCH 0756 / 0863 | LOSS 0.1599\n",
            "TRAIN: EPOCH 0001 / 0020 | BATCH 0757 / 0863 | LOSS 0.1598\n",
            "TRAIN: EPOCH 0001 / 0020 | BATCH 0758 / 0863 | LOSS 0.1599\n",
            "TRAIN: EPOCH 0001 / 0020 | BATCH 0759 / 0863 | LOSS 0.1599\n",
            "TRAIN: EPOCH 0001 / 0020 | BATCH 0760 / 0863 | LOSS 0.1598\n",
            "TRAIN: EPOCH 0001 / 0020 | BATCH 0761 / 0863 | LOSS 0.1598\n",
            "TRAIN: EPOCH 0001 / 0020 | BATCH 0762 / 0863 | LOSS 0.1597\n",
            "TRAIN: EPOCH 0001 / 0020 | BATCH 0763 / 0863 | LOSS 0.1598\n",
            "TRAIN: EPOCH 0001 / 0020 | BATCH 0764 / 0863 | LOSS 0.1598\n",
            "TRAIN: EPOCH 0001 / 0020 | BATCH 0765 / 0863 | LOSS 0.1598\n",
            "TRAIN: EPOCH 0001 / 0020 | BATCH 0766 / 0863 | LOSS 0.1597\n",
            "TRAIN: EPOCH 0001 / 0020 | BATCH 0767 / 0863 | LOSS 0.1597\n",
            "TRAIN: EPOCH 0001 / 0020 | BATCH 0768 / 0863 | LOSS 0.1597\n",
            "TRAIN: EPOCH 0001 / 0020 | BATCH 0769 / 0863 | LOSS 0.1597\n",
            "TRAIN: EPOCH 0001 / 0020 | BATCH 0770 / 0863 | LOSS 0.1598\n",
            "TRAIN: EPOCH 0001 / 0020 | BATCH 0771 / 0863 | LOSS 0.1598\n",
            "TRAIN: EPOCH 0001 / 0020 | BATCH 0772 / 0863 | LOSS 0.1598\n",
            "TRAIN: EPOCH 0001 / 0020 | BATCH 0773 / 0863 | LOSS 0.1598\n",
            "TRAIN: EPOCH 0001 / 0020 | BATCH 0774 / 0863 | LOSS 0.1598\n",
            "TRAIN: EPOCH 0001 / 0020 | BATCH 0775 / 0863 | LOSS 0.1599\n",
            "TRAIN: EPOCH 0001 / 0020 | BATCH 0776 / 0863 | LOSS 0.1598\n",
            "TRAIN: EPOCH 0001 / 0020 | BATCH 0777 / 0863 | LOSS 0.1597\n",
            "TRAIN: EPOCH 0001 / 0020 | BATCH 0778 / 0863 | LOSS 0.1598\n",
            "TRAIN: EPOCH 0001 / 0020 | BATCH 0779 / 0863 | LOSS 0.1597\n",
            "TRAIN: EPOCH 0001 / 0020 | BATCH 0780 / 0863 | LOSS 0.1597\n",
            "TRAIN: EPOCH 0001 / 0020 | BATCH 0781 / 0863 | LOSS 0.1596\n",
            "TRAIN: EPOCH 0001 / 0020 | BATCH 0782 / 0863 | LOSS 0.1597\n",
            "TRAIN: EPOCH 0001 / 0020 | BATCH 0783 / 0863 | LOSS 0.1597\n",
            "TRAIN: EPOCH 0001 / 0020 | BATCH 0784 / 0863 | LOSS 0.1597\n",
            "TRAIN: EPOCH 0001 / 0020 | BATCH 0785 / 0863 | LOSS 0.1597\n",
            "TRAIN: EPOCH 0001 / 0020 | BATCH 0786 / 0863 | LOSS 0.1597\n",
            "TRAIN: EPOCH 0001 / 0020 | BATCH 0787 / 0863 | LOSS 0.1596\n",
            "TRAIN: EPOCH 0001 / 0020 | BATCH 0788 / 0863 | LOSS 0.1596\n",
            "TRAIN: EPOCH 0001 / 0020 | BATCH 0789 / 0863 | LOSS 0.1595\n",
            "TRAIN: EPOCH 0001 / 0020 | BATCH 0790 / 0863 | LOSS 0.1595\n",
            "TRAIN: EPOCH 0001 / 0020 | BATCH 0791 / 0863 | LOSS 0.1594\n",
            "TRAIN: EPOCH 0001 / 0020 | BATCH 0792 / 0863 | LOSS 0.1595\n",
            "TRAIN: EPOCH 0001 / 0020 | BATCH 0793 / 0863 | LOSS 0.1595\n",
            "TRAIN: EPOCH 0001 / 0020 | BATCH 0794 / 0863 | LOSS 0.1594\n",
            "TRAIN: EPOCH 0001 / 0020 | BATCH 0795 / 0863 | LOSS 0.1594\n",
            "TRAIN: EPOCH 0001 / 0020 | BATCH 0796 / 0863 | LOSS 0.1595\n",
            "TRAIN: EPOCH 0001 / 0020 | BATCH 0797 / 0863 | LOSS 0.1595\n",
            "TRAIN: EPOCH 0001 / 0020 | BATCH 0798 / 0863 | LOSS 0.1595\n",
            "TRAIN: EPOCH 0001 / 0020 | BATCH 0799 / 0863 | LOSS 0.1594\n",
            "TRAIN: EPOCH 0001 / 0020 | BATCH 0800 / 0863 | LOSS 0.1595\n",
            "TRAIN: EPOCH 0001 / 0020 | BATCH 0801 / 0863 | LOSS 0.1595\n",
            "TRAIN: EPOCH 0001 / 0020 | BATCH 0802 / 0863 | LOSS 0.1595\n",
            "TRAIN: EPOCH 0001 / 0020 | BATCH 0803 / 0863 | LOSS 0.1594\n",
            "TRAIN: EPOCH 0001 / 0020 | BATCH 0804 / 0863 | LOSS 0.1595\n",
            "TRAIN: EPOCH 0001 / 0020 | BATCH 0805 / 0863 | LOSS 0.1596\n",
            "TRAIN: EPOCH 0001 / 0020 | BATCH 0806 / 0863 | LOSS 0.1595\n",
            "TRAIN: EPOCH 0001 / 0020 | BATCH 0807 / 0863 | LOSS 0.1595\n",
            "TRAIN: EPOCH 0001 / 0020 | BATCH 0808 / 0863 | LOSS 0.1595\n",
            "TRAIN: EPOCH 0001 / 0020 | BATCH 0809 / 0863 | LOSS 0.1596\n",
            "TRAIN: EPOCH 0001 / 0020 | BATCH 0810 / 0863 | LOSS 0.1596\n",
            "TRAIN: EPOCH 0001 / 0020 | BATCH 0811 / 0863 | LOSS 0.1595\n",
            "TRAIN: EPOCH 0001 / 0020 | BATCH 0812 / 0863 | LOSS 0.1595\n",
            "TRAIN: EPOCH 0001 / 0020 | BATCH 0813 / 0863 | LOSS 0.1595\n",
            "TRAIN: EPOCH 0001 / 0020 | BATCH 0814 / 0863 | LOSS 0.1595\n",
            "TRAIN: EPOCH 0001 / 0020 | BATCH 0815 / 0863 | LOSS 0.1595\n",
            "TRAIN: EPOCH 0001 / 0020 | BATCH 0816 / 0863 | LOSS 0.1594\n",
            "TRAIN: EPOCH 0001 / 0020 | BATCH 0817 / 0863 | LOSS 0.1594\n",
            "TRAIN: EPOCH 0001 / 0020 | BATCH 0818 / 0863 | LOSS 0.1594\n",
            "TRAIN: EPOCH 0001 / 0020 | BATCH 0819 / 0863 | LOSS 0.1594\n",
            "TRAIN: EPOCH 0001 / 0020 | BATCH 0820 / 0863 | LOSS 0.1594\n",
            "TRAIN: EPOCH 0001 / 0020 | BATCH 0821 / 0863 | LOSS 0.1594\n",
            "TRAIN: EPOCH 0001 / 0020 | BATCH 0822 / 0863 | LOSS 0.1593\n",
            "TRAIN: EPOCH 0001 / 0020 | BATCH 0823 / 0863 | LOSS 0.1593\n",
            "TRAIN: EPOCH 0001 / 0020 | BATCH 0824 / 0863 | LOSS 0.1593\n",
            "TRAIN: EPOCH 0001 / 0020 | BATCH 0825 / 0863 | LOSS 0.1592\n",
            "TRAIN: EPOCH 0001 / 0020 | BATCH 0826 / 0863 | LOSS 0.1591\n",
            "TRAIN: EPOCH 0001 / 0020 | BATCH 0827 / 0863 | LOSS 0.1591\n",
            "TRAIN: EPOCH 0001 / 0020 | BATCH 0828 / 0863 | LOSS 0.1590\n",
            "TRAIN: EPOCH 0001 / 0020 | BATCH 0829 / 0863 | LOSS 0.1589\n",
            "TRAIN: EPOCH 0001 / 0020 | BATCH 0830 / 0863 | LOSS 0.1589\n",
            "TRAIN: EPOCH 0001 / 0020 | BATCH 0831 / 0863 | LOSS 0.1588\n",
            "TRAIN: EPOCH 0001 / 0020 | BATCH 0832 / 0863 | LOSS 0.1588\n",
            "TRAIN: EPOCH 0001 / 0020 | BATCH 0833 / 0863 | LOSS 0.1588\n",
            "TRAIN: EPOCH 0001 / 0020 | BATCH 0834 / 0863 | LOSS 0.1589\n",
            "TRAIN: EPOCH 0001 / 0020 | BATCH 0835 / 0863 | LOSS 0.1589\n",
            "TRAIN: EPOCH 0001 / 0020 | BATCH 0836 / 0863 | LOSS 0.1588\n",
            "TRAIN: EPOCH 0001 / 0020 | BATCH 0837 / 0863 | LOSS 0.1588\n",
            "TRAIN: EPOCH 0001 / 0020 | BATCH 0838 / 0863 | LOSS 0.1588\n",
            "TRAIN: EPOCH 0001 / 0020 | BATCH 0839 / 0863 | LOSS 0.1588\n",
            "TRAIN: EPOCH 0001 / 0020 | BATCH 0840 / 0863 | LOSS 0.1588\n",
            "TRAIN: EPOCH 0001 / 0020 | BATCH 0841 / 0863 | LOSS 0.1589\n",
            "TRAIN: EPOCH 0001 / 0020 | BATCH 0842 / 0863 | LOSS 0.1589\n",
            "TRAIN: EPOCH 0001 / 0020 | BATCH 0843 / 0863 | LOSS 0.1589\n",
            "TRAIN: EPOCH 0001 / 0020 | BATCH 0844 / 0863 | LOSS 0.1589\n",
            "TRAIN: EPOCH 0001 / 0020 | BATCH 0845 / 0863 | LOSS 0.1589\n",
            "TRAIN: EPOCH 0001 / 0020 | BATCH 0846 / 0863 | LOSS 0.1589\n",
            "TRAIN: EPOCH 0001 / 0020 | BATCH 0847 / 0863 | LOSS 0.1589\n",
            "TRAIN: EPOCH 0001 / 0020 | BATCH 0848 / 0863 | LOSS 0.1589\n",
            "TRAIN: EPOCH 0001 / 0020 | BATCH 0849 / 0863 | LOSS 0.1589\n",
            "TRAIN: EPOCH 0001 / 0020 | BATCH 0850 / 0863 | LOSS 0.1589\n",
            "TRAIN: EPOCH 0001 / 0020 | BATCH 0851 / 0863 | LOSS 0.1589\n",
            "TRAIN: EPOCH 0001 / 0020 | BATCH 0852 / 0863 | LOSS 0.1588\n",
            "TRAIN: EPOCH 0001 / 0020 | BATCH 0853 / 0863 | LOSS 0.1588\n",
            "TRAIN: EPOCH 0001 / 0020 | BATCH 0854 / 0863 | LOSS 0.1588\n",
            "TRAIN: EPOCH 0001 / 0020 | BATCH 0855 / 0863 | LOSS 0.1588\n",
            "TRAIN: EPOCH 0001 / 0020 | BATCH 0856 / 0863 | LOSS 0.1588\n",
            "TRAIN: EPOCH 0001 / 0020 | BATCH 0857 / 0863 | LOSS 0.1587\n",
            "TRAIN: EPOCH 0001 / 0020 | BATCH 0858 / 0863 | LOSS 0.1586\n",
            "TRAIN: EPOCH 0001 / 0020 | BATCH 0859 / 0863 | LOSS 0.1586\n",
            "TRAIN: EPOCH 0001 / 0020 | BATCH 0860 / 0863 | LOSS 0.1586\n",
            "TRAIN: EPOCH 0001 / 0020 | BATCH 0861 / 0863 | LOSS 0.1586\n",
            "TRAIN: EPOCH 0001 / 0020 | BATCH 0862 / 0863 | LOSS 0.1586\n",
            "TRAIN: EPOCH 0001 / 0020 | BATCH 0863 / 0863 | LOSS 0.1586\n",
            "VALID: EPOCH 0001 / 0020 | BATCH 0001 / 0108 | LOSS 0.2123\n",
            "VALID: EPOCH 0001 / 0020 | BATCH 0002 / 0108 | LOSS 0.1813\n",
            "VALID: EPOCH 0001 / 0020 | BATCH 0003 / 0108 | LOSS 0.1641\n",
            "VALID: EPOCH 0001 / 0020 | BATCH 0004 / 0108 | LOSS 0.1724\n",
            "VALID: EPOCH 0001 / 0020 | BATCH 0005 / 0108 | LOSS 0.1659\n",
            "VALID: EPOCH 0001 / 0020 | BATCH 0006 / 0108 | LOSS 0.1619\n",
            "VALID: EPOCH 0001 / 0020 | BATCH 0007 / 0108 | LOSS 0.1554\n",
            "VALID: EPOCH 0001 / 0020 | BATCH 0008 / 0108 | LOSS 0.1463\n",
            "VALID: EPOCH 0001 / 0020 | BATCH 0009 / 0108 | LOSS 0.1413\n",
            "VALID: EPOCH 0001 / 0020 | BATCH 0010 / 0108 | LOSS 0.1421\n",
            "VALID: EPOCH 0001 / 0020 | BATCH 0011 / 0108 | LOSS 0.1430\n",
            "VALID: EPOCH 0001 / 0020 | BATCH 0012 / 0108 | LOSS 0.1434\n",
            "VALID: EPOCH 0001 / 0020 | BATCH 0013 / 0108 | LOSS 0.1422\n",
            "VALID: EPOCH 0001 / 0020 | BATCH 0014 / 0108 | LOSS 0.1427\n",
            "VALID: EPOCH 0001 / 0020 | BATCH 0015 / 0108 | LOSS 0.1410\n",
            "VALID: EPOCH 0001 / 0020 | BATCH 0016 / 0108 | LOSS 0.1433\n",
            "VALID: EPOCH 0001 / 0020 | BATCH 0017 / 0108 | LOSS 0.1406\n",
            "VALID: EPOCH 0001 / 0020 | BATCH 0018 / 0108 | LOSS 0.1408\n",
            "VALID: EPOCH 0001 / 0020 | BATCH 0019 / 0108 | LOSS 0.1391\n",
            "VALID: EPOCH 0001 / 0020 | BATCH 0020 / 0108 | LOSS 0.1368\n",
            "VALID: EPOCH 0001 / 0020 | BATCH 0021 / 0108 | LOSS 0.1411\n",
            "VALID: EPOCH 0001 / 0020 | BATCH 0022 / 0108 | LOSS 0.1430\n",
            "VALID: EPOCH 0001 / 0020 | BATCH 0023 / 0108 | LOSS 0.1506\n",
            "VALID: EPOCH 0001 / 0020 | BATCH 0024 / 0108 | LOSS 0.1511\n",
            "VALID: EPOCH 0001 / 0020 | BATCH 0025 / 0108 | LOSS 0.1530\n",
            "VALID: EPOCH 0001 / 0020 | BATCH 0026 / 0108 | LOSS 0.1528\n",
            "VALID: EPOCH 0001 / 0020 | BATCH 0027 / 0108 | LOSS 0.1526\n",
            "VALID: EPOCH 0001 / 0020 | BATCH 0028 / 0108 | LOSS 0.1523\n",
            "VALID: EPOCH 0001 / 0020 | BATCH 0029 / 0108 | LOSS 0.1545\n",
            "VALID: EPOCH 0001 / 0020 | BATCH 0030 / 0108 | LOSS 0.1537\n",
            "VALID: EPOCH 0001 / 0020 | BATCH 0031 / 0108 | LOSS 0.1529\n",
            "VALID: EPOCH 0001 / 0020 | BATCH 0032 / 0108 | LOSS 0.1532\n",
            "VALID: EPOCH 0001 / 0020 | BATCH 0033 / 0108 | LOSS 0.1527\n",
            "VALID: EPOCH 0001 / 0020 | BATCH 0034 / 0108 | LOSS 0.1538\n",
            "VALID: EPOCH 0001 / 0020 | BATCH 0035 / 0108 | LOSS 0.1544\n",
            "VALID: EPOCH 0001 / 0020 | BATCH 0036 / 0108 | LOSS 0.1543\n",
            "VALID: EPOCH 0001 / 0020 | BATCH 0037 / 0108 | LOSS 0.1543\n",
            "VALID: EPOCH 0001 / 0020 | BATCH 0038 / 0108 | LOSS 0.1570\n",
            "VALID: EPOCH 0001 / 0020 | BATCH 0039 / 0108 | LOSS 0.1581\n",
            "VALID: EPOCH 0001 / 0020 | BATCH 0040 / 0108 | LOSS 0.1562\n",
            "VALID: EPOCH 0001 / 0020 | BATCH 0041 / 0108 | LOSS 0.1559\n",
            "VALID: EPOCH 0001 / 0020 | BATCH 0042 / 0108 | LOSS 0.1560\n",
            "VALID: EPOCH 0001 / 0020 | BATCH 0043 / 0108 | LOSS 0.1562\n",
            "VALID: EPOCH 0001 / 0020 | BATCH 0044 / 0108 | LOSS 0.1552\n",
            "VALID: EPOCH 0001 / 0020 | BATCH 0045 / 0108 | LOSS 0.1541\n",
            "VALID: EPOCH 0001 / 0020 | BATCH 0046 / 0108 | LOSS 0.1571\n",
            "VALID: EPOCH 0001 / 0020 | BATCH 0047 / 0108 | LOSS 0.1573\n",
            "VALID: EPOCH 0001 / 0020 | BATCH 0048 / 0108 | LOSS 0.1578\n",
            "VALID: EPOCH 0001 / 0020 | BATCH 0049 / 0108 | LOSS 0.1579\n",
            "VALID: EPOCH 0001 / 0020 | BATCH 0050 / 0108 | LOSS 0.1596\n",
            "VALID: EPOCH 0001 / 0020 | BATCH 0051 / 0108 | LOSS 0.1588\n",
            "VALID: EPOCH 0001 / 0020 | BATCH 0052 / 0108 | LOSS 0.1579\n",
            "VALID: EPOCH 0001 / 0020 | BATCH 0053 / 0108 | LOSS 0.1586\n",
            "VALID: EPOCH 0001 / 0020 | BATCH 0054 / 0108 | LOSS 0.1587\n",
            "VALID: EPOCH 0001 / 0020 | BATCH 0055 / 0108 | LOSS 0.1591\n",
            "VALID: EPOCH 0001 / 0020 | BATCH 0056 / 0108 | LOSS 0.1592\n",
            "VALID: EPOCH 0001 / 0020 | BATCH 0057 / 0108 | LOSS 0.1601\n",
            "VALID: EPOCH 0001 / 0020 | BATCH 0058 / 0108 | LOSS 0.1585\n",
            "VALID: EPOCH 0001 / 0020 | BATCH 0059 / 0108 | LOSS 0.1580\n",
            "VALID: EPOCH 0001 / 0020 | BATCH 0060 / 0108 | LOSS 0.1579\n",
            "VALID: EPOCH 0001 / 0020 | BATCH 0061 / 0108 | LOSS 0.1589\n",
            "VALID: EPOCH 0001 / 0020 | BATCH 0062 / 0108 | LOSS 0.1594\n",
            "VALID: EPOCH 0001 / 0020 | BATCH 0063 / 0108 | LOSS 0.1599\n",
            "VALID: EPOCH 0001 / 0020 | BATCH 0064 / 0108 | LOSS 0.1591\n",
            "VALID: EPOCH 0001 / 0020 | BATCH 0065 / 0108 | LOSS 0.1595\n",
            "VALID: EPOCH 0001 / 0020 | BATCH 0066 / 0108 | LOSS 0.1590\n",
            "VALID: EPOCH 0001 / 0020 | BATCH 0067 / 0108 | LOSS 0.1592\n",
            "VALID: EPOCH 0001 / 0020 | BATCH 0068 / 0108 | LOSS 0.1582\n",
            "VALID: EPOCH 0001 / 0020 | BATCH 0069 / 0108 | LOSS 0.1574\n",
            "VALID: EPOCH 0001 / 0020 | BATCH 0070 / 0108 | LOSS 0.1574\n",
            "VALID: EPOCH 0001 / 0020 | BATCH 0071 / 0108 | LOSS 0.1571\n",
            "VALID: EPOCH 0001 / 0020 | BATCH 0072 / 0108 | LOSS 0.1565\n",
            "VALID: EPOCH 0001 / 0020 | BATCH 0073 / 0108 | LOSS 0.1578\n",
            "VALID: EPOCH 0001 / 0020 | BATCH 0074 / 0108 | LOSS 0.1580\n",
            "VALID: EPOCH 0001 / 0020 | BATCH 0075 / 0108 | LOSS 0.1584\n",
            "VALID: EPOCH 0001 / 0020 | BATCH 0076 / 0108 | LOSS 0.1587\n",
            "VALID: EPOCH 0001 / 0020 | BATCH 0077 / 0108 | LOSS 0.1588\n",
            "VALID: EPOCH 0001 / 0020 | BATCH 0078 / 0108 | LOSS 0.1585\n",
            "VALID: EPOCH 0001 / 0020 | BATCH 0079 / 0108 | LOSS 0.1581\n",
            "VALID: EPOCH 0001 / 0020 | BATCH 0080 / 0108 | LOSS 0.1574\n",
            "VALID: EPOCH 0001 / 0020 | BATCH 0081 / 0108 | LOSS 0.1573\n",
            "VALID: EPOCH 0001 / 0020 | BATCH 0082 / 0108 | LOSS 0.1574\n",
            "VALID: EPOCH 0001 / 0020 | BATCH 0083 / 0108 | LOSS 0.1570\n",
            "VALID: EPOCH 0001 / 0020 | BATCH 0084 / 0108 | LOSS 0.1564\n",
            "VALID: EPOCH 0001 / 0020 | BATCH 0085 / 0108 | LOSS 0.1567\n",
            "VALID: EPOCH 0001 / 0020 | BATCH 0086 / 0108 | LOSS 0.1561\n",
            "VALID: EPOCH 0001 / 0020 | BATCH 0087 / 0108 | LOSS 0.1550\n",
            "VALID: EPOCH 0001 / 0020 | BATCH 0088 / 0108 | LOSS 0.1546\n",
            "VALID: EPOCH 0001 / 0020 | BATCH 0089 / 0108 | LOSS 0.1562\n",
            "VALID: EPOCH 0001 / 0020 | BATCH 0090 / 0108 | LOSS 0.1554\n",
            "VALID: EPOCH 0001 / 0020 | BATCH 0091 / 0108 | LOSS 0.1553\n",
            "VALID: EPOCH 0001 / 0020 | BATCH 0092 / 0108 | LOSS 0.1551\n",
            "VALID: EPOCH 0001 / 0020 | BATCH 0093 / 0108 | LOSS 0.1544\n",
            "VALID: EPOCH 0001 / 0020 | BATCH 0094 / 0108 | LOSS 0.1553\n",
            "VALID: EPOCH 0001 / 0020 | BATCH 0095 / 0108 | LOSS 0.1552\n",
            "VALID: EPOCH 0001 / 0020 | BATCH 0096 / 0108 | LOSS 0.1546\n",
            "VALID: EPOCH 0001 / 0020 | BATCH 0097 / 0108 | LOSS 0.1549\n",
            "VALID: EPOCH 0001 / 0020 | BATCH 0098 / 0108 | LOSS 0.1553\n",
            "VALID: EPOCH 0001 / 0020 | BATCH 0099 / 0108 | LOSS 0.1548\n",
            "VALID: EPOCH 0001 / 0020 | BATCH 0100 / 0108 | LOSS 0.1548\n",
            "VALID: EPOCH 0001 / 0020 | BATCH 0101 / 0108 | LOSS 0.1543\n",
            "VALID: EPOCH 0001 / 0020 | BATCH 0102 / 0108 | LOSS 0.1543\n",
            "VALID: EPOCH 0001 / 0020 | BATCH 0103 / 0108 | LOSS 0.1541\n",
            "VALID: EPOCH 0001 / 0020 | BATCH 0104 / 0108 | LOSS 0.1543\n",
            "VALID: EPOCH 0001 / 0020 | BATCH 0105 / 0108 | LOSS 0.1545\n",
            "VALID: EPOCH 0001 / 0020 | BATCH 0106 / 0108 | LOSS 0.1540\n",
            "VALID: EPOCH 0001 / 0020 | BATCH 0107 / 0108 | LOSS 0.1539\n",
            "VALID: EPOCH 0001 / 0020 | BATCH 0108 / 0108 | LOSS 0.1537\n"
          ]
        },
        {
          "output_type": "stream",
          "name": "stderr",
          "text": [
            "\r  5%|▌         | 1/20 [6:12:23<117:55:22, 22343.27s/it]"
          ]
        },
        {
          "output_type": "stream",
          "name": "stdout",
          "text": [
            "TRAIN: EPOCH 0002 / 0020 | BATCH 0001 / 0863 | LOSS 0.1257\n",
            "TRAIN: EPOCH 0002 / 0020 | BATCH 0002 / 0863 | LOSS 0.1265\n",
            "TRAIN: EPOCH 0002 / 0020 | BATCH 0003 / 0863 | LOSS 0.1569\n",
            "TRAIN: EPOCH 0002 / 0020 | BATCH 0004 / 0863 | LOSS 0.1350\n",
            "TRAIN: EPOCH 0002 / 0020 | BATCH 0005 / 0863 | LOSS 0.1219\n",
            "TRAIN: EPOCH 0002 / 0020 | BATCH 0006 / 0863 | LOSS 0.1254\n",
            "TRAIN: EPOCH 0002 / 0020 | BATCH 0007 / 0863 | LOSS 0.1259\n",
            "TRAIN: EPOCH 0002 / 0020 | BATCH 0008 / 0863 | LOSS 0.1298\n",
            "TRAIN: EPOCH 0002 / 0020 | BATCH 0009 / 0863 | LOSS 0.1260\n",
            "TRAIN: EPOCH 0002 / 0020 | BATCH 0010 / 0863 | LOSS 0.1258\n",
            "TRAIN: EPOCH 0002 / 0020 | BATCH 0011 / 0863 | LOSS 0.1270\n",
            "TRAIN: EPOCH 0002 / 0020 | BATCH 0012 / 0863 | LOSS 0.1300\n",
            "TRAIN: EPOCH 0002 / 0020 | BATCH 0013 / 0863 | LOSS 0.1332\n"
          ]
        }
      ],
      "source": [
        "# 훈련 파라미터 설정하기\n",
        "lr = 1e-3\n",
        "batch_size = 128\n",
        "num_epoch = 20\n",
        "\n",
        "base_dir = './drive/MyDrive/DACrew/unet'\n",
        "data_dir = dir_data\n",
        "ckpt_dir = os.path.join(base_dir, \"checkpoint\")\n",
        "log_dir = os.path.join(base_dir, \"log\")\n",
        "\n",
        "\n",
        "# 훈련을 위한 Transform과 DataLoader\n",
        "transform = transforms.Compose([Normalization(mean=0.5, std=0.5), RandomFlip(), ToTensor()])\n",
        "\n",
        "dataset_train = Dataset(data_dir=os.path.join(data_dir, 'train'), transform=transform)\n",
        "loader_train = DataLoader(dataset_train, batch_size=batch_size, shuffle=True, num_workers=8)\n",
        "\n",
        "dataset_val = Dataset(data_dir=os.path.join(data_dir, 'val'), transform=transform)\n",
        "loader_val = DataLoader(dataset_val, batch_size=batch_size, shuffle=False, num_workers=8)\n",
        "\n",
        "# 네트워크 생성하기\n",
        "device = torch.device('cuda' if torch.cuda.is_available() else 'cpu')\n",
        "net = UNet().to(device)\n",
        "\n",
        "# 손실함수 정의하기\n",
        "fn_loss = nn.BCEWithLogitsLoss().to(device)\n",
        "\n",
        "# Optimizer 설정하기\n",
        "optim = torch.optim.Adam(net.parameters(), lr=lr)\n",
        "\n",
        "# 그밖에 부수적인 variables 설정하기\n",
        "num_data_train = len(dataset_train)\n",
        "num_data_val = len(dataset_val)\n",
        "\n",
        "num_batch_train = np.ceil(num_data_train / batch_size)\n",
        "num_batch_val = np.ceil(num_data_val / batch_size)\n",
        "\n",
        "# 그 밖에 부수적인 functions 설정하기\n",
        "fn_tonumpy = lambda x: x.to('cpu').detach().numpy().transpose(0, 2, 3, 1)\n",
        "fn_denorm = lambda x, mean, std: (x * std) + mean\n",
        "fn_class = lambda x: 1.0 * (x > 0.5)\n",
        "\n",
        "# Tensorboard 를 사용하기 위한 SummaryWriter 설정\n",
        "writer_train = SummaryWriter(log_dir=os.path.join(log_dir, 'train'))\n",
        "writer_val = SummaryWriter(log_dir=os.path.join(log_dir, 'val'))\n",
        "\n",
        "# 네트워크 학습시키기\n",
        "st_epoch = 0\n",
        "\n",
        "# 학습한 모델이 있을 경우 모델 로드하기\n",
        "net, optim, st_epoch = load(ckpt_dir=ckpt_dir, net=net, optim=optim) \n",
        "\n",
        "for epoch in tqdm(range(st_epoch + 1, num_epoch + 1)):\n",
        "        net.train()\n",
        "        loss_arr = []\n",
        "\n",
        "        for batch, data in enumerate(loader_train, 1):\n",
        "            # forward pass\n",
        "            label = data['label'].to(device)\n",
        "            input = data['input'].to(device)\n",
        "\n",
        "            output = net(input)\n",
        "\n",
        "            # backward pass\n",
        "            optim.zero_grad()\n",
        "\n",
        "            loss = fn_loss(output, label)\n",
        "            loss.backward()\n",
        "\n",
        "            optim.step()\n",
        "\n",
        "            # 손실함수 계산\n",
        "            loss_arr += [loss.item()]\n",
        "\n",
        "            print(\"TRAIN: EPOCH %04d / %04d | BATCH %04d / %04d | LOSS %.4f\" %\n",
        "                  (epoch, num_epoch, batch, num_batch_train, np.mean(loss_arr)))\n",
        "\n",
        "            # Tensorboard 저장하기\n",
        "            label = fn_tonumpy(label)\n",
        "            input = fn_tonumpy(fn_denorm(input, mean=0.5, std=0.5))\n",
        "            output = fn_tonumpy(fn_class(output))\n",
        "\n",
        "            writer_train.add_image('label', label, num_batch_train * (epoch - 1) + batch, dataformats='NHWC')\n",
        "            writer_train.add_image('input', input, num_batch_train * (epoch - 1) + batch, dataformats='NHWC')\n",
        "            writer_train.add_image('output', output, num_batch_train * (epoch - 1) + batch, dataformats='NHWC')\n",
        "\n",
        "        writer_train.add_scalar('loss', np.mean(loss_arr), epoch)\n",
        "\n",
        "        with torch.no_grad():\n",
        "            net.eval()\n",
        "            loss_arr = []\n",
        "\n",
        "            for batch, data in enumerate(loader_val, 1):\n",
        "                # forward pass\n",
        "                label = data['label'].to(device)\n",
        "                input = data['input'].to(device)\n",
        "\n",
        "                output = net(input)\n",
        "\n",
        "                # 손실함수 계산하기\n",
        "                loss = fn_loss(output, label)\n",
        "\n",
        "                loss_arr += [loss.item()]\n",
        "\n",
        "                print(\"VALID: EPOCH %04d / %04d | BATCH %04d / %04d | LOSS %.4f\" %\n",
        "                      (epoch, num_epoch, batch, num_batch_val, np.mean(loss_arr)))\n",
        "\n",
        "                # Tensorboard 저장하기\n",
        "                label = fn_tonumpy(label)\n",
        "                input = fn_tonumpy(fn_denorm(input, mean=0.5, std=0.5))\n",
        "                output = fn_tonumpy(fn_class(output))\n",
        "\n",
        "                writer_val.add_image('label', label, num_batch_val * (epoch - 1) + batch, dataformats='NHWC')\n",
        "                writer_val.add_image('input', input, num_batch_val * (epoch - 1) + batch, dataformats='NHWC')\n",
        "                writer_val.add_image('output', output, num_batch_val * (epoch - 1) + batch, dataformats='NHWC')\n",
        "\n",
        "        writer_val.add_scalar('loss', np.mean(loss_arr), epoch)\n",
        "\n",
        "        # epoch 50마다 모델 저장하기\n",
        "        if epoch % 50 == 0:\n",
        "            save(ckpt_dir=ckpt_dir, net=net, optim=optim, epoch=epoch)\n",
        "\n",
        "        writer_train.close()\n",
        "        writer_val.close()"
      ]
    },
    {
      "cell_type": "markdown",
      "metadata": {
        "id": "Tuvqp8wJFboI"
      },
      "source": [
        "# Model Test"
      ]
    },
    {
      "cell_type": "code",
      "execution_count": null,
      "metadata": {
        "id": "iKqOirjjFeww"
      },
      "outputs": [],
      "source": [
        "transform = transforms.Compose([Normalization(mean=0.5, std=0.5), ToTensor()])\n",
        "\n",
        "dataset_test = Dataset(data_dir=os.path.join(data_dir, 'test'), transform=transform)\n",
        "loader_test = DataLoader(dataset_test, batch_size=batch_size, shuffle=False, num_workers=8)\n",
        "\n",
        "# 그밖에 부수적인 variables 설정하기\n",
        "num_data_test = len(dataset_test)\n",
        "num_batch_test = np.ceil(num_data_test / batch_size)\n",
        "\n",
        "# 결과 디렉토리 생성하기\n",
        "result_dir = os.path.join(base_dir, 'result')\n",
        "if not os.path.exists(result_dir):\n",
        "    os.makedirs(os.path.join(result_dir, 'png'))\n",
        "    os.makedirs(os.path.join(result_dir, 'numpy'))\n",
        "\n",
        "\n",
        "net, optim, st_epoch = load(ckpt_dir=ckpt_dir, net=net, optim=optim)\n",
        "\n",
        "with torch.no_grad():\n",
        "      net.eval()\n",
        "      loss_arr = []\n",
        "\n",
        "      for batch, data in enumerate(loader_test, 1):\n",
        "          # forward pass\n",
        "          label = data['label'].to(device)\n",
        "          input = data['input'].to(device)\n",
        "\n",
        "          output = net(input)\n",
        "\n",
        "          # 손실함수 계산하기\n",
        "          loss = fn_loss(output, label)\n",
        "\n",
        "          loss_arr += [loss.item()]\n",
        "\n",
        "          print(\"TEST: BATCH %04d / %04d | LOSS %.4f\" %\n",
        "                (batch, num_batch_test, np.mean(loss_arr)))\n",
        "\n",
        "          # Tensorboard 저장하기\n",
        "          label = fn_tonumpy(label)\n",
        "          input = fn_tonumpy(fn_denorm(input, mean=0.5, std=0.5))\n",
        "          output = fn_tonumpy(fn_class(output))\n",
        "\n",
        "          # 테스트 결과 저장하기\n",
        "          for j in range(label.shape[0]):\n",
        "              id = num_batch_test * (batch - 1) + j\n",
        "\n",
        "              plt.imsave(os.path.join(result_dir, 'png', 'label_%04d.png' % id), label[j].squeeze(), cmap='gray')\n",
        "              plt.imsave(os.path.join(result_dir, 'png', 'input_%04d.png' % id), input[j].squeeze(), cmap='gray')\n",
        "              plt.imsave(os.path.join(result_dir, 'png', 'output_%04d.png' % id), output[j].squeeze(), cmap='gray')\n",
        "\n",
        "              np.save(os.path.join(result_dir, 'numpy', 'label_%04d.npy' % id), label[j].squeeze())\n",
        "              np.save(os.path.join(result_dir, 'numpy', 'input_%04d.npy' % id), input[j].squeeze())\n",
        "              np.save(os.path.join(result_dir, 'numpy', 'output_%04d.npy' % id), output[j].squeeze())\n",
        "\n",
        "print(\"AVERAGE TEST: BATCH %04d / %04d | LOSS %.4f\" %\n",
        "        (batch, num_batch_test, np.mean(loss_arr)))"
      ]
    },
    {
      "cell_type": "markdown",
      "metadata": {
        "id": "nYAWbTidFfOo"
      },
      "source": [
        "# Result Visualization"
      ]
    },
    {
      "cell_type": "code",
      "execution_count": null,
      "metadata": {
        "id": "7QUNtnWwFtGu"
      },
      "outputs": [],
      "source": [
        "##\n",
        "lst_data = os.listdir(os.path.join(result_dir, 'numpy'))\n",
        "\n",
        "lst_label = [f for f in lst_data if f.startswith('label')]\n",
        "lst_input = [f for f in lst_data if f.startswith('input')]\n",
        "lst_output = [f for f in lst_data if f.startswith('output')]\n",
        "\n",
        "lst_label.sort()\n",
        "lst_input.sort()\n",
        "lst_output.sort()\n",
        "\n",
        "##\n",
        "id = 0\n",
        "\n",
        "label = np.load(os.path.join(result_dir,\"numpy\", lst_label[id]))\n",
        "input = np.load(os.path.join(result_dir,\"numpy\", lst_input[id]))\n",
        "output = np.load(os.path.join(result_dir,\"numpy\", lst_output[id]))\n",
        "\n",
        "## 플롯 그리기\n",
        "plt.figure(figsize=(8,6))\n",
        "plt.subplot(131)\n",
        "plt.imshow(input, cmap='gray')\n",
        "plt.title('input')\n",
        "\n",
        "plt.subplot(132)\n",
        "plt.imshow(label, cmap='gray')\n",
        "plt.title('label')\n",
        "\n",
        "plt.subplot(133)\n",
        "plt.imshow(output, cmap='gray')\n",
        "plt.title('output')\n",
        "\n",
        "plt.show()"
      ]
    }
  ],
  "metadata": {
    "accelerator": "TPU",
    "colab": {
      "machine_shape": "hm",
      "provenance": [],
      "include_colab_link": true
    },
    "gpuClass": "standard",
    "kernelspec": {
      "display_name": "Python 3",
      "name": "python3"
    },
    "language_info": {
      "name": "python"
    }
  },
  "nbformat": 4,
  "nbformat_minor": 0
}